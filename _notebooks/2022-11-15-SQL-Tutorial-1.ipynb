{
  "nbformat": 4,
  "nbformat_minor": 0,
  "metadata": {
    "colab": {
      "provenance": [],
      "collapsed_sections": [
        "LPKCRW_Wb95F",
        "VYakuxXzA0Pd",
        "M-SQqPm51qJf",
        "BDyZ4ECN1qJg",
        "F2e_qIHG1qJg",
        "sWwBXc801qJg",
        "pS87L0Hz1qJh",
        "s-KvL3jy1qJh",
        "_olEv-oShztc",
        "YZuDeO3UpQKI",
        "AkFWeglWpw8B",
        "DEIT94D6C8aX",
        "qDsG6jWaDcxE",
        "R0_hK1I_nJbj",
        "Uoz_EOzAD6EE",
        "56oFFLYTe2L6",
        "cgwohB_mfC7C",
        "q6RlDQcnoVKi",
        "bmRBGN4jsnNE",
        "vzqkiNYTs9Ox",
        "gKazY1IfDPFG",
        "uHsMakWFDyrF",
        "JpoM2CYBmt-z",
        "YLGVuXsjEHai",
        "fWOmPTLefLGa",
        "SFotOHXFfTFa",
        "-Pqw_ZMYfX21",
        "xi0BzzwKfex7",
        "h9KBBLydhMqB",
        "k2AjPQsW4BJr",
        "Y8vdQG6z4_EE",
        "9JzYM16RwZcZ",
        "zyfGRDgW626b",
        "TVlez5SlsHfZ",
        "o_0o7mqfskpc",
        "BAACGV9Bw-so",
        "fSDmmO5lyOhx",
        "RML5FT2TqBmy",
        "ZRGwBsm9wzgA",
        "MsFGInb7xJPW",
        "vhGJSGUT_Py-",
        "hxXq6686Kb19",
        "N_N9OuyYLU0E",
        "Vkt5XZmiUOeC",
        "iqTQG5D3XHaZ",
        "L8OLL6ImYXgR",
        "EcuyP8tfaX2B",
        "RpriFCZiaslR",
        "Sk7Tf8TBl55y",
        "TEgUzur5rB_C",
        "Dj_SRTUruk9x",
        "BgjTNfzsxknd",
        "if5ESHdBzuvi",
        "wYqRhQTCCufc"
      ]
    },
    "kernelspec": {
      "display_name": "saturn (Python 3)",
      "language": "python",
      "name": "python3"
    },
    "language_info": {
      "codemirror_mode": {
        "name": "ipython",
        "version": 3
      },
      "file_extension": ".py",
      "mimetype": "text/x-python",
      "name": "python",
      "nbconvert_exporter": "python",
      "pygments_lexer": "ipython3",
      "version": "3.7.10"
    }
  },
  "cells": [
    {
      "cell_type": "markdown",
      "source": [
        "# SQL with Google Colab Tutorial 1\n",
        "\n",
        "> PostgreSQL with Google Colab Tutorial 1\n",
        "\n",
        "- toc: true \n",
        "- badges: true\n",
        "- comments: true\n",
        "- categories: [PostgreSQL wit Google Colab, SQL]\n",
        "- image: images/sql_1.png"
      ],
      "metadata": {
        "id": "rRtHoJVMbnb8"
      }
    },
    {
      "cell_type": "markdown",
      "source": [
        "## 0) Aknowledge the sources used for this tutorial"
      ],
      "metadata": {
        "id": "LPKCRW_Wb95F"
      }
    },
    {
      "cell_type": "markdown",
      "source": [
        "This post was created using information from 2 sources. The first post explains how to use PostgreSQL with Google Colab. The second source is a tutorial by at Data.World. The links to these sources are found below:\n",
        "- https://thivyapriyaa.medium.com/setting-up-postgresql-on-google-colab-4d02166939fc\n",
        "- https://data.world/classrooms/guide-to-data-analysis-with-sql-and-datadotworld/workspace/file?filename=01_select_data.md"
      ],
      "metadata": {
        "id": "z88WfRnWcHZr"
      }
    },
    {
      "cell_type": "markdown",
      "source": [
        "## 1) Import libraries"
      ],
      "metadata": {
        "id": "VYakuxXzA0Pd"
      }
    },
    {
      "cell_type": "code",
      "source": [
        "import psycopg2\n",
        "import pandas as pd\n",
        "pd.options.mode.chained_assignment = None  # default='warn'"
      ],
      "metadata": {
        "id": "8Ir0vgI59oHi"
      },
      "execution_count": 1,
      "outputs": []
    },
    {
      "cell_type": "markdown",
      "source": [
        "## 2) Read about how to install PostgreSQL on google colab"
      ],
      "metadata": {
        "id": "M-SQqPm51qJf"
      }
    },
    {
      "cell_type": "markdown",
      "source": [
        "#### Some of the pieces of code used in this notebook were extracted from the following ipynb notebook https://colab.research.google.com/github/tensorflow/io/blob/master/docs/tutorials/postgresql.ipynb#scrollTo=YUj0878jPyz7"
      ],
      "metadata": {
        "id": "X7eSoyYE1qJf"
      }
    },
    {
      "cell_type": "markdown",
      "source": [
        "## 3) Install PostgreSQL"
      ],
      "metadata": {
        "id": "BDyZ4ECN1qJg"
      }
    },
    {
      "cell_type": "markdown",
      "source": [
        "### Colab is a linux environment. Thus, we can use linux commands to install  PostgreSQL on it"
      ],
      "metadata": {
        "id": "F2e_qIHG1qJg"
      }
    },
    {
      "cell_type": "markdown",
      "source": [
        "You might need to run the following cell twice if the database is not created when you run it just once."
      ],
      "metadata": {
        "id": "D7r0D-Cfdhtb"
      }
    },
    {
      "cell_type": "code",
      "source": [
        "# Install postgresql server\n",
        "!sudo apt-get -y -qq update   # Update the PostgreSQL in case they are not \n",
        "!sudo apt-get -y -qq install postgresql # Install PostgreSQL \n",
        "!sudo service postgresql start # Start the PostgreSQL service\n",
        "\n",
        "# Setup a password `postgres` for username `postgres`\n",
        "!sudo -u postgres psql -U postgres -c \"ALTER USER postgres PASSWORD 'postgres';\"\n",
        "\n",
        "# Setup a database with name `tfio_demo` to be used\n",
        "!sudo -u postgres psql -U postgres -c 'DROP DATABASE IF EXISTS tfio_demo;'  # Drop databases if they exist\n",
        "!sudo -u postgres psql -U postgres -c 'CREATE DATABASE tfio_demo;' # Drop databases if they exist"
      ],
      "metadata": {
        "colab": {
          "base_uri": "https://localhost:8080/"
        },
        "outputId": "d4559f10-8b1a-4cf6-f3a9-31e546706ad2",
        "id": "-ZjSmUQB1qJg"
      },
      "execution_count": 2,
      "outputs": [
        {
          "output_type": "stream",
          "name": "stdout",
          "text": [
            "debconf: unable to initialize frontend: Dialog\n",
            "debconf: (No usable dialog-like program is installed, so the dialog based frontend cannot be used. at /usr/share/perl5/Debconf/FrontEnd/Dialog.pm line 76, <> line 10.)\n",
            "debconf: falling back to frontend: Readline\n",
            "debconf: unable to initialize frontend: Readline\n",
            "debconf: (This frontend requires a controlling tty.)\n",
            "debconf: falling back to frontend: Teletype\n",
            "dpkg-preconfigure: unable to re-open stdin: \n",
            "Selecting previously unselected package cron.\n",
            "(Reading database ... 123991 files and directories currently installed.)\n",
            "Preparing to unpack .../0-cron_3.0pl1-128.1ubuntu1.2_amd64.deb ...\n",
            "Unpacking cron (3.0pl1-128.1ubuntu1.2) ...\n",
            "Selecting previously unselected package logrotate.\n",
            "Preparing to unpack .../1-logrotate_3.11.0-0.1ubuntu1_amd64.deb ...\n",
            "Unpacking logrotate (3.11.0-0.1ubuntu1) ...\n",
            "Selecting previously unselected package netbase.\n",
            "Preparing to unpack .../2-netbase_5.4_all.deb ...\n",
            "Unpacking netbase (5.4) ...\n",
            "Selecting previously unselected package postgresql-client-common.\n",
            "Preparing to unpack .../3-postgresql-client-common_190ubuntu0.1_all.deb ...\n",
            "Unpacking postgresql-client-common (190ubuntu0.1) ...\n",
            "Selecting previously unselected package postgresql-client-10.\n",
            "Preparing to unpack .../4-postgresql-client-10_10.22-0ubuntu0.18.04.1_amd64.deb ...\n",
            "Unpacking postgresql-client-10 (10.22-0ubuntu0.18.04.1) ...\n",
            "Selecting previously unselected package ssl-cert.\n",
            "Preparing to unpack .../5-ssl-cert_1.0.39_all.deb ...\n",
            "Unpacking ssl-cert (1.0.39) ...\n",
            "Selecting previously unselected package postgresql-common.\n",
            "Preparing to unpack .../6-postgresql-common_190ubuntu0.1_all.deb ...\n",
            "Adding 'diversion of /usr/bin/pg_config to /usr/bin/pg_config.libpq-dev by postgresql-common'\n",
            "Unpacking postgresql-common (190ubuntu0.1) ...\n",
            "Selecting previously unselected package postgresql-10.\n",
            "Preparing to unpack .../7-postgresql-10_10.22-0ubuntu0.18.04.1_amd64.deb ...\n",
            "Unpacking postgresql-10 (10.22-0ubuntu0.18.04.1) ...\n",
            "Selecting previously unselected package postgresql.\n",
            "Preparing to unpack .../8-postgresql_10+190ubuntu0.1_all.deb ...\n",
            "Unpacking postgresql (10+190ubuntu0.1) ...\n",
            "Selecting previously unselected package sysstat.\n",
            "Preparing to unpack .../9-sysstat_11.6.1-1ubuntu0.1_amd64.deb ...\n",
            "Unpacking sysstat (11.6.1-1ubuntu0.1) ...\n",
            "Setting up sysstat (11.6.1-1ubuntu0.1) ...\n",
            "debconf: unable to initialize frontend: Dialog\n",
            "debconf: (No usable dialog-like program is installed, so the dialog based frontend cannot be used. at /usr/share/perl5/Debconf/FrontEnd/Dialog.pm line 76.)\n",
            "debconf: falling back to frontend: Readline\n",
            "\n",
            "Creating config file /etc/default/sysstat with new version\n",
            "update-alternatives: using /usr/bin/sar.sysstat to provide /usr/bin/sar (sar) in auto mode\n",
            "Created symlink /etc/systemd/system/multi-user.target.wants/sysstat.service → /lib/systemd/system/sysstat.service.\n",
            "Setting up ssl-cert (1.0.39) ...\n",
            "debconf: unable to initialize frontend: Dialog\n",
            "debconf: (No usable dialog-like program is installed, so the dialog based frontend cannot be used. at /usr/share/perl5/Debconf/FrontEnd/Dialog.pm line 76.)\n",
            "debconf: falling back to frontend: Readline\n",
            "Setting up cron (3.0pl1-128.1ubuntu1.2) ...\n",
            "Adding group `crontab' (GID 110) ...\n",
            "Done.\n",
            "Created symlink /etc/systemd/system/multi-user.target.wants/cron.service → /lib/systemd/system/cron.service.\n",
            "update-rc.d: warning: start and stop actions are no longer supported; falling back to defaults\n",
            "invoke-rc.d: could not determine current runlevel\n",
            "invoke-rc.d: policy-rc.d denied execution of start.\n",
            "Setting up logrotate (3.11.0-0.1ubuntu1) ...\n",
            "Setting up netbase (5.4) ...\n",
            "Setting up postgresql-client-common (190ubuntu0.1) ...\n",
            "Setting up postgresql-common (190ubuntu0.1) ...\n",
            "debconf: unable to initialize frontend: Dialog\n",
            "debconf: (No usable dialog-like program is installed, so the dialog based frontend cannot be used. at /usr/share/perl5/Debconf/FrontEnd/Dialog.pm line 76.)\n",
            "debconf: falling back to frontend: Readline\n",
            "Adding user postgres to group ssl-cert\n",
            "\n",
            "Creating config file /etc/postgresql-common/createcluster.conf with new version\n",
            "Building PostgreSQL dictionaries from installed myspell/hunspell packages...\n",
            "Removing obsolete dictionary files:\n",
            "Created symlink /etc/systemd/system/multi-user.target.wants/postgresql.service → /lib/systemd/system/postgresql.service.\n",
            "invoke-rc.d: could not determine current runlevel\n",
            "invoke-rc.d: policy-rc.d denied execution of start.\n",
            "Setting up postgresql-client-10 (10.22-0ubuntu0.18.04.1) ...\n",
            "update-alternatives: using /usr/share/postgresql/10/man/man1/psql.1.gz to provide /usr/share/man/man1/psql.1.gz (psql.1.gz) in auto mode\n",
            "Setting up postgresql-10 (10.22-0ubuntu0.18.04.1) ...\n",
            "debconf: unable to initialize frontend: Dialog\n",
            "debconf: (No usable dialog-like program is installed, so the dialog based frontend cannot be used. at /usr/share/perl5/Debconf/FrontEnd/Dialog.pm line 76.)\n",
            "debconf: falling back to frontend: Readline\n",
            "Creating new PostgreSQL cluster 10/main ...\n",
            "/usr/lib/postgresql/10/bin/initdb -D /var/lib/postgresql/10/main --auth-local peer --auth-host md5\n",
            "The files belonging to this database system will be owned by user \"postgres\".\n",
            "This user must also own the server process.\n",
            "\n",
            "The database cluster will be initialized with locale \"en_US.UTF-8\".\n",
            "The default database encoding has accordingly been set to \"UTF8\".\n",
            "The default text search configuration will be set to \"english\".\n",
            "\n",
            "Data page checksums are disabled.\n",
            "\n",
            "fixing permissions on existing directory /var/lib/postgresql/10/main ... ok\n",
            "creating subdirectories ... ok\n",
            "selecting default max_connections ... 100\n",
            "selecting default shared_buffers ... 128MB\n",
            "selecting default timezone ... Etc/UTC\n",
            "selecting dynamic shared memory implementation ... posix\n",
            "creating configuration files ... ok\n",
            "running bootstrap script ... ok\n",
            "performing post-bootstrap initialization ... ok\n",
            "syncing data to disk ... ok\n",
            "\n",
            "Success. You can now start the database server using:\n",
            "\n",
            "    /usr/lib/postgresql/10/bin/pg_ctl -D /var/lib/postgresql/10/main -l logfile start\n",
            "\n",
            "Ver Cluster Port Status Owner    Data directory              Log file\n",
            "\u001b[31m10  main    5432 down   postgres /var/lib/postgresql/10/main /var/log/postgresql/postgresql-10-main.log\u001b[0m\n",
            "update-alternatives: using /usr/share/postgresql/10/man/man1/postmaster.1.gz to provide /usr/share/man/man1/postmaster.1.gz (postmaster.1.gz) in auto mode\n",
            "invoke-rc.d: could not determine current runlevel\n",
            "invoke-rc.d: policy-rc.d denied execution of start.\n",
            "Setting up postgresql (10+190ubuntu0.1) ...\n",
            "Processing triggers for man-db (2.8.3-2ubuntu0.1) ...\n",
            "Processing triggers for systemd (237-3ubuntu10.56) ...\n",
            " * Starting PostgreSQL 10 database server\n",
            "   ...done.\n",
            "ALTER ROLE\n",
            "NOTICE:  database \"tfio_demo\" does not exist, skipping\n",
            "DROP DATABASE\n",
            "CREATE DATABASE\n"
          ]
        }
      ]
    },
    {
      "cell_type": "markdown",
      "source": [
        "### Setup necessary environmental variables"
      ],
      "metadata": {
        "id": "sWwBXc801qJg"
      }
    },
    {
      "cell_type": "code",
      "source": [
        "%env DB_NAME=tfio_demo\n",
        "%env DB_HOST=localhost\n",
        "%env DB_PORT=5432\n",
        "%env DB_USER=postgres\n",
        "%env DB_PASS= postgres"
      ],
      "metadata": {
        "colab": {
          "base_uri": "https://localhost:8080/"
        },
        "outputId": "729c3942-53fa-408e-f6ba-e72555bbe5dd",
        "id": "f3VvXyay1qJg"
      },
      "execution_count": 3,
      "outputs": [
        {
          "output_type": "stream",
          "name": "stdout",
          "text": [
            "env: DB_NAME=tfio_demo\n",
            "env: DB_HOST=localhost\n",
            "env: DB_PORT=5432\n",
            "env: DB_USER=postgres\n",
            "env: DB_PASS=postgres\n"
          ]
        }
      ]
    },
    {
      "cell_type": "markdown",
      "source": [
        "## 4) Create tables within the database"
      ],
      "metadata": {
        "id": "pS87L0Hz1qJh"
      }
    },
    {
      "cell_type": "markdown",
      "source": [
        "### 4.1) Table 1: Annual visitation of the Big Bend park between 1904 and 2015 "
      ],
      "metadata": {
        "id": "s-KvL3jy1qJh"
      }
    },
    {
      "cell_type": "code",
      "source": [
        "!PGPASSWORD=$DB_PASS psql -q -h $DB_HOST -p $DB_PORT -U $DB_USER-d $DB_NAME \\\n",
        "-c \"DROP TABLE IF EXISTS visitation;\""
      ],
      "metadata": {
        "colab": {
          "base_uri": "https://localhost:8080/"
        },
        "outputId": "a10ce644-77df-4d8d-caaa-bdadd03aa3b4",
        "id": "ATzcGlGd1qJh"
      },
      "execution_count": 4,
      "outputs": [
        {
          "output_type": "stream",
          "name": "stdout",
          "text": [
            "psql: FATAL:  password authentication failed for user \"postgres-d\"\n",
            "FATAL:  password authentication failed for user \"postgres-d\"\n"
          ]
        }
      ]
    },
    {
      "cell_type": "code",
      "source": [
        "!PGPASSWORD=$DB_PASS psql -q -h $DB_HOST -p $DB_PORT -U $DB_USER -d $DB_NAME \\\n",
        "-c \"CREATE TABLE visitation(visitation_index SERIAL PRIMARY KEY,year INT,visitor_count INT,total_visitors INT);\""
      ],
      "metadata": {
        "id": "qHxuADEH1qJh"
      },
      "execution_count": 5,
      "outputs": []
    },
    {
      "cell_type": "markdown",
      "source": [
        "### 4.2) Table 2: Cats VS Dogs"
      ],
      "metadata": {
        "id": "_olEv-oShztc"
      }
    },
    {
      "cell_type": "code",
      "source": [
        "!PGPASSWORD=$DB_PASS psql -q -h $DB_HOST -p $DB_PORT -U $DB_USER-d $DB_NAME \\\n",
        "-c \"DROP TABLE IF EXISTS animals;\""
      ],
      "metadata": {
        "id": "H46drd6blOCB",
        "colab": {
          "base_uri": "https://localhost:8080/"
        },
        "outputId": "b7db0802-e908-401e-ab03-7217815688ea"
      },
      "execution_count": 6,
      "outputs": [
        {
          "output_type": "stream",
          "name": "stdout",
          "text": [
            "psql: FATAL:  password authentication failed for user \"postgres-d\"\n",
            "FATAL:  password authentication failed for user \"postgres-d\"\n"
          ]
        }
      ]
    },
    {
      "cell_type": "code",
      "source": [
        "!PGPASSWORD=$DB_PASS psql -q -h $DB_HOST -p $DB_PORT -U $DB_USER -d $DB_NAME \\\n",
        "-c \"CREATE TABLE animals(animal_index SERIAL PRIMARY KEY, location TEXT, region TEXT, number_of_households_in_1000 INT, \\\n",
        "                         percentage_of_households_with_pets DECIMAL(5,3), number_of_pet_households_in_1000 INT, percentage_of_dog_owners DECIMAL(5,3), \\\n",
        "                         dog_owning_households_1000s INT, mean_number_of_dogs_per_household DECIMAL(5,3), dog_population_in_1000 INT, \\\n",
        "                         percentage_of_cat_owners DECIMAL(5,3), cat_owning_households INT, mean_number_of_cats DECIMAL(5,3), cat_population INT);\""
      ],
      "metadata": {
        "id": "2dVa9FvrlTaS"
      },
      "execution_count": 7,
      "outputs": []
    },
    {
      "cell_type": "markdown",
      "source": [
        "### 4.3) Table 3: Counties"
      ],
      "metadata": {
        "id": "YZuDeO3UpQKI"
      }
    },
    {
      "cell_type": "code",
      "source": [
        "!PGPASSWORD=$DB_PASS psql -q -h $DB_HOST -p $DB_PORT -U $DB_USER-d $DB_NAME \\\n",
        "-c \"DROP TABLE IF EXISTS counties;\""
      ],
      "metadata": {
        "id": "RxXS4xaepcwZ",
        "colab": {
          "base_uri": "https://localhost:8080/"
        },
        "outputId": "1f199b84-2c22-4f49-b2c8-781f1c0abcda"
      },
      "execution_count": 8,
      "outputs": [
        {
          "output_type": "stream",
          "name": "stdout",
          "text": [
            "psql: FATAL:  password authentication failed for user \"postgres-d\"\n",
            "FATAL:  password authentication failed for user \"postgres-d\"\n"
          ]
        }
      ]
    },
    {
      "cell_type": "code",
      "source": [
        "!PGPASSWORD=$DB_PASS psql -q -h $DB_HOST -p $DB_PORT -U $DB_USER -d $DB_NAME \\\n",
        "-c \"CREATE TABLE counties(counties_index SERIAL PRIMARY KEY, county TEXT, county_number INT, population INT);\""
      ],
      "metadata": {
        "id": "Ha78KdZwphOK"
      },
      "execution_count": 9,
      "outputs": []
    },
    {
      "cell_type": "markdown",
      "source": [
        "### 4.4) Table 4: Products"
      ],
      "metadata": {
        "id": "AkFWeglWpw8B"
      }
    },
    {
      "cell_type": "code",
      "source": [
        "!PGPASSWORD=$DB_PASS psql -q -h $DB_HOST -p $DB_PORT -U $DB_USER-d $DB_NAME \\\n",
        "-c \"DROP TABLE IF EXISTS products;\""
      ],
      "metadata": {
        "colab": {
          "base_uri": "https://localhost:8080/"
        },
        "id": "tn7mJXuHqN85",
        "outputId": "14edc14c-3847-4513-fb88-f700319c2923"
      },
      "execution_count": 10,
      "outputs": [
        {
          "output_type": "stream",
          "name": "stdout",
          "text": [
            "psql: FATAL:  password authentication failed for user \"postgres-d\"\n",
            "FATAL:  password authentication failed for user \"postgres-d\"\n"
          ]
        }
      ]
    },
    {
      "cell_type": "code",
      "source": [
        "!PGPASSWORD=$DB_PASS psql -q -h $DB_HOST -p $DB_PORT -U $DB_USER -d $DB_NAME \\\n",
        "-c \"CREATE TABLE products(products_index SERIAL PRIMARY KEY, item_no INT, category_name TEXT, item_description TEXT, \\\n",
        "                          vendor INT, vendor_name\tTEXT, bottle_size INT, pack INT, inner_pack INT, age INT, proof INT, \\\n",
        "                           list_date DATE, upc BIGINT, scc BIGINT, bottle_price MONEY, shelf_price DECIMAL, case_cost DECIMAL);\""
      ],
      "metadata": {
        "id": "3ZjT3IC_qQiL"
      },
      "execution_count": 11,
      "outputs": []
    },
    {
      "cell_type": "markdown",
      "source": [
        "### 4.5) Table 5: Sales"
      ],
      "metadata": {
        "id": "DEIT94D6C8aX"
      }
    },
    {
      "cell_type": "code",
      "source": [
        "!PGPASSWORD=$DB_PASS psql -q -h $DB_HOST -p $DB_PORT -U $DB_USER-d $DB_NAME \\\n",
        "-c \"DROP TABLE IF EXISTS sales;\""
      ],
      "metadata": {
        "colab": {
          "base_uri": "https://localhost:8080/"
        },
        "id": "XRJx2zqaC-2c",
        "outputId": "e4bec38b-7e1d-4db8-a172-a7912729cc09"
      },
      "execution_count": 12,
      "outputs": [
        {
          "output_type": "stream",
          "name": "stdout",
          "text": [
            "psql: FATAL:  password authentication failed for user \"postgres-d\"\n",
            "FATAL:  password authentication failed for user \"postgres-d\"\n"
          ]
        }
      ]
    },
    {
      "cell_type": "code",
      "source": [
        "!PGPASSWORD=$DB_PASS psql -q -h $DB_HOST -p $DB_PORT -U $DB_USER -d $DB_NAME \\\n",
        "-c \"CREATE TABLE sales(sales_index SERIAL PRIMARY KEY, date DATE,\tconvenience_store TEXT, \\\n",
        "                       store INT, county_number INT,\tcounty TEXT,\tcategory TEXT,\tcategory_name TEXT,\tvendor_no INT,\t\\\n",
        "                       vendor TEXT,\titem INT,\tdescription TEXT,\tpack INT,\tliter_size INT,\tstate_btl_cost MONEY,\t \\\n",
        "                       btl_price MONEY,\tbottle_qty INT,\ttotal DECIMAL);\""
      ],
      "metadata": {
        "id": "reNymsP0DCad"
      },
      "execution_count": 13,
      "outputs": []
    },
    {
      "cell_type": "markdown",
      "source": [
        "### 4.6) Table 6: Sales 2016"
      ],
      "metadata": {
        "id": "qDsG6jWaDcxE"
      }
    },
    {
      "cell_type": "code",
      "source": [
        "!PGPASSWORD=$DB_PASS psql -q -h $DB_HOST -p $DB_PORT -U $DB_USER-d $DB_NAME \\\n",
        "-c \"DROP TABLE IF EXISTS sales2016;\""
      ],
      "metadata": {
        "id": "nj7Wyfb-DnJM",
        "colab": {
          "base_uri": "https://localhost:8080/"
        },
        "outputId": "6f8c7241-f212-4797-a307-b1a01f5970dc"
      },
      "execution_count": 14,
      "outputs": [
        {
          "output_type": "stream",
          "name": "stdout",
          "text": [
            "psql: FATAL:  password authentication failed for user \"postgres-d\"\n",
            "FATAL:  password authentication failed for user \"postgres-d\"\n"
          ]
        }
      ]
    },
    {
      "cell_type": "code",
      "source": [
        "!PGPASSWORD=$DB_PASS psql -q -h $DB_HOST -p $DB_PORT -U $DB_USER -d $DB_NAME \\\n",
        "-c \"CREATE TABLE sales_2016(sales2016_index SERIAL PRIMARY KEY, invoice_item_number TEXT, date DATE, store_number INT, store_name TEXT, address TEXT, \\\n",
        "       city TEXT, zip_Code TEXT, store_location TEXT, county_number TEXT, county TEXT, category TEXT, category_name TEXT, vendor_number TEXT, \\\n",
        "       vendor_name TEXT, item_number INT, item_description TEXT, pack INT, bottle_volume_ml INT, state_bottle_cost DECIMAL, state_bottle_retail DECIMAL, \\\n",
        "       bottles_sold INT, sale_dollars DECIMAL, volume_sold_liters DECIMAL, volume_sold_gallons DECIMAL);\""
      ],
      "metadata": {
        "id": "cJcdHjWLywcg"
      },
      "execution_count": 15,
      "outputs": []
    },
    {
      "cell_type": "markdown",
      "source": [
        "### 4.7) Table 7: Stores"
      ],
      "metadata": {
        "id": "R0_hK1I_nJbj"
      }
    },
    {
      "cell_type": "code",
      "source": [
        "!PGPASSWORD=$DB_PASS psql -q -h $DB_HOST -p $DB_PORT -U $DB_USER-d $DB_NAME \\\n",
        "-c \"DROP TABLE IF EXISTS stores;\""
      ],
      "metadata": {
        "colab": {
          "base_uri": "https://localhost:8080/"
        },
        "id": "5xFL2NWenMth",
        "outputId": "bb44b8c7-93a3-42b5-9d79-067f408af8e6"
      },
      "execution_count": 16,
      "outputs": [
        {
          "output_type": "stream",
          "name": "stdout",
          "text": [
            "psql: FATAL:  password authentication failed for user \"postgres-d\"\n",
            "FATAL:  password authentication failed for user \"postgres-d\"\n"
          ]
        }
      ]
    },
    {
      "cell_type": "code",
      "source": [
        "!PGPASSWORD=$DB_PASS psql -q -h $DB_HOST -p $DB_PORT -U $DB_USER -d $DB_NAME \\\n",
        "-c \"CREATE TABLE stores(stores_index SERIAL PRIMARY KEY, store INT, name TEXT, store_status TEXT, store_address TEXT, address_info TEXT);\""
      ],
      "metadata": {
        "id": "iGjDf9ZMnP_q"
      },
      "execution_count": 17,
      "outputs": []
    },
    {
      "cell_type": "markdown",
      "source": [
        "### 4.8) Table 8: Convenience Stores"
      ],
      "metadata": {
        "id": "Uoz_EOzAD6EE"
      }
    },
    {
      "cell_type": "code",
      "source": [
        "!PGPASSWORD=$DB_PASS psql -q -h $DB_HOST -p $DB_PORT -U $DB_USER-d $DB_NAME \\\n",
        "-c \"DROP TABLE IF EXISTS convenience;\""
      ],
      "metadata": {
        "id": "lX7ha-5VEAVk",
        "colab": {
          "base_uri": "https://localhost:8080/"
        },
        "outputId": "c8b43cbb-96ec-4a7e-cda2-c9a9ceec3d58"
      },
      "execution_count": 18,
      "outputs": [
        {
          "output_type": "stream",
          "name": "stdout",
          "text": [
            "psql: FATAL:  password authentication failed for user \"postgres-d\"\n",
            "FATAL:  password authentication failed for user \"postgres-d\"\n"
          ]
        }
      ]
    },
    {
      "cell_type": "code",
      "source": [
        "!PGPASSWORD=$DB_PASS psql -q -h $DB_HOST -p $DB_PORT -U $DB_USER -d $DB_NAME \\\n",
        "-c \"CREATE TABLE convenience(convenience_index SERIAL PRIMARY KEY, store INT,county TEXT);\""
      ],
      "metadata": {
        "id": "zEHLEXczEDNl"
      },
      "execution_count": 19,
      "outputs": []
    },
    {
      "cell_type": "markdown",
      "source": [
        "## 5) Populate the tables"
      ],
      "metadata": {
        "id": "56oFFLYTe2L6"
      }
    },
    {
      "cell_type": "markdown",
      "source": [
        "### 5.1) Populate the \"visitation\" table"
      ],
      "metadata": {
        "id": "cgwohB_mfC7C"
      }
    },
    {
      "cell_type": "code",
      "source": [
        "# Import the csv file from GitHub\n",
        "!wget https://raw.githubusercontent.com/leonardodecastro/data/main/visitation.csv\n",
        "\n",
        "# Populate the database table\n",
        "!PGPASSWORD=$DB_PASS psql -q -h $DB_HOST -p $DB_PORT -U $DB_USER -d $DB_NAME \\\n",
        "-c \"\\COPY visitation(year, visitor_count, total_visitors) FROM \\\n",
        "'visitation.csv' ( format csv, header, delimiter ',', encoding 'win1252', null ' ' );\""
      ],
      "metadata": {
        "id": "qXH8ux-ZXpyJ",
        "colab": {
          "base_uri": "https://localhost:8080/"
        },
        "outputId": "3b974573-4ed0-416a-cf22-651fb268babe"
      },
      "execution_count": 20,
      "outputs": [
        {
          "output_type": "stream",
          "name": "stdout",
          "text": [
            "--2022-11-23 19:00:43--  https://raw.githubusercontent.com/leonardodecastro/data/main/visitation.csv\n",
            "Resolving raw.githubusercontent.com (raw.githubusercontent.com)... 185.199.108.133, 185.199.110.133, 185.199.111.133, ...\n",
            "Connecting to raw.githubusercontent.com (raw.githubusercontent.com)|185.199.108.133|:443... connected.\n",
            "HTTP request sent, awaiting response... 200 OK\n",
            "Length: 1525 (1.5K) [text/plain]\n",
            "Saving to: ‘visitation.csv’\n",
            "\n",
            "\rvisitation.csv        0%[                    ]       0  --.-KB/s               \rvisitation.csv      100%[===================>]   1.49K  --.-KB/s    in 0s      \n",
            "\n",
            "2022-11-23 19:00:43 (26.7 MB/s) - ‘visitation.csv’ saved [1525/1525]\n",
            "\n"
          ]
        }
      ]
    },
    {
      "cell_type": "markdown",
      "source": [
        "### 5.2) Populate the \"animals\" table"
      ],
      "metadata": {
        "id": "q6RlDQcnoVKi"
      }
    },
    {
      "cell_type": "code",
      "source": [
        "# Import the csv file from GitHub\n",
        "!wget https://raw.githubusercontent.com/leonardodecastro/data/main/animals.csv\n",
        "\n",
        "# Populate the database table\n",
        "!PGPASSWORD=$DB_PASS psql -q -h $DB_HOST -p $DB_PORT -U $DB_USER -d $DB_NAME \\\n",
        "-c \"\\COPY animals(location, region, number_of_households_in_1000, percentage_of_households_with_pets, number_of_pet_households_in_1000,  \\\n",
        "                     percentage_of_dog_owners, dog_owning_households_1000s, mean_number_of_dogs_per_household , dog_population_in_1000, \\\n",
        "                     percentage_of_cat_owners, cat_owning_households, mean_number_of_cats , cat_population) FROM \\\n",
        "                     'animals.csv' ( format csv, header, delimiter ',', encoding 'win1252', null ' ' );\""
      ],
      "metadata": {
        "id": "rcYMr8lIXcSB",
        "colab": {
          "base_uri": "https://localhost:8080/"
        },
        "outputId": "c4f0f9cd-20da-45fe-8c6d-5437bcc229ba"
      },
      "execution_count": 21,
      "outputs": [
        {
          "output_type": "stream",
          "name": "stdout",
          "text": [
            "--2022-11-23 19:00:43--  https://raw.githubusercontent.com/leonardodecastro/data/main/animals.csv\n",
            "Resolving raw.githubusercontent.com (raw.githubusercontent.com)... 185.199.108.133, 185.199.109.133, 185.199.110.133, ...\n",
            "Connecting to raw.githubusercontent.com (raw.githubusercontent.com)|185.199.108.133|:443... connected.\n",
            "HTTP request sent, awaiting response... 200 OK\n",
            "Length: 3509 (3.4K) [text/plain]\n",
            "Saving to: ‘animals.csv’\n",
            "\n",
            "\ranimals.csv           0%[                    ]       0  --.-KB/s               \ranimals.csv         100%[===================>]   3.43K  --.-KB/s    in 0s      \n",
            "\n",
            "2022-11-23 19:00:43 (44.8 MB/s) - ‘animals.csv’ saved [3509/3509]\n",
            "\n"
          ]
        }
      ]
    },
    {
      "cell_type": "markdown",
      "source": [
        "### 5.3) Populate the \"counties\" table"
      ],
      "metadata": {
        "id": "bmRBGN4jsnNE"
      }
    },
    {
      "cell_type": "code",
      "source": [
        "# Import the csv file from GitHub\n",
        "!wget https://raw.githubusercontent.com/leonardodecastro/data/main/counties.csv\n",
        "\n",
        "# Populate the database table\n",
        "!PGPASSWORD=$DB_PASS psql -q -h $DB_HOST -p $DB_PORT -U $DB_USER -d $DB_NAME \\\n",
        "-c \"\\COPY counties(county, county_number, population) FROM \\\n",
        "'counties.csv' ( format csv, header, delimiter ',', encoding 'win1252', null ' ' );\""
      ],
      "metadata": {
        "id": "OXZdaOhAXipX",
        "colab": {
          "base_uri": "https://localhost:8080/"
        },
        "outputId": "58c8812e-4a64-4ff8-e4b3-ef306fa29f0d"
      },
      "execution_count": 22,
      "outputs": [
        {
          "output_type": "stream",
          "name": "stdout",
          "text": [
            "--2022-11-23 19:00:44--  https://raw.githubusercontent.com/leonardodecastro/data/main/counties.csv\n",
            "Resolving raw.githubusercontent.com (raw.githubusercontent.com)... 185.199.111.133, 185.199.109.133, 185.199.108.133, ...\n",
            "Connecting to raw.githubusercontent.com (raw.githubusercontent.com)|185.199.111.133|:443... connected.\n",
            "HTTP request sent, awaiting response... 200 OK\n",
            "Length: 1765 (1.7K) [text/plain]\n",
            "Saving to: ‘counties.csv’\n",
            "\n",
            "\rcounties.csv          0%[                    ]       0  --.-KB/s               \rcounties.csv        100%[===================>]   1.72K  --.-KB/s    in 0s      \n",
            "\n",
            "2022-11-23 19:00:44 (25.3 MB/s) - ‘counties.csv’ saved [1765/1765]\n",
            "\n"
          ]
        }
      ]
    },
    {
      "cell_type": "markdown",
      "source": [
        "### 5.4) Populate the \"products\" table"
      ],
      "metadata": {
        "id": "vzqkiNYTs9Ox"
      }
    },
    {
      "cell_type": "code",
      "source": [
        "# Import the csv file from GitHub\n",
        "!wget https://raw.githubusercontent.com/leonardodecastro/data/main/products.csv\n",
        "\n",
        "# Populate the database table\n",
        "!PGPASSWORD=$DB_PASS psql -q -h $DB_HOST -p $DB_PORT -U $DB_USER -d $DB_NAME \\\n",
        "-c \"\\COPY products(item_no, category_name, item_description, vendor, vendor_name, bottle_size, pack, inner_pack, age, proof, \\\n",
        "                           list_date, upc, scc, bottle_price, shelf_price, case_cost) FROM \\\n",
        "'products.csv' ( format csv, header, delimiter ';', encoding 'win1252', null '');\""
      ],
      "metadata": {
        "id": "cI4X5VRrXxeQ",
        "colab": {
          "base_uri": "https://localhost:8080/"
        },
        "outputId": "9a55c966-3879-458c-cd3e-82119912c1eb"
      },
      "execution_count": 23,
      "outputs": [
        {
          "output_type": "stream",
          "name": "stdout",
          "text": [
            "--2022-11-23 19:00:44--  https://raw.githubusercontent.com/leonardodecastro/data/main/products.csv\n",
            "Resolving raw.githubusercontent.com (raw.githubusercontent.com)... 185.199.110.133, 185.199.111.133, 185.199.108.133, ...\n",
            "Connecting to raw.githubusercontent.com (raw.githubusercontent.com)|185.199.110.133|:443... connected.\n",
            "HTTP request sent, awaiting response... 200 OK\n",
            "Length: 1322654 (1.3M) [text/plain]\n",
            "Saving to: ‘products.csv’\n",
            "\n",
            "products.csv        100%[===================>]   1.26M  --.-KB/s    in 0.05s   \n",
            "\n",
            "2022-11-23 19:00:44 (22.9 MB/s) - ‘products.csv’ saved [1322654/1322654]\n",
            "\n"
          ]
        }
      ]
    },
    {
      "cell_type": "markdown",
      "source": [
        "### 5.5) Populate the \"sales\" table"
      ],
      "metadata": {
        "id": "gKazY1IfDPFG"
      }
    },
    {
      "cell_type": "code",
      "source": [
        "# Import the csv file from GitHub\n",
        "!wget https://raw.githubusercontent.com/leonardodecastro/data/main/sales.zip\n",
        "!unzip '/content/sales.zip'\n",
        "\n",
        "# Populate the database table\n",
        "!PGPASSWORD=$DB_PASS psql -q -h $DB_HOST -p $DB_PORT -U $DB_USER -d $DB_NAME \\\n",
        "-c \"\\COPY sales(date,\tconvenience_store, store, county_number,\tcounty,\tcategory,\tcategory_name,\tvendor_no,\t\\\n",
        "                       vendor,\titem,\tdescription,\tpack,\tliter_size,\tstate_btl_cost,\tbtl_price,\tbottle_qty,\ttotal) \\\n",
        "                       FROM 'sales.csv' ( format csv, header, delimiter ',', encoding 'win1252', null ' ' );\""
      ],
      "metadata": {
        "id": "t1mGAAK1thQc",
        "colab": {
          "base_uri": "https://localhost:8080/"
        },
        "outputId": "61b2ff8b-4f03-41ad-87c0-bdce1b6a8034"
      },
      "execution_count": 24,
      "outputs": [
        {
          "output_type": "stream",
          "name": "stdout",
          "text": [
            "--2022-11-23 19:00:45--  https://raw.githubusercontent.com/leonardodecastro/data/main/sales.zip\n",
            "Resolving raw.githubusercontent.com (raw.githubusercontent.com)... 185.199.108.133, 185.199.109.133, 185.199.110.133, ...\n",
            "Connecting to raw.githubusercontent.com (raw.githubusercontent.com)|185.199.108.133|:443... connected.\n",
            "HTTP request sent, awaiting response... 200 OK\n",
            "Length: 62585984 (60M) [application/zip]\n",
            "Saving to: ‘sales.zip’\n",
            "\n",
            "sales.zip           100%[===================>]  59.69M   204MB/s    in 0.3s    \n",
            "\n",
            "2022-11-23 19:00:46 (204 MB/s) - ‘sales.zip’ saved [62585984/62585984]\n",
            "\n",
            "Archive:  /content/sales.zip\n",
            "  inflating: sales.csv               \n"
          ]
        }
      ]
    },
    {
      "cell_type": "markdown",
      "source": [
        "### 5.6) Populate the \"sales2016\" table"
      ],
      "metadata": {
        "id": "uHsMakWFDyrF"
      }
    },
    {
      "cell_type": "code",
      "source": [
        "# Import the csv file from GitHub\n",
        "!wget https://raw.githubusercontent.com/leonardodecastro/data/main/sales_2016.zip\n",
        "!unzip '/content/sales_2016.zip'\n",
        "\n",
        "# Populate the database table\n",
        "!PGPASSWORD=$DB_PASS psql -q -h $DB_HOST -p $DB_PORT -U $DB_USER -d $DB_NAME \\\n",
        "-c \"\\COPY sales_2016(invoice_item_number, date, store_number, store_Name, address, \\\n",
        "       city, zip_code, store_location, county_number, county, category, category_name, vendor_number, \\\n",
        "       vendor_name, item_number, item_description, pack, bottle_volume_ml, state_bottle_cost, state_bottle_retail, \\\n",
        "       bottles_sold, sale_dollars, volume_sold_liters, volume_sold_gallons) FROM \\\n",
        "'sales_2016.csv' ( format csv, header, delimiter ',', encoding 'win1252', null ' ' );\""
      ],
      "metadata": {
        "id": "dMPnR5rxD1WQ",
        "colab": {
          "base_uri": "https://localhost:8080/"
        },
        "outputId": "327bbba9-616d-4094-d46e-1d3209d7e292"
      },
      "execution_count": 25,
      "outputs": [
        {
          "output_type": "stream",
          "name": "stdout",
          "text": [
            "--2022-11-23 19:01:19--  https://raw.githubusercontent.com/leonardodecastro/data/main/sales_2016.zip\n",
            "Resolving raw.githubusercontent.com (raw.githubusercontent.com)... 185.199.108.133, 185.199.109.133, 185.199.110.133, ...\n",
            "Connecting to raw.githubusercontent.com (raw.githubusercontent.com)|185.199.108.133|:443... connected.\n",
            "HTTP request sent, awaiting response... 200 OK\n",
            "Length: 69607112 (66M) [application/zip]\n",
            "Saving to: ‘sales_2016.zip’\n",
            "\n",
            "sales_2016.zip      100%[===================>]  66.38M   212MB/s    in 0.3s    \n",
            "\n",
            "2022-11-23 19:01:20 (212 MB/s) - ‘sales_2016.zip’ saved [69607112/69607112]\n",
            "\n",
            "Archive:  /content/sales_2016.zip\n",
            "  inflating: sales_2016.csv          \n"
          ]
        }
      ]
    },
    {
      "cell_type": "markdown",
      "source": [
        "### 5.7) Populate the \"stores\" table"
      ],
      "metadata": {
        "id": "JpoM2CYBmt-z"
      }
    },
    {
      "cell_type": "code",
      "source": [
        "# Import the csv file from GitHub\n",
        "!wget https://raw.githubusercontent.com/leonardodecastro/data/main/stores.csv\n",
        "\n",
        "# Populate the database table\n",
        "!PGPASSWORD=$DB_PASS psql -q -h $DB_HOST -p $DB_PORT -U $DB_USER -d $DB_NAME \\\n",
        "-c \"\\COPY stores(store, name, store_status, store_address, address_info) FROM \\\n",
        "'stores.csv' ( format csv, header, delimiter ',', encoding 'win1252', null ' ' );\""
      ],
      "metadata": {
        "colab": {
          "base_uri": "https://localhost:8080/"
        },
        "id": "JR1oVHfgmx9K",
        "outputId": "cfb20098-ed22-4f05-a414-ce00de27b72e"
      },
      "execution_count": 26,
      "outputs": [
        {
          "output_type": "stream",
          "name": "stdout",
          "text": [
            "--2022-11-23 19:01:57--  https://raw.githubusercontent.com/leonardodecastro/data/main/stores.csv\n",
            "Resolving raw.githubusercontent.com (raw.githubusercontent.com)... 185.199.109.133, 185.199.111.133, 185.199.108.133, ...\n",
            "Connecting to raw.githubusercontent.com (raw.githubusercontent.com)|185.199.109.133|:443... connected.\n",
            "HTTP request sent, awaiting response... 200 OK\n",
            "Length: 239979 (234K) [text/plain]\n",
            "Saving to: ‘stores.csv’\n",
            "\n",
            "stores.csv          100%[===================>] 234.35K  --.-KB/s    in 0.03s   \n",
            "\n",
            "2022-11-23 19:01:57 (9.01 MB/s) - ‘stores.csv’ saved [239979/239979]\n",
            "\n"
          ]
        }
      ]
    },
    {
      "cell_type": "markdown",
      "source": [
        "### 5.8) Populate the \"convenience\" table"
      ],
      "metadata": {
        "id": "YLGVuXsjEHai"
      }
    },
    {
      "cell_type": "code",
      "source": [
        "# Import the csv file from GitHub\n",
        "!wget https://raw.githubusercontent.com/leonardodecastro/data/main/convenience.csv\n",
        "\n",
        "# Populate the database table\n",
        "!PGPASSWORD=$DB_PASS psql -q -h $DB_HOST -p $DB_PORT -U $DB_USER -d $DB_NAME \\\n",
        "-c \"\\COPY convenience(store, county) FROM \\\n",
        "'convenience.csv' ( format csv, header, delimiter ',', encoding 'win1252', null ' ' );\""
      ],
      "metadata": {
        "id": "lkfUrlTjEIt2",
        "colab": {
          "base_uri": "https://localhost:8080/"
        },
        "outputId": "6a641cec-cee0-4bec-bdee-1fd16eb2a076"
      },
      "execution_count": 27,
      "outputs": [
        {
          "output_type": "stream",
          "name": "stdout",
          "text": [
            "--2022-11-23 19:01:58--  https://raw.githubusercontent.com/leonardodecastro/data/main/convenience.csv\n",
            "Resolving raw.githubusercontent.com (raw.githubusercontent.com)... 185.199.108.133, 185.199.109.133, 185.199.110.133, ...\n",
            "Connecting to raw.githubusercontent.com (raw.githubusercontent.com)|185.199.108.133|:443... connected.\n",
            "HTTP request sent, awaiting response... 200 OK\n",
            "Length: 5965 (5.8K) [text/plain]\n",
            "Saving to: ‘convenience.csv’\n",
            "\n",
            "\rconvenience.csv       0%[                    ]       0  --.-KB/s               \rconvenience.csv     100%[===================>]   5.83K  --.-KB/s    in 0s      \n",
            "\n",
            "2022-11-23 19:01:58 (35.3 MB/s) - ‘convenience.csv’ saved [5965/5965]\n",
            "\n"
          ]
        }
      ]
    },
    {
      "cell_type": "markdown",
      "source": [
        "## 6) Practice SQL"
      ],
      "metadata": {
        "id": "fWOmPTLefLGa"
      }
    },
    {
      "cell_type": "markdown",
      "source": [
        "The introduction to the sub-sections of part 6 were extracted from the second source referenced in the first part of this script. "
      ],
      "metadata": {
        "id": "ijO3JHau6nBp"
      }
    },
    {
      "cell_type": "markdown",
      "source": [
        "### 6.1) SELECT, WHERE & ORDER BY commands"
      ],
      "metadata": {
        "id": "SFotOHXFfTFa"
      }
    },
    {
      "cell_type": "markdown",
      "source": [
        "When accessing data using SQL, **Structured Query Language**, the two foundational parts of the command sequence are `SELECT` and `FROM`. Using `SELECT`, you choose the information you want to include in your report. `FROM` identifies the source table or file name from which to retrieve or calculate that information. This structure will look like:\n",
        "\n",
        " > **SELECT** *(desired data here)* <br>\n",
        " > **FROM** *(table name here)*"
      ],
      "metadata": {
        "id": "ukHsDqpR6WeB"
      }
    },
    {
      "cell_type": "markdown",
      "source": [
        "#### 6.1.1) Select all columns using asterisk (*)."
      ],
      "metadata": {
        "id": "-Pqw_ZMYfX21"
      }
    },
    {
      "cell_type": "markdown",
      "source": [
        "Here we select all columns from the `visitation` table. "
      ],
      "metadata": {
        "id": "Mcj4_E7E1QR4"
      }
    },
    {
      "cell_type": "code",
      "source": [
        "# Connect to the table in the database\n",
        "connection = psycopg2.connect(user = 'postgres', password = 'postgres', host = 'localhost', database = 'tfio_demo')\n",
        "cursor = connection.cursor()\n",
        "\n",
        "# Create SQL query\n",
        "cursor.execute(\"SELECT * \\\n",
        "                FROM visitation\")\n",
        "table_contacts = cursor.fetchall()\n",
        "\n",
        "# Turn the results of the query into a dataframe for visualization of the results\n",
        "pd.DataFrame((table_contacts) , columns=[[desc[0] for desc in cursor.description]]).head()"
      ],
      "metadata": {
        "colab": {
          "base_uri": "https://localhost:8080/",
          "height": 206
        },
        "id": "z-qtAgejEXZg",
        "outputId": "012d9898-fe36-44c7-b4f4-eb09402209f4"
      },
      "execution_count": 28,
      "outputs": [
        {
          "output_type": "execute_result",
          "data": {
            "text/plain": [
              "  visitation_index  year visitor_count total_visitors\n",
              "0                1  1944          1409       15431947\n",
              "1                2  1945          3205       15431947\n",
              "2                3  1946         10037       15431947\n",
              "3                4  1947         28652       15431947\n",
              "4                5  1948         45670       15431947"
            ],
            "text/html": [
              "\n",
              "  <div id=\"df-31ecd8ea-9ba7-419a-b344-589e89bb3804\">\n",
              "    <div class=\"colab-df-container\">\n",
              "      <div>\n",
              "<style scoped>\n",
              "    .dataframe tbody tr th:only-of-type {\n",
              "        vertical-align: middle;\n",
              "    }\n",
              "\n",
              "    .dataframe tbody tr th {\n",
              "        vertical-align: top;\n",
              "    }\n",
              "\n",
              "    .dataframe thead tr th {\n",
              "        text-align: left;\n",
              "    }\n",
              "</style>\n",
              "<table border=\"1\" class=\"dataframe\">\n",
              "  <thead>\n",
              "    <tr>\n",
              "      <th></th>\n",
              "      <th>visitation_index</th>\n",
              "      <th>year</th>\n",
              "      <th>visitor_count</th>\n",
              "      <th>total_visitors</th>\n",
              "    </tr>\n",
              "  </thead>\n",
              "  <tbody>\n",
              "    <tr>\n",
              "      <th>0</th>\n",
              "      <td>1</td>\n",
              "      <td>1944</td>\n",
              "      <td>1409</td>\n",
              "      <td>15431947</td>\n",
              "    </tr>\n",
              "    <tr>\n",
              "      <th>1</th>\n",
              "      <td>2</td>\n",
              "      <td>1945</td>\n",
              "      <td>3205</td>\n",
              "      <td>15431947</td>\n",
              "    </tr>\n",
              "    <tr>\n",
              "      <th>2</th>\n",
              "      <td>3</td>\n",
              "      <td>1946</td>\n",
              "      <td>10037</td>\n",
              "      <td>15431947</td>\n",
              "    </tr>\n",
              "    <tr>\n",
              "      <th>3</th>\n",
              "      <td>4</td>\n",
              "      <td>1947</td>\n",
              "      <td>28652</td>\n",
              "      <td>15431947</td>\n",
              "    </tr>\n",
              "    <tr>\n",
              "      <th>4</th>\n",
              "      <td>5</td>\n",
              "      <td>1948</td>\n",
              "      <td>45670</td>\n",
              "      <td>15431947</td>\n",
              "    </tr>\n",
              "  </tbody>\n",
              "</table>\n",
              "</div>\n",
              "      <button class=\"colab-df-convert\" onclick=\"convertToInteractive('df-31ecd8ea-9ba7-419a-b344-589e89bb3804')\"\n",
              "              title=\"Convert this dataframe to an interactive table.\"\n",
              "              style=\"display:none;\">\n",
              "        \n",
              "  <svg xmlns=\"http://www.w3.org/2000/svg\" height=\"24px\"viewBox=\"0 0 24 24\"\n",
              "       width=\"24px\">\n",
              "    <path d=\"M0 0h24v24H0V0z\" fill=\"none\"/>\n",
              "    <path d=\"M18.56 5.44l.94 2.06.94-2.06 2.06-.94-2.06-.94-.94-2.06-.94 2.06-2.06.94zm-11 1L8.5 8.5l.94-2.06 2.06-.94-2.06-.94L8.5 2.5l-.94 2.06-2.06.94zm10 10l.94 2.06.94-2.06 2.06-.94-2.06-.94-.94-2.06-.94 2.06-2.06.94z\"/><path d=\"M17.41 7.96l-1.37-1.37c-.4-.4-.92-.59-1.43-.59-.52 0-1.04.2-1.43.59L10.3 9.45l-7.72 7.72c-.78.78-.78 2.05 0 2.83L4 21.41c.39.39.9.59 1.41.59.51 0 1.02-.2 1.41-.59l7.78-7.78 2.81-2.81c.8-.78.8-2.07 0-2.86zM5.41 20L4 18.59l7.72-7.72 1.47 1.35L5.41 20z\"/>\n",
              "  </svg>\n",
              "      </button>\n",
              "      \n",
              "  <style>\n",
              "    .colab-df-container {\n",
              "      display:flex;\n",
              "      flex-wrap:wrap;\n",
              "      gap: 12px;\n",
              "    }\n",
              "\n",
              "    .colab-df-convert {\n",
              "      background-color: #E8F0FE;\n",
              "      border: none;\n",
              "      border-radius: 50%;\n",
              "      cursor: pointer;\n",
              "      display: none;\n",
              "      fill: #1967D2;\n",
              "      height: 32px;\n",
              "      padding: 0 0 0 0;\n",
              "      width: 32px;\n",
              "    }\n",
              "\n",
              "    .colab-df-convert:hover {\n",
              "      background-color: #E2EBFA;\n",
              "      box-shadow: 0px 1px 2px rgba(60, 64, 67, 0.3), 0px 1px 3px 1px rgba(60, 64, 67, 0.15);\n",
              "      fill: #174EA6;\n",
              "    }\n",
              "\n",
              "    [theme=dark] .colab-df-convert {\n",
              "      background-color: #3B4455;\n",
              "      fill: #D2E3FC;\n",
              "    }\n",
              "\n",
              "    [theme=dark] .colab-df-convert:hover {\n",
              "      background-color: #434B5C;\n",
              "      box-shadow: 0px 1px 3px 1px rgba(0, 0, 0, 0.15);\n",
              "      filter: drop-shadow(0px 1px 2px rgba(0, 0, 0, 0.3));\n",
              "      fill: #FFFFFF;\n",
              "    }\n",
              "  </style>\n",
              "\n",
              "      <script>\n",
              "        const buttonEl =\n",
              "          document.querySelector('#df-31ecd8ea-9ba7-419a-b344-589e89bb3804 button.colab-df-convert');\n",
              "        buttonEl.style.display =\n",
              "          google.colab.kernel.accessAllowed ? 'block' : 'none';\n",
              "\n",
              "        async function convertToInteractive(key) {\n",
              "          const element = document.querySelector('#df-31ecd8ea-9ba7-419a-b344-589e89bb3804');\n",
              "          const dataTable =\n",
              "            await google.colab.kernel.invokeFunction('convertToInteractive',\n",
              "                                                     [key], {});\n",
              "          if (!dataTable) return;\n",
              "\n",
              "          const docLinkHtml = 'Like what you see? Visit the ' +\n",
              "            '<a target=\"_blank\" href=https://colab.research.google.com/notebooks/data_table.ipynb>data table notebook</a>'\n",
              "            + ' to learn more about interactive tables.';\n",
              "          element.innerHTML = '';\n",
              "          dataTable['output_type'] = 'display_data';\n",
              "          await google.colab.output.renderOutput(dataTable, element);\n",
              "          const docLink = document.createElement('div');\n",
              "          docLink.innerHTML = docLinkHtml;\n",
              "          element.appendChild(docLink);\n",
              "        }\n",
              "      </script>\n",
              "    </div>\n",
              "  </div>\n",
              "  "
            ]
          },
          "metadata": {},
          "execution_count": 28
        }
      ]
    },
    {
      "cell_type": "markdown",
      "source": [
        "#### 6.1.2) Select certain columns of a given table."
      ],
      "metadata": {
        "id": "xi0BzzwKfex7"
      }
    },
    {
      "cell_type": "markdown",
      "source": [
        "Here we select the columns `year` and `vistor_count` from the `visitation` table. "
      ],
      "metadata": {
        "id": "yUvKF3pw1LyJ"
      }
    },
    {
      "cell_type": "code",
      "source": [
        "# Connect to the table in the database\n",
        "connection = psycopg2.connect(user = 'postgres', password = 'postgres', host = 'localhost', database = 'tfio_demo')\n",
        "cursor = connection.cursor()\n",
        "\n",
        "# Create SQL query\n",
        "cursor.execute(\" SELECT visitation.year, visitation.visitor_count \\\n",
        "                 FROM visitation; \")\n",
        "table_contacts = cursor.fetchall()\n",
        "\n",
        "# Turn the results of the query into a dataframe for visualization of the results\n",
        "pd.DataFrame((table_contacts) , columns=[[desc[0] for desc in cursor.description]]).head()"
      ],
      "metadata": {
        "colab": {
          "base_uri": "https://localhost:8080/",
          "height": 206
        },
        "id": "geDTjSlUfhGM",
        "outputId": "65241300-2093-41cc-848f-3229fce4ef6d"
      },
      "execution_count": 29,
      "outputs": [
        {
          "output_type": "execute_result",
          "data": {
            "text/plain": [
              "   year visitor_count\n",
              "0  1944          1409\n",
              "1  1945          3205\n",
              "2  1946         10037\n",
              "3  1947         28652\n",
              "4  1948         45670"
            ],
            "text/html": [
              "\n",
              "  <div id=\"df-6b9dd3fa-3bc9-46b6-9f08-fd2b3e8fb0d7\">\n",
              "    <div class=\"colab-df-container\">\n",
              "      <div>\n",
              "<style scoped>\n",
              "    .dataframe tbody tr th:only-of-type {\n",
              "        vertical-align: middle;\n",
              "    }\n",
              "\n",
              "    .dataframe tbody tr th {\n",
              "        vertical-align: top;\n",
              "    }\n",
              "\n",
              "    .dataframe thead tr th {\n",
              "        text-align: left;\n",
              "    }\n",
              "</style>\n",
              "<table border=\"1\" class=\"dataframe\">\n",
              "  <thead>\n",
              "    <tr>\n",
              "      <th></th>\n",
              "      <th>year</th>\n",
              "      <th>visitor_count</th>\n",
              "    </tr>\n",
              "  </thead>\n",
              "  <tbody>\n",
              "    <tr>\n",
              "      <th>0</th>\n",
              "      <td>1944</td>\n",
              "      <td>1409</td>\n",
              "    </tr>\n",
              "    <tr>\n",
              "      <th>1</th>\n",
              "      <td>1945</td>\n",
              "      <td>3205</td>\n",
              "    </tr>\n",
              "    <tr>\n",
              "      <th>2</th>\n",
              "      <td>1946</td>\n",
              "      <td>10037</td>\n",
              "    </tr>\n",
              "    <tr>\n",
              "      <th>3</th>\n",
              "      <td>1947</td>\n",
              "      <td>28652</td>\n",
              "    </tr>\n",
              "    <tr>\n",
              "      <th>4</th>\n",
              "      <td>1948</td>\n",
              "      <td>45670</td>\n",
              "    </tr>\n",
              "  </tbody>\n",
              "</table>\n",
              "</div>\n",
              "      <button class=\"colab-df-convert\" onclick=\"convertToInteractive('df-6b9dd3fa-3bc9-46b6-9f08-fd2b3e8fb0d7')\"\n",
              "              title=\"Convert this dataframe to an interactive table.\"\n",
              "              style=\"display:none;\">\n",
              "        \n",
              "  <svg xmlns=\"http://www.w3.org/2000/svg\" height=\"24px\"viewBox=\"0 0 24 24\"\n",
              "       width=\"24px\">\n",
              "    <path d=\"M0 0h24v24H0V0z\" fill=\"none\"/>\n",
              "    <path d=\"M18.56 5.44l.94 2.06.94-2.06 2.06-.94-2.06-.94-.94-2.06-.94 2.06-2.06.94zm-11 1L8.5 8.5l.94-2.06 2.06-.94-2.06-.94L8.5 2.5l-.94 2.06-2.06.94zm10 10l.94 2.06.94-2.06 2.06-.94-2.06-.94-.94-2.06-.94 2.06-2.06.94z\"/><path d=\"M17.41 7.96l-1.37-1.37c-.4-.4-.92-.59-1.43-.59-.52 0-1.04.2-1.43.59L10.3 9.45l-7.72 7.72c-.78.78-.78 2.05 0 2.83L4 21.41c.39.39.9.59 1.41.59.51 0 1.02-.2 1.41-.59l7.78-7.78 2.81-2.81c.8-.78.8-2.07 0-2.86zM5.41 20L4 18.59l7.72-7.72 1.47 1.35L5.41 20z\"/>\n",
              "  </svg>\n",
              "      </button>\n",
              "      \n",
              "  <style>\n",
              "    .colab-df-container {\n",
              "      display:flex;\n",
              "      flex-wrap:wrap;\n",
              "      gap: 12px;\n",
              "    }\n",
              "\n",
              "    .colab-df-convert {\n",
              "      background-color: #E8F0FE;\n",
              "      border: none;\n",
              "      border-radius: 50%;\n",
              "      cursor: pointer;\n",
              "      display: none;\n",
              "      fill: #1967D2;\n",
              "      height: 32px;\n",
              "      padding: 0 0 0 0;\n",
              "      width: 32px;\n",
              "    }\n",
              "\n",
              "    .colab-df-convert:hover {\n",
              "      background-color: #E2EBFA;\n",
              "      box-shadow: 0px 1px 2px rgba(60, 64, 67, 0.3), 0px 1px 3px 1px rgba(60, 64, 67, 0.15);\n",
              "      fill: #174EA6;\n",
              "    }\n",
              "\n",
              "    [theme=dark] .colab-df-convert {\n",
              "      background-color: #3B4455;\n",
              "      fill: #D2E3FC;\n",
              "    }\n",
              "\n",
              "    [theme=dark] .colab-df-convert:hover {\n",
              "      background-color: #434B5C;\n",
              "      box-shadow: 0px 1px 3px 1px rgba(0, 0, 0, 0.15);\n",
              "      filter: drop-shadow(0px 1px 2px rgba(0, 0, 0, 0.3));\n",
              "      fill: #FFFFFF;\n",
              "    }\n",
              "  </style>\n",
              "\n",
              "      <script>\n",
              "        const buttonEl =\n",
              "          document.querySelector('#df-6b9dd3fa-3bc9-46b6-9f08-fd2b3e8fb0d7 button.colab-df-convert');\n",
              "        buttonEl.style.display =\n",
              "          google.colab.kernel.accessAllowed ? 'block' : 'none';\n",
              "\n",
              "        async function convertToInteractive(key) {\n",
              "          const element = document.querySelector('#df-6b9dd3fa-3bc9-46b6-9f08-fd2b3e8fb0d7');\n",
              "          const dataTable =\n",
              "            await google.colab.kernel.invokeFunction('convertToInteractive',\n",
              "                                                     [key], {});\n",
              "          if (!dataTable) return;\n",
              "\n",
              "          const docLinkHtml = 'Like what you see? Visit the ' +\n",
              "            '<a target=\"_blank\" href=https://colab.research.google.com/notebooks/data_table.ipynb>data table notebook</a>'\n",
              "            + ' to learn more about interactive tables.';\n",
              "          element.innerHTML = '';\n",
              "          dataTable['output_type'] = 'display_data';\n",
              "          await google.colab.output.renderOutput(dataTable, element);\n",
              "          const docLink = document.createElement('div');\n",
              "          docLink.innerHTML = docLinkHtml;\n",
              "          element.appendChild(docLink);\n",
              "        }\n",
              "      </script>\n",
              "    </div>\n",
              "  </div>\n",
              "  "
            ]
          },
          "metadata": {},
          "execution_count": 29
        }
      ]
    },
    {
      "cell_type": "markdown",
      "source": [
        "#### 6.1.3) Create aggregate measures (SUM)."
      ],
      "metadata": {
        "id": "h9KBBLydhMqB"
      }
    },
    {
      "cell_type": "markdown",
      "source": [
        "Here we calculate the sum of all values for the column `vistor_count` from the `visitation` table. "
      ],
      "metadata": {
        "id": "IxkUOf131FaH"
      }
    },
    {
      "cell_type": "code",
      "source": [
        "# Connect to the table in the database\n",
        "connection = psycopg2.connect(user = 'postgres', password = 'postgres', host = 'localhost', database = 'tfio_demo')\n",
        "cursor = connection.cursor()\n",
        "\n",
        "# Create SQL query\n",
        "cursor.execute(\" SELECT SUM(visitation.visitor_count) \\\n",
        "                 FROM visitation; \")\n",
        "table_contacts = cursor.fetchall()\n",
        "\n",
        "# Turn the results of the query into a dataframe for visualization of the results\n",
        "pd.DataFrame((table_contacts) , columns=[[desc[0] for desc in cursor.description]]).head(2)"
      ],
      "metadata": {
        "colab": {
          "base_uri": "https://localhost:8080/",
          "height": 81
        },
        "id": "ZZie-doFhRm6",
        "outputId": "215db4a9-4057-4d58-dd5a-bbb69171aace"
      },
      "execution_count": 30,
      "outputs": [
        {
          "output_type": "execute_result",
          "data": {
            "text/plain": [
              "        sum\n",
              "0  15431947"
            ],
            "text/html": [
              "\n",
              "  <div id=\"df-43a97c56-1dac-4a5f-8b18-d0bba427c454\">\n",
              "    <div class=\"colab-df-container\">\n",
              "      <div>\n",
              "<style scoped>\n",
              "    .dataframe tbody tr th:only-of-type {\n",
              "        vertical-align: middle;\n",
              "    }\n",
              "\n",
              "    .dataframe tbody tr th {\n",
              "        vertical-align: top;\n",
              "    }\n",
              "\n",
              "    .dataframe thead tr th {\n",
              "        text-align: left;\n",
              "    }\n",
              "</style>\n",
              "<table border=\"1\" class=\"dataframe\">\n",
              "  <thead>\n",
              "    <tr>\n",
              "      <th></th>\n",
              "      <th>sum</th>\n",
              "    </tr>\n",
              "  </thead>\n",
              "  <tbody>\n",
              "    <tr>\n",
              "      <th>0</th>\n",
              "      <td>15431947</td>\n",
              "    </tr>\n",
              "  </tbody>\n",
              "</table>\n",
              "</div>\n",
              "      <button class=\"colab-df-convert\" onclick=\"convertToInteractive('df-43a97c56-1dac-4a5f-8b18-d0bba427c454')\"\n",
              "              title=\"Convert this dataframe to an interactive table.\"\n",
              "              style=\"display:none;\">\n",
              "        \n",
              "  <svg xmlns=\"http://www.w3.org/2000/svg\" height=\"24px\"viewBox=\"0 0 24 24\"\n",
              "       width=\"24px\">\n",
              "    <path d=\"M0 0h24v24H0V0z\" fill=\"none\"/>\n",
              "    <path d=\"M18.56 5.44l.94 2.06.94-2.06 2.06-.94-2.06-.94-.94-2.06-.94 2.06-2.06.94zm-11 1L8.5 8.5l.94-2.06 2.06-.94-2.06-.94L8.5 2.5l-.94 2.06-2.06.94zm10 10l.94 2.06.94-2.06 2.06-.94-2.06-.94-.94-2.06-.94 2.06-2.06.94z\"/><path d=\"M17.41 7.96l-1.37-1.37c-.4-.4-.92-.59-1.43-.59-.52 0-1.04.2-1.43.59L10.3 9.45l-7.72 7.72c-.78.78-.78 2.05 0 2.83L4 21.41c.39.39.9.59 1.41.59.51 0 1.02-.2 1.41-.59l7.78-7.78 2.81-2.81c.8-.78.8-2.07 0-2.86zM5.41 20L4 18.59l7.72-7.72 1.47 1.35L5.41 20z\"/>\n",
              "  </svg>\n",
              "      </button>\n",
              "      \n",
              "  <style>\n",
              "    .colab-df-container {\n",
              "      display:flex;\n",
              "      flex-wrap:wrap;\n",
              "      gap: 12px;\n",
              "    }\n",
              "\n",
              "    .colab-df-convert {\n",
              "      background-color: #E8F0FE;\n",
              "      border: none;\n",
              "      border-radius: 50%;\n",
              "      cursor: pointer;\n",
              "      display: none;\n",
              "      fill: #1967D2;\n",
              "      height: 32px;\n",
              "      padding: 0 0 0 0;\n",
              "      width: 32px;\n",
              "    }\n",
              "\n",
              "    .colab-df-convert:hover {\n",
              "      background-color: #E2EBFA;\n",
              "      box-shadow: 0px 1px 2px rgba(60, 64, 67, 0.3), 0px 1px 3px 1px rgba(60, 64, 67, 0.15);\n",
              "      fill: #174EA6;\n",
              "    }\n",
              "\n",
              "    [theme=dark] .colab-df-convert {\n",
              "      background-color: #3B4455;\n",
              "      fill: #D2E3FC;\n",
              "    }\n",
              "\n",
              "    [theme=dark] .colab-df-convert:hover {\n",
              "      background-color: #434B5C;\n",
              "      box-shadow: 0px 1px 3px 1px rgba(0, 0, 0, 0.15);\n",
              "      filter: drop-shadow(0px 1px 2px rgba(0, 0, 0, 0.3));\n",
              "      fill: #FFFFFF;\n",
              "    }\n",
              "  </style>\n",
              "\n",
              "      <script>\n",
              "        const buttonEl =\n",
              "          document.querySelector('#df-43a97c56-1dac-4a5f-8b18-d0bba427c454 button.colab-df-convert');\n",
              "        buttonEl.style.display =\n",
              "          google.colab.kernel.accessAllowed ? 'block' : 'none';\n",
              "\n",
              "        async function convertToInteractive(key) {\n",
              "          const element = document.querySelector('#df-43a97c56-1dac-4a5f-8b18-d0bba427c454');\n",
              "          const dataTable =\n",
              "            await google.colab.kernel.invokeFunction('convertToInteractive',\n",
              "                                                     [key], {});\n",
              "          if (!dataTable) return;\n",
              "\n",
              "          const docLinkHtml = 'Like what you see? Visit the ' +\n",
              "            '<a target=\"_blank\" href=https://colab.research.google.com/notebooks/data_table.ipynb>data table notebook</a>'\n",
              "            + ' to learn more about interactive tables.';\n",
              "          element.innerHTML = '';\n",
              "          dataTable['output_type'] = 'display_data';\n",
              "          await google.colab.output.renderOutput(dataTable, element);\n",
              "          const docLink = document.createElement('div');\n",
              "          docLink.innerHTML = docLinkHtml;\n",
              "          element.appendChild(docLink);\n",
              "        }\n",
              "      </script>\n",
              "    </div>\n",
              "  </div>\n",
              "  "
            ]
          },
          "metadata": {},
          "execution_count": 30
        }
      ]
    },
    {
      "cell_type": "markdown",
      "source": [
        "#### 6.1.4) Minimum, Maximum and Average Metrics."
      ],
      "metadata": {
        "id": "k2AjPQsW4BJr"
      }
    },
    {
      "cell_type": "markdown",
      "source": [
        "Here we calculate the minimum, average and maximum values for the column `vistor_count` from the `visitation` table. "
      ],
      "metadata": {
        "id": "g0rGHQaA00aj"
      }
    },
    {
      "cell_type": "code",
      "source": [
        "# Connect to the table in the database\n",
        "connection = psycopg2.connect(user = 'postgres', password = 'postgres', host = 'localhost', database = 'tfio_demo')\n",
        "cursor = connection.cursor()\n",
        "\n",
        "# Create SQL query\n",
        "cursor.execute(\"SELECT MIN(visitation.visitor_count), AVG(visitation.visitor_count), MAX(visitation.visitor_count) \\\n",
        "                FROM visitation;\")\n",
        "table_contacts = cursor.fetchall()\n",
        "\n",
        "# Turn the results of the query into a dataframe for visualization of the results\n",
        "pd.DataFrame((table_contacts) , columns=[[desc[0] for desc in cursor.description]]).head(2)"
      ],
      "metadata": {
        "colab": {
          "base_uri": "https://localhost:8080/",
          "height": 81
        },
        "id": "w5GAQiJP4FtK",
        "outputId": "39a40cde-7062-45dd-8ae0-9671475b71cb"
      },
      "execution_count": 31,
      "outputs": [
        {
          "output_type": "execute_result",
          "data": {
            "text/plain": [
              "    min                  avg     max\n",
              "0  1409  214332.597222222222  398583"
            ],
            "text/html": [
              "\n",
              "  <div id=\"df-37a27066-f652-4b8d-9fa2-705137b0f4bd\">\n",
              "    <div class=\"colab-df-container\">\n",
              "      <div>\n",
              "<style scoped>\n",
              "    .dataframe tbody tr th:only-of-type {\n",
              "        vertical-align: middle;\n",
              "    }\n",
              "\n",
              "    .dataframe tbody tr th {\n",
              "        vertical-align: top;\n",
              "    }\n",
              "\n",
              "    .dataframe thead tr th {\n",
              "        text-align: left;\n",
              "    }\n",
              "</style>\n",
              "<table border=\"1\" class=\"dataframe\">\n",
              "  <thead>\n",
              "    <tr>\n",
              "      <th></th>\n",
              "      <th>min</th>\n",
              "      <th>avg</th>\n",
              "      <th>max</th>\n",
              "    </tr>\n",
              "  </thead>\n",
              "  <tbody>\n",
              "    <tr>\n",
              "      <th>0</th>\n",
              "      <td>1409</td>\n",
              "      <td>214332.597222222222</td>\n",
              "      <td>398583</td>\n",
              "    </tr>\n",
              "  </tbody>\n",
              "</table>\n",
              "</div>\n",
              "      <button class=\"colab-df-convert\" onclick=\"convertToInteractive('df-37a27066-f652-4b8d-9fa2-705137b0f4bd')\"\n",
              "              title=\"Convert this dataframe to an interactive table.\"\n",
              "              style=\"display:none;\">\n",
              "        \n",
              "  <svg xmlns=\"http://www.w3.org/2000/svg\" height=\"24px\"viewBox=\"0 0 24 24\"\n",
              "       width=\"24px\">\n",
              "    <path d=\"M0 0h24v24H0V0z\" fill=\"none\"/>\n",
              "    <path d=\"M18.56 5.44l.94 2.06.94-2.06 2.06-.94-2.06-.94-.94-2.06-.94 2.06-2.06.94zm-11 1L8.5 8.5l.94-2.06 2.06-.94-2.06-.94L8.5 2.5l-.94 2.06-2.06.94zm10 10l.94 2.06.94-2.06 2.06-.94-2.06-.94-.94-2.06-.94 2.06-2.06.94z\"/><path d=\"M17.41 7.96l-1.37-1.37c-.4-.4-.92-.59-1.43-.59-.52 0-1.04.2-1.43.59L10.3 9.45l-7.72 7.72c-.78.78-.78 2.05 0 2.83L4 21.41c.39.39.9.59 1.41.59.51 0 1.02-.2 1.41-.59l7.78-7.78 2.81-2.81c.8-.78.8-2.07 0-2.86zM5.41 20L4 18.59l7.72-7.72 1.47 1.35L5.41 20z\"/>\n",
              "  </svg>\n",
              "      </button>\n",
              "      \n",
              "  <style>\n",
              "    .colab-df-container {\n",
              "      display:flex;\n",
              "      flex-wrap:wrap;\n",
              "      gap: 12px;\n",
              "    }\n",
              "\n",
              "    .colab-df-convert {\n",
              "      background-color: #E8F0FE;\n",
              "      border: none;\n",
              "      border-radius: 50%;\n",
              "      cursor: pointer;\n",
              "      display: none;\n",
              "      fill: #1967D2;\n",
              "      height: 32px;\n",
              "      padding: 0 0 0 0;\n",
              "      width: 32px;\n",
              "    }\n",
              "\n",
              "    .colab-df-convert:hover {\n",
              "      background-color: #E2EBFA;\n",
              "      box-shadow: 0px 1px 2px rgba(60, 64, 67, 0.3), 0px 1px 3px 1px rgba(60, 64, 67, 0.15);\n",
              "      fill: #174EA6;\n",
              "    }\n",
              "\n",
              "    [theme=dark] .colab-df-convert {\n",
              "      background-color: #3B4455;\n",
              "      fill: #D2E3FC;\n",
              "    }\n",
              "\n",
              "    [theme=dark] .colab-df-convert:hover {\n",
              "      background-color: #434B5C;\n",
              "      box-shadow: 0px 1px 3px 1px rgba(0, 0, 0, 0.15);\n",
              "      filter: drop-shadow(0px 1px 2px rgba(0, 0, 0, 0.3));\n",
              "      fill: #FFFFFF;\n",
              "    }\n",
              "  </style>\n",
              "\n",
              "      <script>\n",
              "        const buttonEl =\n",
              "          document.querySelector('#df-37a27066-f652-4b8d-9fa2-705137b0f4bd button.colab-df-convert');\n",
              "        buttonEl.style.display =\n",
              "          google.colab.kernel.accessAllowed ? 'block' : 'none';\n",
              "\n",
              "        async function convertToInteractive(key) {\n",
              "          const element = document.querySelector('#df-37a27066-f652-4b8d-9fa2-705137b0f4bd');\n",
              "          const dataTable =\n",
              "            await google.colab.kernel.invokeFunction('convertToInteractive',\n",
              "                                                     [key], {});\n",
              "          if (!dataTable) return;\n",
              "\n",
              "          const docLinkHtml = 'Like what you see? Visit the ' +\n",
              "            '<a target=\"_blank\" href=https://colab.research.google.com/notebooks/data_table.ipynb>data table notebook</a>'\n",
              "            + ' to learn more about interactive tables.';\n",
              "          element.innerHTML = '';\n",
              "          dataTable['output_type'] = 'display_data';\n",
              "          await google.colab.output.renderOutput(dataTable, element);\n",
              "          const docLink = document.createElement('div');\n",
              "          docLink.innerHTML = docLinkHtml;\n",
              "          element.appendChild(docLink);\n",
              "        }\n",
              "      </script>\n",
              "    </div>\n",
              "  </div>\n",
              "  "
            ]
          },
          "metadata": {},
          "execution_count": 31
        }
      ]
    },
    {
      "cell_type": "markdown",
      "source": [
        "#### 6.1.5) WHERE and ORDER BY command"
      ],
      "metadata": {
        "id": "Y8vdQG6z4_EE"
      }
    },
    {
      "cell_type": "markdown",
      "source": [
        "Here we select the columns `year` and `visitor_count` from the `visitation` table. The selection is limited to `visitor_count` values equal or greater than 300000. The results are organized by `year` in a descending order. "
      ],
      "metadata": {
        "id": "avU8VAuD0UaU"
      }
    },
    {
      "cell_type": "code",
      "source": [
        "# Connect to the table in the database\n",
        "connection = psycopg2.connect(user = 'postgres', password = 'postgres', host = 'localhost', database = 'tfio_demo')\n",
        "cursor = connection.cursor()\n",
        "\n",
        "# Create SQL query\n",
        "cursor.execute(\"SELECT visitation.year, visitation.visitor_count \\\n",
        "                FROM visitation WHERE visitation.visitor_count >= 300000 \\\n",
        "                ORDER BY visitation.year \\\n",
        "                DESC;\")\n",
        "table_contacts = cursor.fetchall()\n",
        "\n",
        "# Turn the results of the query into a dataframe for visualization of the results\n",
        "pd.DataFrame((table_contacts) , columns=[[desc[0] for desc in cursor.description]]).head()"
      ],
      "metadata": {
        "colab": {
          "base_uri": "https://localhost:8080/",
          "height": 206
        },
        "id": "iRZ8mZ5M5Fh8",
        "outputId": "5969c55f-914e-44e7-fec2-13507706cecd"
      },
      "execution_count": 32,
      "outputs": [
        {
          "output_type": "execute_result",
          "data": {
            "text/plain": [
              "   year visitor_count\n",
              "0  2015        381747\n",
              "1  2014        314102\n",
              "2  2013        316953\n",
              "3  2011        361862\n",
              "4  2010        372330"
            ],
            "text/html": [
              "\n",
              "  <div id=\"df-6994d5c8-7fbf-4a46-98a5-bf31ca5ec508\">\n",
              "    <div class=\"colab-df-container\">\n",
              "      <div>\n",
              "<style scoped>\n",
              "    .dataframe tbody tr th:only-of-type {\n",
              "        vertical-align: middle;\n",
              "    }\n",
              "\n",
              "    .dataframe tbody tr th {\n",
              "        vertical-align: top;\n",
              "    }\n",
              "\n",
              "    .dataframe thead tr th {\n",
              "        text-align: left;\n",
              "    }\n",
              "</style>\n",
              "<table border=\"1\" class=\"dataframe\">\n",
              "  <thead>\n",
              "    <tr>\n",
              "      <th></th>\n",
              "      <th>year</th>\n",
              "      <th>visitor_count</th>\n",
              "    </tr>\n",
              "  </thead>\n",
              "  <tbody>\n",
              "    <tr>\n",
              "      <th>0</th>\n",
              "      <td>2015</td>\n",
              "      <td>381747</td>\n",
              "    </tr>\n",
              "    <tr>\n",
              "      <th>1</th>\n",
              "      <td>2014</td>\n",
              "      <td>314102</td>\n",
              "    </tr>\n",
              "    <tr>\n",
              "      <th>2</th>\n",
              "      <td>2013</td>\n",
              "      <td>316953</td>\n",
              "    </tr>\n",
              "    <tr>\n",
              "      <th>3</th>\n",
              "      <td>2011</td>\n",
              "      <td>361862</td>\n",
              "    </tr>\n",
              "    <tr>\n",
              "      <th>4</th>\n",
              "      <td>2010</td>\n",
              "      <td>372330</td>\n",
              "    </tr>\n",
              "  </tbody>\n",
              "</table>\n",
              "</div>\n",
              "      <button class=\"colab-df-convert\" onclick=\"convertToInteractive('df-6994d5c8-7fbf-4a46-98a5-bf31ca5ec508')\"\n",
              "              title=\"Convert this dataframe to an interactive table.\"\n",
              "              style=\"display:none;\">\n",
              "        \n",
              "  <svg xmlns=\"http://www.w3.org/2000/svg\" height=\"24px\"viewBox=\"0 0 24 24\"\n",
              "       width=\"24px\">\n",
              "    <path d=\"M0 0h24v24H0V0z\" fill=\"none\"/>\n",
              "    <path d=\"M18.56 5.44l.94 2.06.94-2.06 2.06-.94-2.06-.94-.94-2.06-.94 2.06-2.06.94zm-11 1L8.5 8.5l.94-2.06 2.06-.94-2.06-.94L8.5 2.5l-.94 2.06-2.06.94zm10 10l.94 2.06.94-2.06 2.06-.94-2.06-.94-.94-2.06-.94 2.06-2.06.94z\"/><path d=\"M17.41 7.96l-1.37-1.37c-.4-.4-.92-.59-1.43-.59-.52 0-1.04.2-1.43.59L10.3 9.45l-7.72 7.72c-.78.78-.78 2.05 0 2.83L4 21.41c.39.39.9.59 1.41.59.51 0 1.02-.2 1.41-.59l7.78-7.78 2.81-2.81c.8-.78.8-2.07 0-2.86zM5.41 20L4 18.59l7.72-7.72 1.47 1.35L5.41 20z\"/>\n",
              "  </svg>\n",
              "      </button>\n",
              "      \n",
              "  <style>\n",
              "    .colab-df-container {\n",
              "      display:flex;\n",
              "      flex-wrap:wrap;\n",
              "      gap: 12px;\n",
              "    }\n",
              "\n",
              "    .colab-df-convert {\n",
              "      background-color: #E8F0FE;\n",
              "      border: none;\n",
              "      border-radius: 50%;\n",
              "      cursor: pointer;\n",
              "      display: none;\n",
              "      fill: #1967D2;\n",
              "      height: 32px;\n",
              "      padding: 0 0 0 0;\n",
              "      width: 32px;\n",
              "    }\n",
              "\n",
              "    .colab-df-convert:hover {\n",
              "      background-color: #E2EBFA;\n",
              "      box-shadow: 0px 1px 2px rgba(60, 64, 67, 0.3), 0px 1px 3px 1px rgba(60, 64, 67, 0.15);\n",
              "      fill: #174EA6;\n",
              "    }\n",
              "\n",
              "    [theme=dark] .colab-df-convert {\n",
              "      background-color: #3B4455;\n",
              "      fill: #D2E3FC;\n",
              "    }\n",
              "\n",
              "    [theme=dark] .colab-df-convert:hover {\n",
              "      background-color: #434B5C;\n",
              "      box-shadow: 0px 1px 3px 1px rgba(0, 0, 0, 0.15);\n",
              "      filter: drop-shadow(0px 1px 2px rgba(0, 0, 0, 0.3));\n",
              "      fill: #FFFFFF;\n",
              "    }\n",
              "  </style>\n",
              "\n",
              "      <script>\n",
              "        const buttonEl =\n",
              "          document.querySelector('#df-6994d5c8-7fbf-4a46-98a5-bf31ca5ec508 button.colab-df-convert');\n",
              "        buttonEl.style.display =\n",
              "          google.colab.kernel.accessAllowed ? 'block' : 'none';\n",
              "\n",
              "        async function convertToInteractive(key) {\n",
              "          const element = document.querySelector('#df-6994d5c8-7fbf-4a46-98a5-bf31ca5ec508');\n",
              "          const dataTable =\n",
              "            await google.colab.kernel.invokeFunction('convertToInteractive',\n",
              "                                                     [key], {});\n",
              "          if (!dataTable) return;\n",
              "\n",
              "          const docLinkHtml = 'Like what you see? Visit the ' +\n",
              "            '<a target=\"_blank\" href=https://colab.research.google.com/notebooks/data_table.ipynb>data table notebook</a>'\n",
              "            + ' to learn more about interactive tables.';\n",
              "          element.innerHTML = '';\n",
              "          dataTable['output_type'] = 'display_data';\n",
              "          await google.colab.output.renderOutput(dataTable, element);\n",
              "          const docLink = document.createElement('div');\n",
              "          docLink.innerHTML = docLinkHtml;\n",
              "          element.appendChild(docLink);\n",
              "        }\n",
              "      </script>\n",
              "    </div>\n",
              "  </div>\n",
              "  "
            ]
          },
          "metadata": {},
          "execution_count": 32
        }
      ]
    },
    {
      "cell_type": "markdown",
      "source": [
        "#### 6.1.6) Summary"
      ],
      "metadata": {
        "id": "9JzYM16RwZcZ"
      }
    },
    {
      "cell_type": "markdown",
      "source": [
        "The following summary is provided in the second article that was referenced in part 1:\n",
        "- `SELECT` and `FROM` are the most essential parts of every query.\n",
        "- Selected data may request all `(*)`, specific columns or calculated values.\n",
        "- Formal referencing of data includes the sourcing table (table.data).\n",
        "- `WHERE` is a valuable tool for filtering data for the desired output.\n",
        "- `ORDER BY` sorts the query results, ascending `(ASC)` is the default."
      ],
      "metadata": {
        "id": "DsqeqjOowcsg"
      }
    },
    {
      "cell_type": "markdown",
      "source": [
        "### 6.2) FILTER & GROUP commands"
      ],
      "metadata": {
        "id": "zyfGRDgW626b"
      }
    },
    {
      "cell_type": "markdown",
      "source": [
        "Building on the basics of selecting desired data, add criteria to further refine the information retrieved for your report using conditional operators. These include command words such as `AND`, `OR`, `NOT`, `IN` and `BETWEEN`. They are added to the `SQL` query within the components of a `WHERE` clause, and are placed after the `SELECT` and `FROM` portions of the query. This structure will look like:\n",
        "\n",
        " > **SELECT** *(desired data here)* <br>\n",
        " > **FROM** *(table name here)* <br>\n",
        " > **WHERE** *(filtering criteria)*"
      ],
      "metadata": {
        "id": "zc_4v_Xhx8j4"
      }
    },
    {
      "cell_type": "markdown",
      "source": [
        "#### 6.2.1) LIMIT command"
      ],
      "metadata": {
        "id": "TVlez5SlsHfZ"
      }
    },
    {
      "cell_type": "markdown",
      "source": [
        "Here we select the columns `location`, `number_of_households_in_1000` and `number_of_pet_households_in_1000` from the `animals` table. The selection is  are organized by `number_of_pet_households_in_1000` in a descending order. The display is limited to the 10 first rows. "
      ],
      "metadata": {
        "id": "dr0tO4lN1yDo"
      }
    },
    {
      "cell_type": "code",
      "source": [
        "# Connect to the table in the database\n",
        "connection = psycopg2.connect(user = 'postgres', password = 'postgres', host = 'localhost', database = 'tfio_demo')\n",
        "cursor = connection.cursor()\n",
        "\n",
        "# Create SQL query\n",
        "cursor.execute(\"SELECT animals.location, animals.number_of_households_in_1000, animals.number_of_pet_households_in_1000 \\\n",
        "                FROM animals \\\n",
        "                ORDER BY animals.number_of_pet_households_in_1000 \\\n",
        "                DESC \\\n",
        "                LIMIT 10;\")\n",
        "table_contacts = cursor.fetchall()\n",
        "\n",
        "# Turn the results of the query into a dataframe for visualization of the results\n",
        "pd.DataFrame((table_contacts) , columns=[[desc[0] for desc in cursor.description]])"
      ],
      "metadata": {
        "colab": {
          "base_uri": "https://localhost:8080/",
          "height": 363
        },
        "id": "Y-1RMnj171-S",
        "outputId": "3428cbd7-2e0c-4aae-9652-208b2af937da"
      },
      "execution_count": 33,
      "outputs": [
        {
          "output_type": "execute_result",
          "data": {
            "text/plain": [
              "         location number_of_households_in_1000  \\\n",
              "0      California                        12974   \n",
              "1           Texas                         9002   \n",
              "2         Florida                         7609   \n",
              "3        New York                         7512   \n",
              "4    Pennsylvania                         5172   \n",
              "5            Ohio                         4661   \n",
              "6        Illinois                         5026   \n",
              "7        Michigan                         3804   \n",
              "8         Georgia                         3798   \n",
              "9  North Carolina                         3701   \n",
              "\n",
              "  number_of_pet_households_in_1000  \n",
              "0                             6865  \n",
              "1                             5265  \n",
              "2                             4138  \n",
              "3                             3802  \n",
              "4                             2942  \n",
              "5                             2677  \n",
              "6                             2602  \n",
              "7                             2108  \n",
              "8                             2093  \n",
              "9                             2089  "
            ],
            "text/html": [
              "\n",
              "  <div id=\"df-42638bca-1c95-4c9c-beb6-7b9e0ff559d7\">\n",
              "    <div class=\"colab-df-container\">\n",
              "      <div>\n",
              "<style scoped>\n",
              "    .dataframe tbody tr th:only-of-type {\n",
              "        vertical-align: middle;\n",
              "    }\n",
              "\n",
              "    .dataframe tbody tr th {\n",
              "        vertical-align: top;\n",
              "    }\n",
              "\n",
              "    .dataframe thead tr th {\n",
              "        text-align: left;\n",
              "    }\n",
              "</style>\n",
              "<table border=\"1\" class=\"dataframe\">\n",
              "  <thead>\n",
              "    <tr>\n",
              "      <th></th>\n",
              "      <th>location</th>\n",
              "      <th>number_of_households_in_1000</th>\n",
              "      <th>number_of_pet_households_in_1000</th>\n",
              "    </tr>\n",
              "  </thead>\n",
              "  <tbody>\n",
              "    <tr>\n",
              "      <th>0</th>\n",
              "      <td>California</td>\n",
              "      <td>12974</td>\n",
              "      <td>6865</td>\n",
              "    </tr>\n",
              "    <tr>\n",
              "      <th>1</th>\n",
              "      <td>Texas</td>\n",
              "      <td>9002</td>\n",
              "      <td>5265</td>\n",
              "    </tr>\n",
              "    <tr>\n",
              "      <th>2</th>\n",
              "      <td>Florida</td>\n",
              "      <td>7609</td>\n",
              "      <td>4138</td>\n",
              "    </tr>\n",
              "    <tr>\n",
              "      <th>3</th>\n",
              "      <td>New York</td>\n",
              "      <td>7512</td>\n",
              "      <td>3802</td>\n",
              "    </tr>\n",
              "    <tr>\n",
              "      <th>4</th>\n",
              "      <td>Pennsylvania</td>\n",
              "      <td>5172</td>\n",
              "      <td>2942</td>\n",
              "    </tr>\n",
              "    <tr>\n",
              "      <th>5</th>\n",
              "      <td>Ohio</td>\n",
              "      <td>4661</td>\n",
              "      <td>2677</td>\n",
              "    </tr>\n",
              "    <tr>\n",
              "      <th>6</th>\n",
              "      <td>Illinois</td>\n",
              "      <td>5026</td>\n",
              "      <td>2602</td>\n",
              "    </tr>\n",
              "    <tr>\n",
              "      <th>7</th>\n",
              "      <td>Michigan</td>\n",
              "      <td>3804</td>\n",
              "      <td>2108</td>\n",
              "    </tr>\n",
              "    <tr>\n",
              "      <th>8</th>\n",
              "      <td>Georgia</td>\n",
              "      <td>3798</td>\n",
              "      <td>2093</td>\n",
              "    </tr>\n",
              "    <tr>\n",
              "      <th>9</th>\n",
              "      <td>North Carolina</td>\n",
              "      <td>3701</td>\n",
              "      <td>2089</td>\n",
              "    </tr>\n",
              "  </tbody>\n",
              "</table>\n",
              "</div>\n",
              "      <button class=\"colab-df-convert\" onclick=\"convertToInteractive('df-42638bca-1c95-4c9c-beb6-7b9e0ff559d7')\"\n",
              "              title=\"Convert this dataframe to an interactive table.\"\n",
              "              style=\"display:none;\">\n",
              "        \n",
              "  <svg xmlns=\"http://www.w3.org/2000/svg\" height=\"24px\"viewBox=\"0 0 24 24\"\n",
              "       width=\"24px\">\n",
              "    <path d=\"M0 0h24v24H0V0z\" fill=\"none\"/>\n",
              "    <path d=\"M18.56 5.44l.94 2.06.94-2.06 2.06-.94-2.06-.94-.94-2.06-.94 2.06-2.06.94zm-11 1L8.5 8.5l.94-2.06 2.06-.94-2.06-.94L8.5 2.5l-.94 2.06-2.06.94zm10 10l.94 2.06.94-2.06 2.06-.94-2.06-.94-.94-2.06-.94 2.06-2.06.94z\"/><path d=\"M17.41 7.96l-1.37-1.37c-.4-.4-.92-.59-1.43-.59-.52 0-1.04.2-1.43.59L10.3 9.45l-7.72 7.72c-.78.78-.78 2.05 0 2.83L4 21.41c.39.39.9.59 1.41.59.51 0 1.02-.2 1.41-.59l7.78-7.78 2.81-2.81c.8-.78.8-2.07 0-2.86zM5.41 20L4 18.59l7.72-7.72 1.47 1.35L5.41 20z\"/>\n",
              "  </svg>\n",
              "      </button>\n",
              "      \n",
              "  <style>\n",
              "    .colab-df-container {\n",
              "      display:flex;\n",
              "      flex-wrap:wrap;\n",
              "      gap: 12px;\n",
              "    }\n",
              "\n",
              "    .colab-df-convert {\n",
              "      background-color: #E8F0FE;\n",
              "      border: none;\n",
              "      border-radius: 50%;\n",
              "      cursor: pointer;\n",
              "      display: none;\n",
              "      fill: #1967D2;\n",
              "      height: 32px;\n",
              "      padding: 0 0 0 0;\n",
              "      width: 32px;\n",
              "    }\n",
              "\n",
              "    .colab-df-convert:hover {\n",
              "      background-color: #E2EBFA;\n",
              "      box-shadow: 0px 1px 2px rgba(60, 64, 67, 0.3), 0px 1px 3px 1px rgba(60, 64, 67, 0.15);\n",
              "      fill: #174EA6;\n",
              "    }\n",
              "\n",
              "    [theme=dark] .colab-df-convert {\n",
              "      background-color: #3B4455;\n",
              "      fill: #D2E3FC;\n",
              "    }\n",
              "\n",
              "    [theme=dark] .colab-df-convert:hover {\n",
              "      background-color: #434B5C;\n",
              "      box-shadow: 0px 1px 3px 1px rgba(0, 0, 0, 0.15);\n",
              "      filter: drop-shadow(0px 1px 2px rgba(0, 0, 0, 0.3));\n",
              "      fill: #FFFFFF;\n",
              "    }\n",
              "  </style>\n",
              "\n",
              "      <script>\n",
              "        const buttonEl =\n",
              "          document.querySelector('#df-42638bca-1c95-4c9c-beb6-7b9e0ff559d7 button.colab-df-convert');\n",
              "        buttonEl.style.display =\n",
              "          google.colab.kernel.accessAllowed ? 'block' : 'none';\n",
              "\n",
              "        async function convertToInteractive(key) {\n",
              "          const element = document.querySelector('#df-42638bca-1c95-4c9c-beb6-7b9e0ff559d7');\n",
              "          const dataTable =\n",
              "            await google.colab.kernel.invokeFunction('convertToInteractive',\n",
              "                                                     [key], {});\n",
              "          if (!dataTable) return;\n",
              "\n",
              "          const docLinkHtml = 'Like what you see? Visit the ' +\n",
              "            '<a target=\"_blank\" href=https://colab.research.google.com/notebooks/data_table.ipynb>data table notebook</a>'\n",
              "            + ' to learn more about interactive tables.';\n",
              "          element.innerHTML = '';\n",
              "          dataTable['output_type'] = 'display_data';\n",
              "          await google.colab.output.renderOutput(dataTable, element);\n",
              "          const docLink = document.createElement('div');\n",
              "          docLink.innerHTML = docLinkHtml;\n",
              "          element.appendChild(docLink);\n",
              "        }\n",
              "      </script>\n",
              "    </div>\n",
              "  </div>\n",
              "  "
            ]
          },
          "metadata": {},
          "execution_count": 33
        }
      ]
    },
    {
      "cell_type": "markdown",
      "source": [
        "#### 6.2.2) Multiple WHERE commands"
      ],
      "metadata": {
        "id": "o_0o7mqfskpc"
      }
    },
    {
      "cell_type": "markdown",
      "source": [
        "Here we select the columns `location`, `mean_number_of_dogs_per_household` and `mean_number_of_cats` from the `animals` table. The selection considers `mean_number_of_dogs_per_household` and `mean_number_of_cats` equal or greater than 2. The results are organized by `location`. The display is limited to the 3 first rows. "
      ],
      "metadata": {
        "id": "FCoNkCSq2Mzp"
      }
    },
    {
      "cell_type": "code",
      "source": [
        "# Connect to the table in the database\n",
        "connection = psycopg2.connect(user = 'postgres', password = 'postgres', host = 'localhost', database = 'tfio_demo')\n",
        "cursor = connection.cursor()\n",
        "\n",
        "# Create SQL query\n",
        "cursor.execute(\"SELECT animals.location, animals.mean_number_of_dogs_per_household, animals.mean_number_of_cats \\\n",
        "                FROM animals \\\n",
        "                WHERE animals.mean_number_of_dogs_per_household >= 2 AND animals.mean_number_of_cats >= 2 \\\n",
        "                ORDER BY animals.location \\\n",
        "                LIMIT 3;\")\n",
        "table_contacts = cursor.fetchall()\n",
        "\n",
        "# Turn the results of the query into a dataframe for visualization of the results\n",
        "pd.DataFrame((table_contacts) , columns=[[desc[0] for desc in cursor.description]])"
      ],
      "metadata": {
        "colab": {
          "base_uri": "https://localhost:8080/",
          "height": 143
        },
        "id": "W_IGgG6etI_p",
        "outputId": "27f87e4a-700d-4c10-a2f7-db2f12af6194"
      },
      "execution_count": 34,
      "outputs": [
        {
          "output_type": "execute_result",
          "data": {
            "text/plain": [
              "     location mean_number_of_dogs_per_household mean_number_of_cats\n",
              "0    Arkansas                             2.000               2.300\n",
              "1  New Mexico                             2.000               2.200\n",
              "2    Oklahoma                             2.100               2.200"
            ],
            "text/html": [
              "\n",
              "  <div id=\"df-fa8cf7e4-f7e3-4f00-b5b3-64b58a672245\">\n",
              "    <div class=\"colab-df-container\">\n",
              "      <div>\n",
              "<style scoped>\n",
              "    .dataframe tbody tr th:only-of-type {\n",
              "        vertical-align: middle;\n",
              "    }\n",
              "\n",
              "    .dataframe tbody tr th {\n",
              "        vertical-align: top;\n",
              "    }\n",
              "\n",
              "    .dataframe thead tr th {\n",
              "        text-align: left;\n",
              "    }\n",
              "</style>\n",
              "<table border=\"1\" class=\"dataframe\">\n",
              "  <thead>\n",
              "    <tr>\n",
              "      <th></th>\n",
              "      <th>location</th>\n",
              "      <th>mean_number_of_dogs_per_household</th>\n",
              "      <th>mean_number_of_cats</th>\n",
              "    </tr>\n",
              "  </thead>\n",
              "  <tbody>\n",
              "    <tr>\n",
              "      <th>0</th>\n",
              "      <td>Arkansas</td>\n",
              "      <td>2.000</td>\n",
              "      <td>2.300</td>\n",
              "    </tr>\n",
              "    <tr>\n",
              "      <th>1</th>\n",
              "      <td>New Mexico</td>\n",
              "      <td>2.000</td>\n",
              "      <td>2.200</td>\n",
              "    </tr>\n",
              "    <tr>\n",
              "      <th>2</th>\n",
              "      <td>Oklahoma</td>\n",
              "      <td>2.100</td>\n",
              "      <td>2.200</td>\n",
              "    </tr>\n",
              "  </tbody>\n",
              "</table>\n",
              "</div>\n",
              "      <button class=\"colab-df-convert\" onclick=\"convertToInteractive('df-fa8cf7e4-f7e3-4f00-b5b3-64b58a672245')\"\n",
              "              title=\"Convert this dataframe to an interactive table.\"\n",
              "              style=\"display:none;\">\n",
              "        \n",
              "  <svg xmlns=\"http://www.w3.org/2000/svg\" height=\"24px\"viewBox=\"0 0 24 24\"\n",
              "       width=\"24px\">\n",
              "    <path d=\"M0 0h24v24H0V0z\" fill=\"none\"/>\n",
              "    <path d=\"M18.56 5.44l.94 2.06.94-2.06 2.06-.94-2.06-.94-.94-2.06-.94 2.06-2.06.94zm-11 1L8.5 8.5l.94-2.06 2.06-.94-2.06-.94L8.5 2.5l-.94 2.06-2.06.94zm10 10l.94 2.06.94-2.06 2.06-.94-2.06-.94-.94-2.06-.94 2.06-2.06.94z\"/><path d=\"M17.41 7.96l-1.37-1.37c-.4-.4-.92-.59-1.43-.59-.52 0-1.04.2-1.43.59L10.3 9.45l-7.72 7.72c-.78.78-.78 2.05 0 2.83L4 21.41c.39.39.9.59 1.41.59.51 0 1.02-.2 1.41-.59l7.78-7.78 2.81-2.81c.8-.78.8-2.07 0-2.86zM5.41 20L4 18.59l7.72-7.72 1.47 1.35L5.41 20z\"/>\n",
              "  </svg>\n",
              "      </button>\n",
              "      \n",
              "  <style>\n",
              "    .colab-df-container {\n",
              "      display:flex;\n",
              "      flex-wrap:wrap;\n",
              "      gap: 12px;\n",
              "    }\n",
              "\n",
              "    .colab-df-convert {\n",
              "      background-color: #E8F0FE;\n",
              "      border: none;\n",
              "      border-radius: 50%;\n",
              "      cursor: pointer;\n",
              "      display: none;\n",
              "      fill: #1967D2;\n",
              "      height: 32px;\n",
              "      padding: 0 0 0 0;\n",
              "      width: 32px;\n",
              "    }\n",
              "\n",
              "    .colab-df-convert:hover {\n",
              "      background-color: #E2EBFA;\n",
              "      box-shadow: 0px 1px 2px rgba(60, 64, 67, 0.3), 0px 1px 3px 1px rgba(60, 64, 67, 0.15);\n",
              "      fill: #174EA6;\n",
              "    }\n",
              "\n",
              "    [theme=dark] .colab-df-convert {\n",
              "      background-color: #3B4455;\n",
              "      fill: #D2E3FC;\n",
              "    }\n",
              "\n",
              "    [theme=dark] .colab-df-convert:hover {\n",
              "      background-color: #434B5C;\n",
              "      box-shadow: 0px 1px 3px 1px rgba(0, 0, 0, 0.15);\n",
              "      filter: drop-shadow(0px 1px 2px rgba(0, 0, 0, 0.3));\n",
              "      fill: #FFFFFF;\n",
              "    }\n",
              "  </style>\n",
              "\n",
              "      <script>\n",
              "        const buttonEl =\n",
              "          document.querySelector('#df-fa8cf7e4-f7e3-4f00-b5b3-64b58a672245 button.colab-df-convert');\n",
              "        buttonEl.style.display =\n",
              "          google.colab.kernel.accessAllowed ? 'block' : 'none';\n",
              "\n",
              "        async function convertToInteractive(key) {\n",
              "          const element = document.querySelector('#df-fa8cf7e4-f7e3-4f00-b5b3-64b58a672245');\n",
              "          const dataTable =\n",
              "            await google.colab.kernel.invokeFunction('convertToInteractive',\n",
              "                                                     [key], {});\n",
              "          if (!dataTable) return;\n",
              "\n",
              "          const docLinkHtml = 'Like what you see? Visit the ' +\n",
              "            '<a target=\"_blank\" href=https://colab.research.google.com/notebooks/data_table.ipynb>data table notebook</a>'\n",
              "            + ' to learn more about interactive tables.';\n",
              "          element.innerHTML = '';\n",
              "          dataTable['output_type'] = 'display_data';\n",
              "          await google.colab.output.renderOutput(dataTable, element);\n",
              "          const docLink = document.createElement('div');\n",
              "          docLink.innerHTML = docLinkHtml;\n",
              "          element.appendChild(docLink);\n",
              "        }\n",
              "      </script>\n",
              "    </div>\n",
              "  </div>\n",
              "  "
            ]
          },
          "metadata": {},
          "execution_count": 34
        }
      ]
    },
    {
      "cell_type": "markdown",
      "source": [
        "#### 6.2.3) BETWEEN command"
      ],
      "metadata": {
        "id": "BAACGV9Bw-so"
      }
    },
    {
      "cell_type": "markdown",
      "source": [
        "Here we select the columns `location`, `mean_number_of_cats` and `cat_population` from the `animals` table. The selection considers `mean_number_of_cats` between 2.2 and 4. The results are organized by `cat_population`. The display is limited to the 3 first rows. "
      ],
      "metadata": {
        "id": "jVPUbbGd2z3w"
      }
    },
    {
      "cell_type": "code",
      "source": [
        "# Connect to the table in the database\n",
        "connection = psycopg2.connect(user = 'postgres', password = 'postgres', host = 'localhost', database = 'tfio_demo')\n",
        "cursor = connection.cursor()\n",
        "\n",
        "# Create SQL query\n",
        "cursor.execute(\"SELECT animals.location, animals.mean_number_of_cats, animals.cat_population \\\n",
        "                FROM animals \\\n",
        "                WHERE animals.mean_number_of_cats \\\n",
        "                BETWEEN 2.2 AND 4 \\\n",
        "                ORDER BY animals.cat_population \\\n",
        "                DESC \\\n",
        "                LIMIT 3;\")\n",
        "table_contacts = cursor.fetchall()\n",
        "\n",
        "# Turn the results of the query into a dataframe for visualization of the results\n",
        "pd.DataFrame((table_contacts) , columns=[[desc[0] for desc in cursor.description]])"
      ],
      "metadata": {
        "colab": {
          "base_uri": "https://localhost:8080/",
          "height": 143
        },
        "id": "yxTAie_PxHaR",
        "outputId": "01ee1613-4052-43b1-b527-699196b3ee55"
      },
      "execution_count": 35,
      "outputs": [
        {
          "output_type": "execute_result",
          "data": {
            "text/plain": [
              "  location mean_number_of_cats cat_population\n",
              "0    Texas               2.200           5565\n",
              "1     Ohio               2.400           3786\n",
              "2  Indiana               2.200           1912"
            ],
            "text/html": [
              "\n",
              "  <div id=\"df-3ffaebef-2b57-462d-8f4b-6ba8db225ee2\">\n",
              "    <div class=\"colab-df-container\">\n",
              "      <div>\n",
              "<style scoped>\n",
              "    .dataframe tbody tr th:only-of-type {\n",
              "        vertical-align: middle;\n",
              "    }\n",
              "\n",
              "    .dataframe tbody tr th {\n",
              "        vertical-align: top;\n",
              "    }\n",
              "\n",
              "    .dataframe thead tr th {\n",
              "        text-align: left;\n",
              "    }\n",
              "</style>\n",
              "<table border=\"1\" class=\"dataframe\">\n",
              "  <thead>\n",
              "    <tr>\n",
              "      <th></th>\n",
              "      <th>location</th>\n",
              "      <th>mean_number_of_cats</th>\n",
              "      <th>cat_population</th>\n",
              "    </tr>\n",
              "  </thead>\n",
              "  <tbody>\n",
              "    <tr>\n",
              "      <th>0</th>\n",
              "      <td>Texas</td>\n",
              "      <td>2.200</td>\n",
              "      <td>5565</td>\n",
              "    </tr>\n",
              "    <tr>\n",
              "      <th>1</th>\n",
              "      <td>Ohio</td>\n",
              "      <td>2.400</td>\n",
              "      <td>3786</td>\n",
              "    </tr>\n",
              "    <tr>\n",
              "      <th>2</th>\n",
              "      <td>Indiana</td>\n",
              "      <td>2.200</td>\n",
              "      <td>1912</td>\n",
              "    </tr>\n",
              "  </tbody>\n",
              "</table>\n",
              "</div>\n",
              "      <button class=\"colab-df-convert\" onclick=\"convertToInteractive('df-3ffaebef-2b57-462d-8f4b-6ba8db225ee2')\"\n",
              "              title=\"Convert this dataframe to an interactive table.\"\n",
              "              style=\"display:none;\">\n",
              "        \n",
              "  <svg xmlns=\"http://www.w3.org/2000/svg\" height=\"24px\"viewBox=\"0 0 24 24\"\n",
              "       width=\"24px\">\n",
              "    <path d=\"M0 0h24v24H0V0z\" fill=\"none\"/>\n",
              "    <path d=\"M18.56 5.44l.94 2.06.94-2.06 2.06-.94-2.06-.94-.94-2.06-.94 2.06-2.06.94zm-11 1L8.5 8.5l.94-2.06 2.06-.94-2.06-.94L8.5 2.5l-.94 2.06-2.06.94zm10 10l.94 2.06.94-2.06 2.06-.94-2.06-.94-.94-2.06-.94 2.06-2.06.94z\"/><path d=\"M17.41 7.96l-1.37-1.37c-.4-.4-.92-.59-1.43-.59-.52 0-1.04.2-1.43.59L10.3 9.45l-7.72 7.72c-.78.78-.78 2.05 0 2.83L4 21.41c.39.39.9.59 1.41.59.51 0 1.02-.2 1.41-.59l7.78-7.78 2.81-2.81c.8-.78.8-2.07 0-2.86zM5.41 20L4 18.59l7.72-7.72 1.47 1.35L5.41 20z\"/>\n",
              "  </svg>\n",
              "      </button>\n",
              "      \n",
              "  <style>\n",
              "    .colab-df-container {\n",
              "      display:flex;\n",
              "      flex-wrap:wrap;\n",
              "      gap: 12px;\n",
              "    }\n",
              "\n",
              "    .colab-df-convert {\n",
              "      background-color: #E8F0FE;\n",
              "      border: none;\n",
              "      border-radius: 50%;\n",
              "      cursor: pointer;\n",
              "      display: none;\n",
              "      fill: #1967D2;\n",
              "      height: 32px;\n",
              "      padding: 0 0 0 0;\n",
              "      width: 32px;\n",
              "    }\n",
              "\n",
              "    .colab-df-convert:hover {\n",
              "      background-color: #E2EBFA;\n",
              "      box-shadow: 0px 1px 2px rgba(60, 64, 67, 0.3), 0px 1px 3px 1px rgba(60, 64, 67, 0.15);\n",
              "      fill: #174EA6;\n",
              "    }\n",
              "\n",
              "    [theme=dark] .colab-df-convert {\n",
              "      background-color: #3B4455;\n",
              "      fill: #D2E3FC;\n",
              "    }\n",
              "\n",
              "    [theme=dark] .colab-df-convert:hover {\n",
              "      background-color: #434B5C;\n",
              "      box-shadow: 0px 1px 3px 1px rgba(0, 0, 0, 0.15);\n",
              "      filter: drop-shadow(0px 1px 2px rgba(0, 0, 0, 0.3));\n",
              "      fill: #FFFFFF;\n",
              "    }\n",
              "  </style>\n",
              "\n",
              "      <script>\n",
              "        const buttonEl =\n",
              "          document.querySelector('#df-3ffaebef-2b57-462d-8f4b-6ba8db225ee2 button.colab-df-convert');\n",
              "        buttonEl.style.display =\n",
              "          google.colab.kernel.accessAllowed ? 'block' : 'none';\n",
              "\n",
              "        async function convertToInteractive(key) {\n",
              "          const element = document.querySelector('#df-3ffaebef-2b57-462d-8f4b-6ba8db225ee2');\n",
              "          const dataTable =\n",
              "            await google.colab.kernel.invokeFunction('convertToInteractive',\n",
              "                                                     [key], {});\n",
              "          if (!dataTable) return;\n",
              "\n",
              "          const docLinkHtml = 'Like what you see? Visit the ' +\n",
              "            '<a target=\"_blank\" href=https://colab.research.google.com/notebooks/data_table.ipynb>data table notebook</a>'\n",
              "            + ' to learn more about interactive tables.';\n",
              "          element.innerHTML = '';\n",
              "          dataTable['output_type'] = 'display_data';\n",
              "          await google.colab.output.renderOutput(dataTable, element);\n",
              "          const docLink = document.createElement('div');\n",
              "          docLink.innerHTML = docLinkHtml;\n",
              "          element.appendChild(docLink);\n",
              "        }\n",
              "      </script>\n",
              "    </div>\n",
              "  </div>\n",
              "  "
            ]
          },
          "metadata": {},
          "execution_count": 35
        }
      ]
    },
    {
      "cell_type": "markdown",
      "source": [
        "#### 6.2.4) AS command"
      ],
      "metadata": {
        "id": "fSDmmO5lyOhx"
      }
    },
    {
      "cell_type": "markdown",
      "source": [
        "Here we select the columns `region` together with the sums of `number_of_pet_households_in_1000`, `dog_population_in_1000`,  `cat_population` and the sum of the last two sums from the `animals` table grouped by `region`. These sum variables were named `total_pet_households`, `dog_total`, `cat_total` and `total_companion_pets`.  The results are organized by `total_pet_households` in a descending order. The display is limited to the 3 first rows. "
      ],
      "metadata": {
        "id": "zYqvA9qE38Sp"
      }
    },
    {
      "cell_type": "code",
      "source": [
        " # Connect to the table in the database\n",
        "connection = psycopg2.connect(user = 'postgres', password = 'postgres', host = 'localhost', database = 'tfio_demo')\n",
        "cursor = connection.cursor()\n",
        "\n",
        "# Create SQL query\n",
        "cursor.execute(\" SELECT animals.region, SUM(animals.number_of_pet_households_in_1000) AS total_pet_households, SUM(animals.dog_population_in_1000) AS dog_total, \\\n",
        "                 SUM(animals.cat_population) AS cat_total, (SUM(animals.dog_population_in_1000) + SUM(animals.cat_population)) AS total_companion_pets \\\n",
        "                 FROM animals \\\n",
        "                 GROUP BY animals.region \\\n",
        "                 ORDER BY total_pet_households\\\n",
        "                 DESC \\\n",
        "                 LIMIT 3;\")\n",
        "table_contacts = cursor.fetchall()\n",
        "\n",
        "# Turn the results of the query into a dataframe for visualization of the results\n",
        "pd.DataFrame((table_contacts) , columns=[[desc[0] for desc in cursor.description]])"
      ],
      "metadata": {
        "colab": {
          "base_uri": "https://localhost:8080/",
          "height": 143
        },
        "id": "wt1qxGzDyNHS",
        "outputId": "bcd69bf4-a244-4127-9ae5-fba21fee4a77"
      },
      "execution_count": 36,
      "outputs": [
        {
          "output_type": "execute_result",
          "data": {
            "text/plain": [
              "    region total_pet_households dog_total cat_total total_companion_pets\n",
              "0  Central                18438     20677     20332                41009\n",
              "1    South                16886     20253     18356                38609\n",
              "2     East                15991     13549     19256                32805"
            ],
            "text/html": [
              "\n",
              "  <div id=\"df-4c00ab7c-ca47-4993-8020-a8810316eb5c\">\n",
              "    <div class=\"colab-df-container\">\n",
              "      <div>\n",
              "<style scoped>\n",
              "    .dataframe tbody tr th:only-of-type {\n",
              "        vertical-align: middle;\n",
              "    }\n",
              "\n",
              "    .dataframe tbody tr th {\n",
              "        vertical-align: top;\n",
              "    }\n",
              "\n",
              "    .dataframe thead tr th {\n",
              "        text-align: left;\n",
              "    }\n",
              "</style>\n",
              "<table border=\"1\" class=\"dataframe\">\n",
              "  <thead>\n",
              "    <tr>\n",
              "      <th></th>\n",
              "      <th>region</th>\n",
              "      <th>total_pet_households</th>\n",
              "      <th>dog_total</th>\n",
              "      <th>cat_total</th>\n",
              "      <th>total_companion_pets</th>\n",
              "    </tr>\n",
              "  </thead>\n",
              "  <tbody>\n",
              "    <tr>\n",
              "      <th>0</th>\n",
              "      <td>Central</td>\n",
              "      <td>18438</td>\n",
              "      <td>20677</td>\n",
              "      <td>20332</td>\n",
              "      <td>41009</td>\n",
              "    </tr>\n",
              "    <tr>\n",
              "      <th>1</th>\n",
              "      <td>South</td>\n",
              "      <td>16886</td>\n",
              "      <td>20253</td>\n",
              "      <td>18356</td>\n",
              "      <td>38609</td>\n",
              "    </tr>\n",
              "    <tr>\n",
              "      <th>2</th>\n",
              "      <td>East</td>\n",
              "      <td>15991</td>\n",
              "      <td>13549</td>\n",
              "      <td>19256</td>\n",
              "      <td>32805</td>\n",
              "    </tr>\n",
              "  </tbody>\n",
              "</table>\n",
              "</div>\n",
              "      <button class=\"colab-df-convert\" onclick=\"convertToInteractive('df-4c00ab7c-ca47-4993-8020-a8810316eb5c')\"\n",
              "              title=\"Convert this dataframe to an interactive table.\"\n",
              "              style=\"display:none;\">\n",
              "        \n",
              "  <svg xmlns=\"http://www.w3.org/2000/svg\" height=\"24px\"viewBox=\"0 0 24 24\"\n",
              "       width=\"24px\">\n",
              "    <path d=\"M0 0h24v24H0V0z\" fill=\"none\"/>\n",
              "    <path d=\"M18.56 5.44l.94 2.06.94-2.06 2.06-.94-2.06-.94-.94-2.06-.94 2.06-2.06.94zm-11 1L8.5 8.5l.94-2.06 2.06-.94-2.06-.94L8.5 2.5l-.94 2.06-2.06.94zm10 10l.94 2.06.94-2.06 2.06-.94-2.06-.94-.94-2.06-.94 2.06-2.06.94z\"/><path d=\"M17.41 7.96l-1.37-1.37c-.4-.4-.92-.59-1.43-.59-.52 0-1.04.2-1.43.59L10.3 9.45l-7.72 7.72c-.78.78-.78 2.05 0 2.83L4 21.41c.39.39.9.59 1.41.59.51 0 1.02-.2 1.41-.59l7.78-7.78 2.81-2.81c.8-.78.8-2.07 0-2.86zM5.41 20L4 18.59l7.72-7.72 1.47 1.35L5.41 20z\"/>\n",
              "  </svg>\n",
              "      </button>\n",
              "      \n",
              "  <style>\n",
              "    .colab-df-container {\n",
              "      display:flex;\n",
              "      flex-wrap:wrap;\n",
              "      gap: 12px;\n",
              "    }\n",
              "\n",
              "    .colab-df-convert {\n",
              "      background-color: #E8F0FE;\n",
              "      border: none;\n",
              "      border-radius: 50%;\n",
              "      cursor: pointer;\n",
              "      display: none;\n",
              "      fill: #1967D2;\n",
              "      height: 32px;\n",
              "      padding: 0 0 0 0;\n",
              "      width: 32px;\n",
              "    }\n",
              "\n",
              "    .colab-df-convert:hover {\n",
              "      background-color: #E2EBFA;\n",
              "      box-shadow: 0px 1px 2px rgba(60, 64, 67, 0.3), 0px 1px 3px 1px rgba(60, 64, 67, 0.15);\n",
              "      fill: #174EA6;\n",
              "    }\n",
              "\n",
              "    [theme=dark] .colab-df-convert {\n",
              "      background-color: #3B4455;\n",
              "      fill: #D2E3FC;\n",
              "    }\n",
              "\n",
              "    [theme=dark] .colab-df-convert:hover {\n",
              "      background-color: #434B5C;\n",
              "      box-shadow: 0px 1px 3px 1px rgba(0, 0, 0, 0.15);\n",
              "      filter: drop-shadow(0px 1px 2px rgba(0, 0, 0, 0.3));\n",
              "      fill: #FFFFFF;\n",
              "    }\n",
              "  </style>\n",
              "\n",
              "      <script>\n",
              "        const buttonEl =\n",
              "          document.querySelector('#df-4c00ab7c-ca47-4993-8020-a8810316eb5c button.colab-df-convert');\n",
              "        buttonEl.style.display =\n",
              "          google.colab.kernel.accessAllowed ? 'block' : 'none';\n",
              "\n",
              "        async function convertToInteractive(key) {\n",
              "          const element = document.querySelector('#df-4c00ab7c-ca47-4993-8020-a8810316eb5c');\n",
              "          const dataTable =\n",
              "            await google.colab.kernel.invokeFunction('convertToInteractive',\n",
              "                                                     [key], {});\n",
              "          if (!dataTable) return;\n",
              "\n",
              "          const docLinkHtml = 'Like what you see? Visit the ' +\n",
              "            '<a target=\"_blank\" href=https://colab.research.google.com/notebooks/data_table.ipynb>data table notebook</a>'\n",
              "            + ' to learn more about interactive tables.';\n",
              "          element.innerHTML = '';\n",
              "          dataTable['output_type'] = 'display_data';\n",
              "          await google.colab.output.renderOutput(dataTable, element);\n",
              "          const docLink = document.createElement('div');\n",
              "          docLink.innerHTML = docLinkHtml;\n",
              "          element.appendChild(docLink);\n",
              "        }\n",
              "      </script>\n",
              "    </div>\n",
              "  </div>\n",
              "  "
            ]
          },
          "metadata": {},
          "execution_count": 36
        }
      ]
    },
    {
      "cell_type": "markdown",
      "source": [
        "#### 6.2.5) GROUP BY + HAVING command"
      ],
      "metadata": {
        "id": "RML5FT2TqBmy"
      }
    },
    {
      "cell_type": "markdown",
      "source": [
        "Here we select the columns `region` and `AVG(percentage_of_households_with_pets)` from the `animals` table grouped by `region`. Notice that we keep the regions with an `AVG(percentage_of_households_with_pets)` greater than 55. **Thus, HAVING is used with the GROUP BY command**. The results are organized by `region` in a descending order. The display is limited to the 3 first rows. "
      ],
      "metadata": {
        "id": "hRtrb6U8sK1S"
      }
    },
    {
      "cell_type": "code",
      "source": [
        " # Connect to the table in the database\n",
        "connection = psycopg2.connect(user = 'postgres', password = 'postgres', host = 'localhost', database = 'tfio_demo')\n",
        "cursor = connection.cursor()\n",
        "\n",
        "# Create SQL query\n",
        "cursor.execute(\" SELECT animals.region, AVG(animals.percentage_of_households_with_pets) \\\n",
        "                 FROM animals \\\n",
        "                 GROUP BY animals.region HAVING AVG(animals.percentage_of_households_with_pets) > 55 \\\n",
        "                 ORDER BY animals.region \\\n",
        "                 DESC \\\n",
        "                 LIMIT 3;\")\n",
        "table_contacts = cursor.fetchall()\n",
        "\n",
        "# Turn the results of the query into a dataframe for visualization of the results\n",
        "pd.DataFrame((table_contacts) , columns=[[desc[0] for desc in cursor.description]])"
      ],
      "metadata": {
        "colab": {
          "base_uri": "https://localhost:8080/",
          "height": 143
        },
        "id": "g3wm8RILqVxR",
        "outputId": "d60dc774-f7c4-4f38-b37b-c11ff3f11cf9"
      },
      "execution_count": 37,
      "outputs": [
        {
          "output_type": "execute_result",
          "data": {
            "text/plain": [
              "    region                  avg\n",
              "0     West  59.9545454545454545\n",
              "1    South  57.0909090909090909\n",
              "2  Central  57.0615384615384615"
            ],
            "text/html": [
              "\n",
              "  <div id=\"df-8f9ebfc2-a996-4dc5-b252-a26ce956c012\">\n",
              "    <div class=\"colab-df-container\">\n",
              "      <div>\n",
              "<style scoped>\n",
              "    .dataframe tbody tr th:only-of-type {\n",
              "        vertical-align: middle;\n",
              "    }\n",
              "\n",
              "    .dataframe tbody tr th {\n",
              "        vertical-align: top;\n",
              "    }\n",
              "\n",
              "    .dataframe thead tr th {\n",
              "        text-align: left;\n",
              "    }\n",
              "</style>\n",
              "<table border=\"1\" class=\"dataframe\">\n",
              "  <thead>\n",
              "    <tr>\n",
              "      <th></th>\n",
              "      <th>region</th>\n",
              "      <th>avg</th>\n",
              "    </tr>\n",
              "  </thead>\n",
              "  <tbody>\n",
              "    <tr>\n",
              "      <th>0</th>\n",
              "      <td>West</td>\n",
              "      <td>59.9545454545454545</td>\n",
              "    </tr>\n",
              "    <tr>\n",
              "      <th>1</th>\n",
              "      <td>South</td>\n",
              "      <td>57.0909090909090909</td>\n",
              "    </tr>\n",
              "    <tr>\n",
              "      <th>2</th>\n",
              "      <td>Central</td>\n",
              "      <td>57.0615384615384615</td>\n",
              "    </tr>\n",
              "  </tbody>\n",
              "</table>\n",
              "</div>\n",
              "      <button class=\"colab-df-convert\" onclick=\"convertToInteractive('df-8f9ebfc2-a996-4dc5-b252-a26ce956c012')\"\n",
              "              title=\"Convert this dataframe to an interactive table.\"\n",
              "              style=\"display:none;\">\n",
              "        \n",
              "  <svg xmlns=\"http://www.w3.org/2000/svg\" height=\"24px\"viewBox=\"0 0 24 24\"\n",
              "       width=\"24px\">\n",
              "    <path d=\"M0 0h24v24H0V0z\" fill=\"none\"/>\n",
              "    <path d=\"M18.56 5.44l.94 2.06.94-2.06 2.06-.94-2.06-.94-.94-2.06-.94 2.06-2.06.94zm-11 1L8.5 8.5l.94-2.06 2.06-.94-2.06-.94L8.5 2.5l-.94 2.06-2.06.94zm10 10l.94 2.06.94-2.06 2.06-.94-2.06-.94-.94-2.06-.94 2.06-2.06.94z\"/><path d=\"M17.41 7.96l-1.37-1.37c-.4-.4-.92-.59-1.43-.59-.52 0-1.04.2-1.43.59L10.3 9.45l-7.72 7.72c-.78.78-.78 2.05 0 2.83L4 21.41c.39.39.9.59 1.41.59.51 0 1.02-.2 1.41-.59l7.78-7.78 2.81-2.81c.8-.78.8-2.07 0-2.86zM5.41 20L4 18.59l7.72-7.72 1.47 1.35L5.41 20z\"/>\n",
              "  </svg>\n",
              "      </button>\n",
              "      \n",
              "  <style>\n",
              "    .colab-df-container {\n",
              "      display:flex;\n",
              "      flex-wrap:wrap;\n",
              "      gap: 12px;\n",
              "    }\n",
              "\n",
              "    .colab-df-convert {\n",
              "      background-color: #E8F0FE;\n",
              "      border: none;\n",
              "      border-radius: 50%;\n",
              "      cursor: pointer;\n",
              "      display: none;\n",
              "      fill: #1967D2;\n",
              "      height: 32px;\n",
              "      padding: 0 0 0 0;\n",
              "      width: 32px;\n",
              "    }\n",
              "\n",
              "    .colab-df-convert:hover {\n",
              "      background-color: #E2EBFA;\n",
              "      box-shadow: 0px 1px 2px rgba(60, 64, 67, 0.3), 0px 1px 3px 1px rgba(60, 64, 67, 0.15);\n",
              "      fill: #174EA6;\n",
              "    }\n",
              "\n",
              "    [theme=dark] .colab-df-convert {\n",
              "      background-color: #3B4455;\n",
              "      fill: #D2E3FC;\n",
              "    }\n",
              "\n",
              "    [theme=dark] .colab-df-convert:hover {\n",
              "      background-color: #434B5C;\n",
              "      box-shadow: 0px 1px 3px 1px rgba(0, 0, 0, 0.15);\n",
              "      filter: drop-shadow(0px 1px 2px rgba(0, 0, 0, 0.3));\n",
              "      fill: #FFFFFF;\n",
              "    }\n",
              "  </style>\n",
              "\n",
              "      <script>\n",
              "        const buttonEl =\n",
              "          document.querySelector('#df-8f9ebfc2-a996-4dc5-b252-a26ce956c012 button.colab-df-convert');\n",
              "        buttonEl.style.display =\n",
              "          google.colab.kernel.accessAllowed ? 'block' : 'none';\n",
              "\n",
              "        async function convertToInteractive(key) {\n",
              "          const element = document.querySelector('#df-8f9ebfc2-a996-4dc5-b252-a26ce956c012');\n",
              "          const dataTable =\n",
              "            await google.colab.kernel.invokeFunction('convertToInteractive',\n",
              "                                                     [key], {});\n",
              "          if (!dataTable) return;\n",
              "\n",
              "          const docLinkHtml = 'Like what you see? Visit the ' +\n",
              "            '<a target=\"_blank\" href=https://colab.research.google.com/notebooks/data_table.ipynb>data table notebook</a>'\n",
              "            + ' to learn more about interactive tables.';\n",
              "          element.innerHTML = '';\n",
              "          dataTable['output_type'] = 'display_data';\n",
              "          await google.colab.output.renderOutput(dataTable, element);\n",
              "          const docLink = document.createElement('div');\n",
              "          docLink.innerHTML = docLinkHtml;\n",
              "          element.appendChild(docLink);\n",
              "        }\n",
              "      </script>\n",
              "    </div>\n",
              "  </div>\n",
              "  "
            ]
          },
          "metadata": {},
          "execution_count": 37
        }
      ]
    },
    {
      "cell_type": "markdown",
      "source": [
        "#### 6.2.6) Summary"
      ],
      "metadata": {
        "id": "ZRGwBsm9wzgA"
      }
    },
    {
      "cell_type": "markdown",
      "source": [
        "The following summary is provided in the second article that was referenced in part 1:\n",
        "- `WHERE` provides an opportunity to narrow the criteria for queries.\n",
        "- Filters may be created with a variety of conditional commands.\n",
        "- Compound conditional filters may be used in queries.\n",
        "- `GROUP BY` aggregates information based on categorical dimensions.\n",
        "- `HAVING` criteria may be applied to the groups that are aggregated."
      ],
      "metadata": {
        "id": "ziwqoxizw_cI"
      }
    },
    {
      "cell_type": "markdown",
      "source": [
        "### 6.3) Aggregating and Grouping Data "
      ],
      "metadata": {
        "id": "MsFGInb7xJPW"
      }
    },
    {
      "cell_type": "markdown",
      "source": [
        "Aggregation SQL functions bring clarity and depth to queries, which include `DISTINCT`, `COUNT`, `GROUP BY` and `HAVING`. These commands add to the filtering accomplished by the `WHERE` clause, and enable viewing data in groups, segments or other organized levels. `DISTINCT` and `COUNT` are often used in the `SELECT` statement to create and quantify aggregation. By contrast, `GROUP BY` and `HAVING` are placed after the `WHERE` clause. As you consider using these tools in your query, it is important to be consistent in the level of aggregation requested in one query. The following shows the appropriate order for the command tools in your new query:\n",
        "\n",
        " > **SELECT DISTINCT** *(desired column list)* <br>\n",
        " > **FROM** *(table name here)* <br>\n",
        " > **WHERE** *(filtering criteria)* <br>\n",
        " > **GROUP BY** *(data_name)* **HAVING** *(additional filter)*"
      ],
      "metadata": {
        "id": "d51fe-5w15PY"
      }
    },
    {
      "cell_type": "markdown",
      "source": [
        "#### 6.3.1) DISTINCT, ROUND, COUNT and Multiple GROUP BY commmands"
      ],
      "metadata": {
        "id": "vhGJSGUT_Py-"
      }
    },
    {
      "cell_type": "markdown",
      "source": [
        "Here we select the columns `item`, `description`,  `qty_sold`,  `avg_transaction_price` and `total_sold` from the `products` table. Notice that the last 3 variables mentioned above refer to `COUNT(sales.item)`, `ROUND(AVG(sales.total),2)` and `avg_transaction_price`. The analysis is limited to unique combinations of items and descriptions. The selected variables were grouped by `item` and then `description`. The results are organized by `qty_sold` in a descending order. The display is limited to the 3 first rows."
      ],
      "metadata": {
        "id": "byDsM4Pn_eyP"
      }
    },
    {
      "cell_type": "code",
      "source": [
        " # Connect to the table in the database\n",
        "connection = psycopg2.connect(user = 'postgres', password = 'postgres', host = 'localhost', database = 'tfio_demo')\n",
        "cursor = connection.cursor()\n",
        "\n",
        "# Create SQL query\n",
        "cursor.execute(\"SELECT DISTINCT sales.item, sales.description, COUNT(sales.item) as qty_sold, \\\n",
        "                ROUND(AVG(sales.total),2) as avg_transaction_price, SUM(sales.total) as total_sold \\\n",
        "                FROM sales \\\n",
        "                GROUP BY sales.item, sales.description \\\n",
        "                ORDER BY qty_sold \\\n",
        "                DESC \\\n",
        "                LIMIT 3;\")\n",
        "table_contacts = cursor.fetchall()\n",
        "\n",
        "# Turn the results of the query into a dataframe for visualization of the results\n",
        "pd.DataFrame((table_contacts) , columns=[[desc[0] for desc in cursor.description]])"
      ],
      "metadata": {
        "colab": {
          "base_uri": "https://localhost:8080/",
          "height": 143
        },
        "id": "Z6M437g_xM8B",
        "outputId": "42b635a5-3e16-47ec-c081-082074d713ef"
      },
      "execution_count": 38,
      "outputs": [
        {
          "output_type": "execute_result",
          "data": {
            "text/plain": [
              "    item                     description qty_sold avg_transaction_price  \\\n",
              "0  11788                    Black Velvet    31904                403.19   \n",
              "1  36308                   Hawkeye Vodka    31105                172.99   \n",
              "2  43336  Captain Morgan Original Spiced    18129                192.94   \n",
              "\n",
              "    total_sold  \n",
              "0  12863376.81  \n",
              "1   5380753.20  \n",
              "2   3497803.08  "
            ],
            "text/html": [
              "\n",
              "  <div id=\"df-4736784a-d0b8-4455-ba92-5685ae96ac9d\">\n",
              "    <div class=\"colab-df-container\">\n",
              "      <div>\n",
              "<style scoped>\n",
              "    .dataframe tbody tr th:only-of-type {\n",
              "        vertical-align: middle;\n",
              "    }\n",
              "\n",
              "    .dataframe tbody tr th {\n",
              "        vertical-align: top;\n",
              "    }\n",
              "\n",
              "    .dataframe thead tr th {\n",
              "        text-align: left;\n",
              "    }\n",
              "</style>\n",
              "<table border=\"1\" class=\"dataframe\">\n",
              "  <thead>\n",
              "    <tr>\n",
              "      <th></th>\n",
              "      <th>item</th>\n",
              "      <th>description</th>\n",
              "      <th>qty_sold</th>\n",
              "      <th>avg_transaction_price</th>\n",
              "      <th>total_sold</th>\n",
              "    </tr>\n",
              "  </thead>\n",
              "  <tbody>\n",
              "    <tr>\n",
              "      <th>0</th>\n",
              "      <td>11788</td>\n",
              "      <td>Black Velvet</td>\n",
              "      <td>31904</td>\n",
              "      <td>403.19</td>\n",
              "      <td>12863376.81</td>\n",
              "    </tr>\n",
              "    <tr>\n",
              "      <th>1</th>\n",
              "      <td>36308</td>\n",
              "      <td>Hawkeye Vodka</td>\n",
              "      <td>31105</td>\n",
              "      <td>172.99</td>\n",
              "      <td>5380753.20</td>\n",
              "    </tr>\n",
              "    <tr>\n",
              "      <th>2</th>\n",
              "      <td>43336</td>\n",
              "      <td>Captain Morgan Original Spiced</td>\n",
              "      <td>18129</td>\n",
              "      <td>192.94</td>\n",
              "      <td>3497803.08</td>\n",
              "    </tr>\n",
              "  </tbody>\n",
              "</table>\n",
              "</div>\n",
              "      <button class=\"colab-df-convert\" onclick=\"convertToInteractive('df-4736784a-d0b8-4455-ba92-5685ae96ac9d')\"\n",
              "              title=\"Convert this dataframe to an interactive table.\"\n",
              "              style=\"display:none;\">\n",
              "        \n",
              "  <svg xmlns=\"http://www.w3.org/2000/svg\" height=\"24px\"viewBox=\"0 0 24 24\"\n",
              "       width=\"24px\">\n",
              "    <path d=\"M0 0h24v24H0V0z\" fill=\"none\"/>\n",
              "    <path d=\"M18.56 5.44l.94 2.06.94-2.06 2.06-.94-2.06-.94-.94-2.06-.94 2.06-2.06.94zm-11 1L8.5 8.5l.94-2.06 2.06-.94-2.06-.94L8.5 2.5l-.94 2.06-2.06.94zm10 10l.94 2.06.94-2.06 2.06-.94-2.06-.94-.94-2.06-.94 2.06-2.06.94z\"/><path d=\"M17.41 7.96l-1.37-1.37c-.4-.4-.92-.59-1.43-.59-.52 0-1.04.2-1.43.59L10.3 9.45l-7.72 7.72c-.78.78-.78 2.05 0 2.83L4 21.41c.39.39.9.59 1.41.59.51 0 1.02-.2 1.41-.59l7.78-7.78 2.81-2.81c.8-.78.8-2.07 0-2.86zM5.41 20L4 18.59l7.72-7.72 1.47 1.35L5.41 20z\"/>\n",
              "  </svg>\n",
              "      </button>\n",
              "      \n",
              "  <style>\n",
              "    .colab-df-container {\n",
              "      display:flex;\n",
              "      flex-wrap:wrap;\n",
              "      gap: 12px;\n",
              "    }\n",
              "\n",
              "    .colab-df-convert {\n",
              "      background-color: #E8F0FE;\n",
              "      border: none;\n",
              "      border-radius: 50%;\n",
              "      cursor: pointer;\n",
              "      display: none;\n",
              "      fill: #1967D2;\n",
              "      height: 32px;\n",
              "      padding: 0 0 0 0;\n",
              "      width: 32px;\n",
              "    }\n",
              "\n",
              "    .colab-df-convert:hover {\n",
              "      background-color: #E2EBFA;\n",
              "      box-shadow: 0px 1px 2px rgba(60, 64, 67, 0.3), 0px 1px 3px 1px rgba(60, 64, 67, 0.15);\n",
              "      fill: #174EA6;\n",
              "    }\n",
              "\n",
              "    [theme=dark] .colab-df-convert {\n",
              "      background-color: #3B4455;\n",
              "      fill: #D2E3FC;\n",
              "    }\n",
              "\n",
              "    [theme=dark] .colab-df-convert:hover {\n",
              "      background-color: #434B5C;\n",
              "      box-shadow: 0px 1px 3px 1px rgba(0, 0, 0, 0.15);\n",
              "      filter: drop-shadow(0px 1px 2px rgba(0, 0, 0, 0.3));\n",
              "      fill: #FFFFFF;\n",
              "    }\n",
              "  </style>\n",
              "\n",
              "      <script>\n",
              "        const buttonEl =\n",
              "          document.querySelector('#df-4736784a-d0b8-4455-ba92-5685ae96ac9d button.colab-df-convert');\n",
              "        buttonEl.style.display =\n",
              "          google.colab.kernel.accessAllowed ? 'block' : 'none';\n",
              "\n",
              "        async function convertToInteractive(key) {\n",
              "          const element = document.querySelector('#df-4736784a-d0b8-4455-ba92-5685ae96ac9d');\n",
              "          const dataTable =\n",
              "            await google.colab.kernel.invokeFunction('convertToInteractive',\n",
              "                                                     [key], {});\n",
              "          if (!dataTable) return;\n",
              "\n",
              "          const docLinkHtml = 'Like what you see? Visit the ' +\n",
              "            '<a target=\"_blank\" href=https://colab.research.google.com/notebooks/data_table.ipynb>data table notebook</a>'\n",
              "            + ' to learn more about interactive tables.';\n",
              "          element.innerHTML = '';\n",
              "          dataTable['output_type'] = 'display_data';\n",
              "          await google.colab.output.renderOutput(dataTable, element);\n",
              "          const docLink = document.createElement('div');\n",
              "          docLink.innerHTML = docLinkHtml;\n",
              "          element.appendChild(docLink);\n",
              "        }\n",
              "      </script>\n",
              "    </div>\n",
              "  </div>\n",
              "  "
            ]
          },
          "metadata": {},
          "execution_count": 38
        }
      ]
    },
    {
      "cell_type": "markdown",
      "source": [
        "Here we select the columns `county`, `qty_sold` and `total_sold` from the `sales` table. Notice that the last 2 variables mentioned above refer to `COUNT(sales.item)` and `SUM(sales.total)`. The analysis is limited to unique county names. Moreover, the description columns must be either 'Black Velvet' or 'Hawkeye Vodka'. The aggregate measure were created by groupbing the table by county if the item count per group exceeded 10000. The results are organized by `total_sold` in a descending order. The display is limited to the 3 first rows."
      ],
      "metadata": {
        "id": "ebF-BZofIT4F"
      }
    },
    {
      "cell_type": "markdown",
      "source": [
        "#### 6.3.2) IN commmand"
      ],
      "metadata": {
        "id": "hxXq6686Kb19"
      }
    },
    {
      "cell_type": "markdown",
      "source": [
        "Here we select the columns `county`, `qty_sold` and `total_sold` from the `products` table. Notice that the last 2 variables mentioned above refer to `COUNT(sales.item)` and `SUM(sales.total)`. The selected variables were grouped by `county` when the count of items was greater than 10000. The results are organized by `total_sold` in a descending order. The display is limited to the 3 first rows."
      ],
      "metadata": {
        "id": "kpXnrmUJMyWE"
      }
    },
    {
      "cell_type": "code",
      "source": [
        " # Connect to the table in the database\n",
        "connection = psycopg2.connect(user = 'postgres', password = 'postgres', host = 'localhost', database = 'tfio_demo')\n",
        "cursor = connection.cursor()\n",
        "\n",
        "# Create SQL query\n",
        "cursor.execute(\"SELECT DISTINCT sales.county, COUNT(sales.item) as qty_sold, SUM(sales.total) as total_sold \\\n",
        "                FROM sales \\\n",
        "                WHERE sales.description IN('Black Velvet', 'Hawkeye Vodka') \\\n",
        "                GROUP BY sales.county HAVING (COUNT(sales.item)) > 10000 \\\n",
        "                ORDER BY total_sold \\\n",
        "                DESC \\\n",
        "                LIMIT 3;\")\n",
        "table_contacts = cursor.fetchall()\n",
        "\n",
        "# Turn the results of the query into a dataframe for visualization of the results\n",
        "pd.DataFrame((table_contacts) , columns=[[desc[0] for desc in cursor.description]])"
      ],
      "metadata": {
        "colab": {
          "base_uri": "https://localhost:8080/",
          "height": 112
        },
        "id": "OzVGzoBqEDLd",
        "outputId": "5fccdfa0-dd4c-40b9-b51c-0eb23001bfa2"
      },
      "execution_count": 39,
      "outputs": [
        {
          "output_type": "execute_result",
          "data": {
            "text/plain": [
              "  county qty_sold  total_sold\n",
              "0   Polk    28058  4114463.32\n",
              "1   Linn    12746  2366315.91"
            ],
            "text/html": [
              "\n",
              "  <div id=\"df-1a6578d5-64b8-4696-a68c-3eef9d38ff1b\">\n",
              "    <div class=\"colab-df-container\">\n",
              "      <div>\n",
              "<style scoped>\n",
              "    .dataframe tbody tr th:only-of-type {\n",
              "        vertical-align: middle;\n",
              "    }\n",
              "\n",
              "    .dataframe tbody tr th {\n",
              "        vertical-align: top;\n",
              "    }\n",
              "\n",
              "    .dataframe thead tr th {\n",
              "        text-align: left;\n",
              "    }\n",
              "</style>\n",
              "<table border=\"1\" class=\"dataframe\">\n",
              "  <thead>\n",
              "    <tr>\n",
              "      <th></th>\n",
              "      <th>county</th>\n",
              "      <th>qty_sold</th>\n",
              "      <th>total_sold</th>\n",
              "    </tr>\n",
              "  </thead>\n",
              "  <tbody>\n",
              "    <tr>\n",
              "      <th>0</th>\n",
              "      <td>Polk</td>\n",
              "      <td>28058</td>\n",
              "      <td>4114463.32</td>\n",
              "    </tr>\n",
              "    <tr>\n",
              "      <th>1</th>\n",
              "      <td>Linn</td>\n",
              "      <td>12746</td>\n",
              "      <td>2366315.91</td>\n",
              "    </tr>\n",
              "  </tbody>\n",
              "</table>\n",
              "</div>\n",
              "      <button class=\"colab-df-convert\" onclick=\"convertToInteractive('df-1a6578d5-64b8-4696-a68c-3eef9d38ff1b')\"\n",
              "              title=\"Convert this dataframe to an interactive table.\"\n",
              "              style=\"display:none;\">\n",
              "        \n",
              "  <svg xmlns=\"http://www.w3.org/2000/svg\" height=\"24px\"viewBox=\"0 0 24 24\"\n",
              "       width=\"24px\">\n",
              "    <path d=\"M0 0h24v24H0V0z\" fill=\"none\"/>\n",
              "    <path d=\"M18.56 5.44l.94 2.06.94-2.06 2.06-.94-2.06-.94-.94-2.06-.94 2.06-2.06.94zm-11 1L8.5 8.5l.94-2.06 2.06-.94-2.06-.94L8.5 2.5l-.94 2.06-2.06.94zm10 10l.94 2.06.94-2.06 2.06-.94-2.06-.94-.94-2.06-.94 2.06-2.06.94z\"/><path d=\"M17.41 7.96l-1.37-1.37c-.4-.4-.92-.59-1.43-.59-.52 0-1.04.2-1.43.59L10.3 9.45l-7.72 7.72c-.78.78-.78 2.05 0 2.83L4 21.41c.39.39.9.59 1.41.59.51 0 1.02-.2 1.41-.59l7.78-7.78 2.81-2.81c.8-.78.8-2.07 0-2.86zM5.41 20L4 18.59l7.72-7.72 1.47 1.35L5.41 20z\"/>\n",
              "  </svg>\n",
              "      </button>\n",
              "      \n",
              "  <style>\n",
              "    .colab-df-container {\n",
              "      display:flex;\n",
              "      flex-wrap:wrap;\n",
              "      gap: 12px;\n",
              "    }\n",
              "\n",
              "    .colab-df-convert {\n",
              "      background-color: #E8F0FE;\n",
              "      border: none;\n",
              "      border-radius: 50%;\n",
              "      cursor: pointer;\n",
              "      display: none;\n",
              "      fill: #1967D2;\n",
              "      height: 32px;\n",
              "      padding: 0 0 0 0;\n",
              "      width: 32px;\n",
              "    }\n",
              "\n",
              "    .colab-df-convert:hover {\n",
              "      background-color: #E2EBFA;\n",
              "      box-shadow: 0px 1px 2px rgba(60, 64, 67, 0.3), 0px 1px 3px 1px rgba(60, 64, 67, 0.15);\n",
              "      fill: #174EA6;\n",
              "    }\n",
              "\n",
              "    [theme=dark] .colab-df-convert {\n",
              "      background-color: #3B4455;\n",
              "      fill: #D2E3FC;\n",
              "    }\n",
              "\n",
              "    [theme=dark] .colab-df-convert:hover {\n",
              "      background-color: #434B5C;\n",
              "      box-shadow: 0px 1px 3px 1px rgba(0, 0, 0, 0.15);\n",
              "      filter: drop-shadow(0px 1px 2px rgba(0, 0, 0, 0.3));\n",
              "      fill: #FFFFFF;\n",
              "    }\n",
              "  </style>\n",
              "\n",
              "      <script>\n",
              "        const buttonEl =\n",
              "          document.querySelector('#df-1a6578d5-64b8-4696-a68c-3eef9d38ff1b button.colab-df-convert');\n",
              "        buttonEl.style.display =\n",
              "          google.colab.kernel.accessAllowed ? 'block' : 'none';\n",
              "\n",
              "        async function convertToInteractive(key) {\n",
              "          const element = document.querySelector('#df-1a6578d5-64b8-4696-a68c-3eef9d38ff1b');\n",
              "          const dataTable =\n",
              "            await google.colab.kernel.invokeFunction('convertToInteractive',\n",
              "                                                     [key], {});\n",
              "          if (!dataTable) return;\n",
              "\n",
              "          const docLinkHtml = 'Like what you see? Visit the ' +\n",
              "            '<a target=\"_blank\" href=https://colab.research.google.com/notebooks/data_table.ipynb>data table notebook</a>'\n",
              "            + ' to learn more about interactive tables.';\n",
              "          element.innerHTML = '';\n",
              "          dataTable['output_type'] = 'display_data';\n",
              "          await google.colab.output.renderOutput(dataTable, element);\n",
              "          const docLink = document.createElement('div');\n",
              "          docLink.innerHTML = docLinkHtml;\n",
              "          element.appendChild(docLink);\n",
              "        }\n",
              "      </script>\n",
              "    </div>\n",
              "  </div>\n",
              "  "
            ]
          },
          "metadata": {},
          "execution_count": 39
        }
      ]
    },
    {
      "cell_type": "markdown",
      "source": [
        "**Notice that you cannot replace (COUNT(sales.item)) by qty_sold** after the HAVING command since it is considered part of the GROUP BY command. Since this command is not \"over\", the variable qty_sold does not exist yet. However, once the GROUP BY + HAVING commands are used, the variable total_sold can be used in the ORDER BY command."
      ],
      "metadata": {
        "id": "ZhjYt5vXJ4pl"
      }
    },
    {
      "cell_type": "markdown",
      "source": [
        "#### 6.3.3) COUNT(*) and CAST commmands"
      ],
      "metadata": {
        "id": "N_N9OuyYLU0E"
      }
    },
    {
      "cell_type": "markdown",
      "source": [
        "Here we select the columns `vendor_name`, `products_offered` and `avg_price` from the `products` table. Notice that the last 2 variables mentioned above refer to the count of all instances using `COUNT(*)` and the rounded average of the feature `bottle_price`. The selected variables were grouped by `vendor_name`. The results are organized by `products_offered` in a descending order. The display is limited to the 3 first rows."
      ],
      "metadata": {
        "id": "aMjKo0HFLf6d"
      }
    },
    {
      "cell_type": "code",
      "source": [
        " # Connect to the table in the database\n",
        "connection = psycopg2.connect(user = 'postgres', password = 'postgres', host = 'localhost', database = 'tfio_demo')\n",
        "cursor = connection.cursor()\n",
        "\n",
        "# Create SQL query\n",
        "cursor.execute(\"SELECT products.vendor_name, COUNT(*) AS products_offered, ROUND(AVG(CAST(products.bottle_price AS DECIMAL)),2) AS avg_price \\\n",
        "                FROM products \\\n",
        "                GROUP BY products.vendor_name \\\n",
        "                ORDER BY products_offered \\\n",
        "                DESC \\\n",
        "                LIMIT 3;\")\n",
        "table_contacts = cursor.fetchall()\n",
        "\n",
        "# Turn the results of the query into a dataframe for visualization of the results\n",
        "pd.DataFrame((table_contacts) , columns=[[desc[0] for desc in cursor.description]])"
      ],
      "metadata": {
        "colab": {
          "base_uri": "https://localhost:8080/",
          "height": 143
        },
        "id": "UwqpQ32nKp4u",
        "outputId": "89cf15fc-a247-4313-e67d-e3b98e43b48c"
      },
      "execution_count": 40,
      "outputs": [
        {
          "output_type": "execute_result",
          "data": {
            "text/plain": [
              "                        vendor_name products_offered avg_price\n",
              "0                   Jim Beam Brands              925     11.54\n",
              "1                   Diageo Americas              906     18.16\n",
              "2  Pernod Ricard Usa/austin Nichols              597     19.80"
            ],
            "text/html": [
              "\n",
              "  <div id=\"df-964ff604-bafc-41b8-a87a-2e16087fe73b\">\n",
              "    <div class=\"colab-df-container\">\n",
              "      <div>\n",
              "<style scoped>\n",
              "    .dataframe tbody tr th:only-of-type {\n",
              "        vertical-align: middle;\n",
              "    }\n",
              "\n",
              "    .dataframe tbody tr th {\n",
              "        vertical-align: top;\n",
              "    }\n",
              "\n",
              "    .dataframe thead tr th {\n",
              "        text-align: left;\n",
              "    }\n",
              "</style>\n",
              "<table border=\"1\" class=\"dataframe\">\n",
              "  <thead>\n",
              "    <tr>\n",
              "      <th></th>\n",
              "      <th>vendor_name</th>\n",
              "      <th>products_offered</th>\n",
              "      <th>avg_price</th>\n",
              "    </tr>\n",
              "  </thead>\n",
              "  <tbody>\n",
              "    <tr>\n",
              "      <th>0</th>\n",
              "      <td>Jim Beam Brands</td>\n",
              "      <td>925</td>\n",
              "      <td>11.54</td>\n",
              "    </tr>\n",
              "    <tr>\n",
              "      <th>1</th>\n",
              "      <td>Diageo Americas</td>\n",
              "      <td>906</td>\n",
              "      <td>18.16</td>\n",
              "    </tr>\n",
              "    <tr>\n",
              "      <th>2</th>\n",
              "      <td>Pernod Ricard Usa/austin Nichols</td>\n",
              "      <td>597</td>\n",
              "      <td>19.80</td>\n",
              "    </tr>\n",
              "  </tbody>\n",
              "</table>\n",
              "</div>\n",
              "      <button class=\"colab-df-convert\" onclick=\"convertToInteractive('df-964ff604-bafc-41b8-a87a-2e16087fe73b')\"\n",
              "              title=\"Convert this dataframe to an interactive table.\"\n",
              "              style=\"display:none;\">\n",
              "        \n",
              "  <svg xmlns=\"http://www.w3.org/2000/svg\" height=\"24px\"viewBox=\"0 0 24 24\"\n",
              "       width=\"24px\">\n",
              "    <path d=\"M0 0h24v24H0V0z\" fill=\"none\"/>\n",
              "    <path d=\"M18.56 5.44l.94 2.06.94-2.06 2.06-.94-2.06-.94-.94-2.06-.94 2.06-2.06.94zm-11 1L8.5 8.5l.94-2.06 2.06-.94-2.06-.94L8.5 2.5l-.94 2.06-2.06.94zm10 10l.94 2.06.94-2.06 2.06-.94-2.06-.94-.94-2.06-.94 2.06-2.06.94z\"/><path d=\"M17.41 7.96l-1.37-1.37c-.4-.4-.92-.59-1.43-.59-.52 0-1.04.2-1.43.59L10.3 9.45l-7.72 7.72c-.78.78-.78 2.05 0 2.83L4 21.41c.39.39.9.59 1.41.59.51 0 1.02-.2 1.41-.59l7.78-7.78 2.81-2.81c.8-.78.8-2.07 0-2.86zM5.41 20L4 18.59l7.72-7.72 1.47 1.35L5.41 20z\"/>\n",
              "  </svg>\n",
              "      </button>\n",
              "      \n",
              "  <style>\n",
              "    .colab-df-container {\n",
              "      display:flex;\n",
              "      flex-wrap:wrap;\n",
              "      gap: 12px;\n",
              "    }\n",
              "\n",
              "    .colab-df-convert {\n",
              "      background-color: #E8F0FE;\n",
              "      border: none;\n",
              "      border-radius: 50%;\n",
              "      cursor: pointer;\n",
              "      display: none;\n",
              "      fill: #1967D2;\n",
              "      height: 32px;\n",
              "      padding: 0 0 0 0;\n",
              "      width: 32px;\n",
              "    }\n",
              "\n",
              "    .colab-df-convert:hover {\n",
              "      background-color: #E2EBFA;\n",
              "      box-shadow: 0px 1px 2px rgba(60, 64, 67, 0.3), 0px 1px 3px 1px rgba(60, 64, 67, 0.15);\n",
              "      fill: #174EA6;\n",
              "    }\n",
              "\n",
              "    [theme=dark] .colab-df-convert {\n",
              "      background-color: #3B4455;\n",
              "      fill: #D2E3FC;\n",
              "    }\n",
              "\n",
              "    [theme=dark] .colab-df-convert:hover {\n",
              "      background-color: #434B5C;\n",
              "      box-shadow: 0px 1px 3px 1px rgba(0, 0, 0, 0.15);\n",
              "      filter: drop-shadow(0px 1px 2px rgba(0, 0, 0, 0.3));\n",
              "      fill: #FFFFFF;\n",
              "    }\n",
              "  </style>\n",
              "\n",
              "      <script>\n",
              "        const buttonEl =\n",
              "          document.querySelector('#df-964ff604-bafc-41b8-a87a-2e16087fe73b button.colab-df-convert');\n",
              "        buttonEl.style.display =\n",
              "          google.colab.kernel.accessAllowed ? 'block' : 'none';\n",
              "\n",
              "        async function convertToInteractive(key) {\n",
              "          const element = document.querySelector('#df-964ff604-bafc-41b8-a87a-2e16087fe73b');\n",
              "          const dataTable =\n",
              "            await google.colab.kernel.invokeFunction('convertToInteractive',\n",
              "                                                     [key], {});\n",
              "          if (!dataTable) return;\n",
              "\n",
              "          const docLinkHtml = 'Like what you see? Visit the ' +\n",
              "            '<a target=\"_blank\" href=https://colab.research.google.com/notebooks/data_table.ipynb>data table notebook</a>'\n",
              "            + ' to learn more about interactive tables.';\n",
              "          element.innerHTML = '';\n",
              "          dataTable['output_type'] = 'display_data';\n",
              "          await google.colab.output.renderOutput(dataTable, element);\n",
              "          const docLink = document.createElement('div');\n",
              "          docLink.innerHTML = docLinkHtml;\n",
              "          element.appendChild(docLink);\n",
              "        }\n",
              "      </script>\n",
              "    </div>\n",
              "  </div>\n",
              "  "
            ]
          },
          "metadata": {},
          "execution_count": 40
        }
      ]
    },
    {
      "cell_type": "markdown",
      "source": [
        "**The CAST command is required so that the bottle price can be use without the monetary sign ($).**"
      ],
      "metadata": {
        "id": "9oDTLLh1L_ns"
      }
    },
    {
      "cell_type": "markdown",
      "source": [
        "#### 6.3.4) LEFT JOIN + USING commands"
      ],
      "metadata": {
        "id": "Vkt5XZmiUOeC"
      }
    },
    {
      "cell_type": "markdown",
      "source": [
        "Here we select the columns `county`, `population`,  `qty_sold` and `total_sold` from the join of the `sales` and `counties` tables using the `county` column. Notice that the last 2 variables mentioned above refer to `COUNT(sales.item)` and `SUM(sales.total)`. The analysis is limited to unique combinations of counties and population. The selected variables were grouped by `county` and then `population`, when the county population exceeded 150000. The results are organized by `total_sold` in a descending order. The display is limited to the 3 first rows."
      ],
      "metadata": {
        "id": "-J0MtDEeUsFR"
      }
    },
    {
      "cell_type": "code",
      "source": [
        " # Connect to the table in the database\n",
        "connection = psycopg2.connect(user = 'postgres', password = 'postgres', host = 'localhost', database = 'tfio_demo')\n",
        "cursor = connection.cursor()\n",
        "\n",
        "# Create SQL query\n",
        "cursor.execute(\" SELECT DISTINCT sales.county, counties.population, COUNT(sales.item) as qty_sold, SUM(sales.total) as total_sold \\\n",
        "                 FROM sales LEFT JOIN counties USING(county) \\\n",
        "                 WHERE description IN('Black Velvet', 'Hawkeye Vodka') \\\n",
        "                 GROUP BY sales.county, counties.population HAVING counties.population > 150000 \\\n",
        "                 ORDER BY total_sold DESC \\\n",
        "                 LIMIT 3;\")\n",
        "table_contacts = cursor.fetchall()\n",
        "\n",
        "# Turn the results of the query into a dataframe for visualization of the results\n",
        "pd.DataFrame((table_contacts) , columns=[[desc[0] for desc in cursor.description]])"
      ],
      "metadata": {
        "colab": {
          "base_uri": "https://localhost:8080/",
          "height": 143
        },
        "id": "IKJIrWnzTtGC",
        "outputId": "925e565e-8f31-4728-f8c3-bbbdfdce6ca4"
      },
      "execution_count": 41,
      "outputs": [
        {
          "output_type": "execute_result",
          "data": {
            "text/plain": [
              "  county population qty_sold  total_sold\n",
              "0   Polk     430640    28058  4114463.32\n",
              "1   Linn     211226    12746  2366315.91\n",
              "2  Scott     165224     5471   732618.98"
            ],
            "text/html": [
              "\n",
              "  <div id=\"df-a58f4a72-3b00-41d9-b77c-699865196281\">\n",
              "    <div class=\"colab-df-container\">\n",
              "      <div>\n",
              "<style scoped>\n",
              "    .dataframe tbody tr th:only-of-type {\n",
              "        vertical-align: middle;\n",
              "    }\n",
              "\n",
              "    .dataframe tbody tr th {\n",
              "        vertical-align: top;\n",
              "    }\n",
              "\n",
              "    .dataframe thead tr th {\n",
              "        text-align: left;\n",
              "    }\n",
              "</style>\n",
              "<table border=\"1\" class=\"dataframe\">\n",
              "  <thead>\n",
              "    <tr>\n",
              "      <th></th>\n",
              "      <th>county</th>\n",
              "      <th>population</th>\n",
              "      <th>qty_sold</th>\n",
              "      <th>total_sold</th>\n",
              "    </tr>\n",
              "  </thead>\n",
              "  <tbody>\n",
              "    <tr>\n",
              "      <th>0</th>\n",
              "      <td>Polk</td>\n",
              "      <td>430640</td>\n",
              "      <td>28058</td>\n",
              "      <td>4114463.32</td>\n",
              "    </tr>\n",
              "    <tr>\n",
              "      <th>1</th>\n",
              "      <td>Linn</td>\n",
              "      <td>211226</td>\n",
              "      <td>12746</td>\n",
              "      <td>2366315.91</td>\n",
              "    </tr>\n",
              "    <tr>\n",
              "      <th>2</th>\n",
              "      <td>Scott</td>\n",
              "      <td>165224</td>\n",
              "      <td>5471</td>\n",
              "      <td>732618.98</td>\n",
              "    </tr>\n",
              "  </tbody>\n",
              "</table>\n",
              "</div>\n",
              "      <button class=\"colab-df-convert\" onclick=\"convertToInteractive('df-a58f4a72-3b00-41d9-b77c-699865196281')\"\n",
              "              title=\"Convert this dataframe to an interactive table.\"\n",
              "              style=\"display:none;\">\n",
              "        \n",
              "  <svg xmlns=\"http://www.w3.org/2000/svg\" height=\"24px\"viewBox=\"0 0 24 24\"\n",
              "       width=\"24px\">\n",
              "    <path d=\"M0 0h24v24H0V0z\" fill=\"none\"/>\n",
              "    <path d=\"M18.56 5.44l.94 2.06.94-2.06 2.06-.94-2.06-.94-.94-2.06-.94 2.06-2.06.94zm-11 1L8.5 8.5l.94-2.06 2.06-.94-2.06-.94L8.5 2.5l-.94 2.06-2.06.94zm10 10l.94 2.06.94-2.06 2.06-.94-2.06-.94-.94-2.06-.94 2.06-2.06.94z\"/><path d=\"M17.41 7.96l-1.37-1.37c-.4-.4-.92-.59-1.43-.59-.52 0-1.04.2-1.43.59L10.3 9.45l-7.72 7.72c-.78.78-.78 2.05 0 2.83L4 21.41c.39.39.9.59 1.41.59.51 0 1.02-.2 1.41-.59l7.78-7.78 2.81-2.81c.8-.78.8-2.07 0-2.86zM5.41 20L4 18.59l7.72-7.72 1.47 1.35L5.41 20z\"/>\n",
              "  </svg>\n",
              "      </button>\n",
              "      \n",
              "  <style>\n",
              "    .colab-df-container {\n",
              "      display:flex;\n",
              "      flex-wrap:wrap;\n",
              "      gap: 12px;\n",
              "    }\n",
              "\n",
              "    .colab-df-convert {\n",
              "      background-color: #E8F0FE;\n",
              "      border: none;\n",
              "      border-radius: 50%;\n",
              "      cursor: pointer;\n",
              "      display: none;\n",
              "      fill: #1967D2;\n",
              "      height: 32px;\n",
              "      padding: 0 0 0 0;\n",
              "      width: 32px;\n",
              "    }\n",
              "\n",
              "    .colab-df-convert:hover {\n",
              "      background-color: #E2EBFA;\n",
              "      box-shadow: 0px 1px 2px rgba(60, 64, 67, 0.3), 0px 1px 3px 1px rgba(60, 64, 67, 0.15);\n",
              "      fill: #174EA6;\n",
              "    }\n",
              "\n",
              "    [theme=dark] .colab-df-convert {\n",
              "      background-color: #3B4455;\n",
              "      fill: #D2E3FC;\n",
              "    }\n",
              "\n",
              "    [theme=dark] .colab-df-convert:hover {\n",
              "      background-color: #434B5C;\n",
              "      box-shadow: 0px 1px 3px 1px rgba(0, 0, 0, 0.15);\n",
              "      filter: drop-shadow(0px 1px 2px rgba(0, 0, 0, 0.3));\n",
              "      fill: #FFFFFF;\n",
              "    }\n",
              "  </style>\n",
              "\n",
              "      <script>\n",
              "        const buttonEl =\n",
              "          document.querySelector('#df-a58f4a72-3b00-41d9-b77c-699865196281 button.colab-df-convert');\n",
              "        buttonEl.style.display =\n",
              "          google.colab.kernel.accessAllowed ? 'block' : 'none';\n",
              "\n",
              "        async function convertToInteractive(key) {\n",
              "          const element = document.querySelector('#df-a58f4a72-3b00-41d9-b77c-699865196281');\n",
              "          const dataTable =\n",
              "            await google.colab.kernel.invokeFunction('convertToInteractive',\n",
              "                                                     [key], {});\n",
              "          if (!dataTable) return;\n",
              "\n",
              "          const docLinkHtml = 'Like what you see? Visit the ' +\n",
              "            '<a target=\"_blank\" href=https://colab.research.google.com/notebooks/data_table.ipynb>data table notebook</a>'\n",
              "            + ' to learn more about interactive tables.';\n",
              "          element.innerHTML = '';\n",
              "          dataTable['output_type'] = 'display_data';\n",
              "          await google.colab.output.renderOutput(dataTable, element);\n",
              "          const docLink = document.createElement('div');\n",
              "          docLink.innerHTML = docLinkHtml;\n",
              "          element.appendChild(docLink);\n",
              "        }\n",
              "      </script>\n",
              "    </div>\n",
              "  </div>\n",
              "  "
            ]
          },
          "metadata": {},
          "execution_count": 41
        }
      ]
    },
    {
      "cell_type": "markdown",
      "source": [
        "Notice that there will always be unique combinations of counties and populations since any given county only has one population value. In other types of examples, the constraint of finding unique combinations of variables might be an issue that requires more thought. "
      ],
      "metadata": {
        "id": "xJOvSB7JWDab"
      }
    },
    {
      "cell_type": "markdown",
      "source": [
        "#### 6.3.5) LEFT JOIN + ON commands"
      ],
      "metadata": {
        "id": "iqTQG5D3XHaZ"
      }
    },
    {
      "cell_type": "markdown",
      "source": [
        "Here we have the very same example as the previous query. However, we use `ON` instead of `USING` as a command. "
      ],
      "metadata": {
        "id": "XBXgU_vGXKtA"
      }
    },
    {
      "cell_type": "code",
      "source": [
        " # Connect to the table in the database\n",
        "connection = psycopg2.connect(user = 'postgres', password = 'postgres', host = 'localhost', database = 'tfio_demo')\n",
        "cursor = connection.cursor()\n",
        "\n",
        "# Create SQL query\n",
        "cursor.execute(\" SELECT DISTINCT sales.county, counties.population, COUNT(sales.item) as qty_sold, SUM(sales.total) as total_sold \\\n",
        "                 FROM sales LEFT JOIN counties ON sales.county = counties.county \\\n",
        "                 WHERE description IN('Black Velvet', 'Hawkeye Vodka') \\\n",
        "                 GROUP BY sales.county, counties.population \\\n",
        "                 HAVING counties.population > 150000 \\\n",
        "                 ORDER BY total_sold DESC \\\n",
        "                 LIMIT 3;\")\n",
        "table_contacts = cursor.fetchall()\n",
        "\n",
        "# Turn the results of the query into a dataframe for visualization of the results\n",
        "pd.DataFrame((table_contacts) , columns=[[desc[0] for desc in cursor.description]])"
      ],
      "metadata": {
        "colab": {
          "base_uri": "https://localhost:8080/",
          "height": 143
        },
        "id": "B7V1KR02XKUZ",
        "outputId": "11b4ecc6-3f99-4e32-b998-0949e1f61b51"
      },
      "execution_count": 42,
      "outputs": [
        {
          "output_type": "execute_result",
          "data": {
            "text/plain": [
              "  county population qty_sold  total_sold\n",
              "0   Polk     430640    28058  4114463.32\n",
              "1   Linn     211226    12746  2366315.91\n",
              "2  Scott     165224     5471   732618.98"
            ],
            "text/html": [
              "\n",
              "  <div id=\"df-a31658c5-4701-4461-a3fa-91c2a8901349\">\n",
              "    <div class=\"colab-df-container\">\n",
              "      <div>\n",
              "<style scoped>\n",
              "    .dataframe tbody tr th:only-of-type {\n",
              "        vertical-align: middle;\n",
              "    }\n",
              "\n",
              "    .dataframe tbody tr th {\n",
              "        vertical-align: top;\n",
              "    }\n",
              "\n",
              "    .dataframe thead tr th {\n",
              "        text-align: left;\n",
              "    }\n",
              "</style>\n",
              "<table border=\"1\" class=\"dataframe\">\n",
              "  <thead>\n",
              "    <tr>\n",
              "      <th></th>\n",
              "      <th>county</th>\n",
              "      <th>population</th>\n",
              "      <th>qty_sold</th>\n",
              "      <th>total_sold</th>\n",
              "    </tr>\n",
              "  </thead>\n",
              "  <tbody>\n",
              "    <tr>\n",
              "      <th>0</th>\n",
              "      <td>Polk</td>\n",
              "      <td>430640</td>\n",
              "      <td>28058</td>\n",
              "      <td>4114463.32</td>\n",
              "    </tr>\n",
              "    <tr>\n",
              "      <th>1</th>\n",
              "      <td>Linn</td>\n",
              "      <td>211226</td>\n",
              "      <td>12746</td>\n",
              "      <td>2366315.91</td>\n",
              "    </tr>\n",
              "    <tr>\n",
              "      <th>2</th>\n",
              "      <td>Scott</td>\n",
              "      <td>165224</td>\n",
              "      <td>5471</td>\n",
              "      <td>732618.98</td>\n",
              "    </tr>\n",
              "  </tbody>\n",
              "</table>\n",
              "</div>\n",
              "      <button class=\"colab-df-convert\" onclick=\"convertToInteractive('df-a31658c5-4701-4461-a3fa-91c2a8901349')\"\n",
              "              title=\"Convert this dataframe to an interactive table.\"\n",
              "              style=\"display:none;\">\n",
              "        \n",
              "  <svg xmlns=\"http://www.w3.org/2000/svg\" height=\"24px\"viewBox=\"0 0 24 24\"\n",
              "       width=\"24px\">\n",
              "    <path d=\"M0 0h24v24H0V0z\" fill=\"none\"/>\n",
              "    <path d=\"M18.56 5.44l.94 2.06.94-2.06 2.06-.94-2.06-.94-.94-2.06-.94 2.06-2.06.94zm-11 1L8.5 8.5l.94-2.06 2.06-.94-2.06-.94L8.5 2.5l-.94 2.06-2.06.94zm10 10l.94 2.06.94-2.06 2.06-.94-2.06-.94-.94-2.06-.94 2.06-2.06.94z\"/><path d=\"M17.41 7.96l-1.37-1.37c-.4-.4-.92-.59-1.43-.59-.52 0-1.04.2-1.43.59L10.3 9.45l-7.72 7.72c-.78.78-.78 2.05 0 2.83L4 21.41c.39.39.9.59 1.41.59.51 0 1.02-.2 1.41-.59l7.78-7.78 2.81-2.81c.8-.78.8-2.07 0-2.86zM5.41 20L4 18.59l7.72-7.72 1.47 1.35L5.41 20z\"/>\n",
              "  </svg>\n",
              "      </button>\n",
              "      \n",
              "  <style>\n",
              "    .colab-df-container {\n",
              "      display:flex;\n",
              "      flex-wrap:wrap;\n",
              "      gap: 12px;\n",
              "    }\n",
              "\n",
              "    .colab-df-convert {\n",
              "      background-color: #E8F0FE;\n",
              "      border: none;\n",
              "      border-radius: 50%;\n",
              "      cursor: pointer;\n",
              "      display: none;\n",
              "      fill: #1967D2;\n",
              "      height: 32px;\n",
              "      padding: 0 0 0 0;\n",
              "      width: 32px;\n",
              "    }\n",
              "\n",
              "    .colab-df-convert:hover {\n",
              "      background-color: #E2EBFA;\n",
              "      box-shadow: 0px 1px 2px rgba(60, 64, 67, 0.3), 0px 1px 3px 1px rgba(60, 64, 67, 0.15);\n",
              "      fill: #174EA6;\n",
              "    }\n",
              "\n",
              "    [theme=dark] .colab-df-convert {\n",
              "      background-color: #3B4455;\n",
              "      fill: #D2E3FC;\n",
              "    }\n",
              "\n",
              "    [theme=dark] .colab-df-convert:hover {\n",
              "      background-color: #434B5C;\n",
              "      box-shadow: 0px 1px 3px 1px rgba(0, 0, 0, 0.15);\n",
              "      filter: drop-shadow(0px 1px 2px rgba(0, 0, 0, 0.3));\n",
              "      fill: #FFFFFF;\n",
              "    }\n",
              "  </style>\n",
              "\n",
              "      <script>\n",
              "        const buttonEl =\n",
              "          document.querySelector('#df-a31658c5-4701-4461-a3fa-91c2a8901349 button.colab-df-convert');\n",
              "        buttonEl.style.display =\n",
              "          google.colab.kernel.accessAllowed ? 'block' : 'none';\n",
              "\n",
              "        async function convertToInteractive(key) {\n",
              "          const element = document.querySelector('#df-a31658c5-4701-4461-a3fa-91c2a8901349');\n",
              "          const dataTable =\n",
              "            await google.colab.kernel.invokeFunction('convertToInteractive',\n",
              "                                                     [key], {});\n",
              "          if (!dataTable) return;\n",
              "\n",
              "          const docLinkHtml = 'Like what you see? Visit the ' +\n",
              "            '<a target=\"_blank\" href=https://colab.research.google.com/notebooks/data_table.ipynb>data table notebook</a>'\n",
              "            + ' to learn more about interactive tables.';\n",
              "          element.innerHTML = '';\n",
              "          dataTable['output_type'] = 'display_data';\n",
              "          await google.colab.output.renderOutput(dataTable, element);\n",
              "          const docLink = document.createElement('div');\n",
              "          docLink.innerHTML = docLinkHtml;\n",
              "          element.appendChild(docLink);\n",
              "        }\n",
              "      </script>\n",
              "    </div>\n",
              "  </div>\n",
              "  "
            ]
          },
          "metadata": {},
          "execution_count": 42
        }
      ]
    },
    {
      "cell_type": "markdown",
      "source": [
        "#### 6.3.6) NOT IN command"
      ],
      "metadata": {
        "id": "L8OLL6ImYXgR"
      }
    },
    {
      "cell_type": "markdown",
      "source": [
        "Here we select the columns `county`, `qty_sold` and `total_sold` from the `sales` table. Notice that the last 2 variables mentioned above refer to `COUNT(sales.item)` and `SUM(sales.total)`. The analysis is limited to unique combinations of counties considering descriptions that include neither 'Black Velvet' nor 'Hawkeye Vodka' and considering the counties of 'Polk', 'Linn', 'Scott' . The selected variables were grouped by `county`. The results are organized by `total_sold` in a descending order. The display is limited to the 3 first rows."
      ],
      "metadata": {
        "id": "q8tjizsWZWKY"
      }
    },
    {
      "cell_type": "code",
      "source": [
        "# Connect to the table in the database\n",
        "connection = psycopg2.connect(user = 'postgres', password = 'postgres', host = 'localhost', database = 'tfio_demo')\n",
        "cursor = connection.cursor()\n",
        "\n",
        "# Create SQL query\n",
        "cursor.execute(\" SELECT DISTINCT sales.county, COUNT(sales.item) as qty_sold, SUM(sales.total) as total_sold \\\n",
        "                 FROM sales \\\n",
        "                 WHERE sales.description NOT IN('Black Velvet','Hawkeye Vodka') \\\n",
        "                 AND sales.county IN('Polk', 'Linn', 'Scott') \\\n",
        "                 GROUP BY sales.county \\\n",
        "                 ORDER BY total_sold \\\n",
        "                 DESC \\\n",
        "                 LIMIT 3;\")\n",
        "table_contacts = cursor.fetchall()\n",
        "\n",
        "# Turn the results of the query into a dataframe for visualization of the results\n",
        "pd.DataFrame((table_contacts) , columns=[[desc[0] for desc in cursor.description]])"
      ],
      "metadata": {
        "id": "kFDt17ACXxMh",
        "colab": {
          "base_uri": "https://localhost:8080/",
          "height": 143
        },
        "outputId": "03366f46-1983-4e56-8bac-41811393978a"
      },
      "execution_count": 43,
      "outputs": [
        {
          "output_type": "execute_result",
          "data": {
            "text/plain": [
              "  county qty_sold   total_sold\n",
              "0   Polk   533688  82282998.47\n",
              "1   Linn   238524  32093731.58\n",
              "2  Scott   182849  27170229.69"
            ],
            "text/html": [
              "\n",
              "  <div id=\"df-ce040a8a-0592-4541-9b6e-d7bdd99e7b0b\">\n",
              "    <div class=\"colab-df-container\">\n",
              "      <div>\n",
              "<style scoped>\n",
              "    .dataframe tbody tr th:only-of-type {\n",
              "        vertical-align: middle;\n",
              "    }\n",
              "\n",
              "    .dataframe tbody tr th {\n",
              "        vertical-align: top;\n",
              "    }\n",
              "\n",
              "    .dataframe thead tr th {\n",
              "        text-align: left;\n",
              "    }\n",
              "</style>\n",
              "<table border=\"1\" class=\"dataframe\">\n",
              "  <thead>\n",
              "    <tr>\n",
              "      <th></th>\n",
              "      <th>county</th>\n",
              "      <th>qty_sold</th>\n",
              "      <th>total_sold</th>\n",
              "    </tr>\n",
              "  </thead>\n",
              "  <tbody>\n",
              "    <tr>\n",
              "      <th>0</th>\n",
              "      <td>Polk</td>\n",
              "      <td>533688</td>\n",
              "      <td>82282998.47</td>\n",
              "    </tr>\n",
              "    <tr>\n",
              "      <th>1</th>\n",
              "      <td>Linn</td>\n",
              "      <td>238524</td>\n",
              "      <td>32093731.58</td>\n",
              "    </tr>\n",
              "    <tr>\n",
              "      <th>2</th>\n",
              "      <td>Scott</td>\n",
              "      <td>182849</td>\n",
              "      <td>27170229.69</td>\n",
              "    </tr>\n",
              "  </tbody>\n",
              "</table>\n",
              "</div>\n",
              "      <button class=\"colab-df-convert\" onclick=\"convertToInteractive('df-ce040a8a-0592-4541-9b6e-d7bdd99e7b0b')\"\n",
              "              title=\"Convert this dataframe to an interactive table.\"\n",
              "              style=\"display:none;\">\n",
              "        \n",
              "  <svg xmlns=\"http://www.w3.org/2000/svg\" height=\"24px\"viewBox=\"0 0 24 24\"\n",
              "       width=\"24px\">\n",
              "    <path d=\"M0 0h24v24H0V0z\" fill=\"none\"/>\n",
              "    <path d=\"M18.56 5.44l.94 2.06.94-2.06 2.06-.94-2.06-.94-.94-2.06-.94 2.06-2.06.94zm-11 1L8.5 8.5l.94-2.06 2.06-.94-2.06-.94L8.5 2.5l-.94 2.06-2.06.94zm10 10l.94 2.06.94-2.06 2.06-.94-2.06-.94-.94-2.06-.94 2.06-2.06.94z\"/><path d=\"M17.41 7.96l-1.37-1.37c-.4-.4-.92-.59-1.43-.59-.52 0-1.04.2-1.43.59L10.3 9.45l-7.72 7.72c-.78.78-.78 2.05 0 2.83L4 21.41c.39.39.9.59 1.41.59.51 0 1.02-.2 1.41-.59l7.78-7.78 2.81-2.81c.8-.78.8-2.07 0-2.86zM5.41 20L4 18.59l7.72-7.72 1.47 1.35L5.41 20z\"/>\n",
              "  </svg>\n",
              "      </button>\n",
              "      \n",
              "  <style>\n",
              "    .colab-df-container {\n",
              "      display:flex;\n",
              "      flex-wrap:wrap;\n",
              "      gap: 12px;\n",
              "    }\n",
              "\n",
              "    .colab-df-convert {\n",
              "      background-color: #E8F0FE;\n",
              "      border: none;\n",
              "      border-radius: 50%;\n",
              "      cursor: pointer;\n",
              "      display: none;\n",
              "      fill: #1967D2;\n",
              "      height: 32px;\n",
              "      padding: 0 0 0 0;\n",
              "      width: 32px;\n",
              "    }\n",
              "\n",
              "    .colab-df-convert:hover {\n",
              "      background-color: #E2EBFA;\n",
              "      box-shadow: 0px 1px 2px rgba(60, 64, 67, 0.3), 0px 1px 3px 1px rgba(60, 64, 67, 0.15);\n",
              "      fill: #174EA6;\n",
              "    }\n",
              "\n",
              "    [theme=dark] .colab-df-convert {\n",
              "      background-color: #3B4455;\n",
              "      fill: #D2E3FC;\n",
              "    }\n",
              "\n",
              "    [theme=dark] .colab-df-convert:hover {\n",
              "      background-color: #434B5C;\n",
              "      box-shadow: 0px 1px 3px 1px rgba(0, 0, 0, 0.15);\n",
              "      filter: drop-shadow(0px 1px 2px rgba(0, 0, 0, 0.3));\n",
              "      fill: #FFFFFF;\n",
              "    }\n",
              "  </style>\n",
              "\n",
              "      <script>\n",
              "        const buttonEl =\n",
              "          document.querySelector('#df-ce040a8a-0592-4541-9b6e-d7bdd99e7b0b button.colab-df-convert');\n",
              "        buttonEl.style.display =\n",
              "          google.colab.kernel.accessAllowed ? 'block' : 'none';\n",
              "\n",
              "        async function convertToInteractive(key) {\n",
              "          const element = document.querySelector('#df-ce040a8a-0592-4541-9b6e-d7bdd99e7b0b');\n",
              "          const dataTable =\n",
              "            await google.colab.kernel.invokeFunction('convertToInteractive',\n",
              "                                                     [key], {});\n",
              "          if (!dataTable) return;\n",
              "\n",
              "          const docLinkHtml = 'Like what you see? Visit the ' +\n",
              "            '<a target=\"_blank\" href=https://colab.research.google.com/notebooks/data_table.ipynb>data table notebook</a>'\n",
              "            + ' to learn more about interactive tables.';\n",
              "          element.innerHTML = '';\n",
              "          dataTable['output_type'] = 'display_data';\n",
              "          await google.colab.output.renderOutput(dataTable, element);\n",
              "          const docLink = document.createElement('div');\n",
              "          docLink.innerHTML = docLinkHtml;\n",
              "          element.appendChild(docLink);\n",
              "        }\n",
              "      </script>\n",
              "    </div>\n",
              "  </div>\n",
              "  "
            ]
          },
          "metadata": {},
          "execution_count": 43
        }
      ]
    },
    {
      "cell_type": "markdown",
      "source": [
        "#### 6.3.7) Summary"
      ],
      "metadata": {
        "id": "EcuyP8tfaX2B"
      }
    },
    {
      "cell_type": "markdown",
      "source": [
        "The following summary is provided in the second article that was referenced in part 1:\n",
        "- `DISTINCT` and `GROUP BY` provide insights into aggregated slices of the data.\n",
        "- `COUNTing` the quantity of a group member can provide valuable insight.\n",
        "- Compound conditions can be joined by `AND` in queries.\n",
        "- `HAVING` further filters aggregated data, in addition to filtering applied to raw data by the `WHERE` clause."
      ],
      "metadata": {
        "id": "pHOwlq7ZagYY"
      }
    },
    {
      "cell_type": "markdown",
      "source": [
        "### 6.4) JOIN command"
      ],
      "metadata": {
        "id": "RpriFCZiaslR"
      }
    },
    {
      "cell_type": "markdown",
      "source": [
        "Just as we organize belongings into separate storage areas, data needed for analysis is often stored in multiple locations. SQL enables you to easily combine data from multiple resources, if you have a unique identifier to bridge between the data tables. Connecting data sources is established with the `FROM` clause, identifying the source tables and the fields which are candidates for the unique connection. We’ll begin with the `INNER JOIN`, which returns only the records that match exactly from both tables. The basic command frame for the `SELECT` statement remains the same, with some new additions. When referencing columns within a `JOIN` query, use the formal labeling for column names, meaning table name together with column name separated by a period, for clear identification. The structure to `JOIN` two tables within the `FROM` clause is accomplished as follows:\n",
        "\n",
        " > **FROM** *(primary table name here)* <br>\n",
        " > **INNER JOIN** *(secondary table here)* <br>\n",
        " > **ON** *(primary_table.field_from_primary = secondary_table.field_from_secondary)*"
      ],
      "metadata": {
        "id": "iubKGpx_kzmS"
      }
    },
    {
      "cell_type": "markdown",
      "source": [
        "#### 6.4.1) INNER JOIN command"
      ],
      "metadata": {
        "id": "Sk7Tf8TBl55y"
      }
    },
    {
      "cell_type": "markdown",
      "source": [
        "Here we select the columns `store_number`, `name`, `store_address` and `total_sold` from the join of the `sales2016` and `stores` tables. Notice that the last variable mentioned above refers to `SUM(sales2016.sale_dollars)`.  The `INNER JOIN` command used the columns `store_number` and `store` to merge the tables. The selected variables were grouped by `store_number`, `name` and `store_address`. The results are organized by `total_sold` in a descending order. The display is limited to the 3 first rows."
      ],
      "metadata": {
        "id": "f0sUk3PupihJ"
      }
    },
    {
      "cell_type": "code",
      "source": [
        " # Connect to the table in the database\n",
        "connection = psycopg2.connect(user = 'postgres', password = 'postgres', host = 'localhost', database = 'tfio_demo')\n",
        "cursor = connection.cursor()\n",
        "\n",
        "# Create SQL query\n",
        "cursor.execute(\"SELECT sales_2016.store_number, stores.name, stores.store_address, SUM(sales_2016.sale_dollars) AS total_sold \\\n",
        "                FROM sales_2016 \\\n",
        "                INNER JOIN stores ON sales_2016.store_number = stores.store \\\n",
        "                GROUP BY sales_2016.store_number, stores.name, stores.store_address \\\n",
        "                ORDER BY total_sold \\\n",
        "                DESC \\\n",
        "                LIMIT 3;\")\n",
        "table_contacts = cursor.fetchall()\n",
        "\n",
        "# Turn the results of the query into a dataframe for visualization of the results\n",
        "pd.DataFrame((table_contacts) , columns=[[desc[0] for desc in cursor.description]])"
      ],
      "metadata": {
        "colab": {
          "base_uri": "https://localhost:8080/",
          "height": 143
        },
        "id": "EiQcX1D3ldYD",
        "outputId": "c78367f2-44a4-46de-d4eb-ed23593f0ac5"
      },
      "execution_count": 44,
      "outputs": [
        {
          "output_type": "execute_result",
          "data": {
            "text/plain": [
              "  store_number                                 name  \\\n",
              "0         2633         Hy-vee #3 / Bdi / Des Moines   \n",
              "1         4829                       Central City 2   \n",
              "2         2512  Hy-vee Wine and Spirits / Iowa City   \n",
              "\n",
              "                                       store_address  total_sold  \n",
              "0  3221 Se 14th St\\nDes Moines, IA 503200000\\n(41...  7904425.39  \n",
              "1  1501 Michigan Ave\\nDes Moines, IA 50314\\n(41.6...  7156755.00  \n",
              "2  1720 Waterfront Dr\\nIowa City, IA 522400000\\n(...  3400203.01  "
            ],
            "text/html": [
              "\n",
              "  <div id=\"df-e0661353-c3ae-4b5f-bc2c-f075674fe939\">\n",
              "    <div class=\"colab-df-container\">\n",
              "      <div>\n",
              "<style scoped>\n",
              "    .dataframe tbody tr th:only-of-type {\n",
              "        vertical-align: middle;\n",
              "    }\n",
              "\n",
              "    .dataframe tbody tr th {\n",
              "        vertical-align: top;\n",
              "    }\n",
              "\n",
              "    .dataframe thead tr th {\n",
              "        text-align: left;\n",
              "    }\n",
              "</style>\n",
              "<table border=\"1\" class=\"dataframe\">\n",
              "  <thead>\n",
              "    <tr>\n",
              "      <th></th>\n",
              "      <th>store_number</th>\n",
              "      <th>name</th>\n",
              "      <th>store_address</th>\n",
              "      <th>total_sold</th>\n",
              "    </tr>\n",
              "  </thead>\n",
              "  <tbody>\n",
              "    <tr>\n",
              "      <th>0</th>\n",
              "      <td>2633</td>\n",
              "      <td>Hy-vee #3 / Bdi / Des Moines</td>\n",
              "      <td>3221 Se 14th St\\nDes Moines, IA 503200000\\n(41...</td>\n",
              "      <td>7904425.39</td>\n",
              "    </tr>\n",
              "    <tr>\n",
              "      <th>1</th>\n",
              "      <td>4829</td>\n",
              "      <td>Central City 2</td>\n",
              "      <td>1501 Michigan Ave\\nDes Moines, IA 50314\\n(41.6...</td>\n",
              "      <td>7156755.00</td>\n",
              "    </tr>\n",
              "    <tr>\n",
              "      <th>2</th>\n",
              "      <td>2512</td>\n",
              "      <td>Hy-vee Wine and Spirits / Iowa City</td>\n",
              "      <td>1720 Waterfront Dr\\nIowa City, IA 522400000\\n(...</td>\n",
              "      <td>3400203.01</td>\n",
              "    </tr>\n",
              "  </tbody>\n",
              "</table>\n",
              "</div>\n",
              "      <button class=\"colab-df-convert\" onclick=\"convertToInteractive('df-e0661353-c3ae-4b5f-bc2c-f075674fe939')\"\n",
              "              title=\"Convert this dataframe to an interactive table.\"\n",
              "              style=\"display:none;\">\n",
              "        \n",
              "  <svg xmlns=\"http://www.w3.org/2000/svg\" height=\"24px\"viewBox=\"0 0 24 24\"\n",
              "       width=\"24px\">\n",
              "    <path d=\"M0 0h24v24H0V0z\" fill=\"none\"/>\n",
              "    <path d=\"M18.56 5.44l.94 2.06.94-2.06 2.06-.94-2.06-.94-.94-2.06-.94 2.06-2.06.94zm-11 1L8.5 8.5l.94-2.06 2.06-.94-2.06-.94L8.5 2.5l-.94 2.06-2.06.94zm10 10l.94 2.06.94-2.06 2.06-.94-2.06-.94-.94-2.06-.94 2.06-2.06.94z\"/><path d=\"M17.41 7.96l-1.37-1.37c-.4-.4-.92-.59-1.43-.59-.52 0-1.04.2-1.43.59L10.3 9.45l-7.72 7.72c-.78.78-.78 2.05 0 2.83L4 21.41c.39.39.9.59 1.41.59.51 0 1.02-.2 1.41-.59l7.78-7.78 2.81-2.81c.8-.78.8-2.07 0-2.86zM5.41 20L4 18.59l7.72-7.72 1.47 1.35L5.41 20z\"/>\n",
              "  </svg>\n",
              "      </button>\n",
              "      \n",
              "  <style>\n",
              "    .colab-df-container {\n",
              "      display:flex;\n",
              "      flex-wrap:wrap;\n",
              "      gap: 12px;\n",
              "    }\n",
              "\n",
              "    .colab-df-convert {\n",
              "      background-color: #E8F0FE;\n",
              "      border: none;\n",
              "      border-radius: 50%;\n",
              "      cursor: pointer;\n",
              "      display: none;\n",
              "      fill: #1967D2;\n",
              "      height: 32px;\n",
              "      padding: 0 0 0 0;\n",
              "      width: 32px;\n",
              "    }\n",
              "\n",
              "    .colab-df-convert:hover {\n",
              "      background-color: #E2EBFA;\n",
              "      box-shadow: 0px 1px 2px rgba(60, 64, 67, 0.3), 0px 1px 3px 1px rgba(60, 64, 67, 0.15);\n",
              "      fill: #174EA6;\n",
              "    }\n",
              "\n",
              "    [theme=dark] .colab-df-convert {\n",
              "      background-color: #3B4455;\n",
              "      fill: #D2E3FC;\n",
              "    }\n",
              "\n",
              "    [theme=dark] .colab-df-convert:hover {\n",
              "      background-color: #434B5C;\n",
              "      box-shadow: 0px 1px 3px 1px rgba(0, 0, 0, 0.15);\n",
              "      filter: drop-shadow(0px 1px 2px rgba(0, 0, 0, 0.3));\n",
              "      fill: #FFFFFF;\n",
              "    }\n",
              "  </style>\n",
              "\n",
              "      <script>\n",
              "        const buttonEl =\n",
              "          document.querySelector('#df-e0661353-c3ae-4b5f-bc2c-f075674fe939 button.colab-df-convert');\n",
              "        buttonEl.style.display =\n",
              "          google.colab.kernel.accessAllowed ? 'block' : 'none';\n",
              "\n",
              "        async function convertToInteractive(key) {\n",
              "          const element = document.querySelector('#df-e0661353-c3ae-4b5f-bc2c-f075674fe939');\n",
              "          const dataTable =\n",
              "            await google.colab.kernel.invokeFunction('convertToInteractive',\n",
              "                                                     [key], {});\n",
              "          if (!dataTable) return;\n",
              "\n",
              "          const docLinkHtml = 'Like what you see? Visit the ' +\n",
              "            '<a target=\"_blank\" href=https://colab.research.google.com/notebooks/data_table.ipynb>data table notebook</a>'\n",
              "            + ' to learn more about interactive tables.';\n",
              "          element.innerHTML = '';\n",
              "          dataTable['output_type'] = 'display_data';\n",
              "          await google.colab.output.renderOutput(dataTable, element);\n",
              "          const docLink = document.createElement('div');\n",
              "          docLink.innerHTML = docLinkHtml;\n",
              "          element.appendChild(docLink);\n",
              "        }\n",
              "      </script>\n",
              "    </div>\n",
              "  </div>\n",
              "  "
            ]
          },
          "metadata": {},
          "execution_count": 44
        }
      ]
    },
    {
      "cell_type": "markdown",
      "source": [
        "#### 6.4.2) Divide one column by another (feature creation)"
      ],
      "metadata": {
        "id": "TEgUzur5rB_C"
      }
    },
    {
      "cell_type": "markdown",
      "source": [
        "Here we select the columns `county`, `total_sold`, `population` and `per_capita_spend` from the join of the `sales2016` and `counties` tables. Notice that the the variables `total_sold` and `per_capita_spend` mentioned above refer to `SUM(sales2016.sale_dollars)` and `ROUND((SUM(sales2016.sale_dollars)/(counties.population)),2)`.  The `INNER JOIN` command used the column `county` to merge the tables. The selected variables were grouped by `county` and `population`. The results are organized by `per_capita_spend` in a descending order. The display is limited to the 3 first rows."
      ],
      "metadata": {
        "id": "anlNpLPet00Z"
      }
    },
    {
      "cell_type": "code",
      "source": [
        " # Connect to the table in the database\n",
        "connection = psycopg2.connect(user = 'postgres', password = 'postgres', host = 'localhost', database = 'tfio_demo')\n",
        "cursor = connection.cursor()\n",
        "\n",
        "# Create SQL query\n",
        "cursor.execute(\"SELECT sales_2016.county, SUM(sales_2016.sale_dollars) AS total_sold, counties.population, \\\n",
        "                ROUND((SUM(sales_2016.sale_dollars)/(counties.population)),2) AS per_capita_spend \\\n",
        "                FROM sales_2016 \\\n",
        "                INNER JOIN counties USING(county) \\\n",
        "                GROUP BY sales_2016.county, counties.population \\\n",
        "                ORDER BY per_capita_spend \\\n",
        "                DESC \\\n",
        "                LIMIT 3;\")\n",
        "table_contacts = cursor.fetchall()\n",
        "\n",
        "# Turn the results of the query into a dataframe for visualization of the results\n",
        "pd.DataFrame((table_contacts) , columns=[[desc[0] for desc in cursor.description]])"
      ],
      "metadata": {
        "colab": {
          "base_uri": "https://localhost:8080/",
          "height": 143
        },
        "id": "LXTBmDuKsLxB",
        "outputId": "5545292b-3ef4-44e8-b768-db9169b7d4de"
      },
      "execution_count": 45,
      "outputs": [
        {
          "output_type": "execute_result",
          "data": {
            "text/plain": [
              "        county   total_sold population per_capita_spend\n",
              "0    Dickinson   3112712.41      16667           186.76\n",
              "1         Polk  42400328.31     430640            98.46\n",
              "2  Cerro Gordo   3617023.05      44151            81.92"
            ],
            "text/html": [
              "\n",
              "  <div id=\"df-49ce9bc2-4b87-416d-8374-04241a652d4c\">\n",
              "    <div class=\"colab-df-container\">\n",
              "      <div>\n",
              "<style scoped>\n",
              "    .dataframe tbody tr th:only-of-type {\n",
              "        vertical-align: middle;\n",
              "    }\n",
              "\n",
              "    .dataframe tbody tr th {\n",
              "        vertical-align: top;\n",
              "    }\n",
              "\n",
              "    .dataframe thead tr th {\n",
              "        text-align: left;\n",
              "    }\n",
              "</style>\n",
              "<table border=\"1\" class=\"dataframe\">\n",
              "  <thead>\n",
              "    <tr>\n",
              "      <th></th>\n",
              "      <th>county</th>\n",
              "      <th>total_sold</th>\n",
              "      <th>population</th>\n",
              "      <th>per_capita_spend</th>\n",
              "    </tr>\n",
              "  </thead>\n",
              "  <tbody>\n",
              "    <tr>\n",
              "      <th>0</th>\n",
              "      <td>Dickinson</td>\n",
              "      <td>3112712.41</td>\n",
              "      <td>16667</td>\n",
              "      <td>186.76</td>\n",
              "    </tr>\n",
              "    <tr>\n",
              "      <th>1</th>\n",
              "      <td>Polk</td>\n",
              "      <td>42400328.31</td>\n",
              "      <td>430640</td>\n",
              "      <td>98.46</td>\n",
              "    </tr>\n",
              "    <tr>\n",
              "      <th>2</th>\n",
              "      <td>Cerro Gordo</td>\n",
              "      <td>3617023.05</td>\n",
              "      <td>44151</td>\n",
              "      <td>81.92</td>\n",
              "    </tr>\n",
              "  </tbody>\n",
              "</table>\n",
              "</div>\n",
              "      <button class=\"colab-df-convert\" onclick=\"convertToInteractive('df-49ce9bc2-4b87-416d-8374-04241a652d4c')\"\n",
              "              title=\"Convert this dataframe to an interactive table.\"\n",
              "              style=\"display:none;\">\n",
              "        \n",
              "  <svg xmlns=\"http://www.w3.org/2000/svg\" height=\"24px\"viewBox=\"0 0 24 24\"\n",
              "       width=\"24px\">\n",
              "    <path d=\"M0 0h24v24H0V0z\" fill=\"none\"/>\n",
              "    <path d=\"M18.56 5.44l.94 2.06.94-2.06 2.06-.94-2.06-.94-.94-2.06-.94 2.06-2.06.94zm-11 1L8.5 8.5l.94-2.06 2.06-.94-2.06-.94L8.5 2.5l-.94 2.06-2.06.94zm10 10l.94 2.06.94-2.06 2.06-.94-2.06-.94-.94-2.06-.94 2.06-2.06.94z\"/><path d=\"M17.41 7.96l-1.37-1.37c-.4-.4-.92-.59-1.43-.59-.52 0-1.04.2-1.43.59L10.3 9.45l-7.72 7.72c-.78.78-.78 2.05 0 2.83L4 21.41c.39.39.9.59 1.41.59.51 0 1.02-.2 1.41-.59l7.78-7.78 2.81-2.81c.8-.78.8-2.07 0-2.86zM5.41 20L4 18.59l7.72-7.72 1.47 1.35L5.41 20z\"/>\n",
              "  </svg>\n",
              "      </button>\n",
              "      \n",
              "  <style>\n",
              "    .colab-df-container {\n",
              "      display:flex;\n",
              "      flex-wrap:wrap;\n",
              "      gap: 12px;\n",
              "    }\n",
              "\n",
              "    .colab-df-convert {\n",
              "      background-color: #E8F0FE;\n",
              "      border: none;\n",
              "      border-radius: 50%;\n",
              "      cursor: pointer;\n",
              "      display: none;\n",
              "      fill: #1967D2;\n",
              "      height: 32px;\n",
              "      padding: 0 0 0 0;\n",
              "      width: 32px;\n",
              "    }\n",
              "\n",
              "    .colab-df-convert:hover {\n",
              "      background-color: #E2EBFA;\n",
              "      box-shadow: 0px 1px 2px rgba(60, 64, 67, 0.3), 0px 1px 3px 1px rgba(60, 64, 67, 0.15);\n",
              "      fill: #174EA6;\n",
              "    }\n",
              "\n",
              "    [theme=dark] .colab-df-convert {\n",
              "      background-color: #3B4455;\n",
              "      fill: #D2E3FC;\n",
              "    }\n",
              "\n",
              "    [theme=dark] .colab-df-convert:hover {\n",
              "      background-color: #434B5C;\n",
              "      box-shadow: 0px 1px 3px 1px rgba(0, 0, 0, 0.15);\n",
              "      filter: drop-shadow(0px 1px 2px rgba(0, 0, 0, 0.3));\n",
              "      fill: #FFFFFF;\n",
              "    }\n",
              "  </style>\n",
              "\n",
              "      <script>\n",
              "        const buttonEl =\n",
              "          document.querySelector('#df-49ce9bc2-4b87-416d-8374-04241a652d4c button.colab-df-convert');\n",
              "        buttonEl.style.display =\n",
              "          google.colab.kernel.accessAllowed ? 'block' : 'none';\n",
              "\n",
              "        async function convertToInteractive(key) {\n",
              "          const element = document.querySelector('#df-49ce9bc2-4b87-416d-8374-04241a652d4c');\n",
              "          const dataTable =\n",
              "            await google.colab.kernel.invokeFunction('convertToInteractive',\n",
              "                                                     [key], {});\n",
              "          if (!dataTable) return;\n",
              "\n",
              "          const docLinkHtml = 'Like what you see? Visit the ' +\n",
              "            '<a target=\"_blank\" href=https://colab.research.google.com/notebooks/data_table.ipynb>data table notebook</a>'\n",
              "            + ' to learn more about interactive tables.';\n",
              "          element.innerHTML = '';\n",
              "          dataTable['output_type'] = 'display_data';\n",
              "          await google.colab.output.renderOutput(dataTable, element);\n",
              "          const docLink = document.createElement('div');\n",
              "          docLink.innerHTML = docLinkHtml;\n",
              "          element.appendChild(docLink);\n",
              "        }\n",
              "      </script>\n",
              "    </div>\n",
              "  </div>\n",
              "  "
            ]
          },
          "metadata": {},
          "execution_count": 45
        }
      ]
    },
    {
      "cell_type": "markdown",
      "source": [
        "#### 6.4.3) COUNT + DISTINCT commands"
      ],
      "metadata": {
        "id": "Dj_SRTUruk9x"
      }
    },
    {
      "cell_type": "markdown",
      "source": [
        "Here we select the columns `county`, `qty_stores`, `total_sales`, `county_population` and `num_people_per_store` from the join of the `sales_2016` and `counties` tables. Notice that the the variables `qty_stores`, `total_sales` and `num_people_per_store` mentioned above refer to `COUNT(DISTINCT sales_2016.store_number)`, `SUM(sales_2016.sale_dollars)` and `(counties.population/(COUNT(DISTINCT sales_2016.store_number)))`.  The `INNER JOIN` command used the column `county` to merge the tables. Notice that the selection is limited to the counties of 'Dickinson', 'Polk', 'Johnson' and 'Cerro Gordo'. The selected variables were grouped by `county` and then `population`. The results are organized by `total_sales` in a descending order. The display is limited to the 3 first rows."
      ],
      "metadata": {
        "id": "sJogzcXFv9qJ"
      }
    },
    {
      "cell_type": "code",
      "source": [
        " # Connect to the table in the database\n",
        "connection = psycopg2.connect(user = 'postgres', password = 'postgres', host = 'localhost', database = 'tfio_demo')\n",
        "cursor = connection.cursor()\n",
        "\n",
        "# Create SQL query\n",
        "cursor.execute(\"SELECT sales_2016.county, COUNT(DISTINCT sales_2016.store_number) AS qty_stores, SUM(sales_2016.sale_dollars) AS total_sales, \\\n",
        "                counties.population AS county_population, (counties.population/(COUNT(DISTINCT sales_2016.store_number))) AS num_people_per_store \\\n",
        "                FROM sales_2016 INNER JOIN counties USING(county) \\\n",
        "                WHERE sales_2016.county IN('Dickinson', 'Polk', 'Johnson', 'Cerro Gordo' ) \\\n",
        "                GROUP BY sales_2016.county, counties.population \\\n",
        "                ORDER BY total_sales DESC \\\n",
        "                LIMIT 3;\")\n",
        "table_contacts = cursor.fetchall()\n",
        "\n",
        "# Turn the results of the query into a dataframe for visualization of the results\n",
        "pd.DataFrame((table_contacts) , columns=[[desc[0] for desc in cursor.description]])"
      ],
      "metadata": {
        "colab": {
          "base_uri": "https://localhost:8080/",
          "height": 143
        },
        "id": "cj8dF_doulUY",
        "outputId": "10265ffa-09e6-4016-bbe9-ea9ec8d82fb9"
      },
      "execution_count": 46,
      "outputs": [
        {
          "output_type": "execute_result",
          "data": {
            "text/plain": [
              "        county qty_stores  total_sales county_population num_people_per_store\n",
              "0         Polk        188  42400328.31            430640                 2290\n",
              "1      Johnson         50  10509392.26            130882                 2617\n",
              "2  Cerro Gordo         20   3617023.05             44151                 2207"
            ],
            "text/html": [
              "\n",
              "  <div id=\"df-439c0edb-ac9d-4c83-bb5d-a8682824af2f\">\n",
              "    <div class=\"colab-df-container\">\n",
              "      <div>\n",
              "<style scoped>\n",
              "    .dataframe tbody tr th:only-of-type {\n",
              "        vertical-align: middle;\n",
              "    }\n",
              "\n",
              "    .dataframe tbody tr th {\n",
              "        vertical-align: top;\n",
              "    }\n",
              "\n",
              "    .dataframe thead tr th {\n",
              "        text-align: left;\n",
              "    }\n",
              "</style>\n",
              "<table border=\"1\" class=\"dataframe\">\n",
              "  <thead>\n",
              "    <tr>\n",
              "      <th></th>\n",
              "      <th>county</th>\n",
              "      <th>qty_stores</th>\n",
              "      <th>total_sales</th>\n",
              "      <th>county_population</th>\n",
              "      <th>num_people_per_store</th>\n",
              "    </tr>\n",
              "  </thead>\n",
              "  <tbody>\n",
              "    <tr>\n",
              "      <th>0</th>\n",
              "      <td>Polk</td>\n",
              "      <td>188</td>\n",
              "      <td>42400328.31</td>\n",
              "      <td>430640</td>\n",
              "      <td>2290</td>\n",
              "    </tr>\n",
              "    <tr>\n",
              "      <th>1</th>\n",
              "      <td>Johnson</td>\n",
              "      <td>50</td>\n",
              "      <td>10509392.26</td>\n",
              "      <td>130882</td>\n",
              "      <td>2617</td>\n",
              "    </tr>\n",
              "    <tr>\n",
              "      <th>2</th>\n",
              "      <td>Cerro Gordo</td>\n",
              "      <td>20</td>\n",
              "      <td>3617023.05</td>\n",
              "      <td>44151</td>\n",
              "      <td>2207</td>\n",
              "    </tr>\n",
              "  </tbody>\n",
              "</table>\n",
              "</div>\n",
              "      <button class=\"colab-df-convert\" onclick=\"convertToInteractive('df-439c0edb-ac9d-4c83-bb5d-a8682824af2f')\"\n",
              "              title=\"Convert this dataframe to an interactive table.\"\n",
              "              style=\"display:none;\">\n",
              "        \n",
              "  <svg xmlns=\"http://www.w3.org/2000/svg\" height=\"24px\"viewBox=\"0 0 24 24\"\n",
              "       width=\"24px\">\n",
              "    <path d=\"M0 0h24v24H0V0z\" fill=\"none\"/>\n",
              "    <path d=\"M18.56 5.44l.94 2.06.94-2.06 2.06-.94-2.06-.94-.94-2.06-.94 2.06-2.06.94zm-11 1L8.5 8.5l.94-2.06 2.06-.94-2.06-.94L8.5 2.5l-.94 2.06-2.06.94zm10 10l.94 2.06.94-2.06 2.06-.94-2.06-.94-.94-2.06-.94 2.06-2.06.94z\"/><path d=\"M17.41 7.96l-1.37-1.37c-.4-.4-.92-.59-1.43-.59-.52 0-1.04.2-1.43.59L10.3 9.45l-7.72 7.72c-.78.78-.78 2.05 0 2.83L4 21.41c.39.39.9.59 1.41.59.51 0 1.02-.2 1.41-.59l7.78-7.78 2.81-2.81c.8-.78.8-2.07 0-2.86zM5.41 20L4 18.59l7.72-7.72 1.47 1.35L5.41 20z\"/>\n",
              "  </svg>\n",
              "      </button>\n",
              "      \n",
              "  <style>\n",
              "    .colab-df-container {\n",
              "      display:flex;\n",
              "      flex-wrap:wrap;\n",
              "      gap: 12px;\n",
              "    }\n",
              "\n",
              "    .colab-df-convert {\n",
              "      background-color: #E8F0FE;\n",
              "      border: none;\n",
              "      border-radius: 50%;\n",
              "      cursor: pointer;\n",
              "      display: none;\n",
              "      fill: #1967D2;\n",
              "      height: 32px;\n",
              "      padding: 0 0 0 0;\n",
              "      width: 32px;\n",
              "    }\n",
              "\n",
              "    .colab-df-convert:hover {\n",
              "      background-color: #E2EBFA;\n",
              "      box-shadow: 0px 1px 2px rgba(60, 64, 67, 0.3), 0px 1px 3px 1px rgba(60, 64, 67, 0.15);\n",
              "      fill: #174EA6;\n",
              "    }\n",
              "\n",
              "    [theme=dark] .colab-df-convert {\n",
              "      background-color: #3B4455;\n",
              "      fill: #D2E3FC;\n",
              "    }\n",
              "\n",
              "    [theme=dark] .colab-df-convert:hover {\n",
              "      background-color: #434B5C;\n",
              "      box-shadow: 0px 1px 3px 1px rgba(0, 0, 0, 0.15);\n",
              "      filter: drop-shadow(0px 1px 2px rgba(0, 0, 0, 0.3));\n",
              "      fill: #FFFFFF;\n",
              "    }\n",
              "  </style>\n",
              "\n",
              "      <script>\n",
              "        const buttonEl =\n",
              "          document.querySelector('#df-439c0edb-ac9d-4c83-bb5d-a8682824af2f button.colab-df-convert');\n",
              "        buttonEl.style.display =\n",
              "          google.colab.kernel.accessAllowed ? 'block' : 'none';\n",
              "\n",
              "        async function convertToInteractive(key) {\n",
              "          const element = document.querySelector('#df-439c0edb-ac9d-4c83-bb5d-a8682824af2f');\n",
              "          const dataTable =\n",
              "            await google.colab.kernel.invokeFunction('convertToInteractive',\n",
              "                                                     [key], {});\n",
              "          if (!dataTable) return;\n",
              "\n",
              "          const docLinkHtml = 'Like what you see? Visit the ' +\n",
              "            '<a target=\"_blank\" href=https://colab.research.google.com/notebooks/data_table.ipynb>data table notebook</a>'\n",
              "            + ' to learn more about interactive tables.';\n",
              "          element.innerHTML = '';\n",
              "          dataTable['output_type'] = 'display_data';\n",
              "          await google.colab.output.renderOutput(dataTable, element);\n",
              "          const docLink = document.createElement('div');\n",
              "          docLink.innerHTML = docLinkHtml;\n",
              "          element.appendChild(docLink);\n",
              "        }\n",
              "      </script>\n",
              "    </div>\n",
              "  </div>\n",
              "  "
            ]
          },
          "metadata": {},
          "execution_count": 46
        }
      ]
    },
    {
      "cell_type": "markdown",
      "source": [
        "#### 6.4.4) IS NOT NULL command"
      ],
      "metadata": {
        "id": "BgjTNfzsxknd"
      }
    },
    {
      "cell_type": "markdown",
      "source": [
        "Here we select the columns `county`, `store_number`, `store_name`, `qty_sold`, `avg_sale_price` and `total_sold` from the join of the `sales_2016` and `convenience` tables. Notice that the the 3 lasts variables mentioned above refer to `COUNT(sales_2016.sale_dollars)`, `ROUND(AVG(sales_2016.sale_dollars),2)` and `SUM(sales_2016.sale_dollars)`.  The `INNER JOIN` command used the columns `store_numbers` and `store` to merge the tables. Notice that the selection is limited stores values that are not NULL and to the counties of 'Dickinson', 'Polk' and 'Johnson'. The selected variables were grouped by `county`, `store_number` and `store_names`. The results are organized by `county` and then `total_sold` in a descending order. The display is limited to the 3 first rows."
      ],
      "metadata": {
        "id": "9ejSSHzMyelB"
      }
    },
    {
      "cell_type": "code",
      "source": [
        " # Connect to the table in the database\n",
        "connection = psycopg2.connect(user = 'postgres', password = 'postgres', host = 'localhost', database = 'tfio_demo')\n",
        "cursor = connection.cursor()\n",
        "\n",
        "# Create SQL query\n",
        "cursor.execute(\" SELECT sales_2016.county, sales_2016.store_number, sales_2016.store_name, COUNT(sales_2016.sale_dollars) AS qty_sold, \\\n",
        "                 ROUND(AVG(sales_2016.sale_dollars),2) AS avg_sale_price, SUM(sales_2016.sale_dollars) AS total_sold \\\n",
        "                 FROM sales_2016 \\\n",
        "                 INNER JOIN convenience ON sales_2016.store_number = convenience.store \\\n",
        "                 WHERE convenience.store IS NOT NULL AND sales_2016.county IN('Johnson','Dickinson', 'Polk') \\\n",
        "                 GROUP BY sales_2016.county, sales_2016.store_number, sales_2016.store_name \\\n",
        "                 ORDER BY sales_2016.county, total_sold \\\n",
        "                 DESC \\\n",
        "                 LIMIT 3;\")\n",
        "table_contacts = cursor.fetchall()\n",
        "\n",
        "# Turn the results of the query into a dataframe for visualization of the results\n",
        "pd.DataFrame((table_contacts) , columns=[[desc[0] for desc in cursor.description]])"
      ],
      "metadata": {
        "colab": {
          "base_uri": "https://localhost:8080/",
          "height": 143
        },
        "id": "butEhQ39xvxY",
        "outputId": "710b2fd7-d9cd-4e35-9fbc-f0c0f9b90388"
      },
      "execution_count": 47,
      "outputs": [
        {
          "output_type": "execute_result",
          "data": {
            "text/plain": [
              "      county store_number                   store_name qty_sold  \\\n",
              "0  Dickinson         4576               THE BOONEDOCKS      823   \n",
              "1  Dickinson         4582         Pronto / Spirit Lake      634   \n",
              "2  Dickinson         4387  KUM & GO #117 / SPIRIT LAKE      293   \n",
              "\n",
              "  avg_sale_price total_sold  \n",
              "0          92.26   75929.34  \n",
              "1          89.43   56698.15  \n",
              "2          99.13   29045.78  "
            ],
            "text/html": [
              "\n",
              "  <div id=\"df-c02fe097-7289-49a9-af39-817c7a50000e\">\n",
              "    <div class=\"colab-df-container\">\n",
              "      <div>\n",
              "<style scoped>\n",
              "    .dataframe tbody tr th:only-of-type {\n",
              "        vertical-align: middle;\n",
              "    }\n",
              "\n",
              "    .dataframe tbody tr th {\n",
              "        vertical-align: top;\n",
              "    }\n",
              "\n",
              "    .dataframe thead tr th {\n",
              "        text-align: left;\n",
              "    }\n",
              "</style>\n",
              "<table border=\"1\" class=\"dataframe\">\n",
              "  <thead>\n",
              "    <tr>\n",
              "      <th></th>\n",
              "      <th>county</th>\n",
              "      <th>store_number</th>\n",
              "      <th>store_name</th>\n",
              "      <th>qty_sold</th>\n",
              "      <th>avg_sale_price</th>\n",
              "      <th>total_sold</th>\n",
              "    </tr>\n",
              "  </thead>\n",
              "  <tbody>\n",
              "    <tr>\n",
              "      <th>0</th>\n",
              "      <td>Dickinson</td>\n",
              "      <td>4576</td>\n",
              "      <td>THE BOONEDOCKS</td>\n",
              "      <td>823</td>\n",
              "      <td>92.26</td>\n",
              "      <td>75929.34</td>\n",
              "    </tr>\n",
              "    <tr>\n",
              "      <th>1</th>\n",
              "      <td>Dickinson</td>\n",
              "      <td>4582</td>\n",
              "      <td>Pronto / Spirit Lake</td>\n",
              "      <td>634</td>\n",
              "      <td>89.43</td>\n",
              "      <td>56698.15</td>\n",
              "    </tr>\n",
              "    <tr>\n",
              "      <th>2</th>\n",
              "      <td>Dickinson</td>\n",
              "      <td>4387</td>\n",
              "      <td>KUM &amp; GO #117 / SPIRIT LAKE</td>\n",
              "      <td>293</td>\n",
              "      <td>99.13</td>\n",
              "      <td>29045.78</td>\n",
              "    </tr>\n",
              "  </tbody>\n",
              "</table>\n",
              "</div>\n",
              "      <button class=\"colab-df-convert\" onclick=\"convertToInteractive('df-c02fe097-7289-49a9-af39-817c7a50000e')\"\n",
              "              title=\"Convert this dataframe to an interactive table.\"\n",
              "              style=\"display:none;\">\n",
              "        \n",
              "  <svg xmlns=\"http://www.w3.org/2000/svg\" height=\"24px\"viewBox=\"0 0 24 24\"\n",
              "       width=\"24px\">\n",
              "    <path d=\"M0 0h24v24H0V0z\" fill=\"none\"/>\n",
              "    <path d=\"M18.56 5.44l.94 2.06.94-2.06 2.06-.94-2.06-.94-.94-2.06-.94 2.06-2.06.94zm-11 1L8.5 8.5l.94-2.06 2.06-.94-2.06-.94L8.5 2.5l-.94 2.06-2.06.94zm10 10l.94 2.06.94-2.06 2.06-.94-2.06-.94-.94-2.06-.94 2.06-2.06.94z\"/><path d=\"M17.41 7.96l-1.37-1.37c-.4-.4-.92-.59-1.43-.59-.52 0-1.04.2-1.43.59L10.3 9.45l-7.72 7.72c-.78.78-.78 2.05 0 2.83L4 21.41c.39.39.9.59 1.41.59.51 0 1.02-.2 1.41-.59l7.78-7.78 2.81-2.81c.8-.78.8-2.07 0-2.86zM5.41 20L4 18.59l7.72-7.72 1.47 1.35L5.41 20z\"/>\n",
              "  </svg>\n",
              "      </button>\n",
              "      \n",
              "  <style>\n",
              "    .colab-df-container {\n",
              "      display:flex;\n",
              "      flex-wrap:wrap;\n",
              "      gap: 12px;\n",
              "    }\n",
              "\n",
              "    .colab-df-convert {\n",
              "      background-color: #E8F0FE;\n",
              "      border: none;\n",
              "      border-radius: 50%;\n",
              "      cursor: pointer;\n",
              "      display: none;\n",
              "      fill: #1967D2;\n",
              "      height: 32px;\n",
              "      padding: 0 0 0 0;\n",
              "      width: 32px;\n",
              "    }\n",
              "\n",
              "    .colab-df-convert:hover {\n",
              "      background-color: #E2EBFA;\n",
              "      box-shadow: 0px 1px 2px rgba(60, 64, 67, 0.3), 0px 1px 3px 1px rgba(60, 64, 67, 0.15);\n",
              "      fill: #174EA6;\n",
              "    }\n",
              "\n",
              "    [theme=dark] .colab-df-convert {\n",
              "      background-color: #3B4455;\n",
              "      fill: #D2E3FC;\n",
              "    }\n",
              "\n",
              "    [theme=dark] .colab-df-convert:hover {\n",
              "      background-color: #434B5C;\n",
              "      box-shadow: 0px 1px 3px 1px rgba(0, 0, 0, 0.15);\n",
              "      filter: drop-shadow(0px 1px 2px rgba(0, 0, 0, 0.3));\n",
              "      fill: #FFFFFF;\n",
              "    }\n",
              "  </style>\n",
              "\n",
              "      <script>\n",
              "        const buttonEl =\n",
              "          document.querySelector('#df-c02fe097-7289-49a9-af39-817c7a50000e button.colab-df-convert');\n",
              "        buttonEl.style.display =\n",
              "          google.colab.kernel.accessAllowed ? 'block' : 'none';\n",
              "\n",
              "        async function convertToInteractive(key) {\n",
              "          const element = document.querySelector('#df-c02fe097-7289-49a9-af39-817c7a50000e');\n",
              "          const dataTable =\n",
              "            await google.colab.kernel.invokeFunction('convertToInteractive',\n",
              "                                                     [key], {});\n",
              "          if (!dataTable) return;\n",
              "\n",
              "          const docLinkHtml = 'Like what you see? Visit the ' +\n",
              "            '<a target=\"_blank\" href=https://colab.research.google.com/notebooks/data_table.ipynb>data table notebook</a>'\n",
              "            + ' to learn more about interactive tables.';\n",
              "          element.innerHTML = '';\n",
              "          dataTable['output_type'] = 'display_data';\n",
              "          await google.colab.output.renderOutput(dataTable, element);\n",
              "          const docLink = document.createElement('div');\n",
              "          docLink.innerHTML = docLinkHtml;\n",
              "          element.appendChild(docLink);\n",
              "        }\n",
              "      </script>\n",
              "    </div>\n",
              "  </div>\n",
              "  "
            ]
          },
          "metadata": {},
          "execution_count": 47
        }
      ]
    },
    {
      "cell_type": "markdown",
      "source": [
        "#### 6.4.5) CASE + COALESCE commands"
      ],
      "metadata": {
        "id": "if5ESHdBzuvi"
      }
    },
    {
      "cell_type": "markdown",
      "source": [
        "\n",
        "We begin the query by considering the column store_address. We get the position of the term \"IA\". Then, we consider that if the position 3 string to the right of IA plus 1 position is smaller than '1', then this value should be considered as 'no zip'. Notice that this statement is useful in the case of \"Dehner Distillery\" where no zip code is available. Instead, in this case, we have \"\\n\" following the word IA. Since \"\\n\" is smaller than \"1\", then we have 'no zip' associated with this situation. In other cases, such as when the name is 'Louisiana Spirits LLC', then there is a zip number. This number goes from 3 positions to the right of \"IA\" up until (3 + 5) positions to the right of \"IA\". In usch circumstances, the value extracted is the zip code number. These values are saved in column called zipcode. <br>\n",
        "\n",
        "Other columns are also selected. including `name`, `store_id` and `store_status`. Another piece of information is also extracted from the store_address column by considering the first string up until 1 position to the right of \"IA\". This piece of information corresponds to the street address. `COALESCE` is used to get the first non-null argument. <br>\n",
        "\n",
        "Here we selection is made from the join of the `stores` and `sales` tables. The `LEFT JOIN` command used the column `store`. Notice that the selection is limited to instances with store_status equal to \"A\" and total sales equal to null. The results are organized by `zipcode` in a descending order. The display is limited to the 3 first rows."
      ],
      "metadata": {
        "id": "r0hjvegN-t4G"
      }
    },
    {
      "cell_type": "code",
      "source": [
        " # Connect to the table in the database\n",
        "connection = psycopg2.connect(user = 'postgres', password = 'postgres', host = 'localhost', database = 'tfio_demo')\n",
        "cursor = connection.cursor()\n",
        "\n",
        "# Create SQL query\n",
        "cursor.execute(\" SELECT CASE WHEN SUBSTRING(store_address,(POSITION('IA' in stores.store_address)+3),1) < '1' THEN 'no zip' \\\n",
        "                 ELSE SUBSTRING(store_address,(POSITION('IA' in stores.store_address)+3),5) END AS zipcode, \\\n",
        "                 stores.name, stores.store AS store_id, store_status, \\\n",
        "                 SUBSTRING(store_address,1,(POSITION('IA' in stores.store_address)+1)) AS st_address, \\\n",
        "                 COALESCE(sales.total, 0) AS sales_totals \\\n",
        "                 FROM stores LEFT JOIN sales USING (store) \\\n",
        "                 WHERE store_status = 'A' AND sales.total IS NULL \\\n",
        "                 ORDER BY zipcode \\\n",
        "                 DESC \\\n",
        "                 LIMIT 3;\")\n",
        "table_contacts = cursor.fetchall()\n",
        "\n",
        "# Turn the results of the query into a dataframe for visualization of the results\n",
        "pd.DataFrame((table_contacts) , columns=[[desc[0] for desc in cursor.description]])"
      ],
      "metadata": {
        "colab": {
          "base_uri": "https://localhost:8080/",
          "height": 143
        },
        "id": "0QusmvoLzvh4",
        "outputId": "3076bccc-1756-47c5-eae8-4deb90665ee3"
      },
      "execution_count": 55,
      "outputs": [
        {
          "output_type": "execute_result",
          "data": {
            "text/plain": [
              "  zipcode                   name store_id store_status  \\\n",
              "0  no zip      Dehner Distillery     9919            A   \n",
              "1   70650  Louisiana Spirits LLC     9920            A   \n",
              "2   52804       Sub Xpress & Gas     4526            A   \n",
              "\n",
              "                                     st_address sales_totals  \n",
              "0               7500, University Ave\\nClive, IA            0  \n",
              "1  20909, South I-10 Frontage Rd\\nLacassine, IA            0  \n",
              "2               4307 W Locust St\\nDavenport, IA            0  "
            ],
            "text/html": [
              "\n",
              "  <div id=\"df-6bc8a812-635e-4497-a705-80e4b7b3e1b4\">\n",
              "    <div class=\"colab-df-container\">\n",
              "      <div>\n",
              "<style scoped>\n",
              "    .dataframe tbody tr th:only-of-type {\n",
              "        vertical-align: middle;\n",
              "    }\n",
              "\n",
              "    .dataframe tbody tr th {\n",
              "        vertical-align: top;\n",
              "    }\n",
              "\n",
              "    .dataframe thead tr th {\n",
              "        text-align: left;\n",
              "    }\n",
              "</style>\n",
              "<table border=\"1\" class=\"dataframe\">\n",
              "  <thead>\n",
              "    <tr>\n",
              "      <th></th>\n",
              "      <th>zipcode</th>\n",
              "      <th>name</th>\n",
              "      <th>store_id</th>\n",
              "      <th>store_status</th>\n",
              "      <th>st_address</th>\n",
              "      <th>sales_totals</th>\n",
              "    </tr>\n",
              "  </thead>\n",
              "  <tbody>\n",
              "    <tr>\n",
              "      <th>0</th>\n",
              "      <td>no zip</td>\n",
              "      <td>Dehner Distillery</td>\n",
              "      <td>9919</td>\n",
              "      <td>A</td>\n",
              "      <td>7500, University Ave\\nClive, IA</td>\n",
              "      <td>0</td>\n",
              "    </tr>\n",
              "    <tr>\n",
              "      <th>1</th>\n",
              "      <td>70650</td>\n",
              "      <td>Louisiana Spirits LLC</td>\n",
              "      <td>9920</td>\n",
              "      <td>A</td>\n",
              "      <td>20909, South I-10 Frontage Rd\\nLacassine, IA</td>\n",
              "      <td>0</td>\n",
              "    </tr>\n",
              "    <tr>\n",
              "      <th>2</th>\n",
              "      <td>52804</td>\n",
              "      <td>Sub Xpress &amp; Gas</td>\n",
              "      <td>4526</td>\n",
              "      <td>A</td>\n",
              "      <td>4307 W Locust St\\nDavenport, IA</td>\n",
              "      <td>0</td>\n",
              "    </tr>\n",
              "  </tbody>\n",
              "</table>\n",
              "</div>\n",
              "      <button class=\"colab-df-convert\" onclick=\"convertToInteractive('df-6bc8a812-635e-4497-a705-80e4b7b3e1b4')\"\n",
              "              title=\"Convert this dataframe to an interactive table.\"\n",
              "              style=\"display:none;\">\n",
              "        \n",
              "  <svg xmlns=\"http://www.w3.org/2000/svg\" height=\"24px\"viewBox=\"0 0 24 24\"\n",
              "       width=\"24px\">\n",
              "    <path d=\"M0 0h24v24H0V0z\" fill=\"none\"/>\n",
              "    <path d=\"M18.56 5.44l.94 2.06.94-2.06 2.06-.94-2.06-.94-.94-2.06-.94 2.06-2.06.94zm-11 1L8.5 8.5l.94-2.06 2.06-.94-2.06-.94L8.5 2.5l-.94 2.06-2.06.94zm10 10l.94 2.06.94-2.06 2.06-.94-2.06-.94-.94-2.06-.94 2.06-2.06.94z\"/><path d=\"M17.41 7.96l-1.37-1.37c-.4-.4-.92-.59-1.43-.59-.52 0-1.04.2-1.43.59L10.3 9.45l-7.72 7.72c-.78.78-.78 2.05 0 2.83L4 21.41c.39.39.9.59 1.41.59.51 0 1.02-.2 1.41-.59l7.78-7.78 2.81-2.81c.8-.78.8-2.07 0-2.86zM5.41 20L4 18.59l7.72-7.72 1.47 1.35L5.41 20z\"/>\n",
              "  </svg>\n",
              "      </button>\n",
              "      \n",
              "  <style>\n",
              "    .colab-df-container {\n",
              "      display:flex;\n",
              "      flex-wrap:wrap;\n",
              "      gap: 12px;\n",
              "    }\n",
              "\n",
              "    .colab-df-convert {\n",
              "      background-color: #E8F0FE;\n",
              "      border: none;\n",
              "      border-radius: 50%;\n",
              "      cursor: pointer;\n",
              "      display: none;\n",
              "      fill: #1967D2;\n",
              "      height: 32px;\n",
              "      padding: 0 0 0 0;\n",
              "      width: 32px;\n",
              "    }\n",
              "\n",
              "    .colab-df-convert:hover {\n",
              "      background-color: #E2EBFA;\n",
              "      box-shadow: 0px 1px 2px rgba(60, 64, 67, 0.3), 0px 1px 3px 1px rgba(60, 64, 67, 0.15);\n",
              "      fill: #174EA6;\n",
              "    }\n",
              "\n",
              "    [theme=dark] .colab-df-convert {\n",
              "      background-color: #3B4455;\n",
              "      fill: #D2E3FC;\n",
              "    }\n",
              "\n",
              "    [theme=dark] .colab-df-convert:hover {\n",
              "      background-color: #434B5C;\n",
              "      box-shadow: 0px 1px 3px 1px rgba(0, 0, 0, 0.15);\n",
              "      filter: drop-shadow(0px 1px 2px rgba(0, 0, 0, 0.3));\n",
              "      fill: #FFFFFF;\n",
              "    }\n",
              "  </style>\n",
              "\n",
              "      <script>\n",
              "        const buttonEl =\n",
              "          document.querySelector('#df-6bc8a812-635e-4497-a705-80e4b7b3e1b4 button.colab-df-convert');\n",
              "        buttonEl.style.display =\n",
              "          google.colab.kernel.accessAllowed ? 'block' : 'none';\n",
              "\n",
              "        async function convertToInteractive(key) {\n",
              "          const element = document.querySelector('#df-6bc8a812-635e-4497-a705-80e4b7b3e1b4');\n",
              "          const dataTable =\n",
              "            await google.colab.kernel.invokeFunction('convertToInteractive',\n",
              "                                                     [key], {});\n",
              "          if (!dataTable) return;\n",
              "\n",
              "          const docLinkHtml = 'Like what you see? Visit the ' +\n",
              "            '<a target=\"_blank\" href=https://colab.research.google.com/notebooks/data_table.ipynb>data table notebook</a>'\n",
              "            + ' to learn more about interactive tables.';\n",
              "          element.innerHTML = '';\n",
              "          dataTable['output_type'] = 'display_data';\n",
              "          await google.colab.output.renderOutput(dataTable, element);\n",
              "          const docLink = document.createElement('div');\n",
              "          docLink.innerHTML = docLinkHtml;\n",
              "          element.appendChild(docLink);\n",
              "        }\n",
              "      </script>\n",
              "    </div>\n",
              "  </div>\n",
              "  "
            ]
          },
          "metadata": {},
          "execution_count": 55
        }
      ]
    },
    {
      "cell_type": "markdown",
      "source": [
        "The following is the sytax for using CASE: \n",
        "\n",
        "> **CASE** <br>\n",
        "> &emsp; **WHEN** *(condition_1)*  **THEN** *(result_1)* <br>\n",
        "> &emsp; **WHEN** *(condition_2)*  **THEN** *(result_2)* <br>\n",
        "> &emsp; [**WHEN** ...] <br>\n",
        "> &emsp; [**ELSE** else_result] <br>\n",
        "> **END**"
      ],
      "metadata": {
        "id": "cjdQd7Zo9rDn"
      }
    },
    {
      "cell_type": "markdown",
      "source": [
        "#### 6.4.6) Summary"
      ],
      "metadata": {
        "id": "wYqRhQTCCufc"
      }
    },
    {
      "cell_type": "markdown",
      "source": [
        "The following summary is provided in the second article that was referenced in part 1:\n",
        "- `INNER JOIN` is the most common joining type, and is the default assumed, if you only include the command word `JOIN` in your query.\n",
        "- `ON` is the phrase to specify the matching unique identifier in both tables.\n",
        "- If the matching key columns in both tables have exactly matching names USING(column_name) may be used instead of the `ON` command structure.\n",
        "- When combining tables, the column or field names must include a way for SQL to correctly identify their source table. This is accomplished by providing the full table name or assigning an alias.\n",
        "- Appropriate use of `WHERE` clause filters can enable queries to narrow the focus of the inquiry and search rapidly through very large datasets quickly containing millions of records.\n",
        "- As shown in the final query, there are many tools for manipulating text fields and including specific parts in your reports as you answer stakeholder’s questions. Some of these essential tools are `SUBSTRING`, `POSITION`, `COALESCE` and `CASE` statements, which are all coming in the next sections."
      ],
      "metadata": {
        "id": "1cG7TtDVCxZF"
      }
    }
  ]
}