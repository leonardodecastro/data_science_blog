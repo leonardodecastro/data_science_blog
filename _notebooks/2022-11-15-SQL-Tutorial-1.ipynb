{
  "nbformat": 4,
  "nbformat_minor": 0,
  "metadata": {
    "colab": {
      "provenance": [],
      "collapsed_sections": [
        "LPKCRW_Wb95F",
        "VYakuxXzA0Pd",
        "BDyZ4ECN1qJg",
        "F2e_qIHG1qJg",
        "sWwBXc801qJg",
        "pS87L0Hz1qJh",
        "s-KvL3jy1qJh",
        "_olEv-oShztc",
        "YZuDeO3UpQKI",
        "AkFWeglWpw8B",
        "DEIT94D6C8aX",
        "qDsG6jWaDcxE",
        "R0_hK1I_nJbj",
        "Uoz_EOzAD6EE",
        "56oFFLYTe2L6",
        "cgwohB_mfC7C",
        "q6RlDQcnoVKi",
        "bmRBGN4jsnNE",
        "vzqkiNYTs9Ox",
        "gKazY1IfDPFG",
        "uHsMakWFDyrF",
        "JpoM2CYBmt-z",
        "YLGVuXsjEHai",
        "fWOmPTLefLGa",
        "SFotOHXFfTFa",
        "-Pqw_ZMYfX21",
        "xi0BzzwKfex7",
        "h9KBBLydhMqB",
        "k2AjPQsW4BJr",
        "Y8vdQG6z4_EE",
        "9JzYM16RwZcZ",
        "zyfGRDgW626b",
        "TVlez5SlsHfZ",
        "o_0o7mqfskpc",
        "BAACGV9Bw-so",
        "fSDmmO5lyOhx",
        "RML5FT2TqBmy",
        "ZRGwBsm9wzgA",
        "MsFGInb7xJPW",
        "vhGJSGUT_Py-",
        "hxXq6686Kb19",
        "N_N9OuyYLU0E",
        "Vkt5XZmiUOeC",
        "iqTQG5D3XHaZ",
        "L8OLL6ImYXgR",
        "EcuyP8tfaX2B",
        "RpriFCZiaslR",
        "Sk7Tf8TBl55y",
        "TEgUzur5rB_C",
        "Dj_SRTUruk9x",
        "BgjTNfzsxknd",
        "if5ESHdBzuvi",
        "wYqRhQTCCufc"
      ]
    },
    "kernelspec": {
      "display_name": "saturn (Python 3)",
      "language": "python",
      "name": "python3"
    },
    "language_info": {
      "codemirror_mode": {
        "name": "ipython",
        "version": 3
      },
      "file_extension": ".py",
      "mimetype": "text/x-python",
      "name": "python",
      "nbconvert_exporter": "python",
      "pygments_lexer": "ipython3",
      "version": "3.7.10"
    }
  },
  "cells": [
    {
      "cell_type": "markdown",
      "source": [
        "# SQL with Google Colab Tutorial 1\n",
        "\n",
        "> PostgreSQL with Google Colab Tutorial 1\n",
        "\n",
        "- toc: true \n",
        "- badges: true\n",
        "- comments: true\n",
        "- categories: [PostgreSQL wit Google Colab, SQL]\n",
        "- image: images/sql_1.png"
      ],
      "metadata": {
        "id": "rRtHoJVMbnb8"
      }
    },
    {
      "cell_type": "markdown",
      "source": [
        "## 1) Aknowledge the sources used for this tutorial"
      ],
      "metadata": {
        "id": "LPKCRW_Wb95F"
      }
    },
    {
      "cell_type": "markdown",
      "source": [
        "This post was created using information from 2 sources. The first post explains how to use PostgreSQL with Google Colab. The second source is a tutorial by at Data.World. The links to these sources are found below:\n",
        "- https://thivyapriyaa.medium.com/setting-up-postgresql-on-google-colab-4d02166939fc\n",
        "- https://data.world/classrooms/guide-to-data-analysis-with-sql-and-datadotworld/workspace/file?filename=01_select_data.md"
      ],
      "metadata": {
        "id": "z88WfRnWcHZr"
      }
    },
    {
      "cell_type": "markdown",
      "source": [
        "## 2) Import libraries"
      ],
      "metadata": {
        "id": "VYakuxXzA0Pd"
      }
    },
    {
      "cell_type": "code",
      "source": [
        "import psycopg2\n",
        "import pandas as pd\n",
        "pd.options.mode.chained_assignment = None  # default='warn'"
      ],
      "metadata": {
        "id": "8Ir0vgI59oHi"
      },
      "execution_count": 1,
      "outputs": []
    },
    {
      "cell_type": "markdown",
      "source": [
        "## 3) Install PostgreSQL"
      ],
      "metadata": {
        "id": "BDyZ4ECN1qJg"
      }
    },
    {
      "cell_type": "markdown",
      "source": [
        "### Colab is a linux environment. Thus, we can use linux commands to install  PostgreSQL on it"
      ],
      "metadata": {
        "id": "F2e_qIHG1qJg"
      }
    },
    {
      "cell_type": "markdown",
      "source": [
        "You might need to run the following cell twice if the database is not created when you run it just once."
      ],
      "metadata": {
        "id": "D7r0D-Cfdhtb"
      }
    },
    {
      "cell_type": "code",
      "source": [
        "# Install postgresql server\n",
        "!sudo apt-get -y -qq update   # Update the PostgreSQL in case they are not \n",
        "!sudo apt-get -y -qq install postgresql # Install PostgreSQL \n",
        "!sudo service postgresql start # Start the PostgreSQL service\n",
        "\n",
        "# Setup a password `postgres` for username `postgres`\n",
        "!sudo -u postgres psql -U postgres -c \"ALTER USER postgres PASSWORD 'postgres';\"\n",
        "\n",
        "# Setup a database with name `tfio_demo` to be used\n",
        "!sudo -u postgres psql -U postgres -c 'DROP DATABASE IF EXISTS tfio_demo;'  # Drop databases if they exist\n",
        "!sudo -u postgres psql -U postgres -c 'CREATE DATABASE tfio_demo;' # Drop databases if they exist"
      ],
      "metadata": {
        "colab": {
          "base_uri": "https://localhost:8080/"
        },
        "outputId": "dab1ee64-03a2-43c5-fb14-ed99c22bfa59",
        "id": "-ZjSmUQB1qJg"
      },
      "execution_count": 3,
      "outputs": [
        {
          "output_type": "stream",
          "name": "stdout",
          "text": [
            " * Starting PostgreSQL 10 database server\n",
            "   ...done.\n",
            "ALTER ROLE\n",
            "DROP DATABASE\n",
            "CREATE DATABASE\n"
          ]
        }
      ]
    },
    {
      "cell_type": "markdown",
      "source": [
        "### Setup necessary environmental variables"
      ],
      "metadata": {
        "id": "sWwBXc801qJg"
      }
    },
    {
      "cell_type": "code",
      "source": [
        "%env DB_NAME=tfio_demo\n",
        "%env DB_HOST=localhost\n",
        "%env DB_PORT=5432\n",
        "%env DB_USER=postgres\n",
        "%env DB_PASS= postgres"
      ],
      "metadata": {
        "colab": {
          "base_uri": "https://localhost:8080/"
        },
        "outputId": "630293c3-71df-44e3-a692-ce481e3fcdaa",
        "id": "f3VvXyay1qJg"
      },
      "execution_count": 4,
      "outputs": [
        {
          "output_type": "stream",
          "name": "stdout",
          "text": [
            "env: DB_NAME=tfio_demo\n",
            "env: DB_HOST=localhost\n",
            "env: DB_PORT=5432\n",
            "env: DB_USER=postgres\n",
            "env: DB_PASS=postgres\n"
          ]
        }
      ]
    },
    {
      "cell_type": "markdown",
      "source": [
        "## 4) Create tables within the database"
      ],
      "metadata": {
        "id": "pS87L0Hz1qJh"
      }
    },
    {
      "cell_type": "markdown",
      "source": [
        "### 4.1) Table 1: Annual visitation of the Big Bend park between 1904 and 2015 "
      ],
      "metadata": {
        "id": "s-KvL3jy1qJh"
      }
    },
    {
      "cell_type": "code",
      "source": [
        "!PGPASSWORD=$DB_PASS psql -q -h $DB_HOST -p $DB_PORT -U $DB_USER-d $DB_NAME \\\n",
        "-c \"DROP TABLE IF EXISTS visitation;\""
      ],
      "metadata": {
        "colab": {
          "base_uri": "https://localhost:8080/"
        },
        "outputId": "4a9f3374-fc83-4011-c74f-6739a0cb1321",
        "id": "ATzcGlGd1qJh"
      },
      "execution_count": 5,
      "outputs": [
        {
          "output_type": "stream",
          "name": "stdout",
          "text": [
            "psql: FATAL:  password authentication failed for user \"postgres-d\"\n",
            "FATAL:  password authentication failed for user \"postgres-d\"\n"
          ]
        }
      ]
    },
    {
      "cell_type": "code",
      "source": [
        "!PGPASSWORD=$DB_PASS psql -q -h $DB_HOST -p $DB_PORT -U $DB_USER -d $DB_NAME \\\n",
        "-c \"CREATE TABLE visitation(visitation_index SERIAL PRIMARY KEY,year INT,visitor_count INT,total_visitors INT);\""
      ],
      "metadata": {
        "id": "qHxuADEH1qJh"
      },
      "execution_count": 6,
      "outputs": []
    },
    {
      "cell_type": "markdown",
      "source": [
        "### 4.2) Table 2: Cats VS Dogs"
      ],
      "metadata": {
        "id": "_olEv-oShztc"
      }
    },
    {
      "cell_type": "code",
      "source": [
        "!PGPASSWORD=$DB_PASS psql -q -h $DB_HOST -p $DB_PORT -U $DB_USER-d $DB_NAME \\\n",
        "-c \"DROP TABLE IF EXISTS animals;\""
      ],
      "metadata": {
        "id": "H46drd6blOCB",
        "colab": {
          "base_uri": "https://localhost:8080/"
        },
        "outputId": "11f96e6f-f196-414d-c06a-28a4db574622"
      },
      "execution_count": 7,
      "outputs": [
        {
          "output_type": "stream",
          "name": "stdout",
          "text": [
            "psql: FATAL:  password authentication failed for user \"postgres-d\"\n",
            "FATAL:  password authentication failed for user \"postgres-d\"\n"
          ]
        }
      ]
    },
    {
      "cell_type": "code",
      "source": [
        "!PGPASSWORD=$DB_PASS psql -q -h $DB_HOST -p $DB_PORT -U $DB_USER -d $DB_NAME \\\n",
        "-c \"CREATE TABLE animals(animal_index SERIAL PRIMARY KEY, location TEXT, region TEXT, number_of_households_in_1000 INT, \\\n",
        "                         percentage_of_households_with_pets DECIMAL(5,3), number_of_pet_households_in_1000 INT, percentage_of_dog_owners DECIMAL(5,3), \\\n",
        "                         dog_owning_households_1000s INT, mean_number_of_dogs_per_household DECIMAL(5,3), dog_population_in_1000 INT, \\\n",
        "                         percentage_of_cat_owners DECIMAL(5,3), cat_owning_households INT, mean_number_of_cats DECIMAL(5,3), cat_population INT);\""
      ],
      "metadata": {
        "id": "2dVa9FvrlTaS"
      },
      "execution_count": 8,
      "outputs": []
    },
    {
      "cell_type": "markdown",
      "source": [
        "### 4.3) Table 3: Counties"
      ],
      "metadata": {
        "id": "YZuDeO3UpQKI"
      }
    },
    {
      "cell_type": "code",
      "source": [
        "!PGPASSWORD=$DB_PASS psql -q -h $DB_HOST -p $DB_PORT -U $DB_USER-d $DB_NAME \\\n",
        "-c \"DROP TABLE IF EXISTS counties;\""
      ],
      "metadata": {
        "id": "RxXS4xaepcwZ",
        "colab": {
          "base_uri": "https://localhost:8080/"
        },
        "outputId": "cef78ee6-2a03-4762-f8c1-588eae2875c3"
      },
      "execution_count": 9,
      "outputs": [
        {
          "output_type": "stream",
          "name": "stdout",
          "text": [
            "psql: FATAL:  password authentication failed for user \"postgres-d\"\n",
            "FATAL:  password authentication failed for user \"postgres-d\"\n"
          ]
        }
      ]
    },
    {
      "cell_type": "code",
      "source": [
        "!PGPASSWORD=$DB_PASS psql -q -h $DB_HOST -p $DB_PORT -U $DB_USER -d $DB_NAME \\\n",
        "-c \"CREATE TABLE counties(counties_index SERIAL PRIMARY KEY, county TEXT, county_number INT, population INT);\""
      ],
      "metadata": {
        "id": "Ha78KdZwphOK"
      },
      "execution_count": 10,
      "outputs": []
    },
    {
      "cell_type": "markdown",
      "source": [
        "### 4.4) Table 4: Products"
      ],
      "metadata": {
        "id": "AkFWeglWpw8B"
      }
    },
    {
      "cell_type": "code",
      "source": [
        "!PGPASSWORD=$DB_PASS psql -q -h $DB_HOST -p $DB_PORT -U $DB_USER-d $DB_NAME \\\n",
        "-c \"DROP TABLE IF EXISTS products;\""
      ],
      "metadata": {
        "colab": {
          "base_uri": "https://localhost:8080/"
        },
        "id": "tn7mJXuHqN85",
        "outputId": "d33e8e29-dc11-42ce-a79b-962f8d1fdb82"
      },
      "execution_count": 11,
      "outputs": [
        {
          "output_type": "stream",
          "name": "stdout",
          "text": [
            "psql: FATAL:  password authentication failed for user \"postgres-d\"\n",
            "FATAL:  password authentication failed for user \"postgres-d\"\n"
          ]
        }
      ]
    },
    {
      "cell_type": "code",
      "source": [
        "!PGPASSWORD=$DB_PASS psql -q -h $DB_HOST -p $DB_PORT -U $DB_USER -d $DB_NAME \\\n",
        "-c \"CREATE TABLE products(products_index SERIAL PRIMARY KEY, item_no INT, category_name TEXT, item_description TEXT, \\\n",
        "                          vendor INT, vendor_name\tTEXT, bottle_size INT, pack INT, inner_pack INT, age INT, proof INT, \\\n",
        "                           list_date DATE, upc BIGINT, scc BIGINT, bottle_price MONEY, shelf_price DECIMAL, case_cost DECIMAL);\""
      ],
      "metadata": {
        "id": "3ZjT3IC_qQiL"
      },
      "execution_count": 12,
      "outputs": []
    },
    {
      "cell_type": "markdown",
      "source": [
        "### 4.5) Table 5: Sales"
      ],
      "metadata": {
        "id": "DEIT94D6C8aX"
      }
    },
    {
      "cell_type": "code",
      "source": [
        "!PGPASSWORD=$DB_PASS psql -q -h $DB_HOST -p $DB_PORT -U $DB_USER-d $DB_NAME \\\n",
        "-c \"DROP TABLE IF EXISTS sales;\""
      ],
      "metadata": {
        "colab": {
          "base_uri": "https://localhost:8080/"
        },
        "id": "XRJx2zqaC-2c",
        "outputId": "b8514a2e-eece-4011-ea3c-69e053802302"
      },
      "execution_count": 13,
      "outputs": [
        {
          "output_type": "stream",
          "name": "stdout",
          "text": [
            "psql: FATAL:  password authentication failed for user \"postgres-d\"\n",
            "FATAL:  password authentication failed for user \"postgres-d\"\n"
          ]
        }
      ]
    },
    {
      "cell_type": "code",
      "source": [
        "!PGPASSWORD=$DB_PASS psql -q -h $DB_HOST -p $DB_PORT -U $DB_USER -d $DB_NAME \\\n",
        "-c \"CREATE TABLE sales(sales_index SERIAL PRIMARY KEY, date DATE,\tconvenience_store TEXT, \\\n",
        "                       store INT, county_number INT,\tcounty TEXT,\tcategory TEXT,\tcategory_name TEXT,\tvendor_no INT,\t\\\n",
        "                       vendor TEXT,\titem INT,\tdescription TEXT,\tpack INT,\tliter_size INT,\tstate_btl_cost MONEY,\t \\\n",
        "                       btl_price MONEY,\tbottle_qty INT,\ttotal DECIMAL);\""
      ],
      "metadata": {
        "id": "reNymsP0DCad"
      },
      "execution_count": 14,
      "outputs": []
    },
    {
      "cell_type": "markdown",
      "source": [
        "### 4.6) Table 6: Sales 2016"
      ],
      "metadata": {
        "id": "qDsG6jWaDcxE"
      }
    },
    {
      "cell_type": "code",
      "source": [
        "!PGPASSWORD=$DB_PASS psql -q -h $DB_HOST -p $DB_PORT -U $DB_USER-d $DB_NAME \\\n",
        "-c \"DROP TABLE IF EXISTS sales2016;\""
      ],
      "metadata": {
        "id": "nj7Wyfb-DnJM",
        "colab": {
          "base_uri": "https://localhost:8080/"
        },
        "outputId": "32b54396-15d9-45a6-d4f9-4a0cd373cc42"
      },
      "execution_count": 15,
      "outputs": [
        {
          "output_type": "stream",
          "name": "stdout",
          "text": [
            "psql: FATAL:  password authentication failed for user \"postgres-d\"\n",
            "FATAL:  password authentication failed for user \"postgres-d\"\n"
          ]
        }
      ]
    },
    {
      "cell_type": "code",
      "source": [
        "!PGPASSWORD=$DB_PASS psql -q -h $DB_HOST -p $DB_PORT -U $DB_USER -d $DB_NAME \\\n",
        "-c \"CREATE TABLE sales_2016(sales2016_index SERIAL PRIMARY KEY, invoice_item_number TEXT, date DATE, store_number INT, store_name TEXT, address TEXT, \\\n",
        "       city TEXT, zip_Code TEXT, store_location TEXT, county_number TEXT, county TEXT, category TEXT, category_name TEXT, vendor_number TEXT, \\\n",
        "       vendor_name TEXT, item_number INT, item_description TEXT, pack INT, bottle_volume_ml INT, state_bottle_cost DECIMAL, state_bottle_retail DECIMAL, \\\n",
        "       bottles_sold INT, sale_dollars DECIMAL, volume_sold_liters DECIMAL, volume_sold_gallons DECIMAL);\""
      ],
      "metadata": {
        "id": "cJcdHjWLywcg"
      },
      "execution_count": 16,
      "outputs": []
    },
    {
      "cell_type": "markdown",
      "source": [
        "### 4.7) Table 7: Stores"
      ],
      "metadata": {
        "id": "R0_hK1I_nJbj"
      }
    },
    {
      "cell_type": "code",
      "source": [
        "!PGPASSWORD=$DB_PASS psql -q -h $DB_HOST -p $DB_PORT -U $DB_USER-d $DB_NAME \\\n",
        "-c \"DROP TABLE IF EXISTS stores;\""
      ],
      "metadata": {
        "colab": {
          "base_uri": "https://localhost:8080/"
        },
        "id": "5xFL2NWenMth",
        "outputId": "53d2c115-7e9b-420a-c7b8-76c576416358"
      },
      "execution_count": 17,
      "outputs": [
        {
          "output_type": "stream",
          "name": "stdout",
          "text": [
            "psql: FATAL:  password authentication failed for user \"postgres-d\"\n",
            "FATAL:  password authentication failed for user \"postgres-d\"\n"
          ]
        }
      ]
    },
    {
      "cell_type": "code",
      "source": [
        "!PGPASSWORD=$DB_PASS psql -q -h $DB_HOST -p $DB_PORT -U $DB_USER -d $DB_NAME \\\n",
        "-c \"CREATE TABLE stores(stores_index SERIAL PRIMARY KEY, store INT, name TEXT, store_status TEXT, store_address TEXT, address_info TEXT);\""
      ],
      "metadata": {
        "id": "iGjDf9ZMnP_q"
      },
      "execution_count": 18,
      "outputs": []
    },
    {
      "cell_type": "markdown",
      "source": [
        "### 4.8) Table 8: Convenience Stores"
      ],
      "metadata": {
        "id": "Uoz_EOzAD6EE"
      }
    },
    {
      "cell_type": "code",
      "source": [
        "!PGPASSWORD=$DB_PASS psql -q -h $DB_HOST -p $DB_PORT -U $DB_USER-d $DB_NAME \\\n",
        "-c \"DROP TABLE IF EXISTS convenience;\""
      ],
      "metadata": {
        "id": "lX7ha-5VEAVk",
        "colab": {
          "base_uri": "https://localhost:8080/"
        },
        "outputId": "2c179216-3f90-400c-a75c-87ff4387ca98"
      },
      "execution_count": 19,
      "outputs": [
        {
          "output_type": "stream",
          "name": "stdout",
          "text": [
            "psql: FATAL:  password authentication failed for user \"postgres-d\"\n",
            "FATAL:  password authentication failed for user \"postgres-d\"\n"
          ]
        }
      ]
    },
    {
      "cell_type": "code",
      "source": [
        "!PGPASSWORD=$DB_PASS psql -q -h $DB_HOST -p $DB_PORT -U $DB_USER -d $DB_NAME \\\n",
        "-c \"CREATE TABLE convenience(convenience_index SERIAL PRIMARY KEY, store INT,county TEXT);\""
      ],
      "metadata": {
        "id": "zEHLEXczEDNl"
      },
      "execution_count": 20,
      "outputs": []
    },
    {
      "cell_type": "markdown",
      "source": [
        "## 5) Populate the tables"
      ],
      "metadata": {
        "id": "56oFFLYTe2L6"
      }
    },
    {
      "cell_type": "markdown",
      "source": [
        "### 5.1) Populate the \"visitation\" table"
      ],
      "metadata": {
        "id": "cgwohB_mfC7C"
      }
    },
    {
      "cell_type": "code",
      "source": [
        "# Import the csv file from GitHub\n",
        "!wget https://raw.githubusercontent.com/leonardodecastro/data/main/visitation.csv\n",
        "\n",
        "# Populate the database table\n",
        "!PGPASSWORD=$DB_PASS psql -q -h $DB_HOST -p $DB_PORT -U $DB_USER -d $DB_NAME \\\n",
        "-c \"\\COPY visitation(year, visitor_count, total_visitors) FROM \\\n",
        "'visitation.csv' ( format csv, header, delimiter ',', encoding 'win1252', null ' ' );\""
      ],
      "metadata": {
        "id": "qXH8ux-ZXpyJ",
        "colab": {
          "base_uri": "https://localhost:8080/"
        },
        "outputId": "b870bf82-9bff-4de9-e41d-94e78a45efac"
      },
      "execution_count": 21,
      "outputs": [
        {
          "output_type": "stream",
          "name": "stdout",
          "text": [
            "--2022-11-23 20:32:00--  https://raw.githubusercontent.com/leonardodecastro/data/main/visitation.csv\n",
            "Resolving raw.githubusercontent.com (raw.githubusercontent.com)... 185.199.110.133, 185.199.109.133, 185.199.111.133, ...\n",
            "Connecting to raw.githubusercontent.com (raw.githubusercontent.com)|185.199.110.133|:443... connected.\n",
            "HTTP request sent, awaiting response... 200 OK\n",
            "Length: 1525 (1.5K) [text/plain]\n",
            "Saving to: ‘visitation.csv’\n",
            "\n",
            "visitation.csv      100%[===================>]   1.49K  --.-KB/s    in 0s      \n",
            "\n",
            "2022-11-23 20:32:00 (28.3 MB/s) - ‘visitation.csv’ saved [1525/1525]\n",
            "\n"
          ]
        }
      ]
    },
    {
      "cell_type": "markdown",
      "source": [
        "### 5.2) Populate the \"animals\" table"
      ],
      "metadata": {
        "id": "q6RlDQcnoVKi"
      }
    },
    {
      "cell_type": "code",
      "source": [
        "# Import the csv file from GitHub\n",
        "!wget https://raw.githubusercontent.com/leonardodecastro/data/main/animals.csv\n",
        "\n",
        "# Populate the database table\n",
        "!PGPASSWORD=$DB_PASS psql -q -h $DB_HOST -p $DB_PORT -U $DB_USER -d $DB_NAME \\\n",
        "-c \"\\COPY animals(location, region, number_of_households_in_1000, percentage_of_households_with_pets, number_of_pet_households_in_1000,  \\\n",
        "                     percentage_of_dog_owners, dog_owning_households_1000s, mean_number_of_dogs_per_household , dog_population_in_1000, \\\n",
        "                     percentage_of_cat_owners, cat_owning_households, mean_number_of_cats , cat_population) FROM \\\n",
        "                     'animals.csv' ( format csv, header, delimiter ',', encoding 'win1252', null ' ' );\""
      ],
      "metadata": {
        "id": "rcYMr8lIXcSB",
        "colab": {
          "base_uri": "https://localhost:8080/"
        },
        "outputId": "c93cc64c-2bd8-4bd3-ac9b-f5c08af0939f"
      },
      "execution_count": 22,
      "outputs": [
        {
          "output_type": "stream",
          "name": "stdout",
          "text": [
            "--2022-11-23 20:32:01--  https://raw.githubusercontent.com/leonardodecastro/data/main/animals.csv\n",
            "Resolving raw.githubusercontent.com (raw.githubusercontent.com)... 185.199.108.133, 185.199.109.133, 185.199.110.133, ...\n",
            "Connecting to raw.githubusercontent.com (raw.githubusercontent.com)|185.199.108.133|:443... connected.\n",
            "HTTP request sent, awaiting response... 200 OK\n",
            "Length: 3509 (3.4K) [text/plain]\n",
            "Saving to: ‘animals.csv’\n",
            "\n",
            "animals.csv         100%[===================>]   3.43K  --.-KB/s    in 0s      \n",
            "\n",
            "2022-11-23 20:32:01 (43.8 MB/s) - ‘animals.csv’ saved [3509/3509]\n",
            "\n"
          ]
        }
      ]
    },
    {
      "cell_type": "markdown",
      "source": [
        "### 5.3) Populate the \"counties\" table"
      ],
      "metadata": {
        "id": "bmRBGN4jsnNE"
      }
    },
    {
      "cell_type": "code",
      "source": [
        "# Import the csv file from GitHub\n",
        "!wget https://raw.githubusercontent.com/leonardodecastro/data/main/counties.csv\n",
        "\n",
        "# Populate the database table\n",
        "!PGPASSWORD=$DB_PASS psql -q -h $DB_HOST -p $DB_PORT -U $DB_USER -d $DB_NAME \\\n",
        "-c \"\\COPY counties(county, county_number, population) FROM \\\n",
        "'counties.csv' ( format csv, header, delimiter ',', encoding 'win1252', null ' ' );\""
      ],
      "metadata": {
        "id": "OXZdaOhAXipX",
        "colab": {
          "base_uri": "https://localhost:8080/"
        },
        "outputId": "573840db-4f7f-4589-9783-85b1a82d5457"
      },
      "execution_count": 23,
      "outputs": [
        {
          "output_type": "stream",
          "name": "stdout",
          "text": [
            "--2022-11-23 20:32:01--  https://raw.githubusercontent.com/leonardodecastro/data/main/counties.csv\n",
            "Resolving raw.githubusercontent.com (raw.githubusercontent.com)... 185.199.108.133, 185.199.111.133, 185.199.110.133, ...\n",
            "Connecting to raw.githubusercontent.com (raw.githubusercontent.com)|185.199.108.133|:443... connected.\n",
            "HTTP request sent, awaiting response... 200 OK\n",
            "Length: 1765 (1.7K) [text/plain]\n",
            "Saving to: ‘counties.csv’\n",
            "\n",
            "counties.csv        100%[===================>]   1.72K  --.-KB/s    in 0s      \n",
            "\n",
            "2022-11-23 20:32:02 (28.9 MB/s) - ‘counties.csv’ saved [1765/1765]\n",
            "\n"
          ]
        }
      ]
    },
    {
      "cell_type": "markdown",
      "source": [
        "### 5.4) Populate the \"products\" table"
      ],
      "metadata": {
        "id": "vzqkiNYTs9Ox"
      }
    },
    {
      "cell_type": "code",
      "source": [
        "# Import the csv file from GitHub\n",
        "!wget https://raw.githubusercontent.com/leonardodecastro/data/main/products.csv\n",
        "\n",
        "# Populate the database table\n",
        "!PGPASSWORD=$DB_PASS psql -q -h $DB_HOST -p $DB_PORT -U $DB_USER -d $DB_NAME \\\n",
        "-c \"\\COPY products(item_no, category_name, item_description, vendor, vendor_name, bottle_size, pack, inner_pack, age, proof, \\\n",
        "                           list_date, upc, scc, bottle_price, shelf_price, case_cost) FROM \\\n",
        "'products.csv' ( format csv, header, delimiter ';', encoding 'win1252', null '');\""
      ],
      "metadata": {
        "id": "cI4X5VRrXxeQ",
        "colab": {
          "base_uri": "https://localhost:8080/"
        },
        "outputId": "c0972e90-e2a6-4c3d-c227-d2f5e83b2fd9"
      },
      "execution_count": 24,
      "outputs": [
        {
          "output_type": "stream",
          "name": "stdout",
          "text": [
            "--2022-11-23 20:32:02--  https://raw.githubusercontent.com/leonardodecastro/data/main/products.csv\n",
            "Resolving raw.githubusercontent.com (raw.githubusercontent.com)... 185.199.108.133, 185.199.109.133, 185.199.110.133, ...\n",
            "Connecting to raw.githubusercontent.com (raw.githubusercontent.com)|185.199.108.133|:443... connected.\n",
            "HTTP request sent, awaiting response... 200 OK\n",
            "Length: 1322654 (1.3M) [text/plain]\n",
            "Saving to: ‘products.csv’\n",
            "\n",
            "products.csv        100%[===================>]   1.26M  --.-KB/s    in 0.06s   \n",
            "\n",
            "2022-11-23 20:32:03 (20.0 MB/s) - ‘products.csv’ saved [1322654/1322654]\n",
            "\n"
          ]
        }
      ]
    },
    {
      "cell_type": "markdown",
      "source": [
        "### 5.5) Populate the \"sales\" table"
      ],
      "metadata": {
        "id": "gKazY1IfDPFG"
      }
    },
    {
      "cell_type": "code",
      "source": [
        "# Import the csv file from GitHub\n",
        "!wget https://raw.githubusercontent.com/leonardodecastro/data/main/sales.zip\n",
        "!unzip '/content/sales.zip'\n",
        "\n",
        "# Populate the database table\n",
        "!PGPASSWORD=$DB_PASS psql -q -h $DB_HOST -p $DB_PORT -U $DB_USER -d $DB_NAME \\\n",
        "-c \"\\COPY sales(date,\tconvenience_store, store, county_number,\tcounty,\tcategory,\tcategory_name,\tvendor_no,\t\\\n",
        "                       vendor,\titem,\tdescription,\tpack,\tliter_size,\tstate_btl_cost,\tbtl_price,\tbottle_qty,\ttotal) \\\n",
        "                       FROM 'sales.csv' ( format csv, header, delimiter ',', encoding 'win1252', null ' ' );\""
      ],
      "metadata": {
        "id": "t1mGAAK1thQc",
        "colab": {
          "base_uri": "https://localhost:8080/"
        },
        "outputId": "6c24b1e6-fe59-498e-a75b-a08f97bc5f1c"
      },
      "execution_count": 25,
      "outputs": [
        {
          "output_type": "stream",
          "name": "stdout",
          "text": [
            "--2022-11-23 20:32:04--  https://raw.githubusercontent.com/leonardodecastro/data/main/sales.zip\n",
            "Resolving raw.githubusercontent.com (raw.githubusercontent.com)... 185.199.110.133, 185.199.109.133, 185.199.111.133, ...\n",
            "Connecting to raw.githubusercontent.com (raw.githubusercontent.com)|185.199.110.133|:443... connected.\n",
            "HTTP request sent, awaiting response... 200 OK\n",
            "Length: 62585984 (60M) [application/zip]\n",
            "Saving to: ‘sales.zip’\n",
            "\n",
            "sales.zip           100%[===================>]  59.69M   170MB/s    in 0.4s    \n",
            "\n",
            "2022-11-23 20:32:08 (170 MB/s) - ‘sales.zip’ saved [62585984/62585984]\n",
            "\n",
            "Archive:  /content/sales.zip\n",
            "  inflating: sales.csv               \n"
          ]
        }
      ]
    },
    {
      "cell_type": "markdown",
      "source": [
        "### 5.6) Populate the \"sales2016\" table"
      ],
      "metadata": {
        "id": "uHsMakWFDyrF"
      }
    },
    {
      "cell_type": "code",
      "source": [
        "# Import the csv file from GitHub\n",
        "!wget https://raw.githubusercontent.com/leonardodecastro/data/main/sales_2016.zip\n",
        "!unzip '/content/sales_2016.zip'\n",
        "\n",
        "# Populate the database table\n",
        "!PGPASSWORD=$DB_PASS psql -q -h $DB_HOST -p $DB_PORT -U $DB_USER -d $DB_NAME \\\n",
        "-c \"\\COPY sales_2016(invoice_item_number, date, store_number, store_Name, address, \\\n",
        "       city, zip_code, store_location, county_number, county, category, category_name, vendor_number, \\\n",
        "       vendor_name, item_number, item_description, pack, bottle_volume_ml, state_bottle_cost, state_bottle_retail, \\\n",
        "       bottles_sold, sale_dollars, volume_sold_liters, volume_sold_gallons) FROM \\\n",
        "'sales_2016.csv' ( format csv, header, delimiter ',', encoding 'win1252', null ' ' );\""
      ],
      "metadata": {
        "id": "dMPnR5rxD1WQ",
        "colab": {
          "base_uri": "https://localhost:8080/"
        },
        "outputId": "0ebb5fa0-6601-484c-817d-762cf8a92246"
      },
      "execution_count": 26,
      "outputs": [
        {
          "output_type": "stream",
          "name": "stdout",
          "text": [
            "--2022-11-23 20:32:43--  https://raw.githubusercontent.com/leonardodecastro/data/main/sales_2016.zip\n",
            "Resolving raw.githubusercontent.com (raw.githubusercontent.com)... 185.199.110.133, 185.199.109.133, 185.199.111.133, ...\n",
            "Connecting to raw.githubusercontent.com (raw.githubusercontent.com)|185.199.110.133|:443... connected.\n",
            "HTTP request sent, awaiting response... 200 OK\n",
            "Length: 69607112 (66M) [application/zip]\n",
            "Saving to: ‘sales_2016.zip’\n",
            "\n",
            "sales_2016.zip      100%[===================>]  66.38M   179MB/s    in 0.4s    \n",
            "\n",
            "2022-11-23 20:32:48 (179 MB/s) - ‘sales_2016.zip’ saved [69607112/69607112]\n",
            "\n",
            "Archive:  /content/sales_2016.zip\n",
            "  inflating: sales_2016.csv          \n"
          ]
        }
      ]
    },
    {
      "cell_type": "markdown",
      "source": [
        "### 5.7) Populate the \"stores\" table"
      ],
      "metadata": {
        "id": "JpoM2CYBmt-z"
      }
    },
    {
      "cell_type": "code",
      "source": [
        "# Import the csv file from GitHub\n",
        "!wget https://raw.githubusercontent.com/leonardodecastro/data/main/stores.csv\n",
        "\n",
        "# Populate the database table\n",
        "!PGPASSWORD=$DB_PASS psql -q -h $DB_HOST -p $DB_PORT -U $DB_USER -d $DB_NAME \\\n",
        "-c \"\\COPY stores(store, name, store_status, store_address, address_info) FROM \\\n",
        "'stores.csv' ( format csv, header, delimiter ',', encoding 'win1252', null ' ' );\""
      ],
      "metadata": {
        "colab": {
          "base_uri": "https://localhost:8080/"
        },
        "id": "JR1oVHfgmx9K",
        "outputId": "f2d0304c-1e7f-4ade-8171-8d5c41e637e5"
      },
      "execution_count": 27,
      "outputs": [
        {
          "output_type": "stream",
          "name": "stdout",
          "text": [
            "--2022-11-23 20:33:25--  https://raw.githubusercontent.com/leonardodecastro/data/main/stores.csv\n",
            "Resolving raw.githubusercontent.com (raw.githubusercontent.com)... 185.199.110.133, 185.199.109.133, 185.199.108.133, ...\n",
            "Connecting to raw.githubusercontent.com (raw.githubusercontent.com)|185.199.110.133|:443... connected.\n",
            "HTTP request sent, awaiting response... 200 OK\n",
            "Length: 239979 (234K) [text/plain]\n",
            "Saving to: ‘stores.csv’\n",
            "\n",
            "stores.csv          100%[===================>] 234.35K  --.-KB/s    in 0.03s   \n",
            "\n",
            "2022-11-23 20:33:26 (7.39 MB/s) - ‘stores.csv’ saved [239979/239979]\n",
            "\n"
          ]
        }
      ]
    },
    {
      "cell_type": "markdown",
      "source": [
        "### 5.8) Populate the \"convenience\" table"
      ],
      "metadata": {
        "id": "YLGVuXsjEHai"
      }
    },
    {
      "cell_type": "code",
      "source": [
        "# Import the csv file from GitHub\n",
        "!wget https://raw.githubusercontent.com/leonardodecastro/data/main/convenience.csv\n",
        "\n",
        "# Populate the database table\n",
        "!PGPASSWORD=$DB_PASS psql -q -h $DB_HOST -p $DB_PORT -U $DB_USER -d $DB_NAME \\\n",
        "-c \"\\COPY convenience(store, county) FROM \\\n",
        "'convenience.csv' ( format csv, header, delimiter ',', encoding 'win1252', null ' ' );\""
      ],
      "metadata": {
        "id": "lkfUrlTjEIt2",
        "colab": {
          "base_uri": "https://localhost:8080/"
        },
        "outputId": "2edbf0ae-e92d-4571-b12d-dfd0c2fb31b7"
      },
      "execution_count": 28,
      "outputs": [
        {
          "output_type": "stream",
          "name": "stdout",
          "text": [
            "--2022-11-23 20:33:26--  https://raw.githubusercontent.com/leonardodecastro/data/main/convenience.csv\n",
            "Resolving raw.githubusercontent.com (raw.githubusercontent.com)... 185.199.110.133, 185.199.109.133, 185.199.111.133, ...\n",
            "Connecting to raw.githubusercontent.com (raw.githubusercontent.com)|185.199.110.133|:443... connected.\n",
            "HTTP request sent, awaiting response... 200 OK\n",
            "Length: 5965 (5.8K) [text/plain]\n",
            "Saving to: ‘convenience.csv’\n",
            "\n",
            "convenience.csv     100%[===================>]   5.83K  --.-KB/s    in 0s      \n",
            "\n",
            "2022-11-23 20:33:27 (77.8 MB/s) - ‘convenience.csv’ saved [5965/5965]\n",
            "\n"
          ]
        }
      ]
    },
    {
      "cell_type": "markdown",
      "source": [
        "## 6) Practice SQL"
      ],
      "metadata": {
        "id": "fWOmPTLefLGa"
      }
    },
    {
      "cell_type": "markdown",
      "source": [
        "The introduction to the sub-sections of part 6 were extracted from the second source referenced in the first part of this script. "
      ],
      "metadata": {
        "id": "ijO3JHau6nBp"
      }
    },
    {
      "cell_type": "markdown",
      "source": [
        "### 6.1) SELECT, WHERE & ORDER BY commands"
      ],
      "metadata": {
        "id": "SFotOHXFfTFa"
      }
    },
    {
      "cell_type": "markdown",
      "source": [
        "When accessing data using SQL, **Structured Query Language**, the two foundational parts of the command sequence are `SELECT` and `FROM`. Using `SELECT`, you choose the information you want to include in your report. `FROM` identifies the source table or file name from which to retrieve or calculate that information. This structure will look like:\n",
        "\n",
        " > **SELECT** *(desired data here)* <br>\n",
        " > **FROM** *(table name here)*"
      ],
      "metadata": {
        "id": "ukHsDqpR6WeB"
      }
    },
    {
      "cell_type": "markdown",
      "source": [
        "#### 6.1.1) Select all columns using asterisk (*)."
      ],
      "metadata": {
        "id": "-Pqw_ZMYfX21"
      }
    },
    {
      "cell_type": "markdown",
      "source": [
        "Here we select all columns from the `visitation` table. "
      ],
      "metadata": {
        "id": "Mcj4_E7E1QR4"
      }
    },
    {
      "cell_type": "code",
      "source": [
        "# Connect to the table in the database\n",
        "connection = psycopg2.connect(user = 'postgres', password = 'postgres', host = 'localhost', database = 'tfio_demo')\n",
        "cursor = connection.cursor()\n",
        "\n",
        "# Create SQL query\n",
        "cursor.execute(\"SELECT * \\\n",
        "                FROM visitation\")\n",
        "table_contacts = cursor.fetchall()\n",
        "\n",
        "# Turn the results of the query into a dataframe for visualization of the results\n",
        "pd.DataFrame((table_contacts) , columns=[[desc[0] for desc in cursor.description]]).head()"
      ],
      "metadata": {
        "colab": {
          "base_uri": "https://localhost:8080/",
          "height": 0
        },
        "id": "z-qtAgejEXZg",
        "outputId": "a20e47cf-81d1-4e64-abbf-85569f872a11"
      },
      "execution_count": 29,
      "outputs": [
        {
          "output_type": "execute_result",
          "data": {
            "text/plain": [
              "  visitation_index  year visitor_count total_visitors\n",
              "0                1  1944          1409       15431947\n",
              "1                2  1945          3205       15431947\n",
              "2                3  1946         10037       15431947\n",
              "3                4  1947         28652       15431947\n",
              "4                5  1948         45670       15431947"
            ],
            "text/html": [
              "\n",
              "  <div id=\"df-3b6366c5-ef03-412b-a6e2-45bf51941e17\">\n",
              "    <div class=\"colab-df-container\">\n",
              "      <div>\n",
              "<style scoped>\n",
              "    .dataframe tbody tr th:only-of-type {\n",
              "        vertical-align: middle;\n",
              "    }\n",
              "\n",
              "    .dataframe tbody tr th {\n",
              "        vertical-align: top;\n",
              "    }\n",
              "\n",
              "    .dataframe thead tr th {\n",
              "        text-align: left;\n",
              "    }\n",
              "</style>\n",
              "<table border=\"1\" class=\"dataframe\">\n",
              "  <thead>\n",
              "    <tr>\n",
              "      <th></th>\n",
              "      <th>visitation_index</th>\n",
              "      <th>year</th>\n",
              "      <th>visitor_count</th>\n",
              "      <th>total_visitors</th>\n",
              "    </tr>\n",
              "  </thead>\n",
              "  <tbody>\n",
              "    <tr>\n",
              "      <th>0</th>\n",
              "      <td>1</td>\n",
              "      <td>1944</td>\n",
              "      <td>1409</td>\n",
              "      <td>15431947</td>\n",
              "    </tr>\n",
              "    <tr>\n",
              "      <th>1</th>\n",
              "      <td>2</td>\n",
              "      <td>1945</td>\n",
              "      <td>3205</td>\n",
              "      <td>15431947</td>\n",
              "    </tr>\n",
              "    <tr>\n",
              "      <th>2</th>\n",
              "      <td>3</td>\n",
              "      <td>1946</td>\n",
              "      <td>10037</td>\n",
              "      <td>15431947</td>\n",
              "    </tr>\n",
              "    <tr>\n",
              "      <th>3</th>\n",
              "      <td>4</td>\n",
              "      <td>1947</td>\n",
              "      <td>28652</td>\n",
              "      <td>15431947</td>\n",
              "    </tr>\n",
              "    <tr>\n",
              "      <th>4</th>\n",
              "      <td>5</td>\n",
              "      <td>1948</td>\n",
              "      <td>45670</td>\n",
              "      <td>15431947</td>\n",
              "    </tr>\n",
              "  </tbody>\n",
              "</table>\n",
              "</div>\n",
              "      <button class=\"colab-df-convert\" onclick=\"convertToInteractive('df-3b6366c5-ef03-412b-a6e2-45bf51941e17')\"\n",
              "              title=\"Convert this dataframe to an interactive table.\"\n",
              "              style=\"display:none;\">\n",
              "        \n",
              "  <svg xmlns=\"http://www.w3.org/2000/svg\" height=\"24px\"viewBox=\"0 0 24 24\"\n",
              "       width=\"24px\">\n",
              "    <path d=\"M0 0h24v24H0V0z\" fill=\"none\"/>\n",
              "    <path d=\"M18.56 5.44l.94 2.06.94-2.06 2.06-.94-2.06-.94-.94-2.06-.94 2.06-2.06.94zm-11 1L8.5 8.5l.94-2.06 2.06-.94-2.06-.94L8.5 2.5l-.94 2.06-2.06.94zm10 10l.94 2.06.94-2.06 2.06-.94-2.06-.94-.94-2.06-.94 2.06-2.06.94z\"/><path d=\"M17.41 7.96l-1.37-1.37c-.4-.4-.92-.59-1.43-.59-.52 0-1.04.2-1.43.59L10.3 9.45l-7.72 7.72c-.78.78-.78 2.05 0 2.83L4 21.41c.39.39.9.59 1.41.59.51 0 1.02-.2 1.41-.59l7.78-7.78 2.81-2.81c.8-.78.8-2.07 0-2.86zM5.41 20L4 18.59l7.72-7.72 1.47 1.35L5.41 20z\"/>\n",
              "  </svg>\n",
              "      </button>\n",
              "      \n",
              "  <style>\n",
              "    .colab-df-container {\n",
              "      display:flex;\n",
              "      flex-wrap:wrap;\n",
              "      gap: 12px;\n",
              "    }\n",
              "\n",
              "    .colab-df-convert {\n",
              "      background-color: #E8F0FE;\n",
              "      border: none;\n",
              "      border-radius: 50%;\n",
              "      cursor: pointer;\n",
              "      display: none;\n",
              "      fill: #1967D2;\n",
              "      height: 32px;\n",
              "      padding: 0 0 0 0;\n",
              "      width: 32px;\n",
              "    }\n",
              "\n",
              "    .colab-df-convert:hover {\n",
              "      background-color: #E2EBFA;\n",
              "      box-shadow: 0px 1px 2px rgba(60, 64, 67, 0.3), 0px 1px 3px 1px rgba(60, 64, 67, 0.15);\n",
              "      fill: #174EA6;\n",
              "    }\n",
              "\n",
              "    [theme=dark] .colab-df-convert {\n",
              "      background-color: #3B4455;\n",
              "      fill: #D2E3FC;\n",
              "    }\n",
              "\n",
              "    [theme=dark] .colab-df-convert:hover {\n",
              "      background-color: #434B5C;\n",
              "      box-shadow: 0px 1px 3px 1px rgba(0, 0, 0, 0.15);\n",
              "      filter: drop-shadow(0px 1px 2px rgba(0, 0, 0, 0.3));\n",
              "      fill: #FFFFFF;\n",
              "    }\n",
              "  </style>\n",
              "\n",
              "      <script>\n",
              "        const buttonEl =\n",
              "          document.querySelector('#df-3b6366c5-ef03-412b-a6e2-45bf51941e17 button.colab-df-convert');\n",
              "        buttonEl.style.display =\n",
              "          google.colab.kernel.accessAllowed ? 'block' : 'none';\n",
              "\n",
              "        async function convertToInteractive(key) {\n",
              "          const element = document.querySelector('#df-3b6366c5-ef03-412b-a6e2-45bf51941e17');\n",
              "          const dataTable =\n",
              "            await google.colab.kernel.invokeFunction('convertToInteractive',\n",
              "                                                     [key], {});\n",
              "          if (!dataTable) return;\n",
              "\n",
              "          const docLinkHtml = 'Like what you see? Visit the ' +\n",
              "            '<a target=\"_blank\" href=https://colab.research.google.com/notebooks/data_table.ipynb>data table notebook</a>'\n",
              "            + ' to learn more about interactive tables.';\n",
              "          element.innerHTML = '';\n",
              "          dataTable['output_type'] = 'display_data';\n",
              "          await google.colab.output.renderOutput(dataTable, element);\n",
              "          const docLink = document.createElement('div');\n",
              "          docLink.innerHTML = docLinkHtml;\n",
              "          element.appendChild(docLink);\n",
              "        }\n",
              "      </script>\n",
              "    </div>\n",
              "  </div>\n",
              "  "
            ]
          },
          "metadata": {},
          "execution_count": 29
        }
      ]
    },
    {
      "cell_type": "markdown",
      "source": [
        "#### 6.1.2) Select certain columns of a given table."
      ],
      "metadata": {
        "id": "xi0BzzwKfex7"
      }
    },
    {
      "cell_type": "markdown",
      "source": [
        "Here we select the columns `year` and `vistor_count` from the `visitation` table. "
      ],
      "metadata": {
        "id": "yUvKF3pw1LyJ"
      }
    },
    {
      "cell_type": "code",
      "source": [
        "# Connect to the table in the database\n",
        "connection = psycopg2.connect(user = 'postgres', password = 'postgres', host = 'localhost', database = 'tfio_demo')\n",
        "cursor = connection.cursor()\n",
        "\n",
        "# Create SQL query\n",
        "cursor.execute(\" SELECT visitation.year, visitation.visitor_count \\\n",
        "                 FROM visitation; \")\n",
        "table_contacts = cursor.fetchall()\n",
        "\n",
        "# Turn the results of the query into a dataframe for visualization of the results\n",
        "pd.DataFrame((table_contacts) , columns=[[desc[0] for desc in cursor.description]]).head()"
      ],
      "metadata": {
        "colab": {
          "base_uri": "https://localhost:8080/",
          "height": 0
        },
        "id": "geDTjSlUfhGM",
        "outputId": "c0ccac09-95e5-48fb-89f5-746cf2c1f6f2"
      },
      "execution_count": 30,
      "outputs": [
        {
          "output_type": "execute_result",
          "data": {
            "text/plain": [
              "   year visitor_count\n",
              "0  1944          1409\n",
              "1  1945          3205\n",
              "2  1946         10037\n",
              "3  1947         28652\n",
              "4  1948         45670"
            ],
            "text/html": [
              "\n",
              "  <div id=\"df-ad8706d9-b5eb-4a5e-a9fa-83cf4182d1c6\">\n",
              "    <div class=\"colab-df-container\">\n",
              "      <div>\n",
              "<style scoped>\n",
              "    .dataframe tbody tr th:only-of-type {\n",
              "        vertical-align: middle;\n",
              "    }\n",
              "\n",
              "    .dataframe tbody tr th {\n",
              "        vertical-align: top;\n",
              "    }\n",
              "\n",
              "    .dataframe thead tr th {\n",
              "        text-align: left;\n",
              "    }\n",
              "</style>\n",
              "<table border=\"1\" class=\"dataframe\">\n",
              "  <thead>\n",
              "    <tr>\n",
              "      <th></th>\n",
              "      <th>year</th>\n",
              "      <th>visitor_count</th>\n",
              "    </tr>\n",
              "  </thead>\n",
              "  <tbody>\n",
              "    <tr>\n",
              "      <th>0</th>\n",
              "      <td>1944</td>\n",
              "      <td>1409</td>\n",
              "    </tr>\n",
              "    <tr>\n",
              "      <th>1</th>\n",
              "      <td>1945</td>\n",
              "      <td>3205</td>\n",
              "    </tr>\n",
              "    <tr>\n",
              "      <th>2</th>\n",
              "      <td>1946</td>\n",
              "      <td>10037</td>\n",
              "    </tr>\n",
              "    <tr>\n",
              "      <th>3</th>\n",
              "      <td>1947</td>\n",
              "      <td>28652</td>\n",
              "    </tr>\n",
              "    <tr>\n",
              "      <th>4</th>\n",
              "      <td>1948</td>\n",
              "      <td>45670</td>\n",
              "    </tr>\n",
              "  </tbody>\n",
              "</table>\n",
              "</div>\n",
              "      <button class=\"colab-df-convert\" onclick=\"convertToInteractive('df-ad8706d9-b5eb-4a5e-a9fa-83cf4182d1c6')\"\n",
              "              title=\"Convert this dataframe to an interactive table.\"\n",
              "              style=\"display:none;\">\n",
              "        \n",
              "  <svg xmlns=\"http://www.w3.org/2000/svg\" height=\"24px\"viewBox=\"0 0 24 24\"\n",
              "       width=\"24px\">\n",
              "    <path d=\"M0 0h24v24H0V0z\" fill=\"none\"/>\n",
              "    <path d=\"M18.56 5.44l.94 2.06.94-2.06 2.06-.94-2.06-.94-.94-2.06-.94 2.06-2.06.94zm-11 1L8.5 8.5l.94-2.06 2.06-.94-2.06-.94L8.5 2.5l-.94 2.06-2.06.94zm10 10l.94 2.06.94-2.06 2.06-.94-2.06-.94-.94-2.06-.94 2.06-2.06.94z\"/><path d=\"M17.41 7.96l-1.37-1.37c-.4-.4-.92-.59-1.43-.59-.52 0-1.04.2-1.43.59L10.3 9.45l-7.72 7.72c-.78.78-.78 2.05 0 2.83L4 21.41c.39.39.9.59 1.41.59.51 0 1.02-.2 1.41-.59l7.78-7.78 2.81-2.81c.8-.78.8-2.07 0-2.86zM5.41 20L4 18.59l7.72-7.72 1.47 1.35L5.41 20z\"/>\n",
              "  </svg>\n",
              "      </button>\n",
              "      \n",
              "  <style>\n",
              "    .colab-df-container {\n",
              "      display:flex;\n",
              "      flex-wrap:wrap;\n",
              "      gap: 12px;\n",
              "    }\n",
              "\n",
              "    .colab-df-convert {\n",
              "      background-color: #E8F0FE;\n",
              "      border: none;\n",
              "      border-radius: 50%;\n",
              "      cursor: pointer;\n",
              "      display: none;\n",
              "      fill: #1967D2;\n",
              "      height: 32px;\n",
              "      padding: 0 0 0 0;\n",
              "      width: 32px;\n",
              "    }\n",
              "\n",
              "    .colab-df-convert:hover {\n",
              "      background-color: #E2EBFA;\n",
              "      box-shadow: 0px 1px 2px rgba(60, 64, 67, 0.3), 0px 1px 3px 1px rgba(60, 64, 67, 0.15);\n",
              "      fill: #174EA6;\n",
              "    }\n",
              "\n",
              "    [theme=dark] .colab-df-convert {\n",
              "      background-color: #3B4455;\n",
              "      fill: #D2E3FC;\n",
              "    }\n",
              "\n",
              "    [theme=dark] .colab-df-convert:hover {\n",
              "      background-color: #434B5C;\n",
              "      box-shadow: 0px 1px 3px 1px rgba(0, 0, 0, 0.15);\n",
              "      filter: drop-shadow(0px 1px 2px rgba(0, 0, 0, 0.3));\n",
              "      fill: #FFFFFF;\n",
              "    }\n",
              "  </style>\n",
              "\n",
              "      <script>\n",
              "        const buttonEl =\n",
              "          document.querySelector('#df-ad8706d9-b5eb-4a5e-a9fa-83cf4182d1c6 button.colab-df-convert');\n",
              "        buttonEl.style.display =\n",
              "          google.colab.kernel.accessAllowed ? 'block' : 'none';\n",
              "\n",
              "        async function convertToInteractive(key) {\n",
              "          const element = document.querySelector('#df-ad8706d9-b5eb-4a5e-a9fa-83cf4182d1c6');\n",
              "          const dataTable =\n",
              "            await google.colab.kernel.invokeFunction('convertToInteractive',\n",
              "                                                     [key], {});\n",
              "          if (!dataTable) return;\n",
              "\n",
              "          const docLinkHtml = 'Like what you see? Visit the ' +\n",
              "            '<a target=\"_blank\" href=https://colab.research.google.com/notebooks/data_table.ipynb>data table notebook</a>'\n",
              "            + ' to learn more about interactive tables.';\n",
              "          element.innerHTML = '';\n",
              "          dataTable['output_type'] = 'display_data';\n",
              "          await google.colab.output.renderOutput(dataTable, element);\n",
              "          const docLink = document.createElement('div');\n",
              "          docLink.innerHTML = docLinkHtml;\n",
              "          element.appendChild(docLink);\n",
              "        }\n",
              "      </script>\n",
              "    </div>\n",
              "  </div>\n",
              "  "
            ]
          },
          "metadata": {},
          "execution_count": 30
        }
      ]
    },
    {
      "cell_type": "markdown",
      "source": [
        "#### 6.1.3) Create aggregate measures (SUM)."
      ],
      "metadata": {
        "id": "h9KBBLydhMqB"
      }
    },
    {
      "cell_type": "markdown",
      "source": [
        "Here we calculate the sum of all values for the column `vistor_count` from the `visitation` table. "
      ],
      "metadata": {
        "id": "IxkUOf131FaH"
      }
    },
    {
      "cell_type": "code",
      "source": [
        "# Connect to the table in the database\n",
        "connection = psycopg2.connect(user = 'postgres', password = 'postgres', host = 'localhost', database = 'tfio_demo')\n",
        "cursor = connection.cursor()\n",
        "\n",
        "# Create SQL query\n",
        "cursor.execute(\" SELECT SUM(visitation.visitor_count) \\\n",
        "                 FROM visitation; \")\n",
        "table_contacts = cursor.fetchall()\n",
        "\n",
        "# Turn the results of the query into a dataframe for visualization of the results\n",
        "pd.DataFrame((table_contacts) , columns=[[desc[0] for desc in cursor.description]]).head(2)"
      ],
      "metadata": {
        "colab": {
          "base_uri": "https://localhost:8080/",
          "height": 0
        },
        "id": "ZZie-doFhRm6",
        "outputId": "d3ffb9f4-4e4a-4af4-90ed-e409d09ab6dd"
      },
      "execution_count": 31,
      "outputs": [
        {
          "output_type": "execute_result",
          "data": {
            "text/plain": [
              "        sum\n",
              "0  15431947"
            ],
            "text/html": [
              "\n",
              "  <div id=\"df-ca956398-443b-4ab3-b558-b93a72733377\">\n",
              "    <div class=\"colab-df-container\">\n",
              "      <div>\n",
              "<style scoped>\n",
              "    .dataframe tbody tr th:only-of-type {\n",
              "        vertical-align: middle;\n",
              "    }\n",
              "\n",
              "    .dataframe tbody tr th {\n",
              "        vertical-align: top;\n",
              "    }\n",
              "\n",
              "    .dataframe thead tr th {\n",
              "        text-align: left;\n",
              "    }\n",
              "</style>\n",
              "<table border=\"1\" class=\"dataframe\">\n",
              "  <thead>\n",
              "    <tr>\n",
              "      <th></th>\n",
              "      <th>sum</th>\n",
              "    </tr>\n",
              "  </thead>\n",
              "  <tbody>\n",
              "    <tr>\n",
              "      <th>0</th>\n",
              "      <td>15431947</td>\n",
              "    </tr>\n",
              "  </tbody>\n",
              "</table>\n",
              "</div>\n",
              "      <button class=\"colab-df-convert\" onclick=\"convertToInteractive('df-ca956398-443b-4ab3-b558-b93a72733377')\"\n",
              "              title=\"Convert this dataframe to an interactive table.\"\n",
              "              style=\"display:none;\">\n",
              "        \n",
              "  <svg xmlns=\"http://www.w3.org/2000/svg\" height=\"24px\"viewBox=\"0 0 24 24\"\n",
              "       width=\"24px\">\n",
              "    <path d=\"M0 0h24v24H0V0z\" fill=\"none\"/>\n",
              "    <path d=\"M18.56 5.44l.94 2.06.94-2.06 2.06-.94-2.06-.94-.94-2.06-.94 2.06-2.06.94zm-11 1L8.5 8.5l.94-2.06 2.06-.94-2.06-.94L8.5 2.5l-.94 2.06-2.06.94zm10 10l.94 2.06.94-2.06 2.06-.94-2.06-.94-.94-2.06-.94 2.06-2.06.94z\"/><path d=\"M17.41 7.96l-1.37-1.37c-.4-.4-.92-.59-1.43-.59-.52 0-1.04.2-1.43.59L10.3 9.45l-7.72 7.72c-.78.78-.78 2.05 0 2.83L4 21.41c.39.39.9.59 1.41.59.51 0 1.02-.2 1.41-.59l7.78-7.78 2.81-2.81c.8-.78.8-2.07 0-2.86zM5.41 20L4 18.59l7.72-7.72 1.47 1.35L5.41 20z\"/>\n",
              "  </svg>\n",
              "      </button>\n",
              "      \n",
              "  <style>\n",
              "    .colab-df-container {\n",
              "      display:flex;\n",
              "      flex-wrap:wrap;\n",
              "      gap: 12px;\n",
              "    }\n",
              "\n",
              "    .colab-df-convert {\n",
              "      background-color: #E8F0FE;\n",
              "      border: none;\n",
              "      border-radius: 50%;\n",
              "      cursor: pointer;\n",
              "      display: none;\n",
              "      fill: #1967D2;\n",
              "      height: 32px;\n",
              "      padding: 0 0 0 0;\n",
              "      width: 32px;\n",
              "    }\n",
              "\n",
              "    .colab-df-convert:hover {\n",
              "      background-color: #E2EBFA;\n",
              "      box-shadow: 0px 1px 2px rgba(60, 64, 67, 0.3), 0px 1px 3px 1px rgba(60, 64, 67, 0.15);\n",
              "      fill: #174EA6;\n",
              "    }\n",
              "\n",
              "    [theme=dark] .colab-df-convert {\n",
              "      background-color: #3B4455;\n",
              "      fill: #D2E3FC;\n",
              "    }\n",
              "\n",
              "    [theme=dark] .colab-df-convert:hover {\n",
              "      background-color: #434B5C;\n",
              "      box-shadow: 0px 1px 3px 1px rgba(0, 0, 0, 0.15);\n",
              "      filter: drop-shadow(0px 1px 2px rgba(0, 0, 0, 0.3));\n",
              "      fill: #FFFFFF;\n",
              "    }\n",
              "  </style>\n",
              "\n",
              "      <script>\n",
              "        const buttonEl =\n",
              "          document.querySelector('#df-ca956398-443b-4ab3-b558-b93a72733377 button.colab-df-convert');\n",
              "        buttonEl.style.display =\n",
              "          google.colab.kernel.accessAllowed ? 'block' : 'none';\n",
              "\n",
              "        async function convertToInteractive(key) {\n",
              "          const element = document.querySelector('#df-ca956398-443b-4ab3-b558-b93a72733377');\n",
              "          const dataTable =\n",
              "            await google.colab.kernel.invokeFunction('convertToInteractive',\n",
              "                                                     [key], {});\n",
              "          if (!dataTable) return;\n",
              "\n",
              "          const docLinkHtml = 'Like what you see? Visit the ' +\n",
              "            '<a target=\"_blank\" href=https://colab.research.google.com/notebooks/data_table.ipynb>data table notebook</a>'\n",
              "            + ' to learn more about interactive tables.';\n",
              "          element.innerHTML = '';\n",
              "          dataTable['output_type'] = 'display_data';\n",
              "          await google.colab.output.renderOutput(dataTable, element);\n",
              "          const docLink = document.createElement('div');\n",
              "          docLink.innerHTML = docLinkHtml;\n",
              "          element.appendChild(docLink);\n",
              "        }\n",
              "      </script>\n",
              "    </div>\n",
              "  </div>\n",
              "  "
            ]
          },
          "metadata": {},
          "execution_count": 31
        }
      ]
    },
    {
      "cell_type": "markdown",
      "source": [
        "#### 6.1.4) Minimum, Maximum and Average Metrics."
      ],
      "metadata": {
        "id": "k2AjPQsW4BJr"
      }
    },
    {
      "cell_type": "markdown",
      "source": [
        "Here we calculate the minimum, average and maximum values for the column `vistor_count` from the `visitation` table. "
      ],
      "metadata": {
        "id": "g0rGHQaA00aj"
      }
    },
    {
      "cell_type": "code",
      "source": [
        "# Connect to the table in the database\n",
        "connection = psycopg2.connect(user = 'postgres', password = 'postgres', host = 'localhost', database = 'tfio_demo')\n",
        "cursor = connection.cursor()\n",
        "\n",
        "# Create SQL query\n",
        "cursor.execute(\"SELECT MIN(visitation.visitor_count), AVG(visitation.visitor_count), MAX(visitation.visitor_count) \\\n",
        "                FROM visitation;\")\n",
        "table_contacts = cursor.fetchall()\n",
        "\n",
        "# Turn the results of the query into a dataframe for visualization of the results\n",
        "pd.DataFrame((table_contacts) , columns=[[desc[0] for desc in cursor.description]]).head(2)"
      ],
      "metadata": {
        "colab": {
          "base_uri": "https://localhost:8080/",
          "height": 0
        },
        "id": "w5GAQiJP4FtK",
        "outputId": "0c3ff318-3dfd-407c-e46e-ee348eb09892"
      },
      "execution_count": 32,
      "outputs": [
        {
          "output_type": "execute_result",
          "data": {
            "text/plain": [
              "    min                  avg     max\n",
              "0  1409  214332.597222222222  398583"
            ],
            "text/html": [
              "\n",
              "  <div id=\"df-3ce8cdbe-8332-4606-bbfe-2f3cfb94b570\">\n",
              "    <div class=\"colab-df-container\">\n",
              "      <div>\n",
              "<style scoped>\n",
              "    .dataframe tbody tr th:only-of-type {\n",
              "        vertical-align: middle;\n",
              "    }\n",
              "\n",
              "    .dataframe tbody tr th {\n",
              "        vertical-align: top;\n",
              "    }\n",
              "\n",
              "    .dataframe thead tr th {\n",
              "        text-align: left;\n",
              "    }\n",
              "</style>\n",
              "<table border=\"1\" class=\"dataframe\">\n",
              "  <thead>\n",
              "    <tr>\n",
              "      <th></th>\n",
              "      <th>min</th>\n",
              "      <th>avg</th>\n",
              "      <th>max</th>\n",
              "    </tr>\n",
              "  </thead>\n",
              "  <tbody>\n",
              "    <tr>\n",
              "      <th>0</th>\n",
              "      <td>1409</td>\n",
              "      <td>214332.597222222222</td>\n",
              "      <td>398583</td>\n",
              "    </tr>\n",
              "  </tbody>\n",
              "</table>\n",
              "</div>\n",
              "      <button class=\"colab-df-convert\" onclick=\"convertToInteractive('df-3ce8cdbe-8332-4606-bbfe-2f3cfb94b570')\"\n",
              "              title=\"Convert this dataframe to an interactive table.\"\n",
              "              style=\"display:none;\">\n",
              "        \n",
              "  <svg xmlns=\"http://www.w3.org/2000/svg\" height=\"24px\"viewBox=\"0 0 24 24\"\n",
              "       width=\"24px\">\n",
              "    <path d=\"M0 0h24v24H0V0z\" fill=\"none\"/>\n",
              "    <path d=\"M18.56 5.44l.94 2.06.94-2.06 2.06-.94-2.06-.94-.94-2.06-.94 2.06-2.06.94zm-11 1L8.5 8.5l.94-2.06 2.06-.94-2.06-.94L8.5 2.5l-.94 2.06-2.06.94zm10 10l.94 2.06.94-2.06 2.06-.94-2.06-.94-.94-2.06-.94 2.06-2.06.94z\"/><path d=\"M17.41 7.96l-1.37-1.37c-.4-.4-.92-.59-1.43-.59-.52 0-1.04.2-1.43.59L10.3 9.45l-7.72 7.72c-.78.78-.78 2.05 0 2.83L4 21.41c.39.39.9.59 1.41.59.51 0 1.02-.2 1.41-.59l7.78-7.78 2.81-2.81c.8-.78.8-2.07 0-2.86zM5.41 20L4 18.59l7.72-7.72 1.47 1.35L5.41 20z\"/>\n",
              "  </svg>\n",
              "      </button>\n",
              "      \n",
              "  <style>\n",
              "    .colab-df-container {\n",
              "      display:flex;\n",
              "      flex-wrap:wrap;\n",
              "      gap: 12px;\n",
              "    }\n",
              "\n",
              "    .colab-df-convert {\n",
              "      background-color: #E8F0FE;\n",
              "      border: none;\n",
              "      border-radius: 50%;\n",
              "      cursor: pointer;\n",
              "      display: none;\n",
              "      fill: #1967D2;\n",
              "      height: 32px;\n",
              "      padding: 0 0 0 0;\n",
              "      width: 32px;\n",
              "    }\n",
              "\n",
              "    .colab-df-convert:hover {\n",
              "      background-color: #E2EBFA;\n",
              "      box-shadow: 0px 1px 2px rgba(60, 64, 67, 0.3), 0px 1px 3px 1px rgba(60, 64, 67, 0.15);\n",
              "      fill: #174EA6;\n",
              "    }\n",
              "\n",
              "    [theme=dark] .colab-df-convert {\n",
              "      background-color: #3B4455;\n",
              "      fill: #D2E3FC;\n",
              "    }\n",
              "\n",
              "    [theme=dark] .colab-df-convert:hover {\n",
              "      background-color: #434B5C;\n",
              "      box-shadow: 0px 1px 3px 1px rgba(0, 0, 0, 0.15);\n",
              "      filter: drop-shadow(0px 1px 2px rgba(0, 0, 0, 0.3));\n",
              "      fill: #FFFFFF;\n",
              "    }\n",
              "  </style>\n",
              "\n",
              "      <script>\n",
              "        const buttonEl =\n",
              "          document.querySelector('#df-3ce8cdbe-8332-4606-bbfe-2f3cfb94b570 button.colab-df-convert');\n",
              "        buttonEl.style.display =\n",
              "          google.colab.kernel.accessAllowed ? 'block' : 'none';\n",
              "\n",
              "        async function convertToInteractive(key) {\n",
              "          const element = document.querySelector('#df-3ce8cdbe-8332-4606-bbfe-2f3cfb94b570');\n",
              "          const dataTable =\n",
              "            await google.colab.kernel.invokeFunction('convertToInteractive',\n",
              "                                                     [key], {});\n",
              "          if (!dataTable) return;\n",
              "\n",
              "          const docLinkHtml = 'Like what you see? Visit the ' +\n",
              "            '<a target=\"_blank\" href=https://colab.research.google.com/notebooks/data_table.ipynb>data table notebook</a>'\n",
              "            + ' to learn more about interactive tables.';\n",
              "          element.innerHTML = '';\n",
              "          dataTable['output_type'] = 'display_data';\n",
              "          await google.colab.output.renderOutput(dataTable, element);\n",
              "          const docLink = document.createElement('div');\n",
              "          docLink.innerHTML = docLinkHtml;\n",
              "          element.appendChild(docLink);\n",
              "        }\n",
              "      </script>\n",
              "    </div>\n",
              "  </div>\n",
              "  "
            ]
          },
          "metadata": {},
          "execution_count": 32
        }
      ]
    },
    {
      "cell_type": "markdown",
      "source": [
        "#### 6.1.5) WHERE and ORDER BY command"
      ],
      "metadata": {
        "id": "Y8vdQG6z4_EE"
      }
    },
    {
      "cell_type": "markdown",
      "source": [
        "Here we select the columns `year` and `visitor_count` from the `visitation` table. The selection is limited to `visitor_count` values equal or greater than 300000. The results are organized by `year` in a descending order. "
      ],
      "metadata": {
        "id": "avU8VAuD0UaU"
      }
    },
    {
      "cell_type": "code",
      "source": [
        "# Connect to the table in the database\n",
        "connection = psycopg2.connect(user = 'postgres', password = 'postgres', host = 'localhost', database = 'tfio_demo')\n",
        "cursor = connection.cursor()\n",
        "\n",
        "# Create SQL query\n",
        "cursor.execute(\"SELECT visitation.year, visitation.visitor_count \\\n",
        "                FROM visitation WHERE visitation.visitor_count >= 300000 \\\n",
        "                ORDER BY visitation.year \\\n",
        "                DESC;\")\n",
        "table_contacts = cursor.fetchall()\n",
        "\n",
        "# Turn the results of the query into a dataframe for visualization of the results\n",
        "pd.DataFrame((table_contacts) , columns=[[desc[0] for desc in cursor.description]]).head()"
      ],
      "metadata": {
        "colab": {
          "base_uri": "https://localhost:8080/",
          "height": 0
        },
        "id": "iRZ8mZ5M5Fh8",
        "outputId": "b767eb0a-1b33-4670-c9e0-14e27bf5efa8"
      },
      "execution_count": 33,
      "outputs": [
        {
          "output_type": "execute_result",
          "data": {
            "text/plain": [
              "   year visitor_count\n",
              "0  2015        381747\n",
              "1  2014        314102\n",
              "2  2013        316953\n",
              "3  2011        361862\n",
              "4  2010        372330"
            ],
            "text/html": [
              "\n",
              "  <div id=\"df-3c76b1cc-5a5d-4b30-b5e4-d4f2d9cdcdc1\">\n",
              "    <div class=\"colab-df-container\">\n",
              "      <div>\n",
              "<style scoped>\n",
              "    .dataframe tbody tr th:only-of-type {\n",
              "        vertical-align: middle;\n",
              "    }\n",
              "\n",
              "    .dataframe tbody tr th {\n",
              "        vertical-align: top;\n",
              "    }\n",
              "\n",
              "    .dataframe thead tr th {\n",
              "        text-align: left;\n",
              "    }\n",
              "</style>\n",
              "<table border=\"1\" class=\"dataframe\">\n",
              "  <thead>\n",
              "    <tr>\n",
              "      <th></th>\n",
              "      <th>year</th>\n",
              "      <th>visitor_count</th>\n",
              "    </tr>\n",
              "  </thead>\n",
              "  <tbody>\n",
              "    <tr>\n",
              "      <th>0</th>\n",
              "      <td>2015</td>\n",
              "      <td>381747</td>\n",
              "    </tr>\n",
              "    <tr>\n",
              "      <th>1</th>\n",
              "      <td>2014</td>\n",
              "      <td>314102</td>\n",
              "    </tr>\n",
              "    <tr>\n",
              "      <th>2</th>\n",
              "      <td>2013</td>\n",
              "      <td>316953</td>\n",
              "    </tr>\n",
              "    <tr>\n",
              "      <th>3</th>\n",
              "      <td>2011</td>\n",
              "      <td>361862</td>\n",
              "    </tr>\n",
              "    <tr>\n",
              "      <th>4</th>\n",
              "      <td>2010</td>\n",
              "      <td>372330</td>\n",
              "    </tr>\n",
              "  </tbody>\n",
              "</table>\n",
              "</div>\n",
              "      <button class=\"colab-df-convert\" onclick=\"convertToInteractive('df-3c76b1cc-5a5d-4b30-b5e4-d4f2d9cdcdc1')\"\n",
              "              title=\"Convert this dataframe to an interactive table.\"\n",
              "              style=\"display:none;\">\n",
              "        \n",
              "  <svg xmlns=\"http://www.w3.org/2000/svg\" height=\"24px\"viewBox=\"0 0 24 24\"\n",
              "       width=\"24px\">\n",
              "    <path d=\"M0 0h24v24H0V0z\" fill=\"none\"/>\n",
              "    <path d=\"M18.56 5.44l.94 2.06.94-2.06 2.06-.94-2.06-.94-.94-2.06-.94 2.06-2.06.94zm-11 1L8.5 8.5l.94-2.06 2.06-.94-2.06-.94L8.5 2.5l-.94 2.06-2.06.94zm10 10l.94 2.06.94-2.06 2.06-.94-2.06-.94-.94-2.06-.94 2.06-2.06.94z\"/><path d=\"M17.41 7.96l-1.37-1.37c-.4-.4-.92-.59-1.43-.59-.52 0-1.04.2-1.43.59L10.3 9.45l-7.72 7.72c-.78.78-.78 2.05 0 2.83L4 21.41c.39.39.9.59 1.41.59.51 0 1.02-.2 1.41-.59l7.78-7.78 2.81-2.81c.8-.78.8-2.07 0-2.86zM5.41 20L4 18.59l7.72-7.72 1.47 1.35L5.41 20z\"/>\n",
              "  </svg>\n",
              "      </button>\n",
              "      \n",
              "  <style>\n",
              "    .colab-df-container {\n",
              "      display:flex;\n",
              "      flex-wrap:wrap;\n",
              "      gap: 12px;\n",
              "    }\n",
              "\n",
              "    .colab-df-convert {\n",
              "      background-color: #E8F0FE;\n",
              "      border: none;\n",
              "      border-radius: 50%;\n",
              "      cursor: pointer;\n",
              "      display: none;\n",
              "      fill: #1967D2;\n",
              "      height: 32px;\n",
              "      padding: 0 0 0 0;\n",
              "      width: 32px;\n",
              "    }\n",
              "\n",
              "    .colab-df-convert:hover {\n",
              "      background-color: #E2EBFA;\n",
              "      box-shadow: 0px 1px 2px rgba(60, 64, 67, 0.3), 0px 1px 3px 1px rgba(60, 64, 67, 0.15);\n",
              "      fill: #174EA6;\n",
              "    }\n",
              "\n",
              "    [theme=dark] .colab-df-convert {\n",
              "      background-color: #3B4455;\n",
              "      fill: #D2E3FC;\n",
              "    }\n",
              "\n",
              "    [theme=dark] .colab-df-convert:hover {\n",
              "      background-color: #434B5C;\n",
              "      box-shadow: 0px 1px 3px 1px rgba(0, 0, 0, 0.15);\n",
              "      filter: drop-shadow(0px 1px 2px rgba(0, 0, 0, 0.3));\n",
              "      fill: #FFFFFF;\n",
              "    }\n",
              "  </style>\n",
              "\n",
              "      <script>\n",
              "        const buttonEl =\n",
              "          document.querySelector('#df-3c76b1cc-5a5d-4b30-b5e4-d4f2d9cdcdc1 button.colab-df-convert');\n",
              "        buttonEl.style.display =\n",
              "          google.colab.kernel.accessAllowed ? 'block' : 'none';\n",
              "\n",
              "        async function convertToInteractive(key) {\n",
              "          const element = document.querySelector('#df-3c76b1cc-5a5d-4b30-b5e4-d4f2d9cdcdc1');\n",
              "          const dataTable =\n",
              "            await google.colab.kernel.invokeFunction('convertToInteractive',\n",
              "                                                     [key], {});\n",
              "          if (!dataTable) return;\n",
              "\n",
              "          const docLinkHtml = 'Like what you see? Visit the ' +\n",
              "            '<a target=\"_blank\" href=https://colab.research.google.com/notebooks/data_table.ipynb>data table notebook</a>'\n",
              "            + ' to learn more about interactive tables.';\n",
              "          element.innerHTML = '';\n",
              "          dataTable['output_type'] = 'display_data';\n",
              "          await google.colab.output.renderOutput(dataTable, element);\n",
              "          const docLink = document.createElement('div');\n",
              "          docLink.innerHTML = docLinkHtml;\n",
              "          element.appendChild(docLink);\n",
              "        }\n",
              "      </script>\n",
              "    </div>\n",
              "  </div>\n",
              "  "
            ]
          },
          "metadata": {},
          "execution_count": 33
        }
      ]
    },
    {
      "cell_type": "markdown",
      "source": [
        "#### 6.1.6) Summary"
      ],
      "metadata": {
        "id": "9JzYM16RwZcZ"
      }
    },
    {
      "cell_type": "markdown",
      "source": [
        "The following summary is provided in the second article that was referenced in part 1:\n",
        "- `SELECT` and `FROM` are the most essential parts of every query.\n",
        "- Selected data may request all `(*)`, specific columns or calculated values.\n",
        "- Formal referencing of data includes the sourcing table (table.data).\n",
        "- `WHERE` is a valuable tool for filtering data for the desired output.\n",
        "- `ORDER BY` sorts the query results, ascending `(ASC)` is the default."
      ],
      "metadata": {
        "id": "DsqeqjOowcsg"
      }
    },
    {
      "cell_type": "markdown",
      "source": [
        "### 6.2) FILTER & GROUP commands"
      ],
      "metadata": {
        "id": "zyfGRDgW626b"
      }
    },
    {
      "cell_type": "markdown",
      "source": [
        "Building on the basics of selecting desired data, add criteria to further refine the information retrieved for your report using conditional operators. These include command words such as `AND`, `OR`, `NOT`, `IN` and `BETWEEN`. They are added to the `SQL` query within the components of a `WHERE` clause, and are placed after the `SELECT` and `FROM` portions of the query. This structure will look like:\n",
        "\n",
        " > **SELECT** *(desired data here)* <br>\n",
        " > **FROM** *(table name here)* <br>\n",
        " > **WHERE** *(filtering criteria)*"
      ],
      "metadata": {
        "id": "zc_4v_Xhx8j4"
      }
    },
    {
      "cell_type": "markdown",
      "source": [
        "#### 6.2.1) LIMIT command"
      ],
      "metadata": {
        "id": "TVlez5SlsHfZ"
      }
    },
    {
      "cell_type": "markdown",
      "source": [
        "Here we select the columns `location`, `number_of_households_in_1000` and `number_of_pet_households_in_1000` from the `animals` table. The selection is  are organized by `number_of_pet_households_in_1000` in a descending order. The display is limited to the 10 first rows. "
      ],
      "metadata": {
        "id": "dr0tO4lN1yDo"
      }
    },
    {
      "cell_type": "code",
      "source": [
        "# Connect to the table in the database\n",
        "connection = psycopg2.connect(user = 'postgres', password = 'postgres', host = 'localhost', database = 'tfio_demo')\n",
        "cursor = connection.cursor()\n",
        "\n",
        "# Create SQL query\n",
        "cursor.execute(\"SELECT animals.location, animals.number_of_households_in_1000, animals.number_of_pet_households_in_1000 \\\n",
        "                FROM animals \\\n",
        "                ORDER BY animals.number_of_pet_households_in_1000 \\\n",
        "                DESC \\\n",
        "                LIMIT 10;\")\n",
        "table_contacts = cursor.fetchall()\n",
        "\n",
        "# Turn the results of the query into a dataframe for visualization of the results\n",
        "pd.DataFrame((table_contacts) , columns=[[desc[0] for desc in cursor.description]])"
      ],
      "metadata": {
        "colab": {
          "base_uri": "https://localhost:8080/",
          "height": 0
        },
        "id": "Y-1RMnj171-S",
        "outputId": "47ddd842-fd92-47b4-f91f-a9686ef7e964"
      },
      "execution_count": 34,
      "outputs": [
        {
          "output_type": "execute_result",
          "data": {
            "text/plain": [
              "         location number_of_households_in_1000  \\\n",
              "0      California                        12974   \n",
              "1           Texas                         9002   \n",
              "2         Florida                         7609   \n",
              "3        New York                         7512   \n",
              "4    Pennsylvania                         5172   \n",
              "5            Ohio                         4661   \n",
              "6        Illinois                         5026   \n",
              "7        Michigan                         3804   \n",
              "8         Georgia                         3798   \n",
              "9  North Carolina                         3701   \n",
              "\n",
              "  number_of_pet_households_in_1000  \n",
              "0                             6865  \n",
              "1                             5265  \n",
              "2                             4138  \n",
              "3                             3802  \n",
              "4                             2942  \n",
              "5                             2677  \n",
              "6                             2602  \n",
              "7                             2108  \n",
              "8                             2093  \n",
              "9                             2089  "
            ],
            "text/html": [
              "\n",
              "  <div id=\"df-e2bf950e-e0b9-48f8-8a30-7f00ec937dea\">\n",
              "    <div class=\"colab-df-container\">\n",
              "      <div>\n",
              "<style scoped>\n",
              "    .dataframe tbody tr th:only-of-type {\n",
              "        vertical-align: middle;\n",
              "    }\n",
              "\n",
              "    .dataframe tbody tr th {\n",
              "        vertical-align: top;\n",
              "    }\n",
              "\n",
              "    .dataframe thead tr th {\n",
              "        text-align: left;\n",
              "    }\n",
              "</style>\n",
              "<table border=\"1\" class=\"dataframe\">\n",
              "  <thead>\n",
              "    <tr>\n",
              "      <th></th>\n",
              "      <th>location</th>\n",
              "      <th>number_of_households_in_1000</th>\n",
              "      <th>number_of_pet_households_in_1000</th>\n",
              "    </tr>\n",
              "  </thead>\n",
              "  <tbody>\n",
              "    <tr>\n",
              "      <th>0</th>\n",
              "      <td>California</td>\n",
              "      <td>12974</td>\n",
              "      <td>6865</td>\n",
              "    </tr>\n",
              "    <tr>\n",
              "      <th>1</th>\n",
              "      <td>Texas</td>\n",
              "      <td>9002</td>\n",
              "      <td>5265</td>\n",
              "    </tr>\n",
              "    <tr>\n",
              "      <th>2</th>\n",
              "      <td>Florida</td>\n",
              "      <td>7609</td>\n",
              "      <td>4138</td>\n",
              "    </tr>\n",
              "    <tr>\n",
              "      <th>3</th>\n",
              "      <td>New York</td>\n",
              "      <td>7512</td>\n",
              "      <td>3802</td>\n",
              "    </tr>\n",
              "    <tr>\n",
              "      <th>4</th>\n",
              "      <td>Pennsylvania</td>\n",
              "      <td>5172</td>\n",
              "      <td>2942</td>\n",
              "    </tr>\n",
              "    <tr>\n",
              "      <th>5</th>\n",
              "      <td>Ohio</td>\n",
              "      <td>4661</td>\n",
              "      <td>2677</td>\n",
              "    </tr>\n",
              "    <tr>\n",
              "      <th>6</th>\n",
              "      <td>Illinois</td>\n",
              "      <td>5026</td>\n",
              "      <td>2602</td>\n",
              "    </tr>\n",
              "    <tr>\n",
              "      <th>7</th>\n",
              "      <td>Michigan</td>\n",
              "      <td>3804</td>\n",
              "      <td>2108</td>\n",
              "    </tr>\n",
              "    <tr>\n",
              "      <th>8</th>\n",
              "      <td>Georgia</td>\n",
              "      <td>3798</td>\n",
              "      <td>2093</td>\n",
              "    </tr>\n",
              "    <tr>\n",
              "      <th>9</th>\n",
              "      <td>North Carolina</td>\n",
              "      <td>3701</td>\n",
              "      <td>2089</td>\n",
              "    </tr>\n",
              "  </tbody>\n",
              "</table>\n",
              "</div>\n",
              "      <button class=\"colab-df-convert\" onclick=\"convertToInteractive('df-e2bf950e-e0b9-48f8-8a30-7f00ec937dea')\"\n",
              "              title=\"Convert this dataframe to an interactive table.\"\n",
              "              style=\"display:none;\">\n",
              "        \n",
              "  <svg xmlns=\"http://www.w3.org/2000/svg\" height=\"24px\"viewBox=\"0 0 24 24\"\n",
              "       width=\"24px\">\n",
              "    <path d=\"M0 0h24v24H0V0z\" fill=\"none\"/>\n",
              "    <path d=\"M18.56 5.44l.94 2.06.94-2.06 2.06-.94-2.06-.94-.94-2.06-.94 2.06-2.06.94zm-11 1L8.5 8.5l.94-2.06 2.06-.94-2.06-.94L8.5 2.5l-.94 2.06-2.06.94zm10 10l.94 2.06.94-2.06 2.06-.94-2.06-.94-.94-2.06-.94 2.06-2.06.94z\"/><path d=\"M17.41 7.96l-1.37-1.37c-.4-.4-.92-.59-1.43-.59-.52 0-1.04.2-1.43.59L10.3 9.45l-7.72 7.72c-.78.78-.78 2.05 0 2.83L4 21.41c.39.39.9.59 1.41.59.51 0 1.02-.2 1.41-.59l7.78-7.78 2.81-2.81c.8-.78.8-2.07 0-2.86zM5.41 20L4 18.59l7.72-7.72 1.47 1.35L5.41 20z\"/>\n",
              "  </svg>\n",
              "      </button>\n",
              "      \n",
              "  <style>\n",
              "    .colab-df-container {\n",
              "      display:flex;\n",
              "      flex-wrap:wrap;\n",
              "      gap: 12px;\n",
              "    }\n",
              "\n",
              "    .colab-df-convert {\n",
              "      background-color: #E8F0FE;\n",
              "      border: none;\n",
              "      border-radius: 50%;\n",
              "      cursor: pointer;\n",
              "      display: none;\n",
              "      fill: #1967D2;\n",
              "      height: 32px;\n",
              "      padding: 0 0 0 0;\n",
              "      width: 32px;\n",
              "    }\n",
              "\n",
              "    .colab-df-convert:hover {\n",
              "      background-color: #E2EBFA;\n",
              "      box-shadow: 0px 1px 2px rgba(60, 64, 67, 0.3), 0px 1px 3px 1px rgba(60, 64, 67, 0.15);\n",
              "      fill: #174EA6;\n",
              "    }\n",
              "\n",
              "    [theme=dark] .colab-df-convert {\n",
              "      background-color: #3B4455;\n",
              "      fill: #D2E3FC;\n",
              "    }\n",
              "\n",
              "    [theme=dark] .colab-df-convert:hover {\n",
              "      background-color: #434B5C;\n",
              "      box-shadow: 0px 1px 3px 1px rgba(0, 0, 0, 0.15);\n",
              "      filter: drop-shadow(0px 1px 2px rgba(0, 0, 0, 0.3));\n",
              "      fill: #FFFFFF;\n",
              "    }\n",
              "  </style>\n",
              "\n",
              "      <script>\n",
              "        const buttonEl =\n",
              "          document.querySelector('#df-e2bf950e-e0b9-48f8-8a30-7f00ec937dea button.colab-df-convert');\n",
              "        buttonEl.style.display =\n",
              "          google.colab.kernel.accessAllowed ? 'block' : 'none';\n",
              "\n",
              "        async function convertToInteractive(key) {\n",
              "          const element = document.querySelector('#df-e2bf950e-e0b9-48f8-8a30-7f00ec937dea');\n",
              "          const dataTable =\n",
              "            await google.colab.kernel.invokeFunction('convertToInteractive',\n",
              "                                                     [key], {});\n",
              "          if (!dataTable) return;\n",
              "\n",
              "          const docLinkHtml = 'Like what you see? Visit the ' +\n",
              "            '<a target=\"_blank\" href=https://colab.research.google.com/notebooks/data_table.ipynb>data table notebook</a>'\n",
              "            + ' to learn more about interactive tables.';\n",
              "          element.innerHTML = '';\n",
              "          dataTable['output_type'] = 'display_data';\n",
              "          await google.colab.output.renderOutput(dataTable, element);\n",
              "          const docLink = document.createElement('div');\n",
              "          docLink.innerHTML = docLinkHtml;\n",
              "          element.appendChild(docLink);\n",
              "        }\n",
              "      </script>\n",
              "    </div>\n",
              "  </div>\n",
              "  "
            ]
          },
          "metadata": {},
          "execution_count": 34
        }
      ]
    },
    {
      "cell_type": "markdown",
      "source": [
        "#### 6.2.2) Multiple WHERE commands"
      ],
      "metadata": {
        "id": "o_0o7mqfskpc"
      }
    },
    {
      "cell_type": "markdown",
      "source": [
        "Here we select the columns `location`, `mean_number_of_dogs_per_household` and `mean_number_of_cats` from the `animals` table. The selection considers `mean_number_of_dogs_per_household` and `mean_number_of_cats` equal or greater than 2. The results are organized by `location`. The display is limited to the 3 first rows. "
      ],
      "metadata": {
        "id": "FCoNkCSq2Mzp"
      }
    },
    {
      "cell_type": "code",
      "source": [
        "# Connect to the table in the database\n",
        "connection = psycopg2.connect(user = 'postgres', password = 'postgres', host = 'localhost', database = 'tfio_demo')\n",
        "cursor = connection.cursor()\n",
        "\n",
        "# Create SQL query\n",
        "cursor.execute(\"SELECT animals.location, animals.mean_number_of_dogs_per_household, animals.mean_number_of_cats \\\n",
        "                FROM animals \\\n",
        "                WHERE animals.mean_number_of_dogs_per_household >= 2 AND animals.mean_number_of_cats >= 2 \\\n",
        "                ORDER BY animals.location \\\n",
        "                LIMIT 3;\")\n",
        "table_contacts = cursor.fetchall()\n",
        "\n",
        "# Turn the results of the query into a dataframe for visualization of the results\n",
        "pd.DataFrame((table_contacts) , columns=[[desc[0] for desc in cursor.description]])"
      ],
      "metadata": {
        "colab": {
          "base_uri": "https://localhost:8080/",
          "height": 0
        },
        "id": "W_IGgG6etI_p",
        "outputId": "04b1df49-bfaf-4857-d2c9-de186298c66e"
      },
      "execution_count": 35,
      "outputs": [
        {
          "output_type": "execute_result",
          "data": {
            "text/plain": [
              "     location mean_number_of_dogs_per_household mean_number_of_cats\n",
              "0    Arkansas                             2.000               2.300\n",
              "1  New Mexico                             2.000               2.200\n",
              "2    Oklahoma                             2.100               2.200"
            ],
            "text/html": [
              "\n",
              "  <div id=\"df-f4a8e875-5f7d-47c5-b899-64fd6bb53041\">\n",
              "    <div class=\"colab-df-container\">\n",
              "      <div>\n",
              "<style scoped>\n",
              "    .dataframe tbody tr th:only-of-type {\n",
              "        vertical-align: middle;\n",
              "    }\n",
              "\n",
              "    .dataframe tbody tr th {\n",
              "        vertical-align: top;\n",
              "    }\n",
              "\n",
              "    .dataframe thead tr th {\n",
              "        text-align: left;\n",
              "    }\n",
              "</style>\n",
              "<table border=\"1\" class=\"dataframe\">\n",
              "  <thead>\n",
              "    <tr>\n",
              "      <th></th>\n",
              "      <th>location</th>\n",
              "      <th>mean_number_of_dogs_per_household</th>\n",
              "      <th>mean_number_of_cats</th>\n",
              "    </tr>\n",
              "  </thead>\n",
              "  <tbody>\n",
              "    <tr>\n",
              "      <th>0</th>\n",
              "      <td>Arkansas</td>\n",
              "      <td>2.000</td>\n",
              "      <td>2.300</td>\n",
              "    </tr>\n",
              "    <tr>\n",
              "      <th>1</th>\n",
              "      <td>New Mexico</td>\n",
              "      <td>2.000</td>\n",
              "      <td>2.200</td>\n",
              "    </tr>\n",
              "    <tr>\n",
              "      <th>2</th>\n",
              "      <td>Oklahoma</td>\n",
              "      <td>2.100</td>\n",
              "      <td>2.200</td>\n",
              "    </tr>\n",
              "  </tbody>\n",
              "</table>\n",
              "</div>\n",
              "      <button class=\"colab-df-convert\" onclick=\"convertToInteractive('df-f4a8e875-5f7d-47c5-b899-64fd6bb53041')\"\n",
              "              title=\"Convert this dataframe to an interactive table.\"\n",
              "              style=\"display:none;\">\n",
              "        \n",
              "  <svg xmlns=\"http://www.w3.org/2000/svg\" height=\"24px\"viewBox=\"0 0 24 24\"\n",
              "       width=\"24px\">\n",
              "    <path d=\"M0 0h24v24H0V0z\" fill=\"none\"/>\n",
              "    <path d=\"M18.56 5.44l.94 2.06.94-2.06 2.06-.94-2.06-.94-.94-2.06-.94 2.06-2.06.94zm-11 1L8.5 8.5l.94-2.06 2.06-.94-2.06-.94L8.5 2.5l-.94 2.06-2.06.94zm10 10l.94 2.06.94-2.06 2.06-.94-2.06-.94-.94-2.06-.94 2.06-2.06.94z\"/><path d=\"M17.41 7.96l-1.37-1.37c-.4-.4-.92-.59-1.43-.59-.52 0-1.04.2-1.43.59L10.3 9.45l-7.72 7.72c-.78.78-.78 2.05 0 2.83L4 21.41c.39.39.9.59 1.41.59.51 0 1.02-.2 1.41-.59l7.78-7.78 2.81-2.81c.8-.78.8-2.07 0-2.86zM5.41 20L4 18.59l7.72-7.72 1.47 1.35L5.41 20z\"/>\n",
              "  </svg>\n",
              "      </button>\n",
              "      \n",
              "  <style>\n",
              "    .colab-df-container {\n",
              "      display:flex;\n",
              "      flex-wrap:wrap;\n",
              "      gap: 12px;\n",
              "    }\n",
              "\n",
              "    .colab-df-convert {\n",
              "      background-color: #E8F0FE;\n",
              "      border: none;\n",
              "      border-radius: 50%;\n",
              "      cursor: pointer;\n",
              "      display: none;\n",
              "      fill: #1967D2;\n",
              "      height: 32px;\n",
              "      padding: 0 0 0 0;\n",
              "      width: 32px;\n",
              "    }\n",
              "\n",
              "    .colab-df-convert:hover {\n",
              "      background-color: #E2EBFA;\n",
              "      box-shadow: 0px 1px 2px rgba(60, 64, 67, 0.3), 0px 1px 3px 1px rgba(60, 64, 67, 0.15);\n",
              "      fill: #174EA6;\n",
              "    }\n",
              "\n",
              "    [theme=dark] .colab-df-convert {\n",
              "      background-color: #3B4455;\n",
              "      fill: #D2E3FC;\n",
              "    }\n",
              "\n",
              "    [theme=dark] .colab-df-convert:hover {\n",
              "      background-color: #434B5C;\n",
              "      box-shadow: 0px 1px 3px 1px rgba(0, 0, 0, 0.15);\n",
              "      filter: drop-shadow(0px 1px 2px rgba(0, 0, 0, 0.3));\n",
              "      fill: #FFFFFF;\n",
              "    }\n",
              "  </style>\n",
              "\n",
              "      <script>\n",
              "        const buttonEl =\n",
              "          document.querySelector('#df-f4a8e875-5f7d-47c5-b899-64fd6bb53041 button.colab-df-convert');\n",
              "        buttonEl.style.display =\n",
              "          google.colab.kernel.accessAllowed ? 'block' : 'none';\n",
              "\n",
              "        async function convertToInteractive(key) {\n",
              "          const element = document.querySelector('#df-f4a8e875-5f7d-47c5-b899-64fd6bb53041');\n",
              "          const dataTable =\n",
              "            await google.colab.kernel.invokeFunction('convertToInteractive',\n",
              "                                                     [key], {});\n",
              "          if (!dataTable) return;\n",
              "\n",
              "          const docLinkHtml = 'Like what you see? Visit the ' +\n",
              "            '<a target=\"_blank\" href=https://colab.research.google.com/notebooks/data_table.ipynb>data table notebook</a>'\n",
              "            + ' to learn more about interactive tables.';\n",
              "          element.innerHTML = '';\n",
              "          dataTable['output_type'] = 'display_data';\n",
              "          await google.colab.output.renderOutput(dataTable, element);\n",
              "          const docLink = document.createElement('div');\n",
              "          docLink.innerHTML = docLinkHtml;\n",
              "          element.appendChild(docLink);\n",
              "        }\n",
              "      </script>\n",
              "    </div>\n",
              "  </div>\n",
              "  "
            ]
          },
          "metadata": {},
          "execution_count": 35
        }
      ]
    },
    {
      "cell_type": "markdown",
      "source": [
        "#### 6.2.3) BETWEEN command"
      ],
      "metadata": {
        "id": "BAACGV9Bw-so"
      }
    },
    {
      "cell_type": "markdown",
      "source": [
        "Here we select the columns `location`, `mean_number_of_cats` and `cat_population` from the `animals` table. The selection considers `mean_number_of_cats` between 2.2 and 4. The results are organized by `cat_population`. The display is limited to the 3 first rows. "
      ],
      "metadata": {
        "id": "jVPUbbGd2z3w"
      }
    },
    {
      "cell_type": "code",
      "source": [
        "# Connect to the table in the database\n",
        "connection = psycopg2.connect(user = 'postgres', password = 'postgres', host = 'localhost', database = 'tfio_demo')\n",
        "cursor = connection.cursor()\n",
        "\n",
        "# Create SQL query\n",
        "cursor.execute(\"SELECT animals.location, animals.mean_number_of_cats, animals.cat_population \\\n",
        "                FROM animals \\\n",
        "                WHERE animals.mean_number_of_cats \\\n",
        "                BETWEEN 2.2 AND 4 \\\n",
        "                ORDER BY animals.cat_population \\\n",
        "                DESC \\\n",
        "                LIMIT 3;\")\n",
        "table_contacts = cursor.fetchall()\n",
        "\n",
        "# Turn the results of the query into a dataframe for visualization of the results\n",
        "pd.DataFrame((table_contacts) , columns=[[desc[0] for desc in cursor.description]])"
      ],
      "metadata": {
        "colab": {
          "base_uri": "https://localhost:8080/",
          "height": 0
        },
        "id": "yxTAie_PxHaR",
        "outputId": "888b57eb-adb5-4cdd-87e8-804b71d6f9f5"
      },
      "execution_count": 36,
      "outputs": [
        {
          "output_type": "execute_result",
          "data": {
            "text/plain": [
              "  location mean_number_of_cats cat_population\n",
              "0    Texas               2.200           5565\n",
              "1     Ohio               2.400           3786\n",
              "2  Indiana               2.200           1912"
            ],
            "text/html": [
              "\n",
              "  <div id=\"df-a6945502-788e-4958-84d0-8d406360ce26\">\n",
              "    <div class=\"colab-df-container\">\n",
              "      <div>\n",
              "<style scoped>\n",
              "    .dataframe tbody tr th:only-of-type {\n",
              "        vertical-align: middle;\n",
              "    }\n",
              "\n",
              "    .dataframe tbody tr th {\n",
              "        vertical-align: top;\n",
              "    }\n",
              "\n",
              "    .dataframe thead tr th {\n",
              "        text-align: left;\n",
              "    }\n",
              "</style>\n",
              "<table border=\"1\" class=\"dataframe\">\n",
              "  <thead>\n",
              "    <tr>\n",
              "      <th></th>\n",
              "      <th>location</th>\n",
              "      <th>mean_number_of_cats</th>\n",
              "      <th>cat_population</th>\n",
              "    </tr>\n",
              "  </thead>\n",
              "  <tbody>\n",
              "    <tr>\n",
              "      <th>0</th>\n",
              "      <td>Texas</td>\n",
              "      <td>2.200</td>\n",
              "      <td>5565</td>\n",
              "    </tr>\n",
              "    <tr>\n",
              "      <th>1</th>\n",
              "      <td>Ohio</td>\n",
              "      <td>2.400</td>\n",
              "      <td>3786</td>\n",
              "    </tr>\n",
              "    <tr>\n",
              "      <th>2</th>\n",
              "      <td>Indiana</td>\n",
              "      <td>2.200</td>\n",
              "      <td>1912</td>\n",
              "    </tr>\n",
              "  </tbody>\n",
              "</table>\n",
              "</div>\n",
              "      <button class=\"colab-df-convert\" onclick=\"convertToInteractive('df-a6945502-788e-4958-84d0-8d406360ce26')\"\n",
              "              title=\"Convert this dataframe to an interactive table.\"\n",
              "              style=\"display:none;\">\n",
              "        \n",
              "  <svg xmlns=\"http://www.w3.org/2000/svg\" height=\"24px\"viewBox=\"0 0 24 24\"\n",
              "       width=\"24px\">\n",
              "    <path d=\"M0 0h24v24H0V0z\" fill=\"none\"/>\n",
              "    <path d=\"M18.56 5.44l.94 2.06.94-2.06 2.06-.94-2.06-.94-.94-2.06-.94 2.06-2.06.94zm-11 1L8.5 8.5l.94-2.06 2.06-.94-2.06-.94L8.5 2.5l-.94 2.06-2.06.94zm10 10l.94 2.06.94-2.06 2.06-.94-2.06-.94-.94-2.06-.94 2.06-2.06.94z\"/><path d=\"M17.41 7.96l-1.37-1.37c-.4-.4-.92-.59-1.43-.59-.52 0-1.04.2-1.43.59L10.3 9.45l-7.72 7.72c-.78.78-.78 2.05 0 2.83L4 21.41c.39.39.9.59 1.41.59.51 0 1.02-.2 1.41-.59l7.78-7.78 2.81-2.81c.8-.78.8-2.07 0-2.86zM5.41 20L4 18.59l7.72-7.72 1.47 1.35L5.41 20z\"/>\n",
              "  </svg>\n",
              "      </button>\n",
              "      \n",
              "  <style>\n",
              "    .colab-df-container {\n",
              "      display:flex;\n",
              "      flex-wrap:wrap;\n",
              "      gap: 12px;\n",
              "    }\n",
              "\n",
              "    .colab-df-convert {\n",
              "      background-color: #E8F0FE;\n",
              "      border: none;\n",
              "      border-radius: 50%;\n",
              "      cursor: pointer;\n",
              "      display: none;\n",
              "      fill: #1967D2;\n",
              "      height: 32px;\n",
              "      padding: 0 0 0 0;\n",
              "      width: 32px;\n",
              "    }\n",
              "\n",
              "    .colab-df-convert:hover {\n",
              "      background-color: #E2EBFA;\n",
              "      box-shadow: 0px 1px 2px rgba(60, 64, 67, 0.3), 0px 1px 3px 1px rgba(60, 64, 67, 0.15);\n",
              "      fill: #174EA6;\n",
              "    }\n",
              "\n",
              "    [theme=dark] .colab-df-convert {\n",
              "      background-color: #3B4455;\n",
              "      fill: #D2E3FC;\n",
              "    }\n",
              "\n",
              "    [theme=dark] .colab-df-convert:hover {\n",
              "      background-color: #434B5C;\n",
              "      box-shadow: 0px 1px 3px 1px rgba(0, 0, 0, 0.15);\n",
              "      filter: drop-shadow(0px 1px 2px rgba(0, 0, 0, 0.3));\n",
              "      fill: #FFFFFF;\n",
              "    }\n",
              "  </style>\n",
              "\n",
              "      <script>\n",
              "        const buttonEl =\n",
              "          document.querySelector('#df-a6945502-788e-4958-84d0-8d406360ce26 button.colab-df-convert');\n",
              "        buttonEl.style.display =\n",
              "          google.colab.kernel.accessAllowed ? 'block' : 'none';\n",
              "\n",
              "        async function convertToInteractive(key) {\n",
              "          const element = document.querySelector('#df-a6945502-788e-4958-84d0-8d406360ce26');\n",
              "          const dataTable =\n",
              "            await google.colab.kernel.invokeFunction('convertToInteractive',\n",
              "                                                     [key], {});\n",
              "          if (!dataTable) return;\n",
              "\n",
              "          const docLinkHtml = 'Like what you see? Visit the ' +\n",
              "            '<a target=\"_blank\" href=https://colab.research.google.com/notebooks/data_table.ipynb>data table notebook</a>'\n",
              "            + ' to learn more about interactive tables.';\n",
              "          element.innerHTML = '';\n",
              "          dataTable['output_type'] = 'display_data';\n",
              "          await google.colab.output.renderOutput(dataTable, element);\n",
              "          const docLink = document.createElement('div');\n",
              "          docLink.innerHTML = docLinkHtml;\n",
              "          element.appendChild(docLink);\n",
              "        }\n",
              "      </script>\n",
              "    </div>\n",
              "  </div>\n",
              "  "
            ]
          },
          "metadata": {},
          "execution_count": 36
        }
      ]
    },
    {
      "cell_type": "markdown",
      "source": [
        "#### 6.2.4) AS command"
      ],
      "metadata": {
        "id": "fSDmmO5lyOhx"
      }
    },
    {
      "cell_type": "markdown",
      "source": [
        "Here we select the columns `region` together with the sums of `number_of_pet_households_in_1000`, `dog_population_in_1000`,  `cat_population` and the sum of the last two sums from the `animals` table grouped by `region`. These sum variables were named `total_pet_households`, `dog_total`, `cat_total` and `total_companion_pets`.  The results are organized by `total_pet_households` in a descending order. The display is limited to the 3 first rows. "
      ],
      "metadata": {
        "id": "zYqvA9qE38Sp"
      }
    },
    {
      "cell_type": "code",
      "source": [
        " # Connect to the table in the database\n",
        "connection = psycopg2.connect(user = 'postgres', password = 'postgres', host = 'localhost', database = 'tfio_demo')\n",
        "cursor = connection.cursor()\n",
        "\n",
        "# Create SQL query\n",
        "cursor.execute(\" SELECT animals.region, SUM(animals.number_of_pet_households_in_1000) AS total_pet_households, SUM(animals.dog_population_in_1000) AS dog_total, \\\n",
        "                 SUM(animals.cat_population) AS cat_total, (SUM(animals.dog_population_in_1000) + SUM(animals.cat_population)) AS total_companion_pets \\\n",
        "                 FROM animals \\\n",
        "                 GROUP BY animals.region \\\n",
        "                 ORDER BY total_pet_households\\\n",
        "                 DESC \\\n",
        "                 LIMIT 3;\")\n",
        "table_contacts = cursor.fetchall()\n",
        "\n",
        "# Turn the results of the query into a dataframe for visualization of the results\n",
        "pd.DataFrame((table_contacts) , columns=[[desc[0] for desc in cursor.description]])"
      ],
      "metadata": {
        "colab": {
          "base_uri": "https://localhost:8080/",
          "height": 0
        },
        "id": "wt1qxGzDyNHS",
        "outputId": "b9b46a71-1380-4b7b-9d2a-30d5f7a1bf0e"
      },
      "execution_count": 37,
      "outputs": [
        {
          "output_type": "execute_result",
          "data": {
            "text/plain": [
              "    region total_pet_households dog_total cat_total total_companion_pets\n",
              "0  Central                18438     20677     20332                41009\n",
              "1    South                16886     20253     18356                38609\n",
              "2     East                15991     13549     19256                32805"
            ],
            "text/html": [
              "\n",
              "  <div id=\"df-2574c423-268d-4ce3-b23c-10a3cc86f3db\">\n",
              "    <div class=\"colab-df-container\">\n",
              "      <div>\n",
              "<style scoped>\n",
              "    .dataframe tbody tr th:only-of-type {\n",
              "        vertical-align: middle;\n",
              "    }\n",
              "\n",
              "    .dataframe tbody tr th {\n",
              "        vertical-align: top;\n",
              "    }\n",
              "\n",
              "    .dataframe thead tr th {\n",
              "        text-align: left;\n",
              "    }\n",
              "</style>\n",
              "<table border=\"1\" class=\"dataframe\">\n",
              "  <thead>\n",
              "    <tr>\n",
              "      <th></th>\n",
              "      <th>region</th>\n",
              "      <th>total_pet_households</th>\n",
              "      <th>dog_total</th>\n",
              "      <th>cat_total</th>\n",
              "      <th>total_companion_pets</th>\n",
              "    </tr>\n",
              "  </thead>\n",
              "  <tbody>\n",
              "    <tr>\n",
              "      <th>0</th>\n",
              "      <td>Central</td>\n",
              "      <td>18438</td>\n",
              "      <td>20677</td>\n",
              "      <td>20332</td>\n",
              "      <td>41009</td>\n",
              "    </tr>\n",
              "    <tr>\n",
              "      <th>1</th>\n",
              "      <td>South</td>\n",
              "      <td>16886</td>\n",
              "      <td>20253</td>\n",
              "      <td>18356</td>\n",
              "      <td>38609</td>\n",
              "    </tr>\n",
              "    <tr>\n",
              "      <th>2</th>\n",
              "      <td>East</td>\n",
              "      <td>15991</td>\n",
              "      <td>13549</td>\n",
              "      <td>19256</td>\n",
              "      <td>32805</td>\n",
              "    </tr>\n",
              "  </tbody>\n",
              "</table>\n",
              "</div>\n",
              "      <button class=\"colab-df-convert\" onclick=\"convertToInteractive('df-2574c423-268d-4ce3-b23c-10a3cc86f3db')\"\n",
              "              title=\"Convert this dataframe to an interactive table.\"\n",
              "              style=\"display:none;\">\n",
              "        \n",
              "  <svg xmlns=\"http://www.w3.org/2000/svg\" height=\"24px\"viewBox=\"0 0 24 24\"\n",
              "       width=\"24px\">\n",
              "    <path d=\"M0 0h24v24H0V0z\" fill=\"none\"/>\n",
              "    <path d=\"M18.56 5.44l.94 2.06.94-2.06 2.06-.94-2.06-.94-.94-2.06-.94 2.06-2.06.94zm-11 1L8.5 8.5l.94-2.06 2.06-.94-2.06-.94L8.5 2.5l-.94 2.06-2.06.94zm10 10l.94 2.06.94-2.06 2.06-.94-2.06-.94-.94-2.06-.94 2.06-2.06.94z\"/><path d=\"M17.41 7.96l-1.37-1.37c-.4-.4-.92-.59-1.43-.59-.52 0-1.04.2-1.43.59L10.3 9.45l-7.72 7.72c-.78.78-.78 2.05 0 2.83L4 21.41c.39.39.9.59 1.41.59.51 0 1.02-.2 1.41-.59l7.78-7.78 2.81-2.81c.8-.78.8-2.07 0-2.86zM5.41 20L4 18.59l7.72-7.72 1.47 1.35L5.41 20z\"/>\n",
              "  </svg>\n",
              "      </button>\n",
              "      \n",
              "  <style>\n",
              "    .colab-df-container {\n",
              "      display:flex;\n",
              "      flex-wrap:wrap;\n",
              "      gap: 12px;\n",
              "    }\n",
              "\n",
              "    .colab-df-convert {\n",
              "      background-color: #E8F0FE;\n",
              "      border: none;\n",
              "      border-radius: 50%;\n",
              "      cursor: pointer;\n",
              "      display: none;\n",
              "      fill: #1967D2;\n",
              "      height: 32px;\n",
              "      padding: 0 0 0 0;\n",
              "      width: 32px;\n",
              "    }\n",
              "\n",
              "    .colab-df-convert:hover {\n",
              "      background-color: #E2EBFA;\n",
              "      box-shadow: 0px 1px 2px rgba(60, 64, 67, 0.3), 0px 1px 3px 1px rgba(60, 64, 67, 0.15);\n",
              "      fill: #174EA6;\n",
              "    }\n",
              "\n",
              "    [theme=dark] .colab-df-convert {\n",
              "      background-color: #3B4455;\n",
              "      fill: #D2E3FC;\n",
              "    }\n",
              "\n",
              "    [theme=dark] .colab-df-convert:hover {\n",
              "      background-color: #434B5C;\n",
              "      box-shadow: 0px 1px 3px 1px rgba(0, 0, 0, 0.15);\n",
              "      filter: drop-shadow(0px 1px 2px rgba(0, 0, 0, 0.3));\n",
              "      fill: #FFFFFF;\n",
              "    }\n",
              "  </style>\n",
              "\n",
              "      <script>\n",
              "        const buttonEl =\n",
              "          document.querySelector('#df-2574c423-268d-4ce3-b23c-10a3cc86f3db button.colab-df-convert');\n",
              "        buttonEl.style.display =\n",
              "          google.colab.kernel.accessAllowed ? 'block' : 'none';\n",
              "\n",
              "        async function convertToInteractive(key) {\n",
              "          const element = document.querySelector('#df-2574c423-268d-4ce3-b23c-10a3cc86f3db');\n",
              "          const dataTable =\n",
              "            await google.colab.kernel.invokeFunction('convertToInteractive',\n",
              "                                                     [key], {});\n",
              "          if (!dataTable) return;\n",
              "\n",
              "          const docLinkHtml = 'Like what you see? Visit the ' +\n",
              "            '<a target=\"_blank\" href=https://colab.research.google.com/notebooks/data_table.ipynb>data table notebook</a>'\n",
              "            + ' to learn more about interactive tables.';\n",
              "          element.innerHTML = '';\n",
              "          dataTable['output_type'] = 'display_data';\n",
              "          await google.colab.output.renderOutput(dataTable, element);\n",
              "          const docLink = document.createElement('div');\n",
              "          docLink.innerHTML = docLinkHtml;\n",
              "          element.appendChild(docLink);\n",
              "        }\n",
              "      </script>\n",
              "    </div>\n",
              "  </div>\n",
              "  "
            ]
          },
          "metadata": {},
          "execution_count": 37
        }
      ]
    },
    {
      "cell_type": "markdown",
      "source": [
        "#### 6.2.5) GROUP BY + HAVING command"
      ],
      "metadata": {
        "id": "RML5FT2TqBmy"
      }
    },
    {
      "cell_type": "markdown",
      "source": [
        "Here we select the columns `region` and `AVG(percentage_of_households_with_pets)` from the `animals` table grouped by `region`. Notice that we keep the regions with an `AVG(percentage_of_households_with_pets)` greater than 55. **Thus, HAVING is used with the GROUP BY command**. The results are organized by `region` in a descending order. The display is limited to the 3 first rows. "
      ],
      "metadata": {
        "id": "hRtrb6U8sK1S"
      }
    },
    {
      "cell_type": "code",
      "source": [
        " # Connect to the table in the database\n",
        "connection = psycopg2.connect(user = 'postgres', password = 'postgres', host = 'localhost', database = 'tfio_demo')\n",
        "cursor = connection.cursor()\n",
        "\n",
        "# Create SQL query\n",
        "cursor.execute(\" SELECT animals.region, AVG(animals.percentage_of_households_with_pets) \\\n",
        "                 FROM animals \\\n",
        "                 GROUP BY animals.region HAVING AVG(animals.percentage_of_households_with_pets) > 55 \\\n",
        "                 ORDER BY animals.region \\\n",
        "                 DESC \\\n",
        "                 LIMIT 3;\")\n",
        "table_contacts = cursor.fetchall()\n",
        "\n",
        "# Turn the results of the query into a dataframe for visualization of the results\n",
        "pd.DataFrame((table_contacts) , columns=[[desc[0] for desc in cursor.description]])"
      ],
      "metadata": {
        "colab": {
          "base_uri": "https://localhost:8080/",
          "height": 0
        },
        "id": "g3wm8RILqVxR",
        "outputId": "98e9380a-fc95-44a4-9315-f33a7f116cb6"
      },
      "execution_count": 38,
      "outputs": [
        {
          "output_type": "execute_result",
          "data": {
            "text/plain": [
              "    region                  avg\n",
              "0     West  59.9545454545454545\n",
              "1    South  57.0909090909090909\n",
              "2  Central  57.0615384615384615"
            ],
            "text/html": [
              "\n",
              "  <div id=\"df-377012d5-f6d1-4520-ac08-cb30a9408aca\">\n",
              "    <div class=\"colab-df-container\">\n",
              "      <div>\n",
              "<style scoped>\n",
              "    .dataframe tbody tr th:only-of-type {\n",
              "        vertical-align: middle;\n",
              "    }\n",
              "\n",
              "    .dataframe tbody tr th {\n",
              "        vertical-align: top;\n",
              "    }\n",
              "\n",
              "    .dataframe thead tr th {\n",
              "        text-align: left;\n",
              "    }\n",
              "</style>\n",
              "<table border=\"1\" class=\"dataframe\">\n",
              "  <thead>\n",
              "    <tr>\n",
              "      <th></th>\n",
              "      <th>region</th>\n",
              "      <th>avg</th>\n",
              "    </tr>\n",
              "  </thead>\n",
              "  <tbody>\n",
              "    <tr>\n",
              "      <th>0</th>\n",
              "      <td>West</td>\n",
              "      <td>59.9545454545454545</td>\n",
              "    </tr>\n",
              "    <tr>\n",
              "      <th>1</th>\n",
              "      <td>South</td>\n",
              "      <td>57.0909090909090909</td>\n",
              "    </tr>\n",
              "    <tr>\n",
              "      <th>2</th>\n",
              "      <td>Central</td>\n",
              "      <td>57.0615384615384615</td>\n",
              "    </tr>\n",
              "  </tbody>\n",
              "</table>\n",
              "</div>\n",
              "      <button class=\"colab-df-convert\" onclick=\"convertToInteractive('df-377012d5-f6d1-4520-ac08-cb30a9408aca')\"\n",
              "              title=\"Convert this dataframe to an interactive table.\"\n",
              "              style=\"display:none;\">\n",
              "        \n",
              "  <svg xmlns=\"http://www.w3.org/2000/svg\" height=\"24px\"viewBox=\"0 0 24 24\"\n",
              "       width=\"24px\">\n",
              "    <path d=\"M0 0h24v24H0V0z\" fill=\"none\"/>\n",
              "    <path d=\"M18.56 5.44l.94 2.06.94-2.06 2.06-.94-2.06-.94-.94-2.06-.94 2.06-2.06.94zm-11 1L8.5 8.5l.94-2.06 2.06-.94-2.06-.94L8.5 2.5l-.94 2.06-2.06.94zm10 10l.94 2.06.94-2.06 2.06-.94-2.06-.94-.94-2.06-.94 2.06-2.06.94z\"/><path d=\"M17.41 7.96l-1.37-1.37c-.4-.4-.92-.59-1.43-.59-.52 0-1.04.2-1.43.59L10.3 9.45l-7.72 7.72c-.78.78-.78 2.05 0 2.83L4 21.41c.39.39.9.59 1.41.59.51 0 1.02-.2 1.41-.59l7.78-7.78 2.81-2.81c.8-.78.8-2.07 0-2.86zM5.41 20L4 18.59l7.72-7.72 1.47 1.35L5.41 20z\"/>\n",
              "  </svg>\n",
              "      </button>\n",
              "      \n",
              "  <style>\n",
              "    .colab-df-container {\n",
              "      display:flex;\n",
              "      flex-wrap:wrap;\n",
              "      gap: 12px;\n",
              "    }\n",
              "\n",
              "    .colab-df-convert {\n",
              "      background-color: #E8F0FE;\n",
              "      border: none;\n",
              "      border-radius: 50%;\n",
              "      cursor: pointer;\n",
              "      display: none;\n",
              "      fill: #1967D2;\n",
              "      height: 32px;\n",
              "      padding: 0 0 0 0;\n",
              "      width: 32px;\n",
              "    }\n",
              "\n",
              "    .colab-df-convert:hover {\n",
              "      background-color: #E2EBFA;\n",
              "      box-shadow: 0px 1px 2px rgba(60, 64, 67, 0.3), 0px 1px 3px 1px rgba(60, 64, 67, 0.15);\n",
              "      fill: #174EA6;\n",
              "    }\n",
              "\n",
              "    [theme=dark] .colab-df-convert {\n",
              "      background-color: #3B4455;\n",
              "      fill: #D2E3FC;\n",
              "    }\n",
              "\n",
              "    [theme=dark] .colab-df-convert:hover {\n",
              "      background-color: #434B5C;\n",
              "      box-shadow: 0px 1px 3px 1px rgba(0, 0, 0, 0.15);\n",
              "      filter: drop-shadow(0px 1px 2px rgba(0, 0, 0, 0.3));\n",
              "      fill: #FFFFFF;\n",
              "    }\n",
              "  </style>\n",
              "\n",
              "      <script>\n",
              "        const buttonEl =\n",
              "          document.querySelector('#df-377012d5-f6d1-4520-ac08-cb30a9408aca button.colab-df-convert');\n",
              "        buttonEl.style.display =\n",
              "          google.colab.kernel.accessAllowed ? 'block' : 'none';\n",
              "\n",
              "        async function convertToInteractive(key) {\n",
              "          const element = document.querySelector('#df-377012d5-f6d1-4520-ac08-cb30a9408aca');\n",
              "          const dataTable =\n",
              "            await google.colab.kernel.invokeFunction('convertToInteractive',\n",
              "                                                     [key], {});\n",
              "          if (!dataTable) return;\n",
              "\n",
              "          const docLinkHtml = 'Like what you see? Visit the ' +\n",
              "            '<a target=\"_blank\" href=https://colab.research.google.com/notebooks/data_table.ipynb>data table notebook</a>'\n",
              "            + ' to learn more about interactive tables.';\n",
              "          element.innerHTML = '';\n",
              "          dataTable['output_type'] = 'display_data';\n",
              "          await google.colab.output.renderOutput(dataTable, element);\n",
              "          const docLink = document.createElement('div');\n",
              "          docLink.innerHTML = docLinkHtml;\n",
              "          element.appendChild(docLink);\n",
              "        }\n",
              "      </script>\n",
              "    </div>\n",
              "  </div>\n",
              "  "
            ]
          },
          "metadata": {},
          "execution_count": 38
        }
      ]
    },
    {
      "cell_type": "markdown",
      "source": [
        "#### 6.2.6) Summary"
      ],
      "metadata": {
        "id": "ZRGwBsm9wzgA"
      }
    },
    {
      "cell_type": "markdown",
      "source": [
        "The following summary is provided in the second article that was referenced in part 1:\n",
        "- `WHERE` provides an opportunity to narrow the criteria for queries.\n",
        "- Filters may be created with a variety of conditional commands.\n",
        "- Compound conditional filters may be used in queries.\n",
        "- `GROUP BY` aggregates information based on categorical dimensions.\n",
        "- `HAVING` criteria may be applied to the groups that are aggregated."
      ],
      "metadata": {
        "id": "ziwqoxizw_cI"
      }
    },
    {
      "cell_type": "markdown",
      "source": [
        "### 6.3) Aggregating and Grouping Data "
      ],
      "metadata": {
        "id": "MsFGInb7xJPW"
      }
    },
    {
      "cell_type": "markdown",
      "source": [
        "Aggregation SQL functions bring clarity and depth to queries, which include `DISTINCT`, `COUNT`, `GROUP BY` and `HAVING`. These commands add to the filtering accomplished by the `WHERE` clause, and enable viewing data in groups, segments or other organized levels. `DISTINCT` and `COUNT` are often used in the `SELECT` statement to create and quantify aggregation. By contrast, `GROUP BY` and `HAVING` are placed after the `WHERE` clause. As you consider using these tools in your query, it is important to be consistent in the level of aggregation requested in one query. The following shows the appropriate order for the command tools in your new query:\n",
        "\n",
        " > **SELECT DISTINCT** *(desired column list)* <br>\n",
        " > **FROM** *(table name here)* <br>\n",
        " > **WHERE** *(filtering criteria)* <br>\n",
        " > **GROUP BY** *(data_name)* **HAVING** *(additional filter)*"
      ],
      "metadata": {
        "id": "d51fe-5w15PY"
      }
    },
    {
      "cell_type": "markdown",
      "source": [
        "#### 6.3.1) DISTINCT, ROUND, COUNT and Multiple GROUP BY commmands"
      ],
      "metadata": {
        "id": "vhGJSGUT_Py-"
      }
    },
    {
      "cell_type": "markdown",
      "source": [
        "Here we select the columns `item`, `description`,  `qty_sold`,  `avg_transaction_price` and `total_sold` from the `products` table. Notice that the last 3 variables mentioned above refer to `COUNT(sales.item)`, `ROUND(AVG(sales.total),2)` and `avg_transaction_price`. The analysis is limited to unique combinations of items and descriptions. The selected variables were grouped by `item` and then `description`. The results are organized by `qty_sold` in a descending order. The display is limited to the 3 first rows."
      ],
      "metadata": {
        "id": "byDsM4Pn_eyP"
      }
    },
    {
      "cell_type": "code",
      "source": [
        " # Connect to the table in the database\n",
        "connection = psycopg2.connect(user = 'postgres', password = 'postgres', host = 'localhost', database = 'tfio_demo')\n",
        "cursor = connection.cursor()\n",
        "\n",
        "# Create SQL query\n",
        "cursor.execute(\"SELECT DISTINCT sales.item, sales.description, COUNT(sales.item) as qty_sold, \\\n",
        "                ROUND(AVG(sales.total),2) as avg_transaction_price, SUM(sales.total) as total_sold \\\n",
        "                FROM sales \\\n",
        "                GROUP BY sales.item, sales.description \\\n",
        "                ORDER BY qty_sold \\\n",
        "                DESC \\\n",
        "                LIMIT 3;\")\n",
        "table_contacts = cursor.fetchall()\n",
        "\n",
        "# Turn the results of the query into a dataframe for visualization of the results\n",
        "pd.DataFrame((table_contacts) , columns=[[desc[0] for desc in cursor.description]])"
      ],
      "metadata": {
        "colab": {
          "base_uri": "https://localhost:8080/",
          "height": 0
        },
        "id": "Z6M437g_xM8B",
        "outputId": "d0e3a9ec-cf09-4481-d015-86a06fc968d2"
      },
      "execution_count": 39,
      "outputs": [
        {
          "output_type": "execute_result",
          "data": {
            "text/plain": [
              "    item                     description qty_sold avg_transaction_price  \\\n",
              "0  11788                    Black Velvet    31904                403.19   \n",
              "1  36308                   Hawkeye Vodka    31105                172.99   \n",
              "2  43336  Captain Morgan Original Spiced    18129                192.94   \n",
              "\n",
              "    total_sold  \n",
              "0  12863376.81  \n",
              "1   5380753.20  \n",
              "2   3497803.08  "
            ],
            "text/html": [
              "\n",
              "  <div id=\"df-52971ce2-0aec-4545-b861-ec6eac725e04\">\n",
              "    <div class=\"colab-df-container\">\n",
              "      <div>\n",
              "<style scoped>\n",
              "    .dataframe tbody tr th:only-of-type {\n",
              "        vertical-align: middle;\n",
              "    }\n",
              "\n",
              "    .dataframe tbody tr th {\n",
              "        vertical-align: top;\n",
              "    }\n",
              "\n",
              "    .dataframe thead tr th {\n",
              "        text-align: left;\n",
              "    }\n",
              "</style>\n",
              "<table border=\"1\" class=\"dataframe\">\n",
              "  <thead>\n",
              "    <tr>\n",
              "      <th></th>\n",
              "      <th>item</th>\n",
              "      <th>description</th>\n",
              "      <th>qty_sold</th>\n",
              "      <th>avg_transaction_price</th>\n",
              "      <th>total_sold</th>\n",
              "    </tr>\n",
              "  </thead>\n",
              "  <tbody>\n",
              "    <tr>\n",
              "      <th>0</th>\n",
              "      <td>11788</td>\n",
              "      <td>Black Velvet</td>\n",
              "      <td>31904</td>\n",
              "      <td>403.19</td>\n",
              "      <td>12863376.81</td>\n",
              "    </tr>\n",
              "    <tr>\n",
              "      <th>1</th>\n",
              "      <td>36308</td>\n",
              "      <td>Hawkeye Vodka</td>\n",
              "      <td>31105</td>\n",
              "      <td>172.99</td>\n",
              "      <td>5380753.20</td>\n",
              "    </tr>\n",
              "    <tr>\n",
              "      <th>2</th>\n",
              "      <td>43336</td>\n",
              "      <td>Captain Morgan Original Spiced</td>\n",
              "      <td>18129</td>\n",
              "      <td>192.94</td>\n",
              "      <td>3497803.08</td>\n",
              "    </tr>\n",
              "  </tbody>\n",
              "</table>\n",
              "</div>\n",
              "      <button class=\"colab-df-convert\" onclick=\"convertToInteractive('df-52971ce2-0aec-4545-b861-ec6eac725e04')\"\n",
              "              title=\"Convert this dataframe to an interactive table.\"\n",
              "              style=\"display:none;\">\n",
              "        \n",
              "  <svg xmlns=\"http://www.w3.org/2000/svg\" height=\"24px\"viewBox=\"0 0 24 24\"\n",
              "       width=\"24px\">\n",
              "    <path d=\"M0 0h24v24H0V0z\" fill=\"none\"/>\n",
              "    <path d=\"M18.56 5.44l.94 2.06.94-2.06 2.06-.94-2.06-.94-.94-2.06-.94 2.06-2.06.94zm-11 1L8.5 8.5l.94-2.06 2.06-.94-2.06-.94L8.5 2.5l-.94 2.06-2.06.94zm10 10l.94 2.06.94-2.06 2.06-.94-2.06-.94-.94-2.06-.94 2.06-2.06.94z\"/><path d=\"M17.41 7.96l-1.37-1.37c-.4-.4-.92-.59-1.43-.59-.52 0-1.04.2-1.43.59L10.3 9.45l-7.72 7.72c-.78.78-.78 2.05 0 2.83L4 21.41c.39.39.9.59 1.41.59.51 0 1.02-.2 1.41-.59l7.78-7.78 2.81-2.81c.8-.78.8-2.07 0-2.86zM5.41 20L4 18.59l7.72-7.72 1.47 1.35L5.41 20z\"/>\n",
              "  </svg>\n",
              "      </button>\n",
              "      \n",
              "  <style>\n",
              "    .colab-df-container {\n",
              "      display:flex;\n",
              "      flex-wrap:wrap;\n",
              "      gap: 12px;\n",
              "    }\n",
              "\n",
              "    .colab-df-convert {\n",
              "      background-color: #E8F0FE;\n",
              "      border: none;\n",
              "      border-radius: 50%;\n",
              "      cursor: pointer;\n",
              "      display: none;\n",
              "      fill: #1967D2;\n",
              "      height: 32px;\n",
              "      padding: 0 0 0 0;\n",
              "      width: 32px;\n",
              "    }\n",
              "\n",
              "    .colab-df-convert:hover {\n",
              "      background-color: #E2EBFA;\n",
              "      box-shadow: 0px 1px 2px rgba(60, 64, 67, 0.3), 0px 1px 3px 1px rgba(60, 64, 67, 0.15);\n",
              "      fill: #174EA6;\n",
              "    }\n",
              "\n",
              "    [theme=dark] .colab-df-convert {\n",
              "      background-color: #3B4455;\n",
              "      fill: #D2E3FC;\n",
              "    }\n",
              "\n",
              "    [theme=dark] .colab-df-convert:hover {\n",
              "      background-color: #434B5C;\n",
              "      box-shadow: 0px 1px 3px 1px rgba(0, 0, 0, 0.15);\n",
              "      filter: drop-shadow(0px 1px 2px rgba(0, 0, 0, 0.3));\n",
              "      fill: #FFFFFF;\n",
              "    }\n",
              "  </style>\n",
              "\n",
              "      <script>\n",
              "        const buttonEl =\n",
              "          document.querySelector('#df-52971ce2-0aec-4545-b861-ec6eac725e04 button.colab-df-convert');\n",
              "        buttonEl.style.display =\n",
              "          google.colab.kernel.accessAllowed ? 'block' : 'none';\n",
              "\n",
              "        async function convertToInteractive(key) {\n",
              "          const element = document.querySelector('#df-52971ce2-0aec-4545-b861-ec6eac725e04');\n",
              "          const dataTable =\n",
              "            await google.colab.kernel.invokeFunction('convertToInteractive',\n",
              "                                                     [key], {});\n",
              "          if (!dataTable) return;\n",
              "\n",
              "          const docLinkHtml = 'Like what you see? Visit the ' +\n",
              "            '<a target=\"_blank\" href=https://colab.research.google.com/notebooks/data_table.ipynb>data table notebook</a>'\n",
              "            + ' to learn more about interactive tables.';\n",
              "          element.innerHTML = '';\n",
              "          dataTable['output_type'] = 'display_data';\n",
              "          await google.colab.output.renderOutput(dataTable, element);\n",
              "          const docLink = document.createElement('div');\n",
              "          docLink.innerHTML = docLinkHtml;\n",
              "          element.appendChild(docLink);\n",
              "        }\n",
              "      </script>\n",
              "    </div>\n",
              "  </div>\n",
              "  "
            ]
          },
          "metadata": {},
          "execution_count": 39
        }
      ]
    },
    {
      "cell_type": "markdown",
      "source": [
        "Here we select the columns `county`, `qty_sold` and `total_sold` from the `sales` table. Notice that the last 2 variables mentioned above refer to `COUNT(sales.item)` and `SUM(sales.total)`. The analysis is limited to unique county names. Moreover, the description columns must be either 'Black Velvet' or 'Hawkeye Vodka'. The aggregate measure were created by groupbing the table by county if the item count per group exceeded 10000. The results are organized by `total_sold` in a descending order. The display is limited to the 3 first rows."
      ],
      "metadata": {
        "id": "ebF-BZofIT4F"
      }
    },
    {
      "cell_type": "markdown",
      "source": [
        "#### 6.3.2) IN commmand"
      ],
      "metadata": {
        "id": "hxXq6686Kb19"
      }
    },
    {
      "cell_type": "markdown",
      "source": [
        "Here we select the columns `county`, `qty_sold` and `total_sold` from the `products` table. Notice that the last 2 variables mentioned above refer to `COUNT(sales.item)` and `SUM(sales.total)`. The selected variables were grouped by `county` when the count of items was greater than 10000. The results are organized by `total_sold` in a descending order. The display is limited to the 3 first rows."
      ],
      "metadata": {
        "id": "kpXnrmUJMyWE"
      }
    },
    {
      "cell_type": "code",
      "source": [
        " # Connect to the table in the database\n",
        "connection = psycopg2.connect(user = 'postgres', password = 'postgres', host = 'localhost', database = 'tfio_demo')\n",
        "cursor = connection.cursor()\n",
        "\n",
        "# Create SQL query\n",
        "cursor.execute(\"SELECT DISTINCT sales.county, COUNT(sales.item) as qty_sold, SUM(sales.total) as total_sold \\\n",
        "                FROM sales \\\n",
        "                WHERE sales.description IN('Black Velvet', 'Hawkeye Vodka') \\\n",
        "                GROUP BY sales.county HAVING (COUNT(sales.item)) > 10000 \\\n",
        "                ORDER BY total_sold \\\n",
        "                DESC \\\n",
        "                LIMIT 3;\")\n",
        "table_contacts = cursor.fetchall()\n",
        "\n",
        "# Turn the results of the query into a dataframe for visualization of the results\n",
        "pd.DataFrame((table_contacts) , columns=[[desc[0] for desc in cursor.description]])"
      ],
      "metadata": {
        "colab": {
          "base_uri": "https://localhost:8080/",
          "height": 0
        },
        "id": "OzVGzoBqEDLd",
        "outputId": "12797eb5-9f61-4f27-9665-d1cc8503bf48"
      },
      "execution_count": 40,
      "outputs": [
        {
          "output_type": "execute_result",
          "data": {
            "text/plain": [
              "  county qty_sold  total_sold\n",
              "0   Polk    28058  4114463.32\n",
              "1   Linn    12746  2366315.91"
            ],
            "text/html": [
              "\n",
              "  <div id=\"df-bf628acc-131b-4def-a315-cf08bb5e2da5\">\n",
              "    <div class=\"colab-df-container\">\n",
              "      <div>\n",
              "<style scoped>\n",
              "    .dataframe tbody tr th:only-of-type {\n",
              "        vertical-align: middle;\n",
              "    }\n",
              "\n",
              "    .dataframe tbody tr th {\n",
              "        vertical-align: top;\n",
              "    }\n",
              "\n",
              "    .dataframe thead tr th {\n",
              "        text-align: left;\n",
              "    }\n",
              "</style>\n",
              "<table border=\"1\" class=\"dataframe\">\n",
              "  <thead>\n",
              "    <tr>\n",
              "      <th></th>\n",
              "      <th>county</th>\n",
              "      <th>qty_sold</th>\n",
              "      <th>total_sold</th>\n",
              "    </tr>\n",
              "  </thead>\n",
              "  <tbody>\n",
              "    <tr>\n",
              "      <th>0</th>\n",
              "      <td>Polk</td>\n",
              "      <td>28058</td>\n",
              "      <td>4114463.32</td>\n",
              "    </tr>\n",
              "    <tr>\n",
              "      <th>1</th>\n",
              "      <td>Linn</td>\n",
              "      <td>12746</td>\n",
              "      <td>2366315.91</td>\n",
              "    </tr>\n",
              "  </tbody>\n",
              "</table>\n",
              "</div>\n",
              "      <button class=\"colab-df-convert\" onclick=\"convertToInteractive('df-bf628acc-131b-4def-a315-cf08bb5e2da5')\"\n",
              "              title=\"Convert this dataframe to an interactive table.\"\n",
              "              style=\"display:none;\">\n",
              "        \n",
              "  <svg xmlns=\"http://www.w3.org/2000/svg\" height=\"24px\"viewBox=\"0 0 24 24\"\n",
              "       width=\"24px\">\n",
              "    <path d=\"M0 0h24v24H0V0z\" fill=\"none\"/>\n",
              "    <path d=\"M18.56 5.44l.94 2.06.94-2.06 2.06-.94-2.06-.94-.94-2.06-.94 2.06-2.06.94zm-11 1L8.5 8.5l.94-2.06 2.06-.94-2.06-.94L8.5 2.5l-.94 2.06-2.06.94zm10 10l.94 2.06.94-2.06 2.06-.94-2.06-.94-.94-2.06-.94 2.06-2.06.94z\"/><path d=\"M17.41 7.96l-1.37-1.37c-.4-.4-.92-.59-1.43-.59-.52 0-1.04.2-1.43.59L10.3 9.45l-7.72 7.72c-.78.78-.78 2.05 0 2.83L4 21.41c.39.39.9.59 1.41.59.51 0 1.02-.2 1.41-.59l7.78-7.78 2.81-2.81c.8-.78.8-2.07 0-2.86zM5.41 20L4 18.59l7.72-7.72 1.47 1.35L5.41 20z\"/>\n",
              "  </svg>\n",
              "      </button>\n",
              "      \n",
              "  <style>\n",
              "    .colab-df-container {\n",
              "      display:flex;\n",
              "      flex-wrap:wrap;\n",
              "      gap: 12px;\n",
              "    }\n",
              "\n",
              "    .colab-df-convert {\n",
              "      background-color: #E8F0FE;\n",
              "      border: none;\n",
              "      border-radius: 50%;\n",
              "      cursor: pointer;\n",
              "      display: none;\n",
              "      fill: #1967D2;\n",
              "      height: 32px;\n",
              "      padding: 0 0 0 0;\n",
              "      width: 32px;\n",
              "    }\n",
              "\n",
              "    .colab-df-convert:hover {\n",
              "      background-color: #E2EBFA;\n",
              "      box-shadow: 0px 1px 2px rgba(60, 64, 67, 0.3), 0px 1px 3px 1px rgba(60, 64, 67, 0.15);\n",
              "      fill: #174EA6;\n",
              "    }\n",
              "\n",
              "    [theme=dark] .colab-df-convert {\n",
              "      background-color: #3B4455;\n",
              "      fill: #D2E3FC;\n",
              "    }\n",
              "\n",
              "    [theme=dark] .colab-df-convert:hover {\n",
              "      background-color: #434B5C;\n",
              "      box-shadow: 0px 1px 3px 1px rgba(0, 0, 0, 0.15);\n",
              "      filter: drop-shadow(0px 1px 2px rgba(0, 0, 0, 0.3));\n",
              "      fill: #FFFFFF;\n",
              "    }\n",
              "  </style>\n",
              "\n",
              "      <script>\n",
              "        const buttonEl =\n",
              "          document.querySelector('#df-bf628acc-131b-4def-a315-cf08bb5e2da5 button.colab-df-convert');\n",
              "        buttonEl.style.display =\n",
              "          google.colab.kernel.accessAllowed ? 'block' : 'none';\n",
              "\n",
              "        async function convertToInteractive(key) {\n",
              "          const element = document.querySelector('#df-bf628acc-131b-4def-a315-cf08bb5e2da5');\n",
              "          const dataTable =\n",
              "            await google.colab.kernel.invokeFunction('convertToInteractive',\n",
              "                                                     [key], {});\n",
              "          if (!dataTable) return;\n",
              "\n",
              "          const docLinkHtml = 'Like what you see? Visit the ' +\n",
              "            '<a target=\"_blank\" href=https://colab.research.google.com/notebooks/data_table.ipynb>data table notebook</a>'\n",
              "            + ' to learn more about interactive tables.';\n",
              "          element.innerHTML = '';\n",
              "          dataTable['output_type'] = 'display_data';\n",
              "          await google.colab.output.renderOutput(dataTable, element);\n",
              "          const docLink = document.createElement('div');\n",
              "          docLink.innerHTML = docLinkHtml;\n",
              "          element.appendChild(docLink);\n",
              "        }\n",
              "      </script>\n",
              "    </div>\n",
              "  </div>\n",
              "  "
            ]
          },
          "metadata": {},
          "execution_count": 40
        }
      ]
    },
    {
      "cell_type": "markdown",
      "source": [
        "**Notice that you cannot replace (COUNT(sales.item)) by qty_sold** after the HAVING command since it is considered part of the GROUP BY command. Since this command is not \"over\", the variable qty_sold does not exist yet. However, once the GROUP BY + HAVING commands are used, the variable total_sold can be used in the ORDER BY command."
      ],
      "metadata": {
        "id": "ZhjYt5vXJ4pl"
      }
    },
    {
      "cell_type": "markdown",
      "source": [
        "#### 6.3.3) COUNT(*) and CAST commmands"
      ],
      "metadata": {
        "id": "N_N9OuyYLU0E"
      }
    },
    {
      "cell_type": "markdown",
      "source": [
        "Here we select the columns `vendor_name`, `products_offered` and `avg_price` from the `products` table. Notice that the last 2 variables mentioned above refer to the count of all instances using `COUNT(*)` and the rounded average of the feature `bottle_price`. The selected variables were grouped by `vendor_name`. The results are organized by `products_offered` in a descending order. The display is limited to the 3 first rows."
      ],
      "metadata": {
        "id": "aMjKo0HFLf6d"
      }
    },
    {
      "cell_type": "code",
      "source": [
        " # Connect to the table in the database\n",
        "connection = psycopg2.connect(user = 'postgres', password = 'postgres', host = 'localhost', database = 'tfio_demo')\n",
        "cursor = connection.cursor()\n",
        "\n",
        "# Create SQL query\n",
        "cursor.execute(\"SELECT products.vendor_name, COUNT(*) AS products_offered, ROUND(AVG(CAST(products.bottle_price AS DECIMAL)),2) AS avg_price \\\n",
        "                FROM products \\\n",
        "                GROUP BY products.vendor_name \\\n",
        "                ORDER BY products_offered \\\n",
        "                DESC \\\n",
        "                LIMIT 3;\")\n",
        "table_contacts = cursor.fetchall()\n",
        "\n",
        "# Turn the results of the query into a dataframe for visualization of the results\n",
        "pd.DataFrame((table_contacts) , columns=[[desc[0] for desc in cursor.description]])"
      ],
      "metadata": {
        "colab": {
          "base_uri": "https://localhost:8080/",
          "height": 0
        },
        "id": "UwqpQ32nKp4u",
        "outputId": "39cea702-faf9-4045-f80c-9772002be8a6"
      },
      "execution_count": 41,
      "outputs": [
        {
          "output_type": "execute_result",
          "data": {
            "text/plain": [
              "                        vendor_name products_offered avg_price\n",
              "0                   Jim Beam Brands              925     11.54\n",
              "1                   Diageo Americas              906     18.16\n",
              "2  Pernod Ricard Usa/austin Nichols              597     19.80"
            ],
            "text/html": [
              "\n",
              "  <div id=\"df-2691864a-d5c8-481c-828a-3afd41fc262f\">\n",
              "    <div class=\"colab-df-container\">\n",
              "      <div>\n",
              "<style scoped>\n",
              "    .dataframe tbody tr th:only-of-type {\n",
              "        vertical-align: middle;\n",
              "    }\n",
              "\n",
              "    .dataframe tbody tr th {\n",
              "        vertical-align: top;\n",
              "    }\n",
              "\n",
              "    .dataframe thead tr th {\n",
              "        text-align: left;\n",
              "    }\n",
              "</style>\n",
              "<table border=\"1\" class=\"dataframe\">\n",
              "  <thead>\n",
              "    <tr>\n",
              "      <th></th>\n",
              "      <th>vendor_name</th>\n",
              "      <th>products_offered</th>\n",
              "      <th>avg_price</th>\n",
              "    </tr>\n",
              "  </thead>\n",
              "  <tbody>\n",
              "    <tr>\n",
              "      <th>0</th>\n",
              "      <td>Jim Beam Brands</td>\n",
              "      <td>925</td>\n",
              "      <td>11.54</td>\n",
              "    </tr>\n",
              "    <tr>\n",
              "      <th>1</th>\n",
              "      <td>Diageo Americas</td>\n",
              "      <td>906</td>\n",
              "      <td>18.16</td>\n",
              "    </tr>\n",
              "    <tr>\n",
              "      <th>2</th>\n",
              "      <td>Pernod Ricard Usa/austin Nichols</td>\n",
              "      <td>597</td>\n",
              "      <td>19.80</td>\n",
              "    </tr>\n",
              "  </tbody>\n",
              "</table>\n",
              "</div>\n",
              "      <button class=\"colab-df-convert\" onclick=\"convertToInteractive('df-2691864a-d5c8-481c-828a-3afd41fc262f')\"\n",
              "              title=\"Convert this dataframe to an interactive table.\"\n",
              "              style=\"display:none;\">\n",
              "        \n",
              "  <svg xmlns=\"http://www.w3.org/2000/svg\" height=\"24px\"viewBox=\"0 0 24 24\"\n",
              "       width=\"24px\">\n",
              "    <path d=\"M0 0h24v24H0V0z\" fill=\"none\"/>\n",
              "    <path d=\"M18.56 5.44l.94 2.06.94-2.06 2.06-.94-2.06-.94-.94-2.06-.94 2.06-2.06.94zm-11 1L8.5 8.5l.94-2.06 2.06-.94-2.06-.94L8.5 2.5l-.94 2.06-2.06.94zm10 10l.94 2.06.94-2.06 2.06-.94-2.06-.94-.94-2.06-.94 2.06-2.06.94z\"/><path d=\"M17.41 7.96l-1.37-1.37c-.4-.4-.92-.59-1.43-.59-.52 0-1.04.2-1.43.59L10.3 9.45l-7.72 7.72c-.78.78-.78 2.05 0 2.83L4 21.41c.39.39.9.59 1.41.59.51 0 1.02-.2 1.41-.59l7.78-7.78 2.81-2.81c.8-.78.8-2.07 0-2.86zM5.41 20L4 18.59l7.72-7.72 1.47 1.35L5.41 20z\"/>\n",
              "  </svg>\n",
              "      </button>\n",
              "      \n",
              "  <style>\n",
              "    .colab-df-container {\n",
              "      display:flex;\n",
              "      flex-wrap:wrap;\n",
              "      gap: 12px;\n",
              "    }\n",
              "\n",
              "    .colab-df-convert {\n",
              "      background-color: #E8F0FE;\n",
              "      border: none;\n",
              "      border-radius: 50%;\n",
              "      cursor: pointer;\n",
              "      display: none;\n",
              "      fill: #1967D2;\n",
              "      height: 32px;\n",
              "      padding: 0 0 0 0;\n",
              "      width: 32px;\n",
              "    }\n",
              "\n",
              "    .colab-df-convert:hover {\n",
              "      background-color: #E2EBFA;\n",
              "      box-shadow: 0px 1px 2px rgba(60, 64, 67, 0.3), 0px 1px 3px 1px rgba(60, 64, 67, 0.15);\n",
              "      fill: #174EA6;\n",
              "    }\n",
              "\n",
              "    [theme=dark] .colab-df-convert {\n",
              "      background-color: #3B4455;\n",
              "      fill: #D2E3FC;\n",
              "    }\n",
              "\n",
              "    [theme=dark] .colab-df-convert:hover {\n",
              "      background-color: #434B5C;\n",
              "      box-shadow: 0px 1px 3px 1px rgba(0, 0, 0, 0.15);\n",
              "      filter: drop-shadow(0px 1px 2px rgba(0, 0, 0, 0.3));\n",
              "      fill: #FFFFFF;\n",
              "    }\n",
              "  </style>\n",
              "\n",
              "      <script>\n",
              "        const buttonEl =\n",
              "          document.querySelector('#df-2691864a-d5c8-481c-828a-3afd41fc262f button.colab-df-convert');\n",
              "        buttonEl.style.display =\n",
              "          google.colab.kernel.accessAllowed ? 'block' : 'none';\n",
              "\n",
              "        async function convertToInteractive(key) {\n",
              "          const element = document.querySelector('#df-2691864a-d5c8-481c-828a-3afd41fc262f');\n",
              "          const dataTable =\n",
              "            await google.colab.kernel.invokeFunction('convertToInteractive',\n",
              "                                                     [key], {});\n",
              "          if (!dataTable) return;\n",
              "\n",
              "          const docLinkHtml = 'Like what you see? Visit the ' +\n",
              "            '<a target=\"_blank\" href=https://colab.research.google.com/notebooks/data_table.ipynb>data table notebook</a>'\n",
              "            + ' to learn more about interactive tables.';\n",
              "          element.innerHTML = '';\n",
              "          dataTable['output_type'] = 'display_data';\n",
              "          await google.colab.output.renderOutput(dataTable, element);\n",
              "          const docLink = document.createElement('div');\n",
              "          docLink.innerHTML = docLinkHtml;\n",
              "          element.appendChild(docLink);\n",
              "        }\n",
              "      </script>\n",
              "    </div>\n",
              "  </div>\n",
              "  "
            ]
          },
          "metadata": {},
          "execution_count": 41
        }
      ]
    },
    {
      "cell_type": "markdown",
      "source": [
        "**The CAST command is required so that the bottle price can be use without the monetary sign ($).**"
      ],
      "metadata": {
        "id": "9oDTLLh1L_ns"
      }
    },
    {
      "cell_type": "markdown",
      "source": [
        "#### 6.3.4) LEFT JOIN + USING commands"
      ],
      "metadata": {
        "id": "Vkt5XZmiUOeC"
      }
    },
    {
      "cell_type": "markdown",
      "source": [
        "Here we select the columns `county`, `population`,  `qty_sold` and `total_sold` from the join of the `sales` and `counties` tables using the `county` column. Notice that the last 2 variables mentioned above refer to `COUNT(sales.item)` and `SUM(sales.total)`. The analysis is limited to unique combinations of counties and population. The selected variables were grouped by `county` and then `population`, when the county population exceeded 150000. The results are organized by `total_sold` in a descending order. The display is limited to the 3 first rows."
      ],
      "metadata": {
        "id": "-J0MtDEeUsFR"
      }
    },
    {
      "cell_type": "code",
      "source": [
        " # Connect to the table in the database\n",
        "connection = psycopg2.connect(user = 'postgres', password = 'postgres', host = 'localhost', database = 'tfio_demo')\n",
        "cursor = connection.cursor()\n",
        "\n",
        "# Create SQL query\n",
        "cursor.execute(\" SELECT DISTINCT sales.county, counties.population, COUNT(sales.item) as qty_sold, SUM(sales.total) as total_sold \\\n",
        "                 FROM sales LEFT JOIN counties USING(county) \\\n",
        "                 WHERE description IN('Black Velvet', 'Hawkeye Vodka') \\\n",
        "                 GROUP BY sales.county, counties.population HAVING counties.population > 150000 \\\n",
        "                 ORDER BY total_sold DESC \\\n",
        "                 LIMIT 3;\")\n",
        "table_contacts = cursor.fetchall()\n",
        "\n",
        "# Turn the results of the query into a dataframe for visualization of the results\n",
        "pd.DataFrame((table_contacts) , columns=[[desc[0] for desc in cursor.description]])"
      ],
      "metadata": {
        "colab": {
          "base_uri": "https://localhost:8080/",
          "height": 0
        },
        "id": "IKJIrWnzTtGC",
        "outputId": "5275c406-24f9-4e31-8095-277968907ecb"
      },
      "execution_count": 42,
      "outputs": [
        {
          "output_type": "execute_result",
          "data": {
            "text/plain": [
              "  county population qty_sold  total_sold\n",
              "0   Polk     430640    28058  4114463.32\n",
              "1   Linn     211226    12746  2366315.91\n",
              "2  Scott     165224     5471   732618.98"
            ],
            "text/html": [
              "\n",
              "  <div id=\"df-ce43b865-ea1b-4e70-9e80-c777b46e44e8\">\n",
              "    <div class=\"colab-df-container\">\n",
              "      <div>\n",
              "<style scoped>\n",
              "    .dataframe tbody tr th:only-of-type {\n",
              "        vertical-align: middle;\n",
              "    }\n",
              "\n",
              "    .dataframe tbody tr th {\n",
              "        vertical-align: top;\n",
              "    }\n",
              "\n",
              "    .dataframe thead tr th {\n",
              "        text-align: left;\n",
              "    }\n",
              "</style>\n",
              "<table border=\"1\" class=\"dataframe\">\n",
              "  <thead>\n",
              "    <tr>\n",
              "      <th></th>\n",
              "      <th>county</th>\n",
              "      <th>population</th>\n",
              "      <th>qty_sold</th>\n",
              "      <th>total_sold</th>\n",
              "    </tr>\n",
              "  </thead>\n",
              "  <tbody>\n",
              "    <tr>\n",
              "      <th>0</th>\n",
              "      <td>Polk</td>\n",
              "      <td>430640</td>\n",
              "      <td>28058</td>\n",
              "      <td>4114463.32</td>\n",
              "    </tr>\n",
              "    <tr>\n",
              "      <th>1</th>\n",
              "      <td>Linn</td>\n",
              "      <td>211226</td>\n",
              "      <td>12746</td>\n",
              "      <td>2366315.91</td>\n",
              "    </tr>\n",
              "    <tr>\n",
              "      <th>2</th>\n",
              "      <td>Scott</td>\n",
              "      <td>165224</td>\n",
              "      <td>5471</td>\n",
              "      <td>732618.98</td>\n",
              "    </tr>\n",
              "  </tbody>\n",
              "</table>\n",
              "</div>\n",
              "      <button class=\"colab-df-convert\" onclick=\"convertToInteractive('df-ce43b865-ea1b-4e70-9e80-c777b46e44e8')\"\n",
              "              title=\"Convert this dataframe to an interactive table.\"\n",
              "              style=\"display:none;\">\n",
              "        \n",
              "  <svg xmlns=\"http://www.w3.org/2000/svg\" height=\"24px\"viewBox=\"0 0 24 24\"\n",
              "       width=\"24px\">\n",
              "    <path d=\"M0 0h24v24H0V0z\" fill=\"none\"/>\n",
              "    <path d=\"M18.56 5.44l.94 2.06.94-2.06 2.06-.94-2.06-.94-.94-2.06-.94 2.06-2.06.94zm-11 1L8.5 8.5l.94-2.06 2.06-.94-2.06-.94L8.5 2.5l-.94 2.06-2.06.94zm10 10l.94 2.06.94-2.06 2.06-.94-2.06-.94-.94-2.06-.94 2.06-2.06.94z\"/><path d=\"M17.41 7.96l-1.37-1.37c-.4-.4-.92-.59-1.43-.59-.52 0-1.04.2-1.43.59L10.3 9.45l-7.72 7.72c-.78.78-.78 2.05 0 2.83L4 21.41c.39.39.9.59 1.41.59.51 0 1.02-.2 1.41-.59l7.78-7.78 2.81-2.81c.8-.78.8-2.07 0-2.86zM5.41 20L4 18.59l7.72-7.72 1.47 1.35L5.41 20z\"/>\n",
              "  </svg>\n",
              "      </button>\n",
              "      \n",
              "  <style>\n",
              "    .colab-df-container {\n",
              "      display:flex;\n",
              "      flex-wrap:wrap;\n",
              "      gap: 12px;\n",
              "    }\n",
              "\n",
              "    .colab-df-convert {\n",
              "      background-color: #E8F0FE;\n",
              "      border: none;\n",
              "      border-radius: 50%;\n",
              "      cursor: pointer;\n",
              "      display: none;\n",
              "      fill: #1967D2;\n",
              "      height: 32px;\n",
              "      padding: 0 0 0 0;\n",
              "      width: 32px;\n",
              "    }\n",
              "\n",
              "    .colab-df-convert:hover {\n",
              "      background-color: #E2EBFA;\n",
              "      box-shadow: 0px 1px 2px rgba(60, 64, 67, 0.3), 0px 1px 3px 1px rgba(60, 64, 67, 0.15);\n",
              "      fill: #174EA6;\n",
              "    }\n",
              "\n",
              "    [theme=dark] .colab-df-convert {\n",
              "      background-color: #3B4455;\n",
              "      fill: #D2E3FC;\n",
              "    }\n",
              "\n",
              "    [theme=dark] .colab-df-convert:hover {\n",
              "      background-color: #434B5C;\n",
              "      box-shadow: 0px 1px 3px 1px rgba(0, 0, 0, 0.15);\n",
              "      filter: drop-shadow(0px 1px 2px rgba(0, 0, 0, 0.3));\n",
              "      fill: #FFFFFF;\n",
              "    }\n",
              "  </style>\n",
              "\n",
              "      <script>\n",
              "        const buttonEl =\n",
              "          document.querySelector('#df-ce43b865-ea1b-4e70-9e80-c777b46e44e8 button.colab-df-convert');\n",
              "        buttonEl.style.display =\n",
              "          google.colab.kernel.accessAllowed ? 'block' : 'none';\n",
              "\n",
              "        async function convertToInteractive(key) {\n",
              "          const element = document.querySelector('#df-ce43b865-ea1b-4e70-9e80-c777b46e44e8');\n",
              "          const dataTable =\n",
              "            await google.colab.kernel.invokeFunction('convertToInteractive',\n",
              "                                                     [key], {});\n",
              "          if (!dataTable) return;\n",
              "\n",
              "          const docLinkHtml = 'Like what you see? Visit the ' +\n",
              "            '<a target=\"_blank\" href=https://colab.research.google.com/notebooks/data_table.ipynb>data table notebook</a>'\n",
              "            + ' to learn more about interactive tables.';\n",
              "          element.innerHTML = '';\n",
              "          dataTable['output_type'] = 'display_data';\n",
              "          await google.colab.output.renderOutput(dataTable, element);\n",
              "          const docLink = document.createElement('div');\n",
              "          docLink.innerHTML = docLinkHtml;\n",
              "          element.appendChild(docLink);\n",
              "        }\n",
              "      </script>\n",
              "    </div>\n",
              "  </div>\n",
              "  "
            ]
          },
          "metadata": {},
          "execution_count": 42
        }
      ]
    },
    {
      "cell_type": "markdown",
      "source": [
        "Notice that there will always be unique combinations of counties and populations since any given county only has one population value. In other types of examples, the constraint of finding unique combinations of variables might be an issue that requires more thought. "
      ],
      "metadata": {
        "id": "xJOvSB7JWDab"
      }
    },
    {
      "cell_type": "markdown",
      "source": [
        "#### 6.3.5) LEFT JOIN + ON commands"
      ],
      "metadata": {
        "id": "iqTQG5D3XHaZ"
      }
    },
    {
      "cell_type": "markdown",
      "source": [
        "Here we have the very same example as the previous query. However, we use `ON` instead of `USING` as a command. "
      ],
      "metadata": {
        "id": "XBXgU_vGXKtA"
      }
    },
    {
      "cell_type": "code",
      "source": [
        " # Connect to the table in the database\n",
        "connection = psycopg2.connect(user = 'postgres', password = 'postgres', host = 'localhost', database = 'tfio_demo')\n",
        "cursor = connection.cursor()\n",
        "\n",
        "# Create SQL query\n",
        "cursor.execute(\" SELECT DISTINCT sales.county, counties.population, COUNT(sales.item) as qty_sold, SUM(sales.total) as total_sold \\\n",
        "                 FROM sales LEFT JOIN counties ON sales.county = counties.county \\\n",
        "                 WHERE description IN('Black Velvet', 'Hawkeye Vodka') \\\n",
        "                 GROUP BY sales.county, counties.population \\\n",
        "                 HAVING counties.population > 150000 \\\n",
        "                 ORDER BY total_sold DESC \\\n",
        "                 LIMIT 3;\")\n",
        "table_contacts = cursor.fetchall()\n",
        "\n",
        "# Turn the results of the query into a dataframe for visualization of the results\n",
        "pd.DataFrame((table_contacts) , columns=[[desc[0] for desc in cursor.description]])"
      ],
      "metadata": {
        "colab": {
          "base_uri": "https://localhost:8080/",
          "height": 0
        },
        "id": "B7V1KR02XKUZ",
        "outputId": "4361e028-d058-4525-ee48-ba62f27b65c2"
      },
      "execution_count": 43,
      "outputs": [
        {
          "output_type": "execute_result",
          "data": {
            "text/plain": [
              "  county population qty_sold  total_sold\n",
              "0   Polk     430640    28058  4114463.32\n",
              "1   Linn     211226    12746  2366315.91\n",
              "2  Scott     165224     5471   732618.98"
            ],
            "text/html": [
              "\n",
              "  <div id=\"df-4e496c82-9a89-4f15-8640-d30d3e89a312\">\n",
              "    <div class=\"colab-df-container\">\n",
              "      <div>\n",
              "<style scoped>\n",
              "    .dataframe tbody tr th:only-of-type {\n",
              "        vertical-align: middle;\n",
              "    }\n",
              "\n",
              "    .dataframe tbody tr th {\n",
              "        vertical-align: top;\n",
              "    }\n",
              "\n",
              "    .dataframe thead tr th {\n",
              "        text-align: left;\n",
              "    }\n",
              "</style>\n",
              "<table border=\"1\" class=\"dataframe\">\n",
              "  <thead>\n",
              "    <tr>\n",
              "      <th></th>\n",
              "      <th>county</th>\n",
              "      <th>population</th>\n",
              "      <th>qty_sold</th>\n",
              "      <th>total_sold</th>\n",
              "    </tr>\n",
              "  </thead>\n",
              "  <tbody>\n",
              "    <tr>\n",
              "      <th>0</th>\n",
              "      <td>Polk</td>\n",
              "      <td>430640</td>\n",
              "      <td>28058</td>\n",
              "      <td>4114463.32</td>\n",
              "    </tr>\n",
              "    <tr>\n",
              "      <th>1</th>\n",
              "      <td>Linn</td>\n",
              "      <td>211226</td>\n",
              "      <td>12746</td>\n",
              "      <td>2366315.91</td>\n",
              "    </tr>\n",
              "    <tr>\n",
              "      <th>2</th>\n",
              "      <td>Scott</td>\n",
              "      <td>165224</td>\n",
              "      <td>5471</td>\n",
              "      <td>732618.98</td>\n",
              "    </tr>\n",
              "  </tbody>\n",
              "</table>\n",
              "</div>\n",
              "      <button class=\"colab-df-convert\" onclick=\"convertToInteractive('df-4e496c82-9a89-4f15-8640-d30d3e89a312')\"\n",
              "              title=\"Convert this dataframe to an interactive table.\"\n",
              "              style=\"display:none;\">\n",
              "        \n",
              "  <svg xmlns=\"http://www.w3.org/2000/svg\" height=\"24px\"viewBox=\"0 0 24 24\"\n",
              "       width=\"24px\">\n",
              "    <path d=\"M0 0h24v24H0V0z\" fill=\"none\"/>\n",
              "    <path d=\"M18.56 5.44l.94 2.06.94-2.06 2.06-.94-2.06-.94-.94-2.06-.94 2.06-2.06.94zm-11 1L8.5 8.5l.94-2.06 2.06-.94-2.06-.94L8.5 2.5l-.94 2.06-2.06.94zm10 10l.94 2.06.94-2.06 2.06-.94-2.06-.94-.94-2.06-.94 2.06-2.06.94z\"/><path d=\"M17.41 7.96l-1.37-1.37c-.4-.4-.92-.59-1.43-.59-.52 0-1.04.2-1.43.59L10.3 9.45l-7.72 7.72c-.78.78-.78 2.05 0 2.83L4 21.41c.39.39.9.59 1.41.59.51 0 1.02-.2 1.41-.59l7.78-7.78 2.81-2.81c.8-.78.8-2.07 0-2.86zM5.41 20L4 18.59l7.72-7.72 1.47 1.35L5.41 20z\"/>\n",
              "  </svg>\n",
              "      </button>\n",
              "      \n",
              "  <style>\n",
              "    .colab-df-container {\n",
              "      display:flex;\n",
              "      flex-wrap:wrap;\n",
              "      gap: 12px;\n",
              "    }\n",
              "\n",
              "    .colab-df-convert {\n",
              "      background-color: #E8F0FE;\n",
              "      border: none;\n",
              "      border-radius: 50%;\n",
              "      cursor: pointer;\n",
              "      display: none;\n",
              "      fill: #1967D2;\n",
              "      height: 32px;\n",
              "      padding: 0 0 0 0;\n",
              "      width: 32px;\n",
              "    }\n",
              "\n",
              "    .colab-df-convert:hover {\n",
              "      background-color: #E2EBFA;\n",
              "      box-shadow: 0px 1px 2px rgba(60, 64, 67, 0.3), 0px 1px 3px 1px rgba(60, 64, 67, 0.15);\n",
              "      fill: #174EA6;\n",
              "    }\n",
              "\n",
              "    [theme=dark] .colab-df-convert {\n",
              "      background-color: #3B4455;\n",
              "      fill: #D2E3FC;\n",
              "    }\n",
              "\n",
              "    [theme=dark] .colab-df-convert:hover {\n",
              "      background-color: #434B5C;\n",
              "      box-shadow: 0px 1px 3px 1px rgba(0, 0, 0, 0.15);\n",
              "      filter: drop-shadow(0px 1px 2px rgba(0, 0, 0, 0.3));\n",
              "      fill: #FFFFFF;\n",
              "    }\n",
              "  </style>\n",
              "\n",
              "      <script>\n",
              "        const buttonEl =\n",
              "          document.querySelector('#df-4e496c82-9a89-4f15-8640-d30d3e89a312 button.colab-df-convert');\n",
              "        buttonEl.style.display =\n",
              "          google.colab.kernel.accessAllowed ? 'block' : 'none';\n",
              "\n",
              "        async function convertToInteractive(key) {\n",
              "          const element = document.querySelector('#df-4e496c82-9a89-4f15-8640-d30d3e89a312');\n",
              "          const dataTable =\n",
              "            await google.colab.kernel.invokeFunction('convertToInteractive',\n",
              "                                                     [key], {});\n",
              "          if (!dataTable) return;\n",
              "\n",
              "          const docLinkHtml = 'Like what you see? Visit the ' +\n",
              "            '<a target=\"_blank\" href=https://colab.research.google.com/notebooks/data_table.ipynb>data table notebook</a>'\n",
              "            + ' to learn more about interactive tables.';\n",
              "          element.innerHTML = '';\n",
              "          dataTable['output_type'] = 'display_data';\n",
              "          await google.colab.output.renderOutput(dataTable, element);\n",
              "          const docLink = document.createElement('div');\n",
              "          docLink.innerHTML = docLinkHtml;\n",
              "          element.appendChild(docLink);\n",
              "        }\n",
              "      </script>\n",
              "    </div>\n",
              "  </div>\n",
              "  "
            ]
          },
          "metadata": {},
          "execution_count": 43
        }
      ]
    },
    {
      "cell_type": "markdown",
      "source": [
        "#### 6.3.6) NOT IN command"
      ],
      "metadata": {
        "id": "L8OLL6ImYXgR"
      }
    },
    {
      "cell_type": "markdown",
      "source": [
        "Here we select the columns `county`, `qty_sold` and `total_sold` from the `sales` table. Notice that the last 2 variables mentioned above refer to `COUNT(sales.item)` and `SUM(sales.total)`. The analysis is limited to unique combinations of counties considering descriptions that include neither 'Black Velvet' nor 'Hawkeye Vodka' and considering the counties of 'Polk', 'Linn', 'Scott' . The selected variables were grouped by `county`. The results are organized by `total_sold` in a descending order. The display is limited to the 3 first rows."
      ],
      "metadata": {
        "id": "q8tjizsWZWKY"
      }
    },
    {
      "cell_type": "code",
      "source": [
        "# Connect to the table in the database\n",
        "connection = psycopg2.connect(user = 'postgres', password = 'postgres', host = 'localhost', database = 'tfio_demo')\n",
        "cursor = connection.cursor()\n",
        "\n",
        "# Create SQL query\n",
        "cursor.execute(\" SELECT DISTINCT sales.county, COUNT(sales.item) as qty_sold, SUM(sales.total) as total_sold \\\n",
        "                 FROM sales \\\n",
        "                 WHERE sales.description NOT IN('Black Velvet','Hawkeye Vodka') \\\n",
        "                 AND sales.county IN('Polk', 'Linn', 'Scott') \\\n",
        "                 GROUP BY sales.county \\\n",
        "                 ORDER BY total_sold \\\n",
        "                 DESC \\\n",
        "                 LIMIT 3;\")\n",
        "table_contacts = cursor.fetchall()\n",
        "\n",
        "# Turn the results of the query into a dataframe for visualization of the results\n",
        "pd.DataFrame((table_contacts) , columns=[[desc[0] for desc in cursor.description]])"
      ],
      "metadata": {
        "id": "kFDt17ACXxMh",
        "colab": {
          "base_uri": "https://localhost:8080/",
          "height": 0
        },
        "outputId": "87d4f560-8ffa-4226-f08f-fa80232968b2"
      },
      "execution_count": 44,
      "outputs": [
        {
          "output_type": "execute_result",
          "data": {
            "text/plain": [
              "  county qty_sold   total_sold\n",
              "0   Polk   533688  82282998.47\n",
              "1   Linn   238524  32093731.58\n",
              "2  Scott   182849  27170229.69"
            ],
            "text/html": [
              "\n",
              "  <div id=\"df-cb24206b-8d77-4b1f-95ef-5217d1654eda\">\n",
              "    <div class=\"colab-df-container\">\n",
              "      <div>\n",
              "<style scoped>\n",
              "    .dataframe tbody tr th:only-of-type {\n",
              "        vertical-align: middle;\n",
              "    }\n",
              "\n",
              "    .dataframe tbody tr th {\n",
              "        vertical-align: top;\n",
              "    }\n",
              "\n",
              "    .dataframe thead tr th {\n",
              "        text-align: left;\n",
              "    }\n",
              "</style>\n",
              "<table border=\"1\" class=\"dataframe\">\n",
              "  <thead>\n",
              "    <tr>\n",
              "      <th></th>\n",
              "      <th>county</th>\n",
              "      <th>qty_sold</th>\n",
              "      <th>total_sold</th>\n",
              "    </tr>\n",
              "  </thead>\n",
              "  <tbody>\n",
              "    <tr>\n",
              "      <th>0</th>\n",
              "      <td>Polk</td>\n",
              "      <td>533688</td>\n",
              "      <td>82282998.47</td>\n",
              "    </tr>\n",
              "    <tr>\n",
              "      <th>1</th>\n",
              "      <td>Linn</td>\n",
              "      <td>238524</td>\n",
              "      <td>32093731.58</td>\n",
              "    </tr>\n",
              "    <tr>\n",
              "      <th>2</th>\n",
              "      <td>Scott</td>\n",
              "      <td>182849</td>\n",
              "      <td>27170229.69</td>\n",
              "    </tr>\n",
              "  </tbody>\n",
              "</table>\n",
              "</div>\n",
              "      <button class=\"colab-df-convert\" onclick=\"convertToInteractive('df-cb24206b-8d77-4b1f-95ef-5217d1654eda')\"\n",
              "              title=\"Convert this dataframe to an interactive table.\"\n",
              "              style=\"display:none;\">\n",
              "        \n",
              "  <svg xmlns=\"http://www.w3.org/2000/svg\" height=\"24px\"viewBox=\"0 0 24 24\"\n",
              "       width=\"24px\">\n",
              "    <path d=\"M0 0h24v24H0V0z\" fill=\"none\"/>\n",
              "    <path d=\"M18.56 5.44l.94 2.06.94-2.06 2.06-.94-2.06-.94-.94-2.06-.94 2.06-2.06.94zm-11 1L8.5 8.5l.94-2.06 2.06-.94-2.06-.94L8.5 2.5l-.94 2.06-2.06.94zm10 10l.94 2.06.94-2.06 2.06-.94-2.06-.94-.94-2.06-.94 2.06-2.06.94z\"/><path d=\"M17.41 7.96l-1.37-1.37c-.4-.4-.92-.59-1.43-.59-.52 0-1.04.2-1.43.59L10.3 9.45l-7.72 7.72c-.78.78-.78 2.05 0 2.83L4 21.41c.39.39.9.59 1.41.59.51 0 1.02-.2 1.41-.59l7.78-7.78 2.81-2.81c.8-.78.8-2.07 0-2.86zM5.41 20L4 18.59l7.72-7.72 1.47 1.35L5.41 20z\"/>\n",
              "  </svg>\n",
              "      </button>\n",
              "      \n",
              "  <style>\n",
              "    .colab-df-container {\n",
              "      display:flex;\n",
              "      flex-wrap:wrap;\n",
              "      gap: 12px;\n",
              "    }\n",
              "\n",
              "    .colab-df-convert {\n",
              "      background-color: #E8F0FE;\n",
              "      border: none;\n",
              "      border-radius: 50%;\n",
              "      cursor: pointer;\n",
              "      display: none;\n",
              "      fill: #1967D2;\n",
              "      height: 32px;\n",
              "      padding: 0 0 0 0;\n",
              "      width: 32px;\n",
              "    }\n",
              "\n",
              "    .colab-df-convert:hover {\n",
              "      background-color: #E2EBFA;\n",
              "      box-shadow: 0px 1px 2px rgba(60, 64, 67, 0.3), 0px 1px 3px 1px rgba(60, 64, 67, 0.15);\n",
              "      fill: #174EA6;\n",
              "    }\n",
              "\n",
              "    [theme=dark] .colab-df-convert {\n",
              "      background-color: #3B4455;\n",
              "      fill: #D2E3FC;\n",
              "    }\n",
              "\n",
              "    [theme=dark] .colab-df-convert:hover {\n",
              "      background-color: #434B5C;\n",
              "      box-shadow: 0px 1px 3px 1px rgba(0, 0, 0, 0.15);\n",
              "      filter: drop-shadow(0px 1px 2px rgba(0, 0, 0, 0.3));\n",
              "      fill: #FFFFFF;\n",
              "    }\n",
              "  </style>\n",
              "\n",
              "      <script>\n",
              "        const buttonEl =\n",
              "          document.querySelector('#df-cb24206b-8d77-4b1f-95ef-5217d1654eda button.colab-df-convert');\n",
              "        buttonEl.style.display =\n",
              "          google.colab.kernel.accessAllowed ? 'block' : 'none';\n",
              "\n",
              "        async function convertToInteractive(key) {\n",
              "          const element = document.querySelector('#df-cb24206b-8d77-4b1f-95ef-5217d1654eda');\n",
              "          const dataTable =\n",
              "            await google.colab.kernel.invokeFunction('convertToInteractive',\n",
              "                                                     [key], {});\n",
              "          if (!dataTable) return;\n",
              "\n",
              "          const docLinkHtml = 'Like what you see? Visit the ' +\n",
              "            '<a target=\"_blank\" href=https://colab.research.google.com/notebooks/data_table.ipynb>data table notebook</a>'\n",
              "            + ' to learn more about interactive tables.';\n",
              "          element.innerHTML = '';\n",
              "          dataTable['output_type'] = 'display_data';\n",
              "          await google.colab.output.renderOutput(dataTable, element);\n",
              "          const docLink = document.createElement('div');\n",
              "          docLink.innerHTML = docLinkHtml;\n",
              "          element.appendChild(docLink);\n",
              "        }\n",
              "      </script>\n",
              "    </div>\n",
              "  </div>\n",
              "  "
            ]
          },
          "metadata": {},
          "execution_count": 44
        }
      ]
    },
    {
      "cell_type": "markdown",
      "source": [
        "#### 6.3.7) Summary"
      ],
      "metadata": {
        "id": "EcuyP8tfaX2B"
      }
    },
    {
      "cell_type": "markdown",
      "source": [
        "The following summary is provided in the second article that was referenced in part 1:\n",
        "- `DISTINCT` and `GROUP BY` provide insights into aggregated slices of the data.\n",
        "- `COUNTing` the quantity of a group member can provide valuable insight.\n",
        "- Compound conditions can be joined by `AND` in queries.\n",
        "- `HAVING` further filters aggregated data, in addition to filtering applied to raw data by the `WHERE` clause."
      ],
      "metadata": {
        "id": "pHOwlq7ZagYY"
      }
    },
    {
      "cell_type": "markdown",
      "source": [
        "### 6.4) JOIN command"
      ],
      "metadata": {
        "id": "RpriFCZiaslR"
      }
    },
    {
      "cell_type": "markdown",
      "source": [
        "Just as we organize belongings into separate storage areas, data needed for analysis is often stored in multiple locations. SQL enables you to easily combine data from multiple resources, if you have a unique identifier to bridge between the data tables. Connecting data sources is established with the `FROM` clause, identifying the source tables and the fields which are candidates for the unique connection. We’ll begin with the `INNER JOIN`, which returns only the records that match exactly from both tables. The basic command frame for the `SELECT` statement remains the same, with some new additions. When referencing columns within a `JOIN` query, use the formal labeling for column names, meaning table name together with column name separated by a period, for clear identification. The structure to `JOIN` two tables within the `FROM` clause is accomplished as follows:\n",
        "\n",
        " > **FROM** *(primary table name here)* <br>\n",
        " > **INNER JOIN** *(secondary table here)* <br>\n",
        " > **ON** *(primary_table.field_from_primary = secondary_table.field_from_secondary)*"
      ],
      "metadata": {
        "id": "iubKGpx_kzmS"
      }
    },
    {
      "cell_type": "markdown",
      "source": [
        "#### 6.4.1) INNER JOIN command"
      ],
      "metadata": {
        "id": "Sk7Tf8TBl55y"
      }
    },
    {
      "cell_type": "markdown",
      "source": [
        "Here we select the columns `store_number`, `name`, `store_address` and `total_sold` from the join of the `sales2016` and `stores` tables. Notice that the last variable mentioned above refers to `SUM(sales2016.sale_dollars)`.  The `INNER JOIN` command used the columns `store_number` and `store` to merge the tables. The selected variables were grouped by `store_number`, `name` and `store_address`. The results are organized by `total_sold` in a descending order. The display is limited to the 3 first rows."
      ],
      "metadata": {
        "id": "f0sUk3PupihJ"
      }
    },
    {
      "cell_type": "code",
      "source": [
        " # Connect to the table in the database\n",
        "connection = psycopg2.connect(user = 'postgres', password = 'postgres', host = 'localhost', database = 'tfio_demo')\n",
        "cursor = connection.cursor()\n",
        "\n",
        "# Create SQL query\n",
        "cursor.execute(\"SELECT sales_2016.store_number, stores.name, stores.store_address, SUM(sales_2016.sale_dollars) AS total_sold \\\n",
        "                FROM sales_2016 \\\n",
        "                INNER JOIN stores ON sales_2016.store_number = stores.store \\\n",
        "                GROUP BY sales_2016.store_number, stores.name, stores.store_address \\\n",
        "                ORDER BY total_sold \\\n",
        "                DESC \\\n",
        "                LIMIT 3;\")\n",
        "table_contacts = cursor.fetchall()\n",
        "\n",
        "# Turn the results of the query into a dataframe for visualization of the results\n",
        "pd.DataFrame((table_contacts) , columns=[[desc[0] for desc in cursor.description]])"
      ],
      "metadata": {
        "colab": {
          "base_uri": "https://localhost:8080/",
          "height": 0
        },
        "id": "EiQcX1D3ldYD",
        "outputId": "0f7e8f69-358a-4b1d-90a7-95dcdb648a92"
      },
      "execution_count": 45,
      "outputs": [
        {
          "output_type": "execute_result",
          "data": {
            "text/plain": [
              "  store_number                                 name  \\\n",
              "0         2633         Hy-vee #3 / Bdi / Des Moines   \n",
              "1         4829                       Central City 2   \n",
              "2         2512  Hy-vee Wine and Spirits / Iowa City   \n",
              "\n",
              "                                       store_address  total_sold  \n",
              "0  3221 Se 14th St\\nDes Moines, IA 503200000\\n(41...  7904425.39  \n",
              "1  1501 Michigan Ave\\nDes Moines, IA 50314\\n(41.6...  7156755.00  \n",
              "2  1720 Waterfront Dr\\nIowa City, IA 522400000\\n(...  3400203.01  "
            ],
            "text/html": [
              "\n",
              "  <div id=\"df-c411ea0c-ea1a-4feb-9536-30b10bd72b40\">\n",
              "    <div class=\"colab-df-container\">\n",
              "      <div>\n",
              "<style scoped>\n",
              "    .dataframe tbody tr th:only-of-type {\n",
              "        vertical-align: middle;\n",
              "    }\n",
              "\n",
              "    .dataframe tbody tr th {\n",
              "        vertical-align: top;\n",
              "    }\n",
              "\n",
              "    .dataframe thead tr th {\n",
              "        text-align: left;\n",
              "    }\n",
              "</style>\n",
              "<table border=\"1\" class=\"dataframe\">\n",
              "  <thead>\n",
              "    <tr>\n",
              "      <th></th>\n",
              "      <th>store_number</th>\n",
              "      <th>name</th>\n",
              "      <th>store_address</th>\n",
              "      <th>total_sold</th>\n",
              "    </tr>\n",
              "  </thead>\n",
              "  <tbody>\n",
              "    <tr>\n",
              "      <th>0</th>\n",
              "      <td>2633</td>\n",
              "      <td>Hy-vee #3 / Bdi / Des Moines</td>\n",
              "      <td>3221 Se 14th St\\nDes Moines, IA 503200000\\n(41...</td>\n",
              "      <td>7904425.39</td>\n",
              "    </tr>\n",
              "    <tr>\n",
              "      <th>1</th>\n",
              "      <td>4829</td>\n",
              "      <td>Central City 2</td>\n",
              "      <td>1501 Michigan Ave\\nDes Moines, IA 50314\\n(41.6...</td>\n",
              "      <td>7156755.00</td>\n",
              "    </tr>\n",
              "    <tr>\n",
              "      <th>2</th>\n",
              "      <td>2512</td>\n",
              "      <td>Hy-vee Wine and Spirits / Iowa City</td>\n",
              "      <td>1720 Waterfront Dr\\nIowa City, IA 522400000\\n(...</td>\n",
              "      <td>3400203.01</td>\n",
              "    </tr>\n",
              "  </tbody>\n",
              "</table>\n",
              "</div>\n",
              "      <button class=\"colab-df-convert\" onclick=\"convertToInteractive('df-c411ea0c-ea1a-4feb-9536-30b10bd72b40')\"\n",
              "              title=\"Convert this dataframe to an interactive table.\"\n",
              "              style=\"display:none;\">\n",
              "        \n",
              "  <svg xmlns=\"http://www.w3.org/2000/svg\" height=\"24px\"viewBox=\"0 0 24 24\"\n",
              "       width=\"24px\">\n",
              "    <path d=\"M0 0h24v24H0V0z\" fill=\"none\"/>\n",
              "    <path d=\"M18.56 5.44l.94 2.06.94-2.06 2.06-.94-2.06-.94-.94-2.06-.94 2.06-2.06.94zm-11 1L8.5 8.5l.94-2.06 2.06-.94-2.06-.94L8.5 2.5l-.94 2.06-2.06.94zm10 10l.94 2.06.94-2.06 2.06-.94-2.06-.94-.94-2.06-.94 2.06-2.06.94z\"/><path d=\"M17.41 7.96l-1.37-1.37c-.4-.4-.92-.59-1.43-.59-.52 0-1.04.2-1.43.59L10.3 9.45l-7.72 7.72c-.78.78-.78 2.05 0 2.83L4 21.41c.39.39.9.59 1.41.59.51 0 1.02-.2 1.41-.59l7.78-7.78 2.81-2.81c.8-.78.8-2.07 0-2.86zM5.41 20L4 18.59l7.72-7.72 1.47 1.35L5.41 20z\"/>\n",
              "  </svg>\n",
              "      </button>\n",
              "      \n",
              "  <style>\n",
              "    .colab-df-container {\n",
              "      display:flex;\n",
              "      flex-wrap:wrap;\n",
              "      gap: 12px;\n",
              "    }\n",
              "\n",
              "    .colab-df-convert {\n",
              "      background-color: #E8F0FE;\n",
              "      border: none;\n",
              "      border-radius: 50%;\n",
              "      cursor: pointer;\n",
              "      display: none;\n",
              "      fill: #1967D2;\n",
              "      height: 32px;\n",
              "      padding: 0 0 0 0;\n",
              "      width: 32px;\n",
              "    }\n",
              "\n",
              "    .colab-df-convert:hover {\n",
              "      background-color: #E2EBFA;\n",
              "      box-shadow: 0px 1px 2px rgba(60, 64, 67, 0.3), 0px 1px 3px 1px rgba(60, 64, 67, 0.15);\n",
              "      fill: #174EA6;\n",
              "    }\n",
              "\n",
              "    [theme=dark] .colab-df-convert {\n",
              "      background-color: #3B4455;\n",
              "      fill: #D2E3FC;\n",
              "    }\n",
              "\n",
              "    [theme=dark] .colab-df-convert:hover {\n",
              "      background-color: #434B5C;\n",
              "      box-shadow: 0px 1px 3px 1px rgba(0, 0, 0, 0.15);\n",
              "      filter: drop-shadow(0px 1px 2px rgba(0, 0, 0, 0.3));\n",
              "      fill: #FFFFFF;\n",
              "    }\n",
              "  </style>\n",
              "\n",
              "      <script>\n",
              "        const buttonEl =\n",
              "          document.querySelector('#df-c411ea0c-ea1a-4feb-9536-30b10bd72b40 button.colab-df-convert');\n",
              "        buttonEl.style.display =\n",
              "          google.colab.kernel.accessAllowed ? 'block' : 'none';\n",
              "\n",
              "        async function convertToInteractive(key) {\n",
              "          const element = document.querySelector('#df-c411ea0c-ea1a-4feb-9536-30b10bd72b40');\n",
              "          const dataTable =\n",
              "            await google.colab.kernel.invokeFunction('convertToInteractive',\n",
              "                                                     [key], {});\n",
              "          if (!dataTable) return;\n",
              "\n",
              "          const docLinkHtml = 'Like what you see? Visit the ' +\n",
              "            '<a target=\"_blank\" href=https://colab.research.google.com/notebooks/data_table.ipynb>data table notebook</a>'\n",
              "            + ' to learn more about interactive tables.';\n",
              "          element.innerHTML = '';\n",
              "          dataTable['output_type'] = 'display_data';\n",
              "          await google.colab.output.renderOutput(dataTable, element);\n",
              "          const docLink = document.createElement('div');\n",
              "          docLink.innerHTML = docLinkHtml;\n",
              "          element.appendChild(docLink);\n",
              "        }\n",
              "      </script>\n",
              "    </div>\n",
              "  </div>\n",
              "  "
            ]
          },
          "metadata": {},
          "execution_count": 45
        }
      ]
    },
    {
      "cell_type": "markdown",
      "source": [
        "#### 6.4.2) Divide one column by another (feature creation)"
      ],
      "metadata": {
        "id": "TEgUzur5rB_C"
      }
    },
    {
      "cell_type": "markdown",
      "source": [
        "Here we select the columns `county`, `total_sold`, `population` and `per_capita_spend` from the join of the `sales2016` and `counties` tables. Notice that the the variables `total_sold` and `per_capita_spend` mentioned above refer to `SUM(sales2016.sale_dollars)` and `ROUND((SUM(sales2016.sale_dollars)/(counties.population)),2)`.  The `INNER JOIN` command used the column `county` to merge the tables. The selected variables were grouped by `county` and `population`. The results are organized by `per_capita_spend` in a descending order. The display is limited to the 3 first rows."
      ],
      "metadata": {
        "id": "anlNpLPet00Z"
      }
    },
    {
      "cell_type": "code",
      "source": [
        " # Connect to the table in the database\n",
        "connection = psycopg2.connect(user = 'postgres', password = 'postgres', host = 'localhost', database = 'tfio_demo')\n",
        "cursor = connection.cursor()\n",
        "\n",
        "# Create SQL query\n",
        "cursor.execute(\"SELECT sales_2016.county, SUM(sales_2016.sale_dollars) AS total_sold, counties.population, \\\n",
        "                ROUND((SUM(sales_2016.sale_dollars)/(counties.population)),2) AS per_capita_spend \\\n",
        "                FROM sales_2016 \\\n",
        "                INNER JOIN counties USING(county) \\\n",
        "                GROUP BY sales_2016.county, counties.population \\\n",
        "                ORDER BY per_capita_spend \\\n",
        "                DESC \\\n",
        "                LIMIT 3;\")\n",
        "table_contacts = cursor.fetchall()\n",
        "\n",
        "# Turn the results of the query into a dataframe for visualization of the results\n",
        "pd.DataFrame((table_contacts) , columns=[[desc[0] for desc in cursor.description]])"
      ],
      "metadata": {
        "colab": {
          "base_uri": "https://localhost:8080/",
          "height": 0
        },
        "id": "LXTBmDuKsLxB",
        "outputId": "7e2391ec-8040-4eb3-9490-b06766a7ecd6"
      },
      "execution_count": 46,
      "outputs": [
        {
          "output_type": "execute_result",
          "data": {
            "text/plain": [
              "        county   total_sold population per_capita_spend\n",
              "0    Dickinson   3112712.41      16667           186.76\n",
              "1         Polk  42400328.31     430640            98.46\n",
              "2  Cerro Gordo   3617023.05      44151            81.92"
            ],
            "text/html": [
              "\n",
              "  <div id=\"df-efb392d2-b637-44b0-87e2-184ab70e283d\">\n",
              "    <div class=\"colab-df-container\">\n",
              "      <div>\n",
              "<style scoped>\n",
              "    .dataframe tbody tr th:only-of-type {\n",
              "        vertical-align: middle;\n",
              "    }\n",
              "\n",
              "    .dataframe tbody tr th {\n",
              "        vertical-align: top;\n",
              "    }\n",
              "\n",
              "    .dataframe thead tr th {\n",
              "        text-align: left;\n",
              "    }\n",
              "</style>\n",
              "<table border=\"1\" class=\"dataframe\">\n",
              "  <thead>\n",
              "    <tr>\n",
              "      <th></th>\n",
              "      <th>county</th>\n",
              "      <th>total_sold</th>\n",
              "      <th>population</th>\n",
              "      <th>per_capita_spend</th>\n",
              "    </tr>\n",
              "  </thead>\n",
              "  <tbody>\n",
              "    <tr>\n",
              "      <th>0</th>\n",
              "      <td>Dickinson</td>\n",
              "      <td>3112712.41</td>\n",
              "      <td>16667</td>\n",
              "      <td>186.76</td>\n",
              "    </tr>\n",
              "    <tr>\n",
              "      <th>1</th>\n",
              "      <td>Polk</td>\n",
              "      <td>42400328.31</td>\n",
              "      <td>430640</td>\n",
              "      <td>98.46</td>\n",
              "    </tr>\n",
              "    <tr>\n",
              "      <th>2</th>\n",
              "      <td>Cerro Gordo</td>\n",
              "      <td>3617023.05</td>\n",
              "      <td>44151</td>\n",
              "      <td>81.92</td>\n",
              "    </tr>\n",
              "  </tbody>\n",
              "</table>\n",
              "</div>\n",
              "      <button class=\"colab-df-convert\" onclick=\"convertToInteractive('df-efb392d2-b637-44b0-87e2-184ab70e283d')\"\n",
              "              title=\"Convert this dataframe to an interactive table.\"\n",
              "              style=\"display:none;\">\n",
              "        \n",
              "  <svg xmlns=\"http://www.w3.org/2000/svg\" height=\"24px\"viewBox=\"0 0 24 24\"\n",
              "       width=\"24px\">\n",
              "    <path d=\"M0 0h24v24H0V0z\" fill=\"none\"/>\n",
              "    <path d=\"M18.56 5.44l.94 2.06.94-2.06 2.06-.94-2.06-.94-.94-2.06-.94 2.06-2.06.94zm-11 1L8.5 8.5l.94-2.06 2.06-.94-2.06-.94L8.5 2.5l-.94 2.06-2.06.94zm10 10l.94 2.06.94-2.06 2.06-.94-2.06-.94-.94-2.06-.94 2.06-2.06.94z\"/><path d=\"M17.41 7.96l-1.37-1.37c-.4-.4-.92-.59-1.43-.59-.52 0-1.04.2-1.43.59L10.3 9.45l-7.72 7.72c-.78.78-.78 2.05 0 2.83L4 21.41c.39.39.9.59 1.41.59.51 0 1.02-.2 1.41-.59l7.78-7.78 2.81-2.81c.8-.78.8-2.07 0-2.86zM5.41 20L4 18.59l7.72-7.72 1.47 1.35L5.41 20z\"/>\n",
              "  </svg>\n",
              "      </button>\n",
              "      \n",
              "  <style>\n",
              "    .colab-df-container {\n",
              "      display:flex;\n",
              "      flex-wrap:wrap;\n",
              "      gap: 12px;\n",
              "    }\n",
              "\n",
              "    .colab-df-convert {\n",
              "      background-color: #E8F0FE;\n",
              "      border: none;\n",
              "      border-radius: 50%;\n",
              "      cursor: pointer;\n",
              "      display: none;\n",
              "      fill: #1967D2;\n",
              "      height: 32px;\n",
              "      padding: 0 0 0 0;\n",
              "      width: 32px;\n",
              "    }\n",
              "\n",
              "    .colab-df-convert:hover {\n",
              "      background-color: #E2EBFA;\n",
              "      box-shadow: 0px 1px 2px rgba(60, 64, 67, 0.3), 0px 1px 3px 1px rgba(60, 64, 67, 0.15);\n",
              "      fill: #174EA6;\n",
              "    }\n",
              "\n",
              "    [theme=dark] .colab-df-convert {\n",
              "      background-color: #3B4455;\n",
              "      fill: #D2E3FC;\n",
              "    }\n",
              "\n",
              "    [theme=dark] .colab-df-convert:hover {\n",
              "      background-color: #434B5C;\n",
              "      box-shadow: 0px 1px 3px 1px rgba(0, 0, 0, 0.15);\n",
              "      filter: drop-shadow(0px 1px 2px rgba(0, 0, 0, 0.3));\n",
              "      fill: #FFFFFF;\n",
              "    }\n",
              "  </style>\n",
              "\n",
              "      <script>\n",
              "        const buttonEl =\n",
              "          document.querySelector('#df-efb392d2-b637-44b0-87e2-184ab70e283d button.colab-df-convert');\n",
              "        buttonEl.style.display =\n",
              "          google.colab.kernel.accessAllowed ? 'block' : 'none';\n",
              "\n",
              "        async function convertToInteractive(key) {\n",
              "          const element = document.querySelector('#df-efb392d2-b637-44b0-87e2-184ab70e283d');\n",
              "          const dataTable =\n",
              "            await google.colab.kernel.invokeFunction('convertToInteractive',\n",
              "                                                     [key], {});\n",
              "          if (!dataTable) return;\n",
              "\n",
              "          const docLinkHtml = 'Like what you see? Visit the ' +\n",
              "            '<a target=\"_blank\" href=https://colab.research.google.com/notebooks/data_table.ipynb>data table notebook</a>'\n",
              "            + ' to learn more about interactive tables.';\n",
              "          element.innerHTML = '';\n",
              "          dataTable['output_type'] = 'display_data';\n",
              "          await google.colab.output.renderOutput(dataTable, element);\n",
              "          const docLink = document.createElement('div');\n",
              "          docLink.innerHTML = docLinkHtml;\n",
              "          element.appendChild(docLink);\n",
              "        }\n",
              "      </script>\n",
              "    </div>\n",
              "  </div>\n",
              "  "
            ]
          },
          "metadata": {},
          "execution_count": 46
        }
      ]
    },
    {
      "cell_type": "markdown",
      "source": [
        "#### 6.4.3) COUNT + DISTINCT commands"
      ],
      "metadata": {
        "id": "Dj_SRTUruk9x"
      }
    },
    {
      "cell_type": "markdown",
      "source": [
        "Here we select the columns `county`, `qty_stores`, `total_sales`, `county_population` and `num_people_per_store` from the join of the `sales_2016` and `counties` tables. Notice that the the variables `qty_stores`, `total_sales` and `num_people_per_store` mentioned above refer to `COUNT(DISTINCT sales_2016.store_number)`, `SUM(sales_2016.sale_dollars)` and `(counties.population/(COUNT(DISTINCT sales_2016.store_number)))`.  The `INNER JOIN` command used the column `county` to merge the tables. Notice that the selection is limited to the counties of 'Dickinson', 'Polk', 'Johnson' and 'Cerro Gordo'. The selected variables were grouped by `county` and then `population`. The results are organized by `total_sales` in a descending order. The display is limited to the 3 first rows."
      ],
      "metadata": {
        "id": "sJogzcXFv9qJ"
      }
    },
    {
      "cell_type": "code",
      "source": [
        " # Connect to the table in the database\n",
        "connection = psycopg2.connect(user = 'postgres', password = 'postgres', host = 'localhost', database = 'tfio_demo')\n",
        "cursor = connection.cursor()\n",
        "\n",
        "# Create SQL query\n",
        "cursor.execute(\"SELECT sales_2016.county, COUNT(DISTINCT sales_2016.store_number) AS qty_stores, SUM(sales_2016.sale_dollars) AS total_sales, \\\n",
        "                counties.population AS county_population, (counties.population/(COUNT(DISTINCT sales_2016.store_number))) AS num_people_per_store \\\n",
        "                FROM sales_2016 INNER JOIN counties USING(county) \\\n",
        "                WHERE sales_2016.county IN('Dickinson', 'Polk', 'Johnson', 'Cerro Gordo' ) \\\n",
        "                GROUP BY sales_2016.county, counties.population \\\n",
        "                ORDER BY total_sales DESC \\\n",
        "                LIMIT 3;\")\n",
        "table_contacts = cursor.fetchall()\n",
        "\n",
        "# Turn the results of the query into a dataframe for visualization of the results\n",
        "pd.DataFrame((table_contacts) , columns=[[desc[0] for desc in cursor.description]])"
      ],
      "metadata": {
        "colab": {
          "base_uri": "https://localhost:8080/",
          "height": 0
        },
        "id": "cj8dF_doulUY",
        "outputId": "cb4a05bf-41f6-45ee-f5ff-e0a9976e2f9b"
      },
      "execution_count": 47,
      "outputs": [
        {
          "output_type": "execute_result",
          "data": {
            "text/plain": [
              "        county qty_stores  total_sales county_population num_people_per_store\n",
              "0         Polk        188  42400328.31            430640                 2290\n",
              "1      Johnson         50  10509392.26            130882                 2617\n",
              "2  Cerro Gordo         20   3617023.05             44151                 2207"
            ],
            "text/html": [
              "\n",
              "  <div id=\"df-5cd3d7b7-44b4-4080-8d5b-6302d9247bc4\">\n",
              "    <div class=\"colab-df-container\">\n",
              "      <div>\n",
              "<style scoped>\n",
              "    .dataframe tbody tr th:only-of-type {\n",
              "        vertical-align: middle;\n",
              "    }\n",
              "\n",
              "    .dataframe tbody tr th {\n",
              "        vertical-align: top;\n",
              "    }\n",
              "\n",
              "    .dataframe thead tr th {\n",
              "        text-align: left;\n",
              "    }\n",
              "</style>\n",
              "<table border=\"1\" class=\"dataframe\">\n",
              "  <thead>\n",
              "    <tr>\n",
              "      <th></th>\n",
              "      <th>county</th>\n",
              "      <th>qty_stores</th>\n",
              "      <th>total_sales</th>\n",
              "      <th>county_population</th>\n",
              "      <th>num_people_per_store</th>\n",
              "    </tr>\n",
              "  </thead>\n",
              "  <tbody>\n",
              "    <tr>\n",
              "      <th>0</th>\n",
              "      <td>Polk</td>\n",
              "      <td>188</td>\n",
              "      <td>42400328.31</td>\n",
              "      <td>430640</td>\n",
              "      <td>2290</td>\n",
              "    </tr>\n",
              "    <tr>\n",
              "      <th>1</th>\n",
              "      <td>Johnson</td>\n",
              "      <td>50</td>\n",
              "      <td>10509392.26</td>\n",
              "      <td>130882</td>\n",
              "      <td>2617</td>\n",
              "    </tr>\n",
              "    <tr>\n",
              "      <th>2</th>\n",
              "      <td>Cerro Gordo</td>\n",
              "      <td>20</td>\n",
              "      <td>3617023.05</td>\n",
              "      <td>44151</td>\n",
              "      <td>2207</td>\n",
              "    </tr>\n",
              "  </tbody>\n",
              "</table>\n",
              "</div>\n",
              "      <button class=\"colab-df-convert\" onclick=\"convertToInteractive('df-5cd3d7b7-44b4-4080-8d5b-6302d9247bc4')\"\n",
              "              title=\"Convert this dataframe to an interactive table.\"\n",
              "              style=\"display:none;\">\n",
              "        \n",
              "  <svg xmlns=\"http://www.w3.org/2000/svg\" height=\"24px\"viewBox=\"0 0 24 24\"\n",
              "       width=\"24px\">\n",
              "    <path d=\"M0 0h24v24H0V0z\" fill=\"none\"/>\n",
              "    <path d=\"M18.56 5.44l.94 2.06.94-2.06 2.06-.94-2.06-.94-.94-2.06-.94 2.06-2.06.94zm-11 1L8.5 8.5l.94-2.06 2.06-.94-2.06-.94L8.5 2.5l-.94 2.06-2.06.94zm10 10l.94 2.06.94-2.06 2.06-.94-2.06-.94-.94-2.06-.94 2.06-2.06.94z\"/><path d=\"M17.41 7.96l-1.37-1.37c-.4-.4-.92-.59-1.43-.59-.52 0-1.04.2-1.43.59L10.3 9.45l-7.72 7.72c-.78.78-.78 2.05 0 2.83L4 21.41c.39.39.9.59 1.41.59.51 0 1.02-.2 1.41-.59l7.78-7.78 2.81-2.81c.8-.78.8-2.07 0-2.86zM5.41 20L4 18.59l7.72-7.72 1.47 1.35L5.41 20z\"/>\n",
              "  </svg>\n",
              "      </button>\n",
              "      \n",
              "  <style>\n",
              "    .colab-df-container {\n",
              "      display:flex;\n",
              "      flex-wrap:wrap;\n",
              "      gap: 12px;\n",
              "    }\n",
              "\n",
              "    .colab-df-convert {\n",
              "      background-color: #E8F0FE;\n",
              "      border: none;\n",
              "      border-radius: 50%;\n",
              "      cursor: pointer;\n",
              "      display: none;\n",
              "      fill: #1967D2;\n",
              "      height: 32px;\n",
              "      padding: 0 0 0 0;\n",
              "      width: 32px;\n",
              "    }\n",
              "\n",
              "    .colab-df-convert:hover {\n",
              "      background-color: #E2EBFA;\n",
              "      box-shadow: 0px 1px 2px rgba(60, 64, 67, 0.3), 0px 1px 3px 1px rgba(60, 64, 67, 0.15);\n",
              "      fill: #174EA6;\n",
              "    }\n",
              "\n",
              "    [theme=dark] .colab-df-convert {\n",
              "      background-color: #3B4455;\n",
              "      fill: #D2E3FC;\n",
              "    }\n",
              "\n",
              "    [theme=dark] .colab-df-convert:hover {\n",
              "      background-color: #434B5C;\n",
              "      box-shadow: 0px 1px 3px 1px rgba(0, 0, 0, 0.15);\n",
              "      filter: drop-shadow(0px 1px 2px rgba(0, 0, 0, 0.3));\n",
              "      fill: #FFFFFF;\n",
              "    }\n",
              "  </style>\n",
              "\n",
              "      <script>\n",
              "        const buttonEl =\n",
              "          document.querySelector('#df-5cd3d7b7-44b4-4080-8d5b-6302d9247bc4 button.colab-df-convert');\n",
              "        buttonEl.style.display =\n",
              "          google.colab.kernel.accessAllowed ? 'block' : 'none';\n",
              "\n",
              "        async function convertToInteractive(key) {\n",
              "          const element = document.querySelector('#df-5cd3d7b7-44b4-4080-8d5b-6302d9247bc4');\n",
              "          const dataTable =\n",
              "            await google.colab.kernel.invokeFunction('convertToInteractive',\n",
              "                                                     [key], {});\n",
              "          if (!dataTable) return;\n",
              "\n",
              "          const docLinkHtml = 'Like what you see? Visit the ' +\n",
              "            '<a target=\"_blank\" href=https://colab.research.google.com/notebooks/data_table.ipynb>data table notebook</a>'\n",
              "            + ' to learn more about interactive tables.';\n",
              "          element.innerHTML = '';\n",
              "          dataTable['output_type'] = 'display_data';\n",
              "          await google.colab.output.renderOutput(dataTable, element);\n",
              "          const docLink = document.createElement('div');\n",
              "          docLink.innerHTML = docLinkHtml;\n",
              "          element.appendChild(docLink);\n",
              "        }\n",
              "      </script>\n",
              "    </div>\n",
              "  </div>\n",
              "  "
            ]
          },
          "metadata": {},
          "execution_count": 47
        }
      ]
    },
    {
      "cell_type": "markdown",
      "source": [
        "#### 6.4.4) IS NOT NULL command"
      ],
      "metadata": {
        "id": "BgjTNfzsxknd"
      }
    },
    {
      "cell_type": "markdown",
      "source": [
        "Here we select the columns `county`, `store_number`, `store_name`, `qty_sold`, `avg_sale_price` and `total_sold` from the join of the `sales_2016` and `convenience` tables. Notice that the the 3 lasts variables mentioned above refer to `COUNT(sales_2016.sale_dollars)`, `ROUND(AVG(sales_2016.sale_dollars),2)` and `SUM(sales_2016.sale_dollars)`.  The `INNER JOIN` command used the columns `store_numbers` and `store` to merge the tables. Notice that the selection is limited stores values that are not NULL and to the counties of 'Dickinson', 'Polk' and 'Johnson'. The selected variables were grouped by `county`, `store_number` and `store_names`. The results are organized by `county` and then `total_sold` in a descending order. The display is limited to the 3 first rows."
      ],
      "metadata": {
        "id": "9ejSSHzMyelB"
      }
    },
    {
      "cell_type": "code",
      "source": [
        " # Connect to the table in the database\n",
        "connection = psycopg2.connect(user = 'postgres', password = 'postgres', host = 'localhost', database = 'tfio_demo')\n",
        "cursor = connection.cursor()\n",
        "\n",
        "# Create SQL query\n",
        "cursor.execute(\" SELECT sales_2016.county, sales_2016.store_number, sales_2016.store_name, COUNT(sales_2016.sale_dollars) AS qty_sold, \\\n",
        "                 ROUND(AVG(sales_2016.sale_dollars),2) AS avg_sale_price, SUM(sales_2016.sale_dollars) AS total_sold \\\n",
        "                 FROM sales_2016 \\\n",
        "                 INNER JOIN convenience ON sales_2016.store_number = convenience.store \\\n",
        "                 WHERE convenience.store IS NOT NULL AND sales_2016.county IN('Johnson','Dickinson', 'Polk') \\\n",
        "                 GROUP BY sales_2016.county, sales_2016.store_number, sales_2016.store_name \\\n",
        "                 ORDER BY sales_2016.county, total_sold \\\n",
        "                 DESC \\\n",
        "                 LIMIT 3;\")\n",
        "table_contacts = cursor.fetchall()\n",
        "\n",
        "# Turn the results of the query into a dataframe for visualization of the results\n",
        "pd.DataFrame((table_contacts) , columns=[[desc[0] for desc in cursor.description]])"
      ],
      "metadata": {
        "colab": {
          "base_uri": "https://localhost:8080/",
          "height": 0
        },
        "id": "butEhQ39xvxY",
        "outputId": "f054adcd-b960-4bd4-fa08-95863e098c80"
      },
      "execution_count": 48,
      "outputs": [
        {
          "output_type": "execute_result",
          "data": {
            "text/plain": [
              "      county store_number                   store_name qty_sold  \\\n",
              "0  Dickinson         4576               THE BOONEDOCKS      823   \n",
              "1  Dickinson         4582         Pronto / Spirit Lake      634   \n",
              "2  Dickinson         4387  KUM & GO #117 / SPIRIT LAKE      293   \n",
              "\n",
              "  avg_sale_price total_sold  \n",
              "0          92.26   75929.34  \n",
              "1          89.43   56698.15  \n",
              "2          99.13   29045.78  "
            ],
            "text/html": [
              "\n",
              "  <div id=\"df-ec6ee0b3-b49b-4f71-8fc7-37de7188cd02\">\n",
              "    <div class=\"colab-df-container\">\n",
              "      <div>\n",
              "<style scoped>\n",
              "    .dataframe tbody tr th:only-of-type {\n",
              "        vertical-align: middle;\n",
              "    }\n",
              "\n",
              "    .dataframe tbody tr th {\n",
              "        vertical-align: top;\n",
              "    }\n",
              "\n",
              "    .dataframe thead tr th {\n",
              "        text-align: left;\n",
              "    }\n",
              "</style>\n",
              "<table border=\"1\" class=\"dataframe\">\n",
              "  <thead>\n",
              "    <tr>\n",
              "      <th></th>\n",
              "      <th>county</th>\n",
              "      <th>store_number</th>\n",
              "      <th>store_name</th>\n",
              "      <th>qty_sold</th>\n",
              "      <th>avg_sale_price</th>\n",
              "      <th>total_sold</th>\n",
              "    </tr>\n",
              "  </thead>\n",
              "  <tbody>\n",
              "    <tr>\n",
              "      <th>0</th>\n",
              "      <td>Dickinson</td>\n",
              "      <td>4576</td>\n",
              "      <td>THE BOONEDOCKS</td>\n",
              "      <td>823</td>\n",
              "      <td>92.26</td>\n",
              "      <td>75929.34</td>\n",
              "    </tr>\n",
              "    <tr>\n",
              "      <th>1</th>\n",
              "      <td>Dickinson</td>\n",
              "      <td>4582</td>\n",
              "      <td>Pronto / Spirit Lake</td>\n",
              "      <td>634</td>\n",
              "      <td>89.43</td>\n",
              "      <td>56698.15</td>\n",
              "    </tr>\n",
              "    <tr>\n",
              "      <th>2</th>\n",
              "      <td>Dickinson</td>\n",
              "      <td>4387</td>\n",
              "      <td>KUM &amp; GO #117 / SPIRIT LAKE</td>\n",
              "      <td>293</td>\n",
              "      <td>99.13</td>\n",
              "      <td>29045.78</td>\n",
              "    </tr>\n",
              "  </tbody>\n",
              "</table>\n",
              "</div>\n",
              "      <button class=\"colab-df-convert\" onclick=\"convertToInteractive('df-ec6ee0b3-b49b-4f71-8fc7-37de7188cd02')\"\n",
              "              title=\"Convert this dataframe to an interactive table.\"\n",
              "              style=\"display:none;\">\n",
              "        \n",
              "  <svg xmlns=\"http://www.w3.org/2000/svg\" height=\"24px\"viewBox=\"0 0 24 24\"\n",
              "       width=\"24px\">\n",
              "    <path d=\"M0 0h24v24H0V0z\" fill=\"none\"/>\n",
              "    <path d=\"M18.56 5.44l.94 2.06.94-2.06 2.06-.94-2.06-.94-.94-2.06-.94 2.06-2.06.94zm-11 1L8.5 8.5l.94-2.06 2.06-.94-2.06-.94L8.5 2.5l-.94 2.06-2.06.94zm10 10l.94 2.06.94-2.06 2.06-.94-2.06-.94-.94-2.06-.94 2.06-2.06.94z\"/><path d=\"M17.41 7.96l-1.37-1.37c-.4-.4-.92-.59-1.43-.59-.52 0-1.04.2-1.43.59L10.3 9.45l-7.72 7.72c-.78.78-.78 2.05 0 2.83L4 21.41c.39.39.9.59 1.41.59.51 0 1.02-.2 1.41-.59l7.78-7.78 2.81-2.81c.8-.78.8-2.07 0-2.86zM5.41 20L4 18.59l7.72-7.72 1.47 1.35L5.41 20z\"/>\n",
              "  </svg>\n",
              "      </button>\n",
              "      \n",
              "  <style>\n",
              "    .colab-df-container {\n",
              "      display:flex;\n",
              "      flex-wrap:wrap;\n",
              "      gap: 12px;\n",
              "    }\n",
              "\n",
              "    .colab-df-convert {\n",
              "      background-color: #E8F0FE;\n",
              "      border: none;\n",
              "      border-radius: 50%;\n",
              "      cursor: pointer;\n",
              "      display: none;\n",
              "      fill: #1967D2;\n",
              "      height: 32px;\n",
              "      padding: 0 0 0 0;\n",
              "      width: 32px;\n",
              "    }\n",
              "\n",
              "    .colab-df-convert:hover {\n",
              "      background-color: #E2EBFA;\n",
              "      box-shadow: 0px 1px 2px rgba(60, 64, 67, 0.3), 0px 1px 3px 1px rgba(60, 64, 67, 0.15);\n",
              "      fill: #174EA6;\n",
              "    }\n",
              "\n",
              "    [theme=dark] .colab-df-convert {\n",
              "      background-color: #3B4455;\n",
              "      fill: #D2E3FC;\n",
              "    }\n",
              "\n",
              "    [theme=dark] .colab-df-convert:hover {\n",
              "      background-color: #434B5C;\n",
              "      box-shadow: 0px 1px 3px 1px rgba(0, 0, 0, 0.15);\n",
              "      filter: drop-shadow(0px 1px 2px rgba(0, 0, 0, 0.3));\n",
              "      fill: #FFFFFF;\n",
              "    }\n",
              "  </style>\n",
              "\n",
              "      <script>\n",
              "        const buttonEl =\n",
              "          document.querySelector('#df-ec6ee0b3-b49b-4f71-8fc7-37de7188cd02 button.colab-df-convert');\n",
              "        buttonEl.style.display =\n",
              "          google.colab.kernel.accessAllowed ? 'block' : 'none';\n",
              "\n",
              "        async function convertToInteractive(key) {\n",
              "          const element = document.querySelector('#df-ec6ee0b3-b49b-4f71-8fc7-37de7188cd02');\n",
              "          const dataTable =\n",
              "            await google.colab.kernel.invokeFunction('convertToInteractive',\n",
              "                                                     [key], {});\n",
              "          if (!dataTable) return;\n",
              "\n",
              "          const docLinkHtml = 'Like what you see? Visit the ' +\n",
              "            '<a target=\"_blank\" href=https://colab.research.google.com/notebooks/data_table.ipynb>data table notebook</a>'\n",
              "            + ' to learn more about interactive tables.';\n",
              "          element.innerHTML = '';\n",
              "          dataTable['output_type'] = 'display_data';\n",
              "          await google.colab.output.renderOutput(dataTable, element);\n",
              "          const docLink = document.createElement('div');\n",
              "          docLink.innerHTML = docLinkHtml;\n",
              "          element.appendChild(docLink);\n",
              "        }\n",
              "      </script>\n",
              "    </div>\n",
              "  </div>\n",
              "  "
            ]
          },
          "metadata": {},
          "execution_count": 48
        }
      ]
    },
    {
      "cell_type": "markdown",
      "source": [
        "#### 6.4.5) CASE + COALESCE commands"
      ],
      "metadata": {
        "id": "if5ESHdBzuvi"
      }
    },
    {
      "cell_type": "markdown",
      "source": [
        "\n",
        "We begin the query by considering the column store_address. We get the position of the term \"IA\". Then, we consider that if the position 3 string to the right of IA plus 1 position is smaller than '1', then this value should be considered as 'no zip'. Notice that this statement is useful in the case of \"Dehner Distillery\" where no zip code is available. Instead, in this case, we have \"\\n\" following the word IA. Since \"\\n\" is smaller than \"1\", then we have 'no zip' associated with this situation. In other cases, such as when the name is 'Louisiana Spirits LLC', then there is a zip number. This number goes from 3 positions to the right of \"IA\" up until (3 + 5) positions to the right of \"IA\". In usch circumstances, the value extracted is the zip code number. These values are saved in column called zipcode. <br>\n",
        "\n",
        "Other columns are also selected. including `name`, `store_id` and `store_status`. Another piece of information is also extracted from the store_address column by considering the first string up until 1 position to the right of \"IA\". This piece of information corresponds to the street address. `COALESCE` is used to get the first non-null argument. <br>\n",
        "\n",
        "Here we selection is made from the join of the `stores` and `sales` tables. The `LEFT JOIN` command used the column `store`. Notice that the selection is limited to instances with store_status equal to \"A\" and total sales equal to null. The results are organized by `zipcode` in a descending order. The display is limited to the 3 first rows."
      ],
      "metadata": {
        "id": "r0hjvegN-t4G"
      }
    },
    {
      "cell_type": "code",
      "source": [
        " # Connect to the table in the database\n",
        "connection = psycopg2.connect(user = 'postgres', password = 'postgres', host = 'localhost', database = 'tfio_demo')\n",
        "cursor = connection.cursor()\n",
        "\n",
        "# Create SQL query\n",
        "cursor.execute(\" SELECT CASE WHEN SUBSTRING(store_address,(POSITION('IA' in stores.store_address)+3),1) < '1' THEN 'no zip' \\\n",
        "                 ELSE SUBSTRING(store_address,(POSITION('IA' in stores.store_address)+3),5) END AS zipcode, \\\n",
        "                 stores.name, stores.store AS store_id, store_status, \\\n",
        "                 SUBSTRING(store_address,1,(POSITION('IA' in stores.store_address)+1)) AS st_address, \\\n",
        "                 COALESCE(sales.total, 0) AS sales_totals \\\n",
        "                 FROM stores LEFT JOIN sales USING (store) \\\n",
        "                 WHERE store_status = 'A' AND sales.total IS NULL \\\n",
        "                 ORDER BY zipcode \\\n",
        "                 DESC \\\n",
        "                 LIMIT 3;\")\n",
        "table_contacts = cursor.fetchall()\n",
        "\n",
        "# Turn the results of the query into a dataframe for visualization of the results\n",
        "pd.DataFrame((table_contacts) , columns=[[desc[0] for desc in cursor.description]])"
      ],
      "metadata": {
        "colab": {
          "base_uri": "https://localhost:8080/",
          "height": 143
        },
        "id": "0QusmvoLzvh4",
        "outputId": "bd7c6f6a-efe0-4d82-ddce-965e895da4b1"
      },
      "execution_count": 49,
      "outputs": [
        {
          "output_type": "execute_result",
          "data": {
            "text/plain": [
              "  zipcode                   name store_id store_status  \\\n",
              "0  no zip      Dehner Distillery     9919            A   \n",
              "1   70650  Louisiana Spirits LLC     9920            A   \n",
              "2   52804       Sub Xpress & Gas     4526            A   \n",
              "\n",
              "                                     st_address sales_totals  \n",
              "0               7500, University Ave\\nClive, IA            0  \n",
              "1  20909, South I-10 Frontage Rd\\nLacassine, IA            0  \n",
              "2               4307 W Locust St\\nDavenport, IA            0  "
            ],
            "text/html": [
              "\n",
              "  <div id=\"df-e2da3a9e-c967-4110-8fea-ffaa023400ac\">\n",
              "    <div class=\"colab-df-container\">\n",
              "      <div>\n",
              "<style scoped>\n",
              "    .dataframe tbody tr th:only-of-type {\n",
              "        vertical-align: middle;\n",
              "    }\n",
              "\n",
              "    .dataframe tbody tr th {\n",
              "        vertical-align: top;\n",
              "    }\n",
              "\n",
              "    .dataframe thead tr th {\n",
              "        text-align: left;\n",
              "    }\n",
              "</style>\n",
              "<table border=\"1\" class=\"dataframe\">\n",
              "  <thead>\n",
              "    <tr>\n",
              "      <th></th>\n",
              "      <th>zipcode</th>\n",
              "      <th>name</th>\n",
              "      <th>store_id</th>\n",
              "      <th>store_status</th>\n",
              "      <th>st_address</th>\n",
              "      <th>sales_totals</th>\n",
              "    </tr>\n",
              "  </thead>\n",
              "  <tbody>\n",
              "    <tr>\n",
              "      <th>0</th>\n",
              "      <td>no zip</td>\n",
              "      <td>Dehner Distillery</td>\n",
              "      <td>9919</td>\n",
              "      <td>A</td>\n",
              "      <td>7500, University Ave\\nClive, IA</td>\n",
              "      <td>0</td>\n",
              "    </tr>\n",
              "    <tr>\n",
              "      <th>1</th>\n",
              "      <td>70650</td>\n",
              "      <td>Louisiana Spirits LLC</td>\n",
              "      <td>9920</td>\n",
              "      <td>A</td>\n",
              "      <td>20909, South I-10 Frontage Rd\\nLacassine, IA</td>\n",
              "      <td>0</td>\n",
              "    </tr>\n",
              "    <tr>\n",
              "      <th>2</th>\n",
              "      <td>52804</td>\n",
              "      <td>Sub Xpress &amp; Gas</td>\n",
              "      <td>4526</td>\n",
              "      <td>A</td>\n",
              "      <td>4307 W Locust St\\nDavenport, IA</td>\n",
              "      <td>0</td>\n",
              "    </tr>\n",
              "  </tbody>\n",
              "</table>\n",
              "</div>\n",
              "      <button class=\"colab-df-convert\" onclick=\"convertToInteractive('df-e2da3a9e-c967-4110-8fea-ffaa023400ac')\"\n",
              "              title=\"Convert this dataframe to an interactive table.\"\n",
              "              style=\"display:none;\">\n",
              "        \n",
              "  <svg xmlns=\"http://www.w3.org/2000/svg\" height=\"24px\"viewBox=\"0 0 24 24\"\n",
              "       width=\"24px\">\n",
              "    <path d=\"M0 0h24v24H0V0z\" fill=\"none\"/>\n",
              "    <path d=\"M18.56 5.44l.94 2.06.94-2.06 2.06-.94-2.06-.94-.94-2.06-.94 2.06-2.06.94zm-11 1L8.5 8.5l.94-2.06 2.06-.94-2.06-.94L8.5 2.5l-.94 2.06-2.06.94zm10 10l.94 2.06.94-2.06 2.06-.94-2.06-.94-.94-2.06-.94 2.06-2.06.94z\"/><path d=\"M17.41 7.96l-1.37-1.37c-.4-.4-.92-.59-1.43-.59-.52 0-1.04.2-1.43.59L10.3 9.45l-7.72 7.72c-.78.78-.78 2.05 0 2.83L4 21.41c.39.39.9.59 1.41.59.51 0 1.02-.2 1.41-.59l7.78-7.78 2.81-2.81c.8-.78.8-2.07 0-2.86zM5.41 20L4 18.59l7.72-7.72 1.47 1.35L5.41 20z\"/>\n",
              "  </svg>\n",
              "      </button>\n",
              "      \n",
              "  <style>\n",
              "    .colab-df-container {\n",
              "      display:flex;\n",
              "      flex-wrap:wrap;\n",
              "      gap: 12px;\n",
              "    }\n",
              "\n",
              "    .colab-df-convert {\n",
              "      background-color: #E8F0FE;\n",
              "      border: none;\n",
              "      border-radius: 50%;\n",
              "      cursor: pointer;\n",
              "      display: none;\n",
              "      fill: #1967D2;\n",
              "      height: 32px;\n",
              "      padding: 0 0 0 0;\n",
              "      width: 32px;\n",
              "    }\n",
              "\n",
              "    .colab-df-convert:hover {\n",
              "      background-color: #E2EBFA;\n",
              "      box-shadow: 0px 1px 2px rgba(60, 64, 67, 0.3), 0px 1px 3px 1px rgba(60, 64, 67, 0.15);\n",
              "      fill: #174EA6;\n",
              "    }\n",
              "\n",
              "    [theme=dark] .colab-df-convert {\n",
              "      background-color: #3B4455;\n",
              "      fill: #D2E3FC;\n",
              "    }\n",
              "\n",
              "    [theme=dark] .colab-df-convert:hover {\n",
              "      background-color: #434B5C;\n",
              "      box-shadow: 0px 1px 3px 1px rgba(0, 0, 0, 0.15);\n",
              "      filter: drop-shadow(0px 1px 2px rgba(0, 0, 0, 0.3));\n",
              "      fill: #FFFFFF;\n",
              "    }\n",
              "  </style>\n",
              "\n",
              "      <script>\n",
              "        const buttonEl =\n",
              "          document.querySelector('#df-e2da3a9e-c967-4110-8fea-ffaa023400ac button.colab-df-convert');\n",
              "        buttonEl.style.display =\n",
              "          google.colab.kernel.accessAllowed ? 'block' : 'none';\n",
              "\n",
              "        async function convertToInteractive(key) {\n",
              "          const element = document.querySelector('#df-e2da3a9e-c967-4110-8fea-ffaa023400ac');\n",
              "          const dataTable =\n",
              "            await google.colab.kernel.invokeFunction('convertToInteractive',\n",
              "                                                     [key], {});\n",
              "          if (!dataTable) return;\n",
              "\n",
              "          const docLinkHtml = 'Like what you see? Visit the ' +\n",
              "            '<a target=\"_blank\" href=https://colab.research.google.com/notebooks/data_table.ipynb>data table notebook</a>'\n",
              "            + ' to learn more about interactive tables.';\n",
              "          element.innerHTML = '';\n",
              "          dataTable['output_type'] = 'display_data';\n",
              "          await google.colab.output.renderOutput(dataTable, element);\n",
              "          const docLink = document.createElement('div');\n",
              "          docLink.innerHTML = docLinkHtml;\n",
              "          element.appendChild(docLink);\n",
              "        }\n",
              "      </script>\n",
              "    </div>\n",
              "  </div>\n",
              "  "
            ]
          },
          "metadata": {},
          "execution_count": 49
        }
      ]
    },
    {
      "cell_type": "markdown",
      "source": [
        "The following is the sytax for using CASE: \n",
        "\n",
        "> **CASE** <br>\n",
        "> &emsp; **WHEN** *(condition_1)*  **THEN** *(result_1)* <br>\n",
        "> &emsp; **WHEN** *(condition_2)*  **THEN** *(result_2)* <br>\n",
        "> &emsp; [**WHEN** ...] <br>\n",
        "> &emsp; [**ELSE** else_result] <br>\n",
        "> **END**"
      ],
      "metadata": {
        "id": "cjdQd7Zo9rDn"
      }
    },
    {
      "cell_type": "markdown",
      "source": [
        "#### 6.4.6) Summary"
      ],
      "metadata": {
        "id": "wYqRhQTCCufc"
      }
    },
    {
      "cell_type": "markdown",
      "source": [
        "The following summary is provided in the second article that was referenced in part 1:\n",
        "- `INNER JOIN` is the most common joining type, and is the default assumed, if you only include the command word `JOIN` in your query.\n",
        "- `ON` is the phrase to specify the matching unique identifier in both tables.\n",
        "- If the matching key columns in both tables have exactly matching names USING(column_name) may be used instead of the `ON` command structure.\n",
        "- When combining tables, the column or field names must include a way for SQL to correctly identify their source table. This is accomplished by providing the full table name or assigning an alias.\n",
        "- Appropriate use of `WHERE` clause filters can enable queries to narrow the focus of the inquiry and search rapidly through very large datasets quickly containing millions of records.\n",
        "- As shown in the final query, there are many tools for manipulating text fields and including specific parts in your reports as you answer stakeholder’s questions. Some of these essential tools are `SUBSTRING`, `POSITION`, `COALESCE` and `CASE` statements, which are all coming in the next sections."
      ],
      "metadata": {
        "id": "1cG7TtDVCxZF"
      }
    }
  ]
}