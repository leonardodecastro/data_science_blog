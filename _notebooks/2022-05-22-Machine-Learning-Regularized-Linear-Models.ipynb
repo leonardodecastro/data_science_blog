{
  "cells": [
    {
      "cell_type": "markdown",
      "metadata": {
        "id": "c8d83a96"
      },
      "source": [
        "# Linear Models (Regularization)\n",
        "\n",
        "> Multiple Linear Regression (OLS), Lasso Regression, Ridge Regression, Elastic Net Model, SGD Regressor and Regularization\n",
        "\n",
        "\n",
        "- toc: true \n",
        "- badges: true\n",
        "- comments: true\n",
        "- categories: [OLS, Multiple Linear Regression, Lasso Regression, Ridge Regression, Elastic Net Model, SGD Regressor, regularization]\n",
        "- image: images/regularized_linear_models.png"
      ],
      "id": "c8d83a96"
    },
    {
      "cell_type": "markdown",
      "metadata": {
        "id": "xcmBEx_1tE1H"
      },
      "source": [
        " ## 1) Aknowledge the sources used for this tutorial"
      ],
      "id": "xcmBEx_1tE1H"
    },
    {
      "cell_type": "markdown",
      "metadata": {
        "id": "RpWu_k8-tKN3"
      },
      "source": [
        "The dataset source for this tutorial: https://www.kaggle.com/code/deepakdodi/lasso-and-ridge-hypertuning-over-gapminder-dataset/data"
      ],
      "id": "RpWu_k8-tKN3"
    },
    {
      "cell_type": "markdown",
      "source": [
        "**This dataset considers different features (i.e population, fertility, HIV, CO2,  child mortality & Female/Male BMI ) to predict life expectancy.**"
      ],
      "metadata": {
        "id": "7xlhvOb4MTIB"
      },
      "id": "7xlhvOb4MTIB"
    },
    {
      "cell_type": "markdown",
      "metadata": {
        "id": "f685eb37"
      },
      "source": [
        "## 2) Import libraries "
      ],
      "id": "f685eb37"
    },
    {
      "cell_type": "markdown",
      "metadata": {
        "id": "ETBEwDBMuIGs"
      },
      "source": [
        "### 2.1) Import libraries"
      ],
      "id": "ETBEwDBMuIGs"
    },
    {
      "cell_type": "code",
      "execution_count": null,
      "metadata": {
        "id": "0n3-sMILiWXm"
      },
      "outputs": [],
      "source": [
        "import numpy as np\n",
        "import pandas as pd\n",
        "import seaborn as sns\n",
        "import matplotlib.pyplot as plt\n",
        "from warnings import simplefilter\n",
        "from sklearn.preprocessing import StandardScaler\n",
        "from sklearn.exceptions import ConvergenceWarning\n",
        "from sklearn.preprocessing import PolynomialFeatures\n",
        "from sklearn.metrics import r2_score, mean_squared_error\n",
        "from sklearn.model_selection import RepeatedKFold, train_test_split, GridSearchCV\n",
        "from sklearn.linear_model import LinearRegression, LassoCV, RidgeCV, ElasticNetCV, SGDRegressor\n",
        "\n",
        "# Ignore the convergence warning when using the SGDRegressor (Internet research suggests ignoring this warning is not an issue for this algorithm)\n",
        "simplefilter(\"ignore\", category=ConvergenceWarning)"
      ],
      "id": "0n3-sMILiWXm"
    },
    {
      "cell_type": "markdown",
      "metadata": {
        "id": "_h-qms5ni_DX"
      },
      "source": [
        "## 3) Create dataset for the analysis"
      ],
      "id": "_h-qms5ni_DX"
    },
    {
      "cell_type": "markdown",
      "metadata": {
        "id": "5zAlhW3ejA-e"
      },
      "source": [
        "- We will create a dataset to exemplify the use of regularization. We will do so by using enriching a real dataset with polynomial features.\n",
        "- We seek to simulate real-life datasets that often contain correlated features, which might lead multiple regression models to overfit. \n",
        "- Regularization can help deal with the overfitting issue by performing feature selection which reduces variance but introduces bias. "
      ],
      "id": "5zAlhW3ejA-e"
    },
    {
      "cell_type": "markdown",
      "metadata": {
        "id": "D3elU8b1mF5f"
      },
      "source": [
        "### 3.1) Import dataset and incorporate polynomial features"
      ],
      "id": "D3elU8b1mF5f"
    },
    {
      "cell_type": "code",
      "execution_count": null,
      "metadata": {
        "id": "ydcwV4MnsDeG"
      },
      "outputs": [],
      "source": [
        "# Step 1: Import dataset\n",
        "data = pd.read_csv('https://raw.githubusercontent.com/leonardodecastro/data/main/gapminder.csv').drop('Region', axis=1)\n",
        "\n",
        "# Step 2: Split into dependent and independent features\n",
        "X = data.drop(['life'], axis = 1)\n",
        "y = data['life'].to_list()\n",
        "\n",
        "# Step 3: Get the names of the independent variables for later use\n",
        "column_names_list = X.columns.tolist()\n",
        "\n",
        "# Step 4: Add polynomial features\n",
        "poly = PolynomialFeatures(degree = 2, interaction_only=True)\n",
        "X = poly.fit_transform(X)\n",
        "\n",
        "# Step 5: Create a new dataframe with the polynomial features\n",
        "new_names_columns_list = column_names_list + ['Poli.' + str(i) for i in range(1, X.shape[1]- len(column_names_list) + 1)]\n",
        "data_2 = pd.DataFrame(X, columns= new_names_columns_list)\n",
        "\n",
        "# Step 6: Add dependent variables to the new dataframe\n",
        "data_2['life'] = y"
      ],
      "id": "ydcwV4MnsDeG"
    },
    {
      "cell_type": "markdown",
      "metadata": {
        "id": "ISBWQJk2spCA"
      },
      "source": [
        "### 3.2) Split the datasets"
      ],
      "id": "ISBWQJk2spCA"
    },
    {
      "cell_type": "code",
      "execution_count": null,
      "metadata": {
        "id": "o2cOOcEvsDbp"
      },
      "outputs": [],
      "source": [
        "train, test = train_test_split(data_2, test_size=0.2, random_state = 8)"
      ],
      "id": "o2cOOcEvsDbp"
    },
    {
      "cell_type": "markdown",
      "metadata": {
        "id": "CeWRWYSstyb-"
      },
      "source": [
        "### 3.3) Scale the datasets"
      ],
      "id": "CeWRWYSstyb-"
    },
    {
      "cell_type": "code",
      "execution_count": null,
      "metadata": {
        "id": "J50iOhZXsDY3"
      },
      "outputs": [],
      "source": [
        "# Step 1: Create a variable for the scaler\n",
        "scaler = StandardScaler()\n",
        "\n",
        "# Step 2: Apply fit_transform on the training set and apply the transformation to the test set\n",
        "train_scaled = scaler.fit_transform(train)\n",
        "test_scaled = scaler.transform(test)\n",
        "\n",
        "# Step 3: Split dependent and independent variables\n",
        "X_train  = train_scaled[ : , : -1]\n",
        "y_train = train_scaled[ : , -1:]\n",
        "\n",
        "X_test = test_scaled[ : , : -1]\n",
        "y_test = test_scaled[ : , -1:]"
      ],
      "id": "J50iOhZXsDY3"
    },
    {
      "cell_type": "markdown",
      "metadata": {
        "id": "E55ky_PxudvW"
      },
      "source": [
        "## 4) Run Different Linear Models"
      ],
      "id": "E55ky_PxudvW"
    },
    {
      "cell_type": "markdown",
      "metadata": {
        "id": "X-sA-iGQz0IG"
      },
      "source": [
        "### 4.1) Train the Linear Regression Model"
      ],
      "id": "X-sA-iGQz0IG"
    },
    {
      "cell_type": "code",
      "execution_count": null,
      "metadata": {
        "id": "KUNDpDrCz4ku"
      },
      "outputs": [],
      "source": [
        "model_1 = LinearRegression()\n",
        "model_1.fit(X_train, y_train)"
      ],
      "id": "KUNDpDrCz4ku"
    },
    {
      "cell_type": "markdown",
      "metadata": {
        "id": "p7oF1Gjh1EKG"
      },
      "source": [
        "### 4.2) Tune the Lasso Regression Model"
      ],
      "id": "p7oF1Gjh1EKG"
    },
    {
      "cell_type": "code",
      "execution_count": 12,
      "metadata": {
        "colab": {
          "base_uri": "https://localhost:8080/"
        },
        "id": "bBLd1lAF1RMe",
        "outputId": "8ef3b395-8966-417e-a684-67391c0ef0c8"
      },
      "outputs": [
        {
          "output_type": "stream",
          "name": "stdout",
          "text": [
            "The optimal alpha value: 0.029\n"
          ]
        }
      ],
      "source": [
        "# Create a cross-validation object\n",
        "cv=RepeatedKFold(n_splits=7, n_repeats=3, random_state=1)\n",
        "\n",
        "# Run gridsearch with crossvalidation for lasso regression\n",
        "model_2 = LassoCV(alphas=np.logspace(-8, 8, 100), cv=cv, fit_intercept = False, tol=0.1)\n",
        "model_2.fit(X_train, y_train.ravel())\n",
        "\n",
        "# Extract the optimal value of alpha\n",
        "optimal_alpha_lasso = model_2.alpha_\n",
        "print('The optimal alpha value:',round(optimal_alpha_lasso,3))"
      ],
      "id": "bBLd1lAF1RMe"
    },
    {
      "cell_type": "markdown",
      "metadata": {
        "id": "B9CQXFJA1NXG"
      },
      "source": [
        "### 4.3) Tune the Ridge Regression Model"
      ],
      "id": "B9CQXFJA1NXG"
    },
    {
      "cell_type": "code",
      "execution_count": 13,
      "metadata": {
        "colab": {
          "base_uri": "https://localhost:8080/"
        },
        "id": "xr6mk6rD1Tj9",
        "outputId": "bdb8e4d9-2862-4ce3-e62d-282777ea525b"
      },
      "outputs": [
        {
          "output_type": "stream",
          "name": "stdout",
          "text": [
            "The optimal alpha value: 72.208\n"
          ]
        }
      ],
      "source": [
        "# Create a cross-validation object\n",
        "cv=RepeatedKFold(n_splits=7, n_repeats=3, random_state=1)\n",
        "\n",
        "# Run gridsearch with crossvalidation for lasso regression\n",
        "model_3 = RidgeCV(alphas=np.logspace(-8, 8, 100), cv=cv, fit_intercept = False)\n",
        "model_3.fit(X_train, y_train.ravel())\n",
        "\n",
        "# Extract the optimal value of alpha\n",
        "optimal_alpha_ridge = model_3.alpha_\n",
        "print('The optimal alpha value:', round(optimal_alpha_ridge,3))"
      ],
      "id": "xr6mk6rD1Tj9"
    },
    {
      "cell_type": "markdown",
      "metadata": {
        "id": "nkB7iWtD74l8"
      },
      "source": [
        "### 4.4) Tune the Elastic Net Model"
      ],
      "id": "nkB7iWtD74l8"
    },
    {
      "cell_type": "code",
      "execution_count": null,
      "metadata": {
        "colab": {
          "base_uri": "https://localhost:8080/"
        },
        "id": "MRyr7kcx75od",
        "outputId": "a7fbad7a-71f8-4c22-c7c8-a4407c0d5d39"
      },
      "outputs": [
        {
          "output_type": "stream",
          "name": "stdout",
          "text": [
            "The optimal l1_ratio value: 0.129 \n",
            "\n",
            "The optimal alpha value: 0.187\n"
          ]
        }
      ],
      "source": [
        "# Create a cross-validation object\n",
        "cv=RepeatedKFold(n_splits=7, n_repeats=3, random_state=1)\n",
        "\n",
        "# Run gridsearch with crossvalidation for lasso regression\n",
        "model_4 = ElasticNetCV(max_iter=100000, l1_ratio=np.logspace(-8, 8, 100),alphas=np.logspace(-8, 8, 100), cv=cv, fit_intercept = False, tol=0.1)\n",
        "model_4.fit(X_train, y_train.ravel())\n",
        "\n",
        "# Extract the optimal value of alpha and l1 ratio\n",
        "l1_ratio = model_4.l1_ratio_\n",
        "alpha = model_4.alpha_\n",
        "print('The optimal l1_ratio value:', round(l1_ratio,3), '\\n')\n",
        "print('The optimal alpha value:', round(alpha,3))"
      ],
      "id": "MRyr7kcx75od"
    },
    {
      "cell_type": "markdown",
      "source": [
        "### 4.5) Tune the SGD Regressor"
      ],
      "metadata": {
        "id": "DRcxxUGoOmzC"
      },
      "id": "DRcxxUGoOmzC"
    },
    {
      "cell_type": "markdown",
      "source": [
        "Let's tune the Stochastic Gradient Descent Regressor. This model is often useful for very large datasets. "
      ],
      "metadata": {
        "id": "h-hJ8BhKOwCk"
      },
      "id": "h-hJ8BhKOwCk"
    },
    {
      "cell_type": "code",
      "execution_count": null,
      "metadata": {
        "colab": {
          "base_uri": "https://localhost:8080/"
        },
        "id": "g7yE1WBzBUqG",
        "outputId": "88cced6b-59b8-4ecf-93a7-381b2e53bffb"
      },
      "outputs": [
        {
          "output_type": "stream",
          "name": "stdout",
          "text": [
            "Optimal Hyperparameters:  {'alpha': 0.004534878508128591, 'learning_rate': 'constant', 'loss': 'huber', 'penalty': 'l1', 'random_state': 42, 'tol': 0.1}\n"
          ]
        }
      ],
      "source": [
        "# Create a cross-validation object\n",
        "cv=RepeatedKFold(n_splits=7, n_repeats=3, random_state=1)\n",
        "\n",
        "# Grid search - this will take about 1 minute.\n",
        "param_grid = { 'alpha': np.logspace(-8, 8, 100), 'loss': ['squared_error', 'huber', 'epsilon_insensitive'], 'tol': [0.1],\n",
        "              'penalty': ['l2', 'l1', 'elasticnet'], 'learning_rate': ['constant', 'optimal', 'invscaling'], 'random_state': [42]}\n",
        "\n",
        "# Run gridsearch with crossvalidation for lasso regression\n",
        "model_5 = GridSearchCV(SGDRegressor(), param_grid, cv = cv, verbose = 0)\n",
        "model_5.fit(X_train, y_train.ravel())\n",
        "print('Optimal Hyperparameters: ',model_5.best_params_)"
      ],
      "id": "g7yE1WBzBUqG"
    },
    {
      "cell_type": "markdown",
      "metadata": {
        "id": "svxmkElaz6xY"
      },
      "source": [
        "## 5) Compare model metrics"
      ],
      "id": "svxmkElaz6xY"
    },
    {
      "cell_type": "markdown",
      "source": [
        "### 5.1) Create a dataframe with model metrics"
      ],
      "metadata": {
        "id": "klj0Ug3W6Us9"
      },
      "id": "klj0Ug3W6Us9"
    },
    {
      "cell_type": "code",
      "source": [
        "# Step 1: Create lists and dictionaries for later use\n",
        "metrics_dict = {}\n",
        "model_names_list = ['OLS','LASSO','RIDGE','ElasticNet','SGD']\n",
        "model_list = [model_1, model_2, model_3, model_4, model_5]\n",
        "\n",
        "# Step 2: Extract model metrics for each model\n",
        "for i in range(0,len(model_list)):\n",
        "\n",
        "  # Select the trained model\n",
        "  model = model_list[i]\n",
        "\n",
        "  # Determine the number of coefficients that were not zero\n",
        "  if model != model_5:\n",
        "    number_of_non_zero_coef = len( abs(model.coef_) [ abs(model.coef_) > 0 ])\n",
        "  else:\n",
        "    number_of_non_zero_coef = len( abs(model.best_estimator_.coef_) [ abs(model.best_estimator_.coef_) > 0 ])\n",
        "\n",
        "  # Store metrics and the number of coefficients that were not zero in a dictionary\n",
        "  metrics_dict[model_names_list[i]] = {'train_r_squared': r2_score(y_train, model.predict(X_train)),\n",
        "                                       'test_r_squared': r2_score(y_test, model.predict(X_test)),\n",
        "                                       'train_mse': mean_squared_error(y_train, model.predict(X_train)), \n",
        "                                       'test_mse': mean_squared_error(y_test, model.predict(X_test)),\n",
        "                                       'number_of_non_zero_coef': number_of_non_zero_coef}\n",
        "\n",
        "# Step 3: Create a dataframe with model metrics\n",
        "metrics_df = pd.DataFrame.from_dict(metrics_dict, orient='index').rename_axis('Model').reset_index()\n",
        "metrics_df.round(3)"
      ],
      "metadata": {
        "colab": {
          "base_uri": "https://localhost:8080/"
        },
        "id": "TgF962juApDk",
        "outputId": "b47e9c99-30a3-4d03-a43d-69fa6a55d944"
      },
      "id": "TgF962juApDk",
      "execution_count": null,
      "outputs": [
        {
          "output_type": "execute_result",
          "data": {
            "text/plain": [
              "        Model  train_r_squared  test_r_squared  train_mse  test_mse  \\\n",
              "0         OLS            0.937           0.711      0.063     0.411   \n",
              "1       LASSO            0.880           0.848      0.120     0.216   \n",
              "2       RIDGE            0.888           0.889      0.112     0.159   \n",
              "3  ElasticNet            0.892           0.887      0.108     0.162   \n",
              "4         SGD            0.880           0.894      0.120     0.150   \n",
              "\n",
              "   number_of_non_zero_coef  \n",
              "0                       37  \n",
              "1                       15  \n",
              "2                       36  \n",
              "3                       18  \n",
              "4                       27  "
            ],
            "text/html": [
              "\n",
              "  <div id=\"df-07d4635b-2e02-4229-97ce-05e9bbabbbb2\">\n",
              "    <div class=\"colab-df-container\">\n",
              "      <div>\n",
              "<style scoped>\n",
              "    .dataframe tbody tr th:only-of-type {\n",
              "        vertical-align: middle;\n",
              "    }\n",
              "\n",
              "    .dataframe tbody tr th {\n",
              "        vertical-align: top;\n",
              "    }\n",
              "\n",
              "    .dataframe thead th {\n",
              "        text-align: right;\n",
              "    }\n",
              "</style>\n",
              "<table border=\"1\" class=\"dataframe\">\n",
              "  <thead>\n",
              "    <tr style=\"text-align: right;\">\n",
              "      <th></th>\n",
              "      <th>Model</th>\n",
              "      <th>train_r_squared</th>\n",
              "      <th>test_r_squared</th>\n",
              "      <th>train_mse</th>\n",
              "      <th>test_mse</th>\n",
              "      <th>number_of_non_zero_coef</th>\n",
              "    </tr>\n",
              "  </thead>\n",
              "  <tbody>\n",
              "    <tr>\n",
              "      <th>0</th>\n",
              "      <td>OLS</td>\n",
              "      <td>0.937</td>\n",
              "      <td>0.711</td>\n",
              "      <td>0.063</td>\n",
              "      <td>0.411</td>\n",
              "      <td>37</td>\n",
              "    </tr>\n",
              "    <tr>\n",
              "      <th>1</th>\n",
              "      <td>LASSO</td>\n",
              "      <td>0.880</td>\n",
              "      <td>0.848</td>\n",
              "      <td>0.120</td>\n",
              "      <td>0.216</td>\n",
              "      <td>15</td>\n",
              "    </tr>\n",
              "    <tr>\n",
              "      <th>2</th>\n",
              "      <td>RIDGE</td>\n",
              "      <td>0.888</td>\n",
              "      <td>0.889</td>\n",
              "      <td>0.112</td>\n",
              "      <td>0.159</td>\n",
              "      <td>36</td>\n",
              "    </tr>\n",
              "    <tr>\n",
              "      <th>3</th>\n",
              "      <td>ElasticNet</td>\n",
              "      <td>0.892</td>\n",
              "      <td>0.887</td>\n",
              "      <td>0.108</td>\n",
              "      <td>0.162</td>\n",
              "      <td>18</td>\n",
              "    </tr>\n",
              "    <tr>\n",
              "      <th>4</th>\n",
              "      <td>SGD</td>\n",
              "      <td>0.880</td>\n",
              "      <td>0.894</td>\n",
              "      <td>0.120</td>\n",
              "      <td>0.150</td>\n",
              "      <td>27</td>\n",
              "    </tr>\n",
              "  </tbody>\n",
              "</table>\n",
              "</div>\n",
              "      <button class=\"colab-df-convert\" onclick=\"convertToInteractive('df-07d4635b-2e02-4229-97ce-05e9bbabbbb2')\"\n",
              "              title=\"Convert this dataframe to an interactive table.\"\n",
              "              style=\"display:none;\">\n",
              "        \n",
              "  <svg xmlns=\"http://www.w3.org/2000/svg\" height=\"24px\"viewBox=\"0 0 24 24\"\n",
              "       width=\"24px\">\n",
              "    <path d=\"M0 0h24v24H0V0z\" fill=\"none\"/>\n",
              "    <path d=\"M18.56 5.44l.94 2.06.94-2.06 2.06-.94-2.06-.94-.94-2.06-.94 2.06-2.06.94zm-11 1L8.5 8.5l.94-2.06 2.06-.94-2.06-.94L8.5 2.5l-.94 2.06-2.06.94zm10 10l.94 2.06.94-2.06 2.06-.94-2.06-.94-.94-2.06-.94 2.06-2.06.94z\"/><path d=\"M17.41 7.96l-1.37-1.37c-.4-.4-.92-.59-1.43-.59-.52 0-1.04.2-1.43.59L10.3 9.45l-7.72 7.72c-.78.78-.78 2.05 0 2.83L4 21.41c.39.39.9.59 1.41.59.51 0 1.02-.2 1.41-.59l7.78-7.78 2.81-2.81c.8-.78.8-2.07 0-2.86zM5.41 20L4 18.59l7.72-7.72 1.47 1.35L5.41 20z\"/>\n",
              "  </svg>\n",
              "      </button>\n",
              "      \n",
              "  <style>\n",
              "    .colab-df-container {\n",
              "      display:flex;\n",
              "      flex-wrap:wrap;\n",
              "      gap: 12px;\n",
              "    }\n",
              "\n",
              "    .colab-df-convert {\n",
              "      background-color: #E8F0FE;\n",
              "      border: none;\n",
              "      border-radius: 50%;\n",
              "      cursor: pointer;\n",
              "      display: none;\n",
              "      fill: #1967D2;\n",
              "      height: 32px;\n",
              "      padding: 0 0 0 0;\n",
              "      width: 32px;\n",
              "    }\n",
              "\n",
              "    .colab-df-convert:hover {\n",
              "      background-color: #E2EBFA;\n",
              "      box-shadow: 0px 1px 2px rgba(60, 64, 67, 0.3), 0px 1px 3px 1px rgba(60, 64, 67, 0.15);\n",
              "      fill: #174EA6;\n",
              "    }\n",
              "\n",
              "    [theme=dark] .colab-df-convert {\n",
              "      background-color: #3B4455;\n",
              "      fill: #D2E3FC;\n",
              "    }\n",
              "\n",
              "    [theme=dark] .colab-df-convert:hover {\n",
              "      background-color: #434B5C;\n",
              "      box-shadow: 0px 1px 3px 1px rgba(0, 0, 0, 0.15);\n",
              "      filter: drop-shadow(0px 1px 2px rgba(0, 0, 0, 0.3));\n",
              "      fill: #FFFFFF;\n",
              "    }\n",
              "  </style>\n",
              "\n",
              "      <script>\n",
              "        const buttonEl =\n",
              "          document.querySelector('#df-07d4635b-2e02-4229-97ce-05e9bbabbbb2 button.colab-df-convert');\n",
              "        buttonEl.style.display =\n",
              "          google.colab.kernel.accessAllowed ? 'block' : 'none';\n",
              "\n",
              "        async function convertToInteractive(key) {\n",
              "          const element = document.querySelector('#df-07d4635b-2e02-4229-97ce-05e9bbabbbb2');\n",
              "          const dataTable =\n",
              "            await google.colab.kernel.invokeFunction('convertToInteractive',\n",
              "                                                     [key], {});\n",
              "          if (!dataTable) return;\n",
              "\n",
              "          const docLinkHtml = 'Like what you see? Visit the ' +\n",
              "            '<a target=\"_blank\" href=https://colab.research.google.com/notebooks/data_table.ipynb>data table notebook</a>'\n",
              "            + ' to learn more about interactive tables.';\n",
              "          element.innerHTML = '';\n",
              "          dataTable['output_type'] = 'display_data';\n",
              "          await google.colab.output.renderOutput(dataTable, element);\n",
              "          const docLink = document.createElement('div');\n",
              "          docLink.innerHTML = docLinkHtml;\n",
              "          element.appendChild(docLink);\n",
              "        }\n",
              "      </script>\n",
              "    </div>\n",
              "  </div>\n",
              "  "
            ]
          },
          "metadata": {},
          "execution_count": 10
        }
      ]
    },
    {
      "cell_type": "markdown",
      "source": [
        "### 5.2) Visualize model metrics results"
      ],
      "metadata": {
        "id": "HWQ7eLuG6oAa"
      },
      "id": "HWQ7eLuG6oAa"
    },
    {
      "cell_type": "code",
      "source": [
        "# Step 1: Create a smaller dataframe with model metrics\n",
        "r_squared_df = pd.melt(metrics_df[['Model','train_r_squared', 'test_r_squared']], id_vars=['Model'], var_name='Dataset', value_name='R-Squared')\n",
        "r_squared_df['Dataset'] = r_squared_df['Dataset'].map({'train_r_squared': 'Train', 'test_r_squared': 'Test'})\n",
        "\n",
        "# Step 2: Create a dataframe with nonzero coefficients\n",
        "mse_df = pd.melt(metrics_df[['Model','train_mse', 'test_mse']], id_vars=['Model'], var_name='Dataset', value_name='MSE')\n",
        "mse_df['Dataset'] = mse_df['Dataset'].map({'train_mse': 'Train', 'test_mse': 'Test'})\n",
        "\n",
        "# Step 3: Create a dataframe with nonzero coefficients\n",
        "coef_df = metrics_df[['Model','number_of_non_zero_coef']]\n",
        "\n",
        "# Step 4: Set seaborn plotting aesthetics\n",
        "sns.set(style='white')\n",
        "fig, axes = plt.subplots(1, 3, sharex=True, figsize=(20,5))\n",
        "\n",
        "# Step 5: Create visualization 1\n",
        "sns.barplot(x='Model', y='R-Squared', hue='Dataset', data = r_squared_df, ax= axes[0]).set_title('Overfitting Inspection', size = 14, weight='bold')\n",
        "axes[0].legend(loc='upper center', bbox_to_anchor=(1.1, -0.1),fancybox=True, shadow=True, ncol=5)\n",
        "axes[0].set_xlabel('Model', weight='bold', fontsize = 13)\n",
        "axes[0].set_ylabel('R-Squared', weight='bold', fontsize = 13)\n",
        "axes[0].tick_params(axis='both', which='major', labelsize=12)\n",
        "\n",
        "# Step 6: Create visualization 2\n",
        "sns.barplot(x='Model', y='MSE', hue='Dataset', data = mse_df, ax= axes[1]).set_title('Mean Squared Error', size = 14, weight='bold')\n",
        "axes[1].legend('')\n",
        "axes[1].set_xlabel('Model', weight='bold', fontsize = 13)\n",
        "axes[1].set_ylabel('MSE', weight='bold', fontsize = 13)\n",
        "axes[1].tick_params(axis='both', which='major', labelsize=12)\n",
        "\n",
        "# Step 7: Create visualization 3\n",
        "norm = plt.Normalize(coef_df['number_of_non_zero_coef'].min(), coef_df['number_of_non_zero_coef'].max())\n",
        "cmap = plt.get_cmap(\"autumn_r\")\n",
        "\n",
        "axes[2].bar(x=\"Model\", height=\"number_of_non_zero_coef\", data=coef_df, color=cmap(norm(coef_df['number_of_non_zero_coef'].values)))\n",
        "axes[2].tick_params(axis='both', which='major', labelsize=12)\n",
        "axes[2].set_title('Number of Nonzero Coefficients', fontweight = 'bold',fontsize = 14)\n",
        "axes[2].set_xlabel('Model', weight='bold', fontsize = 13)\n",
        "axes[2].set_ylabel('Number of Coefficients', weight='bold', fontsize = 13)\n",
        "\n",
        "plt.show()"
      ],
      "metadata": {
        "colab": {
          "base_uri": "https://localhost:8080/",
          "height": 371
        },
        "id": "t6uUabcuAtSb",
        "outputId": "96e6687c-c910-4730-a306-6e6149a4ad40"
      },
      "id": "t6uUabcuAtSb",
      "execution_count": null,
      "outputs": [
        {
          "output_type": "display_data",
          "data": {
            "text/plain": [
              "<Figure size 1440x360 with 3 Axes>"
            ],
            "image/png": "[encoded data removed]"
          },
          "metadata": {}
        }
      ]
    },
    {
      "cell_type": "markdown",
      "metadata": {
        "id": "H7xNm59nvC-q"
      },
      "source": [
        "**Comparison of the algorithms (overview):**\n",
        "\n",
        "- The first chart shows that the OLS model overfits while all regularized model present very little overfitting.\n",
        "- The second chart shoes that regularized models present lower mean squared error values than the OLS regression. \n",
        "- The third chart shows that the Lasso Regression is the choice that uses fewer variables for prediction (15 out of 37). "
      ],
      "id": "H7xNm59nvC-q"
    },
    {
      "cell_type": "markdown",
      "source": [
        "> The best model considering this tutorial would be the Elastic Net Model since if provides high performance and also leads to a stark reduction in the number of variables, which helps improve model explainability. "
      ],
      "metadata": {
        "id": "xK1m7eIlJ0Ta"
      },
      "id": "xK1m7eIlJ0Ta"
    },
    {
      "cell_type": "markdown",
      "source": [
        "> The results in of the OLS model could improve for different random_state values used for splitting the data. Sometimes, other split values lead to very high performances by the OLS model. This fact does not disprove the main point of this tutorial regarding regularization. After all, regardless of the random_state, `regularized models tend to present robust perfomance metrics.` "
      ],
      "metadata": {
        "id": "_4ACA8RAKJ2a"
      },
      "id": "_4ACA8RAKJ2a"
    },
    {
      "cell_type": "markdown",
      "source": [
        "## 6) Read more about regularization techniques"
      ],
      "metadata": {
        "id": "HhbZa8UkS0fs"
      },
      "id": "HhbZa8UkS0fs"
    },
    {
      "cell_type": "markdown",
      "source": [
        "The following sources provide a great overview of the algorithms discussed in this tutorial: <br> <br>\n",
        "- https://www.kaggle.com/code/maxitype/2-linear-lasso-ridge-sgd-poly-beginner\n",
        "- https://towardsdatascience.com/hyperparameter-tuning-in-lasso-and-ridge-regressions-70a4b158ae6d\n",
        "- https://medium.com/analytics-vidhya/lasso-regression-fundamentals-and-modeling-in-python-ad8251a636cd\n",
        "- https://towardsdatascience.com/from-linear-regression-to-ridge-regression-the-lasso-and-the-elastic-net-4eaecaf5f7e6\n",
        "- https://towardsdatascience.com/whats-the-difference-between-linear-regression-lasso-ridge-and-elasticnet-8f997c60cf29\n"
      ],
      "metadata": {
        "id": "d_HW2u8NS9br"
      },
      "id": "d_HW2u8NS9br"
    }
  ],
  "metadata": {
    "colab": {
      "provenance": [],
      "collapsed_sections": [
        "xcmBEx_1tE1H",
        "f685eb37",
        "ETBEwDBMuIGs",
        "_h-qms5ni_DX",
        "D3elU8b1mF5f",
        "ISBWQJk2spCA",
        "CeWRWYSstyb-",
        "E55ky_PxudvW",
        "p7oF1Gjh1EKG",
        "B9CQXFJA1NXG",
        "nkB7iWtD74l8",
        "DRcxxUGoOmzC",
        "svxmkElaz6xY",
        "klj0Ug3W6Us9",
        "HWQ7eLuG6oAa",
        "HhbZa8UkS0fs"
      ]
    },
    "kernelspec": {
      "display_name": "Python 3",
      "language": "python",
      "name": "python3"
    },
    "language_info": {
      "codemirror_mode": {
        "name": "ipython",
        "version": 3
      },
      "file_extension": ".py",
      "mimetype": "text/x-python",
      "name": "python",
      "nbconvert_exporter": "python",
      "pygments_lexer": "ipython3",
      "version": "3.8.8"
    }
  },
  "nbformat": 4,
  "nbformat_minor": 5
}